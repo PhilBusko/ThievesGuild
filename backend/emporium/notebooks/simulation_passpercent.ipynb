{
 "cells": [
  {
   "cell_type": "markdown",
   "metadata": {},
   "source": [
    "# Simulation: Passing Percentage"
   ]
  },
  {
   "cell_type": "code",
   "execution_count": 1,
   "metadata": {},
   "outputs": [],
   "source": [
    "import os, sys, random, statistics\n",
    "import pandas as PD"
   ]
  },
  {
   "cell_type": "code",
   "execution_count": 2,
   "metadata": {},
   "outputs": [
    {
     "name": "stdout",
     "output_type": "stream",
     "text": [
      "['DataframeToDicts', 'GetRandom', 'NOTEBOOK_ENV']\n"
     ]
    }
   ],
   "source": [
    "BACKEND_PATH = os.path.dirname(os.path.dirname(os.getcwd()))\n",
    "APPPROJ_PATH = os.path.join(BACKEND_PATH, 'app_proj')\n",
    "sys.path.append(APPPROJ_PATH)\n",
    "import notebooks as NT\n",
    "print([x for x in dir(NT) if x[0]!='_' and len(x)>8])"
   ]
  },
  {
   "cell_type": "code",
   "execution_count": 3,
   "metadata": {},
   "outputs": [
    {
     "data": {
      "text/plain": [
       "True"
      ]
     },
     "execution_count": 3,
     "metadata": {},
     "output_type": "execute_result"
    }
   ],
   "source": [
    "MODULE_PATH = os.path.dirname(os.getcwd())\n",
    "DATA_PATH = os.path.join(MODULE_PATH, 'data')\n",
    "os.path.exists(DATA_PATH)"
   ]
  },
  {
   "cell_type": "code",
   "execution_count": 4,
   "metadata": {
    "scrolled": false
   },
   "outputs": [
    {
     "name": "stdout",
     "output_type": "stream",
     "text": [
      "env: DEV\n"
     ]
    }
   ],
   "source": [
    "import django\n",
    "os.environ['DEPLOYMENT_ENV'] = NT.NOTEBOOK_ENV\n",
    "os.environ['DJANGO_ALLOW_ASYNC_UNSAFE'] = 'True'\n",
    "os.chdir(os.path.dirname(MODULE_PATH))\n",
    "django.setup()"
   ]
  },
  {
   "cell_type": "code",
   "execution_count": 5,
   "metadata": {
    "scrolled": true
   },
   "outputs": [
    {
     "name": "stdout",
     "output_type": "stream",
     "text": [
      "['DIFFICULTY', 'GetDevAgility', 'GetDevCombat', 'GetDevCunning', 'GetDevMight', 'GetDevelopmentTable', 'GetProductionTable', 'ObstacleSequence', 'TowerStageType']\n"
     ]
    }
   ],
   "source": [
    "import emporium.logic.stage as SG\n",
    "print([x for x in dir(SG) if x[0]!='_' and len(x)>8])"
   ]
  },
  {
   "cell_type": "code",
   "execution_count": 6,
   "metadata": {},
   "outputs": [
    {
     "name": "stdout",
     "output_type": "stream",
     "text": [
      "['ApplyRandomLevels', 'AttachWargear', 'RollDamage', 'RunBeatCount', 'RunPassTest']\n"
     ]
    }
   ],
   "source": [
    "import emporium.logic.simulation as SM\n",
    "print([x for x in dir(SM) if x[0]!='_' and len(x)>8])"
   ]
  },
  {
   "cell_type": "code",
   "execution_count": 7,
   "metadata": {},
   "outputs": [],
   "source": [
    "%load_ext autoreload\n",
    "%autoreload 2\n",
    "from IPython.core.interactiveshell import InteractiveShell\n",
    "InteractiveShell.ast_node_interactivity = 'all'\n",
    "import IPython.display as DS \n",
    "from ipywidgets import IntProgress"
   ]
  },
  {
   "cell_type": "markdown",
   "metadata": {},
   "source": [
    "### Simulation"
   ]
  },
  {
   "cell_type": "code",
   "execution_count": 8,
   "metadata": {
    "scrolled": false
   },
   "outputs": [
    {
     "data": {
      "text/html": [
       "<div>\n",
       "<style scoped>\n",
       "    .dataframe tbody tr th:only-of-type {\n",
       "        vertical-align: middle;\n",
       "    }\n",
       "\n",
       "    .dataframe tbody tr th {\n",
       "        vertical-align: top;\n",
       "    }\n",
       "\n",
       "    .dataframe thead th {\n",
       "        text-align: right;\n",
       "    }\n",
       "</style>\n",
       "<table border=\"1\" class=\"dataframe\">\n",
       "  <thead>\n",
       "    <tr style=\"text-align: right;\">\n",
       "      <th></th>\n",
       "      <th>Agi</th>\n",
       "      <th>Cun</th>\n",
       "      <th>Mig</th>\n",
       "      <th>End</th>\n",
       "      <th>Hlt</th>\n",
       "      <th>Sab</th>\n",
       "      <th>Per</th>\n",
       "      <th>Tra</th>\n",
       "      <th>Att</th>\n",
       "      <th>Dmg</th>\n",
       "      <th>Def</th>\n",
       "    </tr>\n",
       "  </thead>\n",
       "  <tbody>\n",
       "    <tr>\n",
       "      <th>0</th>\n",
       "      <td>0</td>\n",
       "      <td>0</td>\n",
       "      <td>5</td>\n",
       "      <td>0</td>\n",
       "      <td>58</td>\n",
       "      <td>0</td>\n",
       "      <td>0</td>\n",
       "      <td>0</td>\n",
       "      <td>3</td>\n",
       "      <td>6</td>\n",
       "      <td>17</td>\n",
       "    </tr>\n",
       "  </tbody>\n",
       "</table>\n",
       "</div>"
      ],
      "text/plain": [
       "   Agi  Cun  Mig  End  Hlt  Sab  Per  Tra  Att  Dmg  Def\n",
       "0    0    0    5    0   58    0    0    0    3    6   17"
      ]
     },
     "execution_count": 8,
     "metadata": {},
     "output_type": "execute_result"
    }
   ],
   "source": [
    "baseThief = {\n",
    "    'Agi': 0, 'Cun': 0, 'Mig': 3, 'End': 0,\n",
    "    'Hlt': 58,\n",
    "    'Sab': 0, 'Per': 0, 'Tra': 0, \n",
    "}\n",
    "# baseThief['Mig'] += 1\n",
    "baseThief = SM.AttachWargear(baseThief)\n",
    "# baseThief['Tra'] += 5\n",
    "PD.DataFrame([baseThief])"
   ]
  },
  {
   "cell_type": "code",
   "execution_count": 9,
   "metadata": {},
   "outputs": [
    {
     "data": {
      "text/html": [
       "<div>\n",
       "<style scoped>\n",
       "    .dataframe tbody tr th:only-of-type {\n",
       "        vertical-align: middle;\n",
       "    }\n",
       "\n",
       "    .dataframe tbody tr th {\n",
       "        vertical-align: top;\n",
       "    }\n",
       "\n",
       "    .dataframe thead th {\n",
       "        text-align: right;\n",
       "    }\n",
       "</style>\n",
       "<table border=\"1\" class=\"dataframe\">\n",
       "  <thead>\n",
       "    <tr style=\"text-align: right;\">\n",
       "      <th></th>\n",
       "      <th>Agi</th>\n",
       "      <th>Cun</th>\n",
       "      <th>Mig</th>\n",
       "      <th>End</th>\n",
       "      <th>Hlt</th>\n",
       "      <th>Sab</th>\n",
       "      <th>Per</th>\n",
       "      <th>Tra</th>\n",
       "      <th>Att</th>\n",
       "      <th>Dmg</th>\n",
       "      <th>Def</th>\n",
       "    </tr>\n",
       "  </thead>\n",
       "  <tbody>\n",
       "    <tr>\n",
       "      <th>0</th>\n",
       "      <td>1</td>\n",
       "      <td>0</td>\n",
       "      <td>5</td>\n",
       "      <td>0</td>\n",
       "      <td>58</td>\n",
       "      <td>5</td>\n",
       "      <td>0</td>\n",
       "      <td>0</td>\n",
       "      <td>4</td>\n",
       "      <td>6</td>\n",
       "      <td>17</td>\n",
       "    </tr>\n",
       "  </tbody>\n",
       "</table>\n",
       "</div>"
      ],
      "text/plain": [
       "   Agi  Cun  Mig  End  Hlt  Sab  Per  Tra  Att  Dmg  Def\n",
       "0    1    0    5    0   58    5    0    0    4    6   17"
      ]
     },
     "execution_count": 9,
     "metadata": {},
     "output_type": "execute_result"
    }
   ],
   "source": [
    "THIEF_LEVEL = 2\n",
    "thiefConfig = SM.ApplyRandomLevels(baseThief, THIEF_LEVEL)\n",
    "PD.DataFrame([thiefConfig])"
   ]
  },
  {
   "cell_type": "code",
   "execution_count": 10,
   "metadata": {
    "scrolled": false
   },
   "outputs": [
    {
     "data": {
      "text/html": [
       "<div>\n",
       "<style scoped>\n",
       "    .dataframe tbody tr th:only-of-type {\n",
       "        vertical-align: middle;\n",
       "    }\n",
       "\n",
       "    .dataframe tbody tr th {\n",
       "        vertical-align: top;\n",
       "    }\n",
       "\n",
       "    .dataframe thead th {\n",
       "        text-align: right;\n",
       "    }\n",
       "</style>\n",
       "<table border=\"1\" class=\"dataframe\">\n",
       "  <thead>\n",
       "    <tr style=\"text-align: right;\">\n",
       "      <th></th>\n",
       "      <th>Name</th>\n",
       "      <th>Trait</th>\n",
       "      <th>Skill</th>\n",
       "      <th>Success</th>\n",
       "      <th>Failure</th>\n",
       "      <th>Experience</th>\n",
       "      <th>Attack</th>\n",
       "      <th>Damage</th>\n",
       "      <th>Defense</th>\n",
       "      <th>Health</th>\n",
       "      <th>Difficulty</th>\n",
       "    </tr>\n",
       "  </thead>\n",
       "  <tbody>\n",
       "    <tr>\n",
       "      <th>0</th>\n",
       "      <td>class2</td>\n",
       "      <td>all2</td>\n",
       "      <td>Fight</td>\n",
       "      <td>experience, pass</td>\n",
       "      <td>knockout</td>\n",
       "      <td>13</td>\n",
       "      <td>3.0</td>\n",
       "      <td>10</td>\n",
       "      <td>13.0</td>\n",
       "      <td>9.0</td>\n",
       "      <td>NaN</td>\n",
       "    </tr>\n",
       "    <tr>\n",
       "      <th>1</th>\n",
       "      <td>class3</td>\n",
       "      <td>all3</td>\n",
       "      <td>Fight</td>\n",
       "      <td>experience, pass</td>\n",
       "      <td>knockout</td>\n",
       "      <td>13</td>\n",
       "      <td>2.0</td>\n",
       "      <td>6</td>\n",
       "      <td>16.0</td>\n",
       "      <td>12.0</td>\n",
       "      <td>NaN</td>\n",
       "    </tr>\n",
       "    <tr>\n",
       "      <th>2</th>\n",
       "      <td>Chandelier</td>\n",
       "      <td>Agi</td>\n",
       "      <td>Per</td>\n",
       "      <td>experience, pass next</td>\n",
       "      <td>wound, pass</td>\n",
       "      <td>8</td>\n",
       "      <td>NaN</td>\n",
       "      <td>11</td>\n",
       "      <td>NaN</td>\n",
       "      <td>NaN</td>\n",
       "      <td>15.0</td>\n",
       "    </tr>\n",
       "    <tr>\n",
       "      <th>3</th>\n",
       "      <td>class1</td>\n",
       "      <td>all1</td>\n",
       "      <td>Fight</td>\n",
       "      <td>experience, pass</td>\n",
       "      <td>knockout</td>\n",
       "      <td>13</td>\n",
       "      <td>2.0</td>\n",
       "      <td>8</td>\n",
       "      <td>14.0</td>\n",
       "      <td>11.0</td>\n",
       "      <td>NaN</td>\n",
       "    </tr>\n",
       "    <tr>\n",
       "      <th>4</th>\n",
       "      <td>Spike Trap</td>\n",
       "      <td>Agi</td>\n",
       "      <td>Tra</td>\n",
       "      <td>experience, pass</td>\n",
       "      <td>wound, pass</td>\n",
       "      <td>8</td>\n",
       "      <td>NaN</td>\n",
       "      <td>11</td>\n",
       "      <td>NaN</td>\n",
       "      <td>NaN</td>\n",
       "      <td>13.0</td>\n",
       "    </tr>\n",
       "    <tr>\n",
       "      <th>5</th>\n",
       "      <td>class1</td>\n",
       "      <td>all1</td>\n",
       "      <td>Fight</td>\n",
       "      <td>experience, pass</td>\n",
       "      <td>knockout</td>\n",
       "      <td>13</td>\n",
       "      <td>2.0</td>\n",
       "      <td>8</td>\n",
       "      <td>14.0</td>\n",
       "      <td>11.0</td>\n",
       "      <td>NaN</td>\n",
       "    </tr>\n",
       "    <tr>\n",
       "      <th>6</th>\n",
       "      <td>Crossbow Trap</td>\n",
       "      <td>Cun</td>\n",
       "      <td>Per</td>\n",
       "      <td>experience, pass</td>\n",
       "      <td>wound, pass</td>\n",
       "      <td>8</td>\n",
       "      <td>NaN</td>\n",
       "      <td>11</td>\n",
       "      <td>NaN</td>\n",
       "      <td>NaN</td>\n",
       "      <td>13.0</td>\n",
       "    </tr>\n",
       "    <tr>\n",
       "      <th>7</th>\n",
       "      <td>class1</td>\n",
       "      <td>all1</td>\n",
       "      <td>Fight</td>\n",
       "      <td>experience, pass</td>\n",
       "      <td>knockout</td>\n",
       "      <td>13</td>\n",
       "      <td>2.0</td>\n",
       "      <td>8</td>\n",
       "      <td>14.0</td>\n",
       "      <td>11.0</td>\n",
       "      <td>NaN</td>\n",
       "    </tr>\n",
       "  </tbody>\n",
       "</table>\n",
       "</div>"
      ],
      "text/plain": [
       "            Name Trait  Skill                Success      Failure  Experience  \\\n",
       "0         class2  all2  Fight       experience, pass     knockout          13   \n",
       "1         class3  all3  Fight       experience, pass     knockout          13   \n",
       "2     Chandelier   Agi    Per  experience, pass next  wound, pass           8   \n",
       "3         class1  all1  Fight       experience, pass     knockout          13   \n",
       "4     Spike Trap   Agi    Tra       experience, pass  wound, pass           8   \n",
       "5         class1  all1  Fight       experience, pass     knockout          13   \n",
       "6  Crossbow Trap   Cun    Per       experience, pass  wound, pass           8   \n",
       "7         class1  all1  Fight       experience, pass     knockout          13   \n",
       "\n",
       "   Attack  Damage  Defense  Health  Difficulty  \n",
       "0     3.0      10     13.0     9.0         NaN  \n",
       "1     2.0       6     16.0    12.0         NaN  \n",
       "2     NaN      11      NaN     NaN        15.0  \n",
       "3     2.0       8     14.0    11.0         NaN  \n",
       "4     NaN      11      NaN     NaN        13.0  \n",
       "5     2.0       8     14.0    11.0         NaN  \n",
       "6     NaN      11      NaN     NaN        13.0  \n",
       "7     2.0       8     14.0    11.0         NaN  "
      ]
     },
     "execution_count": 10,
     "metadata": {},
     "output_type": "execute_result"
    }
   ],
   "source": [
    "potentialLs = SG.GetDevelopmentTable(1,2,1,1,1)\n",
    "# potentialLs = SG.GetProductionTable(1,2,1,1,1)\n",
    "OBS_TEST = 8\n",
    "obstacleLs = SG.ObstacleSequence(potentialLs, OBS_TEST, 'balanced')\n",
    "PD.DataFrame(obstacleLs)"
   ]
  },
  {
   "cell_type": "code",
   "execution_count": 11,
   "metadata": {
    "scrolled": true
   },
   "outputs": [
    {
     "data": {
      "text/html": [
       "<div>\n",
       "<style scoped>\n",
       "    .dataframe tbody tr th:only-of-type {\n",
       "        vertical-align: middle;\n",
       "    }\n",
       "\n",
       "    .dataframe tbody tr th {\n",
       "        vertical-align: top;\n",
       "    }\n",
       "\n",
       "    .dataframe thead th {\n",
       "        text-align: right;\n",
       "    }\n",
       "</style>\n",
       "<table border=\"1\" class=\"dataframe\">\n",
       "  <thead>\n",
       "    <tr style=\"text-align: right;\">\n",
       "      <th></th>\n",
       "      <th>obstacle</th>\n",
       "      <th>passed</th>\n",
       "      <th>curr pos</th>\n",
       "      <th>next pos</th>\n",
       "      <th>wounds</th>\n",
       "      <th>xp</th>\n",
       "      <th>gold</th>\n",
       "    </tr>\n",
       "  </thead>\n",
       "  <tbody>\n",
       "    <tr>\n",
       "      <th>0</th>\n",
       "      <td>class2</td>\n",
       "      <td>True</td>\n",
       "      <td>0</td>\n",
       "      <td>1</td>\n",
       "      <td>0</td>\n",
       "      <td>2</td>\n",
       "      <td>0</td>\n",
       "    </tr>\n",
       "    <tr>\n",
       "      <th>1</th>\n",
       "      <td>class3</td>\n",
       "      <td>True</td>\n",
       "      <td>1</td>\n",
       "      <td>2</td>\n",
       "      <td>0</td>\n",
       "      <td>4</td>\n",
       "      <td>0</td>\n",
       "    </tr>\n",
       "    <tr>\n",
       "      <th>2</th>\n",
       "      <td>Chandelier</td>\n",
       "      <td>False</td>\n",
       "      <td>2</td>\n",
       "      <td>3</td>\n",
       "      <td>6</td>\n",
       "      <td>4</td>\n",
       "      <td>0</td>\n",
       "    </tr>\n",
       "    <tr>\n",
       "      <th>3</th>\n",
       "      <td>class1</td>\n",
       "      <td>True</td>\n",
       "      <td>3</td>\n",
       "      <td>4</td>\n",
       "      <td>6</td>\n",
       "      <td>6</td>\n",
       "      <td>0</td>\n",
       "    </tr>\n",
       "    <tr>\n",
       "      <th>4</th>\n",
       "      <td>Spike Trap</td>\n",
       "      <td>False</td>\n",
       "      <td>4</td>\n",
       "      <td>5</td>\n",
       "      <td>20</td>\n",
       "      <td>6</td>\n",
       "      <td>0</td>\n",
       "    </tr>\n",
       "    <tr>\n",
       "      <th>5</th>\n",
       "      <td>class1</td>\n",
       "      <td>True</td>\n",
       "      <td>5</td>\n",
       "      <td>6</td>\n",
       "      <td>20</td>\n",
       "      <td>8</td>\n",
       "      <td>0</td>\n",
       "    </tr>\n",
       "    <tr>\n",
       "      <th>6</th>\n",
       "      <td>Crossbow Trap</td>\n",
       "      <td>False</td>\n",
       "      <td>6</td>\n",
       "      <td>7</td>\n",
       "      <td>34</td>\n",
       "      <td>8</td>\n",
       "      <td>0</td>\n",
       "    </tr>\n",
       "    <tr>\n",
       "      <th>7</th>\n",
       "      <td>class1</td>\n",
       "      <td>True</td>\n",
       "      <td>7</td>\n",
       "      <td>8</td>\n",
       "      <td>34</td>\n",
       "      <td>10</td>\n",
       "      <td>0</td>\n",
       "    </tr>\n",
       "  </tbody>\n",
       "</table>\n",
       "</div>"
      ],
      "text/plain": [
       "        obstacle  passed  curr pos  next pos  wounds  xp  gold\n",
       "0         class2    True         0         1       0   2     0\n",
       "1         class3    True         1         2       0   4     0\n",
       "2     Chandelier   False         2         3       6   4     0\n",
       "3         class1    True         3         4       6   6     0\n",
       "4     Spike Trap   False         4         5      20   6     0\n",
       "5         class1    True         5         6      20   8     0\n",
       "6  Crossbow Trap   False         6         7      34   8     0\n",
       "7         class1    True         7         8      34  10     0"
      ]
     },
     "execution_count": 11,
     "metadata": {},
     "output_type": "execute_result"
    }
   ],
   "source": [
    "runLs = SM.RunPassTest(thiefConfig, obstacleLs)\n",
    "PD.DataFrame(runLs)"
   ]
  },
  {
   "cell_type": "code",
   "execution_count": 12,
   "metadata": {
    "scrolled": false
   },
   "outputs": [
    {
     "data": {
      "application/vnd.jupyter.widget-view+json": {
       "model_id": "23145d4fbfdc42ff92e13c969976efc8",
       "version_major": 2,
       "version_minor": 0
      },
      "text/plain": [
       "IntProgress(value=0, max=80)"
      ]
     },
     "metadata": {},
     "output_type": "display_data"
    },
    {
     "data": {
      "text/plain": [
       "80.9"
      ]
     },
     "execution_count": 12,
     "metadata": {},
     "output_type": "execute_result"
    }
   ],
   "source": [
    "TRIALS = 800000\n",
    "clearedLs = []\n",
    "progressBar = IntProgress(min=0, max=TRIALS/10000) \n",
    "DS.display(progressBar) \n",
    "\n",
    "for tr in range(0, TRIALS):\n",
    "    if tr % 10000 == 0: progressBar.value += 1\n",
    "\n",
    "    thiefConfig = SM.ApplyRandomLevels(baseThief, THIEF_LEVEL)\n",
    "    obstacleLs = SG.ObstacleSequence(potentialLs, OBS_TEST, 'balanced')\n",
    "\n",
    "    runLs = SM.RunPassTest(thiefConfig, obstacleLs)\n",
    "    clearedLs.append( runLs[-1]['next pos'] == OBS_TEST )\n",
    "\n",
    "round(statistics.mean(clearedLs)*100, 1)"
   ]
  },
  {
   "cell_type": "code",
   "execution_count": null,
   "metadata": {},
   "outputs": [],
   "source": []
  }
 ],
 "metadata": {
  "kernelspec": {
   "display_name": "Python 3 (ipykernel)",
   "language": "python",
   "name": "python3"
  },
  "language_info": {
   "codemirror_mode": {
    "name": "ipython",
    "version": 3
   },
   "file_extension": ".py",
   "mimetype": "text/x-python",
   "name": "python",
   "nbconvert_exporter": "python",
   "pygments_lexer": "ipython3",
   "version": "3.8.2"
  }
 },
 "nbformat": 4,
 "nbformat_minor": 4
}
