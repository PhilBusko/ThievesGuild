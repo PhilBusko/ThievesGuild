{
 "cells": [
  {
   "cell_type": "markdown",
   "metadata": {},
   "source": [
    "# Simulation: Number of Obstacles To Beat"
   ]
  },
  {
   "cell_type": "code",
   "execution_count": 1,
   "metadata": {},
   "outputs": [],
   "source": [
    "import os, sys, random, statistics\n",
    "import pandas as PD"
   ]
  },
  {
   "cell_type": "code",
   "execution_count": 2,
   "metadata": {},
   "outputs": [
    {
     "name": "stdout",
     "output_type": "stream",
     "text": [
      "['DataframeToDicts', 'GetRandom', 'NOTEBOOK_ENV']\n"
     ]
    }
   ],
   "source": [
    "BACKEND_PATH = os.path.dirname(os.path.dirname(os.getcwd()))\n",
    "APPPROJ_PATH = os.path.join(BACKEND_PATH, 'app_proj')\n",
    "sys.path.append(APPPROJ_PATH)\n",
    "import notebooks as NT\n",
    "print([x for x in dir(NT) if x[0]!='_' and len(x)>8])"
   ]
  },
  {
   "cell_type": "code",
   "execution_count": 3,
   "metadata": {},
   "outputs": [
    {
     "data": {
      "text/plain": [
       "True"
      ]
     },
     "execution_count": 3,
     "metadata": {},
     "output_type": "execute_result"
    }
   ],
   "source": [
    "MODULE_PATH = os.path.dirname(os.getcwd())\n",
    "DATA_PATH = os.path.join(MODULE_PATH, 'data')\n",
    "os.path.exists(DATA_PATH)"
   ]
  },
  {
   "cell_type": "code",
   "execution_count": 4,
   "metadata": {
    "scrolled": false
   },
   "outputs": [
    {
     "name": "stdout",
     "output_type": "stream",
     "text": [
      "env: DEV\n"
     ]
    }
   ],
   "source": [
    "import django\n",
    "os.environ['DEPLOYMENT_ENV'] = NT.NOTEBOOK_ENV\n",
    "os.environ['DJANGO_ALLOW_ASYNC_UNSAFE'] = 'True'\n",
    "os.chdir(os.path.dirname(MODULE_PATH))\n",
    "django.setup()"
   ]
  },
  {
   "cell_type": "code",
   "execution_count": 5,
   "metadata": {
    "scrolled": true
   },
   "outputs": [
    {
     "name": "stdout",
     "output_type": "stream",
     "text": [
      "['DIFFICULTY', 'GetDevAgility', 'GetDevCombat', 'GetDevCunning', 'GetDevMight', 'GetDevelopmentTable', 'GetProductionTable', 'ObstacleSequence', 'TowerStageType']\n"
     ]
    }
   ],
   "source": [
    "import emporium.logic.stage as SG\n",
    "print([x for x in dir(SG) if x[0]!='_' and len(x)>8])"
   ]
  },
  {
   "cell_type": "code",
   "execution_count": 6,
   "metadata": {},
   "outputs": [
    {
     "name": "stdout",
     "output_type": "stream",
     "text": [
      "['ApplyRandomLevels', 'AttachWargear', 'RollDamage', 'RunBeatCount', 'RunPassTest']\n"
     ]
    }
   ],
   "source": [
    "import emporium.logic.simulation as SM\n",
    "print([x for x in dir(SM) if x[0]!='_' and len(x)>8])"
   ]
  },
  {
   "cell_type": "code",
   "execution_count": 7,
   "metadata": {},
   "outputs": [],
   "source": [
    "%load_ext autoreload\n",
    "%autoreload 2\n",
    "from IPython.core.interactiveshell import InteractiveShell\n",
    "InteractiveShell.ast_node_interactivity = 'all'\n",
    "import IPython.display as DS \n",
    "from ipywidgets import IntProgress"
   ]
  },
  {
   "cell_type": "markdown",
   "metadata": {},
   "source": [
    "### Begin Code"
   ]
  },
  {
   "cell_type": "code",
   "execution_count": 8,
   "metadata": {
    "scrolled": false
   },
   "outputs": [
    {
     "data": {
      "text/html": [
       "<div>\n",
       "<style scoped>\n",
       "    .dataframe tbody tr th:only-of-type {\n",
       "        vertical-align: middle;\n",
       "    }\n",
       "\n",
       "    .dataframe tbody tr th {\n",
       "        vertical-align: top;\n",
       "    }\n",
       "\n",
       "    .dataframe thead th {\n",
       "        text-align: right;\n",
       "    }\n",
       "</style>\n",
       "<table border=\"1\" class=\"dataframe\">\n",
       "  <thead>\n",
       "    <tr style=\"text-align: right;\">\n",
       "      <th></th>\n",
       "      <th>Agi</th>\n",
       "      <th>Cun</th>\n",
       "      <th>Mig</th>\n",
       "      <th>End</th>\n",
       "      <th>Hlt</th>\n",
       "      <th>Att</th>\n",
       "      <th>Dmg</th>\n",
       "      <th>Def</th>\n",
       "      <th>Sab</th>\n",
       "      <th>Per</th>\n",
       "      <th>Tra</th>\n",
       "    </tr>\n",
       "  </thead>\n",
       "  <tbody>\n",
       "    <tr>\n",
       "      <th>0</th>\n",
       "      <td>5</td>\n",
       "      <td>0</td>\n",
       "      <td>0</td>\n",
       "      <td>0</td>\n",
       "      <td>15</td>\n",
       "      <td>0</td>\n",
       "      <td>0</td>\n",
       "      <td>0</td>\n",
       "      <td>0</td>\n",
       "      <td>0</td>\n",
       "      <td>0</td>\n",
       "    </tr>\n",
       "  </tbody>\n",
       "</table>\n",
       "</div>"
      ],
      "text/plain": [
       "   Agi  Cun  Mig  End  Hlt  Att  Dmg  Def  Sab  Per  Tra\n",
       "0    5    0    0    0   15    0    0    0    0    0    0"
      ]
     },
     "execution_count": 8,
     "metadata": {},
     "output_type": "execute_result"
    }
   ],
   "source": [
    "thiefConfig = {\n",
    "    'Agi': 5, 'Cun': 0, 'Mig': 0, 'End': 0,\n",
    "    'Hlt': 15,\n",
    "    'Att': 0, 'Dmg': 0, 'Def': 0, \n",
    "    'Sab': 0, 'Per': 0, 'Tra': 0, \n",
    "}\n",
    "# thiefConfig = SM.AttachWargear(thiefConfig)\n",
    "# thiefConfig = SM.ApplyRandomLevels(thiefConfig, 0)\n",
    "PD.DataFrame([thiefConfig])"
   ]
  },
  {
   "cell_type": "code",
   "execution_count": 9,
   "metadata": {
    "scrolled": true
   },
   "outputs": [
    {
     "data": {
      "text/html": [
       "<div>\n",
       "<style scoped>\n",
       "    .dataframe tbody tr th:only-of-type {\n",
       "        vertical-align: middle;\n",
       "    }\n",
       "\n",
       "    .dataframe tbody tr th {\n",
       "        vertical-align: top;\n",
       "    }\n",
       "\n",
       "    .dataframe thead th {\n",
       "        text-align: right;\n",
       "    }\n",
       "</style>\n",
       "<table border=\"1\" class=\"dataframe\">\n",
       "  <thead>\n",
       "    <tr style=\"text-align: right;\">\n",
       "      <th></th>\n",
       "      <th>Name</th>\n",
       "      <th>Trait</th>\n",
       "      <th>Skill</th>\n",
       "      <th>Success</th>\n",
       "      <th>Failure</th>\n",
       "      <th>Experience</th>\n",
       "      <th>Attack</th>\n",
       "      <th>Damage</th>\n",
       "      <th>Defense</th>\n",
       "      <th>Health</th>\n",
       "    </tr>\n",
       "  </thead>\n",
       "  <tbody>\n",
       "    <tr>\n",
       "      <th>0</th>\n",
       "      <td>class1</td>\n",
       "      <td>best1</td>\n",
       "      <td>Fight</td>\n",
       "      <td>experience, pass</td>\n",
       "      <td>knockout</td>\n",
       "      <td>13</td>\n",
       "      <td>3</td>\n",
       "      <td>8</td>\n",
       "      <td>16</td>\n",
       "      <td>17</td>\n",
       "    </tr>\n",
       "    <tr>\n",
       "      <th>1</th>\n",
       "      <td>class2</td>\n",
       "      <td>best2</td>\n",
       "      <td>Fight</td>\n",
       "      <td>experience, pass</td>\n",
       "      <td>knockout</td>\n",
       "      <td>13</td>\n",
       "      <td>3</td>\n",
       "      <td>8</td>\n",
       "      <td>16</td>\n",
       "      <td>17</td>\n",
       "    </tr>\n",
       "    <tr>\n",
       "      <th>2</th>\n",
       "      <td>class1</td>\n",
       "      <td>best1</td>\n",
       "      <td>Fight</td>\n",
       "      <td>experience, pass</td>\n",
       "      <td>knockout</td>\n",
       "      <td>13</td>\n",
       "      <td>3</td>\n",
       "      <td>8</td>\n",
       "      <td>16</td>\n",
       "      <td>17</td>\n",
       "    </tr>\n",
       "    <tr>\n",
       "      <th>3</th>\n",
       "      <td>class2</td>\n",
       "      <td>best2</td>\n",
       "      <td>Fight</td>\n",
       "      <td>experience, pass</td>\n",
       "      <td>knockout</td>\n",
       "      <td>13</td>\n",
       "      <td>3</td>\n",
       "      <td>8</td>\n",
       "      <td>16</td>\n",
       "      <td>17</td>\n",
       "    </tr>\n",
       "    <tr>\n",
       "      <th>4</th>\n",
       "      <td>class1</td>\n",
       "      <td>best1</td>\n",
       "      <td>Fight</td>\n",
       "      <td>experience, pass</td>\n",
       "      <td>knockout</td>\n",
       "      <td>13</td>\n",
       "      <td>3</td>\n",
       "      <td>8</td>\n",
       "      <td>16</td>\n",
       "      <td>17</td>\n",
       "    </tr>\n",
       "    <tr>\n",
       "      <th>5</th>\n",
       "      <td>class2</td>\n",
       "      <td>best2</td>\n",
       "      <td>Fight</td>\n",
       "      <td>experience, pass</td>\n",
       "      <td>knockout</td>\n",
       "      <td>13</td>\n",
       "      <td>3</td>\n",
       "      <td>8</td>\n",
       "      <td>16</td>\n",
       "      <td>17</td>\n",
       "    </tr>\n",
       "    <tr>\n",
       "      <th>6</th>\n",
       "      <td>class1</td>\n",
       "      <td>best1</td>\n",
       "      <td>Fight</td>\n",
       "      <td>experience, pass</td>\n",
       "      <td>knockout</td>\n",
       "      <td>13</td>\n",
       "      <td>3</td>\n",
       "      <td>8</td>\n",
       "      <td>16</td>\n",
       "      <td>17</td>\n",
       "    </tr>\n",
       "    <tr>\n",
       "      <th>7</th>\n",
       "      <td>class2</td>\n",
       "      <td>best2</td>\n",
       "      <td>Fight</td>\n",
       "      <td>experience, pass</td>\n",
       "      <td>knockout</td>\n",
       "      <td>13</td>\n",
       "      <td>3</td>\n",
       "      <td>8</td>\n",
       "      <td>16</td>\n",
       "      <td>17</td>\n",
       "    </tr>\n",
       "  </tbody>\n",
       "</table>\n",
       "</div>"
      ],
      "text/plain": [
       "     Name  Trait  Skill           Success   Failure  Experience  Attack  \\\n",
       "0  class1  best1  Fight  experience, pass  knockout          13       3   \n",
       "1  class2  best2  Fight  experience, pass  knockout          13       3   \n",
       "2  class1  best1  Fight  experience, pass  knockout          13       3   \n",
       "3  class2  best2  Fight  experience, pass  knockout          13       3   \n",
       "4  class1  best1  Fight  experience, pass  knockout          13       3   \n",
       "5  class2  best2  Fight  experience, pass  knockout          13       3   \n",
       "6  class1  best1  Fight  experience, pass  knockout          13       3   \n",
       "7  class2  best2  Fight  experience, pass  knockout          13       3   \n",
       "\n",
       "   Damage  Defense  Health  \n",
       "0       8       16      17  \n",
       "1       8       16      17  \n",
       "2       8       16      17  \n",
       "3       8       16      17  \n",
       "4       8       16      17  \n",
       "5       8       16      17  \n",
       "6       8       16      17  \n",
       "7       8       16      17  "
      ]
     },
     "execution_count": 9,
     "metadata": {},
     "output_type": "execute_result"
    }
   ],
   "source": [
    "potentialLs = SG.GetDevelopmentTable(1,1,0,0,0)\n",
    "# potentialLs = SG.GetDevelopmentTable(1,0,1,1,1)\n",
    "# PD.DataFrame(potentialLs)\n",
    "obstacleLs = SG.ObstacleSequence(potentialLs, 8, 'balanced')\n",
    "PD.DataFrame(obstacleLs)"
   ]
  },
  {
   "cell_type": "code",
   "execution_count": 10,
   "metadata": {
    "scrolled": false
   },
   "outputs": [
    {
     "data": {
      "text/html": [
       "<div>\n",
       "<style scoped>\n",
       "    .dataframe tbody tr th:only-of-type {\n",
       "        vertical-align: middle;\n",
       "    }\n",
       "\n",
       "    .dataframe tbody tr th {\n",
       "        vertical-align: top;\n",
       "    }\n",
       "\n",
       "    .dataframe thead th {\n",
       "        text-align: right;\n",
       "    }\n",
       "</style>\n",
       "<table border=\"1\" class=\"dataframe\">\n",
       "  <thead>\n",
       "    <tr style=\"text-align: right;\">\n",
       "      <th></th>\n",
       "      <th>obstacle</th>\n",
       "      <th>passed</th>\n",
       "      <th>curr pos</th>\n",
       "      <th>next pos</th>\n",
       "      <th>wounds</th>\n",
       "      <th>xp</th>\n",
       "      <th>gold</th>\n",
       "    </tr>\n",
       "  </thead>\n",
       "  <tbody>\n",
       "    <tr>\n",
       "      <th>0</th>\n",
       "      <td>class1</td>\n",
       "      <td>False</td>\n",
       "      <td>0</td>\n",
       "      <td>0</td>\n",
       "      <td>19</td>\n",
       "      <td>0</td>\n",
       "      <td>0</td>\n",
       "    </tr>\n",
       "  </tbody>\n",
       "</table>\n",
       "</div>"
      ],
      "text/plain": [
       "  obstacle  passed  curr pos  next pos  wounds  xp  gold\n",
       "0   class1   False         0         0      19   0     0"
      ]
     },
     "execution_count": 10,
     "metadata": {},
     "output_type": "execute_result"
    }
   ],
   "source": [
    "try:\n",
    "    runLs = SM.RunBeatCount(thiefConfig, obstacleLs)\n",
    "    PD.DataFrame(runLs)\n",
    "except Exception as ex:\n",
    "    print(ex)"
   ]
  },
  {
   "cell_type": "code",
   "execution_count": 12,
   "metadata": {
    "scrolled": false
   },
   "outputs": [
    {
     "data": {
      "application/vnd.jupyter.widget-view+json": {
       "model_id": "ea17f245c23b4a85aec6264ac24a1409",
       "version_major": 2,
       "version_minor": 0
      },
      "text/plain": [
       "IntProgress(value=0, max=300)"
      ]
     },
     "metadata": {},
     "output_type": "display_data"
    },
    {
     "data": {
      "text/html": [
       "<div>\n",
       "<style scoped>\n",
       "    .dataframe tbody tr th:only-of-type {\n",
       "        vertical-align: middle;\n",
       "    }\n",
       "\n",
       "    .dataframe tbody tr th {\n",
       "        vertical-align: top;\n",
       "    }\n",
       "\n",
       "    .dataframe thead th {\n",
       "        text-align: right;\n",
       "    }\n",
       "</style>\n",
       "<table border=\"1\" class=\"dataframe\">\n",
       "  <thead>\n",
       "    <tr style=\"text-align: right;\">\n",
       "      <th></th>\n",
       "      <th>Agi</th>\n",
       "      <th>Cun</th>\n",
       "      <th>Mig</th>\n",
       "      <th>End</th>\n",
       "      <th>Hlt</th>\n",
       "      <th>Att</th>\n",
       "      <th>Dmg</th>\n",
       "      <th>Def</th>\n",
       "      <th>Sab</th>\n",
       "      <th>Per</th>\n",
       "      <th>Tra</th>\n",
       "    </tr>\n",
       "  </thead>\n",
       "  <tbody>\n",
       "    <tr>\n",
       "      <th>0</th>\n",
       "      <td>5</td>\n",
       "      <td>0</td>\n",
       "      <td>0</td>\n",
       "      <td>0</td>\n",
       "      <td>15</td>\n",
       "      <td>2</td>\n",
       "      <td>15</td>\n",
       "      <td>13</td>\n",
       "      <td>0</td>\n",
       "      <td>0</td>\n",
       "      <td>0</td>\n",
       "    </tr>\n",
       "  </tbody>\n",
       "</table>\n",
       "</div>"
      ],
      "text/plain": [
       "   Agi  Cun  Mig  End  Hlt  Att  Dmg  Def  Sab  Per  Tra\n",
       "0    5    0    0    0   15    2   15   13    0    0    0"
      ]
     },
     "execution_count": 12,
     "metadata": {},
     "output_type": "execute_result"
    },
    {
     "data": {
      "text/plain": [
       "0.99"
      ]
     },
     "execution_count": 12,
     "metadata": {},
     "output_type": "execute_result"
    }
   ],
   "source": [
    "TRIALS = 300000\n",
    "clearedLs = []\n",
    "progressBar = IntProgress(min=0, max=TRIALS/1000) \n",
    "DS.display(progressBar) \n",
    "\n",
    "thiefConfig = {\n",
    "    'Agi': 5, 'Cun': 0, 'Mig': 0, 'End': 0,\n",
    "    'Hlt': 15,\n",
    "    'Att': 2, 'Dmg': 15, 'Def': 13, \n",
    "    'Sab': 0, 'Per': 0, 'Tra': 0, \n",
    "}\n",
    "# thiefConfig = SM.AttachWargear(thiefConfig)\n",
    "# thiefConfig = SM.ApplyRandomLevels(thiefConfig, 0)\n",
    "PD.DataFrame([thiefConfig])\n",
    "\n",
    "for tr in range(0, TRIALS):\n",
    "\n",
    "    obstacleLs = SG.ObstacleSequence(potentialLs, 60, 'balanced')\n",
    "\n",
    "    runLs = SM.RunBeatCount(thiefConfig, obstacleLs)\n",
    "    clearedLs.append( len(runLs) -1 )\n",
    "\n",
    "    if tr % 1000 == 0: progressBar.value += 1\n",
    "\n",
    "round(statistics.mean(clearedLs), 2)"
   ]
  },
  {
   "cell_type": "code",
   "execution_count": null,
   "metadata": {},
   "outputs": [],
   "source": []
  }
 ],
 "metadata": {
  "kernelspec": {
   "display_name": "Python 3 (ipykernel)",
   "language": "python",
   "name": "python3"
  },
  "language_info": {
   "codemirror_mode": {
    "name": "ipython",
    "version": 3
   },
   "file_extension": ".py",
   "mimetype": "text/x-python",
   "name": "python",
   "nbconvert_exporter": "python",
   "pygments_lexer": "ipython3",
   "version": "3.8.2"
  }
 },
 "nbformat": 4,
 "nbformat_minor": 4
}
