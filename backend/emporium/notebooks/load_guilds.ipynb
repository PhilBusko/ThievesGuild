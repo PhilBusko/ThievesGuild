{
 "cells": [
  {
   "cell_type": "markdown",
   "metadata": {},
   "source": [
    "# Load Guild Tables"
   ]
  },
  {
   "cell_type": "code",
   "execution_count": 1,
   "metadata": {},
   "outputs": [],
   "source": [
    "import os, sys\n",
    "import pandas as PD"
   ]
  },
  {
   "cell_type": "code",
   "execution_count": 2,
   "metadata": {},
   "outputs": [
    {
     "name": "stdout",
     "output_type": "stream",
     "text": [
      "['DataframeToDicts', 'GetRandom', 'NOTEBOOK_ENV']\n"
     ]
    }
   ],
   "source": [
    "BACKEND_PATH = os.path.dirname(os.path.dirname(os.getcwd()))\n",
    "APPPROJ_PATH = os.path.join(BACKEND_PATH, 'app_proj')\n",
    "sys.path.append(APPPROJ_PATH)\n",
    "import notebooks as NT\n",
    "print([x for x in dir(NT) if x[0]!='_' and len(x)>8])"
   ]
  },
  {
   "cell_type": "code",
   "execution_count": 3,
   "metadata": {
    "scrolled": false
   },
   "outputs": [
    {
     "name": "stdout",
     "output_type": "stream",
     "text": [
      "env: DEV\n"
     ]
    }
   ],
   "source": [
    "import django\n",
    "os.environ['DEPLOYMENT_ENV'] = NT.NOTEBOOK_ENV\n",
    "os.environ['DJANGO_ALLOW_ASYNC_UNSAFE'] = 'True'\n",
    "MODULE_PATH = os.path.dirname(os.getcwd())\n",
    "os.chdir(os.path.dirname(MODULE_PATH))\n",
    "django.setup()"
   ]
  },
  {
   "cell_type": "code",
   "execution_count": 4,
   "metadata": {
    "scrolled": true
   },
   "outputs": [
    {
     "name": "stdout",
     "output_type": "stream",
     "text": [
      "['BaseManager', 'DeleteTable', 'GetNativeTableCounts', 'GetTableCounts', 'GetTableDictionary', 'InsertBulk', 'InsertSingle']\n"
     ]
    }
   ],
   "source": [
    "import database as DB\n",
    "print([x for x in dir(DB) if x[0]!='_' and len(x)>8])"
   ]
  },
  {
   "cell_type": "code",
   "execution_count": 5,
   "metadata": {},
   "outputs": [
    {
     "name": "stdout",
     "output_type": "stream",
     "text": [
      "['AppendToExcel', 'ReadSheet', 'ResetFile', 'ResetSheet']\n"
     ]
    }
   ],
   "source": [
    "import app_proj.excel_service as XS\n",
    "print([x for x in dir(XS) if x[0]!='_' and len(x)>8])"
   ]
  },
  {
   "cell_type": "code",
   "execution_count": 6,
   "metadata": {},
   "outputs": [
    {
     "name": "stdout",
     "output_type": "stream",
     "text": [
      "C:\\Documents\\Code\\OpenStack\\ThievesGuild\\codebase\\backend\\emporium\\data\n"
     ]
    }
   ],
   "source": [
    "DATA_PATH = os.path.join(MODULE_PATH, 'data')\n",
    "print(DATA_PATH)"
   ]
  },
  {
   "cell_type": "code",
   "execution_count": 7,
   "metadata": {},
   "outputs": [],
   "source": [
    "%load_ext autoreload\n",
    "%autoreload 2\n",
    "from IPython.core.interactiveshell import InteractiveShell\n",
    "InteractiveShell.ast_node_interactivity = 'all'\n",
    "import IPython.display as DS \n",
    "from ipywidgets import IntProgress"
   ]
  },
  {
   "cell_type": "markdown",
   "metadata": {},
   "source": [
    "### Unlockable Thief"
   ]
  },
  {
   "cell_type": "code",
   "execution_count": 8,
   "metadata": {
    "scrolled": false
   },
   "outputs": [
    {
     "data": {
      "text/plain": [
       "12"
      ]
     },
     "execution_count": 8,
     "metadata": {},
     "output_type": "execute_result"
    }
   ],
   "source": [
    "inputPath = os.path.join(DATA_PATH, 'GuildData.xlsx')\n",
    "loadDf = XS.ReadSheet(inputPath, 'UnlockableThief')\n",
    "loadDf = loadDf.dropna(subset=['Class'])\n",
    "loadDf = loadDf.reset_index().drop(['index'], axis=1, errors='ignore')\n",
    "loadDf.shape[0]"
   ]
  },
  {
   "cell_type": "code",
   "execution_count": 9,
   "metadata": {},
   "outputs": [
    {
     "name": "stdout",
     "output_type": "stream",
     "text": [
      "table deleted\n",
      "bulk inserted\n",
      "records 12\n"
     ]
    },
    {
     "data": {
      "text/html": [
       "<div>\n",
       "<style scoped>\n",
       "    .dataframe tbody tr th:only-of-type {\n",
       "        vertical-align: middle;\n",
       "    }\n",
       "\n",
       "    .dataframe tbody tr th {\n",
       "        vertical-align: top;\n",
       "    }\n",
       "\n",
       "    .dataframe thead th {\n",
       "        text-align: right;\n",
       "    }\n",
       "</style>\n",
       "<table border=\"1\" class=\"dataframe\">\n",
       "  <thead>\n",
       "    <tr style=\"text-align: right;\">\n",
       "      <th></th>\n",
       "      <th>id</th>\n",
       "      <th>Class</th>\n",
       "      <th>Stars</th>\n",
       "      <th>UnlockKeep</th>\n",
       "      <th>StoreCost</th>\n",
       "      <th>UnlockCost</th>\n",
       "      <th>StartTrait</th>\n",
       "      <th>RandomTraits</th>\n",
       "    </tr>\n",
       "  </thead>\n",
       "  <tbody>\n",
       "    <tr>\n",
       "      <th>0</th>\n",
       "      <td>49</td>\n",
       "      <td>Burglar</td>\n",
       "      <td>1</td>\n",
       "      <td>0</td>\n",
       "      <td>2400</td>\n",
       "      <td>0</td>\n",
       "      <td>agi 3</td>\n",
       "      <td>0</td>\n",
       "    </tr>\n",
       "    <tr>\n",
       "      <th>1</th>\n",
       "      <td>50</td>\n",
       "      <td>Scoundrel</td>\n",
       "      <td>1</td>\n",
       "      <td>0</td>\n",
       "      <td>2400</td>\n",
       "      <td>0</td>\n",
       "      <td>cun 3</td>\n",
       "      <td>0</td>\n",
       "    </tr>\n",
       "    <tr>\n",
       "      <th>2</th>\n",
       "      <td>51</td>\n",
       "      <td>Ruffian</td>\n",
       "      <td>1</td>\n",
       "      <td>0</td>\n",
       "      <td>2400</td>\n",
       "      <td>0</td>\n",
       "      <td>mig 3</td>\n",
       "      <td>0</td>\n",
       "    </tr>\n",
       "    <tr>\n",
       "      <th>3</th>\n",
       "      <td>52</td>\n",
       "      <td>Burglar</td>\n",
       "      <td>2</td>\n",
       "      <td>1</td>\n",
       "      <td>3350</td>\n",
       "      <td>200</td>\n",
       "      <td>agi 4</td>\n",
       "      <td>2</td>\n",
       "    </tr>\n",
       "  </tbody>\n",
       "</table>\n",
       "</div>"
      ],
      "text/plain": [
       "   id      Class  Stars  UnlockKeep  StoreCost  UnlockCost StartTrait  \\\n",
       "0  49    Burglar      1           0       2400           0      agi 3   \n",
       "1  50  Scoundrel      1           0       2400           0      cun 3   \n",
       "2  51    Ruffian      1           0       2400           0      mig 3   \n",
       "3  52    Burglar      2           1       3350         200      agi 4   \n",
       "\n",
       "  RandomTraits  \n",
       "0            0  \n",
       "1            0  \n",
       "2            0  \n",
       "3            2  "
      ]
     },
     "execution_count": 9,
     "metadata": {},
     "output_type": "execute_result"
    }
   ],
   "source": [
    "DB.DeleteTable('emporium', 'UnlockableThief')\n",
    "\n",
    "loadLs = NT.DataframeToDicts(loadDf)\n",
    "DB.InsertBulk('emporium', 'UnlockableThief', loadLs)\n",
    "\n",
    "checkLs = DB.GetTableDictionary('emporium', 'UnlockableThief')\n",
    "print('records', len(checkLs))\n",
    "PD.DataFrame(checkLs)[:4]"
   ]
  },
  {
   "cell_type": "markdown",
   "metadata": {},
   "source": [
    "### Unlockable Item"
   ]
  },
  {
   "cell_type": "code",
   "execution_count": 10,
   "metadata": {},
   "outputs": [
    {
     "data": {
      "text/plain": [
       "72"
      ]
     },
     "execution_count": 10,
     "metadata": {},
     "output_type": "execute_result"
    }
   ],
   "source": [
    "loadDf = XS.ReadSheet(inputPath, 'UnlockableItem')\n",
    "loadDf = loadDf.dropna(subset=['Name'])\n",
    "loadDf = loadDf.reset_index().drop(['index'], axis=1, errors='ignore')\n",
    "loadDf.shape[0]"
   ]
  },
  {
   "cell_type": "code",
   "execution_count": 11,
   "metadata": {},
   "outputs": [
    {
     "name": "stdout",
     "output_type": "stream",
     "text": [
      "table deleted\n",
      "bulk inserted\n",
      "records 72\n"
     ]
    },
    {
     "data": {
      "text/html": [
       "<div>\n",
       "<style scoped>\n",
       "    .dataframe tbody tr th:only-of-type {\n",
       "        vertical-align: middle;\n",
       "    }\n",
       "\n",
       "    .dataframe tbody tr th {\n",
       "        vertical-align: top;\n",
       "    }\n",
       "\n",
       "    .dataframe thead th {\n",
       "        text-align: right;\n",
       "    }\n",
       "</style>\n",
       "<table border=\"1\" class=\"dataframe\">\n",
       "  <thead>\n",
       "    <tr style=\"text-align: right;\">\n",
       "      <th></th>\n",
       "      <th>id</th>\n",
       "      <th>Name</th>\n",
       "      <th>Level</th>\n",
       "      <th>MagicLv</th>\n",
       "      <th>TotalLv</th>\n",
       "      <th>Slot</th>\n",
       "      <th>StoreCost</th>\n",
       "      <th>UnlockCost</th>\n",
       "      <th>Requirement</th>\n",
       "      <th>Trait</th>\n",
       "      <th>Combat</th>\n",
       "      <th>Skill</th>\n",
       "      <th>EnchantmentList</th>\n",
       "    </tr>\n",
       "  </thead>\n",
       "  <tbody>\n",
       "    <tr>\n",
       "      <th>6</th>\n",
       "      <td>439</td>\n",
       "      <td>Cowl</td>\n",
       "      <td>1</td>\n",
       "      <td>0</td>\n",
       "      <td>1</td>\n",
       "      <td>head</td>\n",
       "      <td>800</td>\n",
       "      <td>NaN</td>\n",
       "      <td>None</td>\n",
       "      <td>None</td>\n",
       "      <td>None</td>\n",
       "      <td>per 5</td>\n",
       "      <td>None</td>\n",
       "    </tr>\n",
       "    <tr>\n",
       "      <th>7</th>\n",
       "      <td>440</td>\n",
       "      <td>Gloves</td>\n",
       "      <td>1</td>\n",
       "      <td>0</td>\n",
       "      <td>1</td>\n",
       "      <td>hands</td>\n",
       "      <td>800</td>\n",
       "      <td>NaN</td>\n",
       "      <td>None</td>\n",
       "      <td>None</td>\n",
       "      <td>None</td>\n",
       "      <td>sab 5</td>\n",
       "      <td>None</td>\n",
       "    </tr>\n",
       "    <tr>\n",
       "      <th>8</th>\n",
       "      <td>441</td>\n",
       "      <td>Boots</td>\n",
       "      <td>1</td>\n",
       "      <td>0</td>\n",
       "      <td>1</td>\n",
       "      <td>feet</td>\n",
       "      <td>800</td>\n",
       "      <td>NaN</td>\n",
       "      <td>None</td>\n",
       "      <td>None</td>\n",
       "      <td>None</td>\n",
       "      <td>tra 5</td>\n",
       "      <td>None</td>\n",
       "    </tr>\n",
       "    <tr>\n",
       "      <th>9</th>\n",
       "      <td>442</td>\n",
       "      <td>Helmet</td>\n",
       "      <td>1</td>\n",
       "      <td>0</td>\n",
       "      <td>1</td>\n",
       "      <td>head</td>\n",
       "      <td>800</td>\n",
       "      <td>NaN</td>\n",
       "      <td>None</td>\n",
       "      <td>None</td>\n",
       "      <td>def 1</td>\n",
       "      <td>None</td>\n",
       "      <td>None</td>\n",
       "    </tr>\n",
       "    <tr>\n",
       "      <th>10</th>\n",
       "      <td>443</td>\n",
       "      <td>Gauntlet</td>\n",
       "      <td>1</td>\n",
       "      <td>0</td>\n",
       "      <td>1</td>\n",
       "      <td>hands</td>\n",
       "      <td>800</td>\n",
       "      <td>NaN</td>\n",
       "      <td>None</td>\n",
       "      <td>None</td>\n",
       "      <td>dmg 1</td>\n",
       "      <td>None</td>\n",
       "      <td>None</td>\n",
       "    </tr>\n",
       "    <tr>\n",
       "      <th>11</th>\n",
       "      <td>444</td>\n",
       "      <td>Greaves</td>\n",
       "      <td>1</td>\n",
       "      <td>0</td>\n",
       "      <td>1</td>\n",
       "      <td>feet</td>\n",
       "      <td>800</td>\n",
       "      <td>NaN</td>\n",
       "      <td>None</td>\n",
       "      <td>None</td>\n",
       "      <td>att 1</td>\n",
       "      <td>None</td>\n",
       "      <td>None</td>\n",
       "    </tr>\n",
       "    <tr>\n",
       "      <th>12</th>\n",
       "      <td>445</td>\n",
       "      <td>Twin Daggers</td>\n",
       "      <td>1</td>\n",
       "      <td>1</td>\n",
       "      <td>2</td>\n",
       "      <td>weapon</td>\n",
       "      <td>1650</td>\n",
       "      <td>100.0</td>\n",
       "      <td>Burglar</td>\n",
       "      <td>agi 1</td>\n",
       "      <td>dmg 1</td>\n",
       "      <td>None</td>\n",
       "      <td>dmg 1, def 1, per 5, tra 5</td>\n",
       "    </tr>\n",
       "  </tbody>\n",
       "</table>\n",
       "</div>"
      ],
      "text/plain": [
       "     id          Name  Level  MagicLv  TotalLv    Slot  StoreCost  UnlockCost  \\\n",
       "6   439          Cowl      1        0        1    head        800         NaN   \n",
       "7   440        Gloves      1        0        1   hands        800         NaN   \n",
       "8   441         Boots      1        0        1    feet        800         NaN   \n",
       "9   442        Helmet      1        0        1    head        800         NaN   \n",
       "10  443      Gauntlet      1        0        1   hands        800         NaN   \n",
       "11  444       Greaves      1        0        1    feet        800         NaN   \n",
       "12  445  Twin Daggers      1        1        2  weapon       1650       100.0   \n",
       "\n",
       "   Requirement  Trait Combat  Skill             EnchantmentList  \n",
       "6         None   None   None  per 5                        None  \n",
       "7         None   None   None  sab 5                        None  \n",
       "8         None   None   None  tra 5                        None  \n",
       "9         None   None  def 1   None                        None  \n",
       "10        None   None  dmg 1   None                        None  \n",
       "11        None   None  att 1   None                        None  \n",
       "12     Burglar  agi 1  dmg 1   None  dmg 1, def 1, per 5, tra 5  "
      ]
     },
     "execution_count": 11,
     "metadata": {},
     "output_type": "execute_result"
    }
   ],
   "source": [
    "DB.DeleteTable('emporium', 'UnlockableItem')\n",
    "\n",
    "loadLs = NT.DataframeToDicts(loadDf)\n",
    "DB.InsertBulk('emporium', 'UnlockableItem', loadLs)\n",
    "\n",
    "checkLs = DB.GetTableDictionary('emporium', 'UnlockableItem')\n",
    "print('records', len(checkLs))\n",
    "PD.DataFrame(checkLs)[6:13]"
   ]
  },
  {
   "cell_type": "markdown",
   "metadata": {},
   "source": [
    "### Thief Level"
   ]
  },
  {
   "cell_type": "code",
   "execution_count": 12,
   "metadata": {},
   "outputs": [
    {
     "data": {
      "text/plain": [
       "12"
      ]
     },
     "execution_count": 12,
     "metadata": {},
     "output_type": "execute_result"
    }
   ],
   "source": [
    "loadDf = XS.ReadSheet(inputPath, 'ThiefLevel')\n",
    "loadDf = loadDf.dropna(subset=['Level'])\n",
    "loadDf = loadDf.reset_index().drop(['index'], axis=1, errors='ignore')\n",
    "loadDf = loadDf.drop('RawPower', axis=1, errors='ignore')\n",
    "loadDf.shape[0]"
   ]
  },
  {
   "cell_type": "code",
   "execution_count": 13,
   "metadata": {},
   "outputs": [
    {
     "name": "stdout",
     "output_type": "stream",
     "text": [
      "table deleted\n",
      "bulk inserted\n",
      "records 12\n"
     ]
    },
    {
     "data": {
      "text/html": [
       "<div>\n",
       "<style scoped>\n",
       "    .dataframe tbody tr th:only-of-type {\n",
       "        vertical-align: middle;\n",
       "    }\n",
       "\n",
       "    .dataframe tbody tr th {\n",
       "        vertical-align: top;\n",
       "    }\n",
       "\n",
       "    .dataframe thead th {\n",
       "        text-align: right;\n",
       "    }\n",
       "</style>\n",
       "<table border=\"1\" class=\"dataframe\">\n",
       "  <thead>\n",
       "    <tr style=\"text-align: right;\">\n",
       "      <th></th>\n",
       "      <th>id</th>\n",
       "      <th>Level</th>\n",
       "      <th>Experience</th>\n",
       "      <th>Power</th>\n",
       "      <th>TrainPeriod</th>\n",
       "      <th>WoundPeriod</th>\n",
       "      <th>KnockedOutPeriod</th>\n",
       "    </tr>\n",
       "  </thead>\n",
       "  <tbody>\n",
       "    <tr>\n",
       "      <th>3</th>\n",
       "      <td>52</td>\n",
       "      <td>4</td>\n",
       "      <td>900</td>\n",
       "      <td>150</td>\n",
       "      <td>30 min</td>\n",
       "      <td>2 min</td>\n",
       "      <td>10 min</td>\n",
       "    </tr>\n",
       "    <tr>\n",
       "      <th>4</th>\n",
       "      <td>53</td>\n",
       "      <td>5</td>\n",
       "      <td>1280</td>\n",
       "      <td>210</td>\n",
       "      <td>1 hr</td>\n",
       "      <td>5 min</td>\n",
       "      <td>30 min</td>\n",
       "    </tr>\n",
       "    <tr>\n",
       "      <th>5</th>\n",
       "      <td>54</td>\n",
       "      <td>6</td>\n",
       "      <td>1700</td>\n",
       "      <td>275</td>\n",
       "      <td>2 hr</td>\n",
       "      <td>10 min</td>\n",
       "      <td>1 hr</td>\n",
       "    </tr>\n",
       "    <tr>\n",
       "      <th>6</th>\n",
       "      <td>55</td>\n",
       "      <td>7</td>\n",
       "      <td>2160</td>\n",
       "      <td>345</td>\n",
       "      <td>4 hr</td>\n",
       "      <td>30 min</td>\n",
       "      <td>2 hr</td>\n",
       "    </tr>\n",
       "  </tbody>\n",
       "</table>\n",
       "</div>"
      ],
      "text/plain": [
       "   id  Level  Experience  Power TrainPeriod WoundPeriod KnockedOutPeriod\n",
       "3  52      4         900    150      30 min       2 min           10 min\n",
       "4  53      5        1280    210        1 hr       5 min           30 min\n",
       "5  54      6        1700    275        2 hr      10 min             1 hr\n",
       "6  55      7        2160    345        4 hr      30 min             2 hr"
      ]
     },
     "execution_count": 13,
     "metadata": {},
     "output_type": "execute_result"
    }
   ],
   "source": [
    "DB.DeleteTable('emporium', 'ThiefLevel')\n",
    "\n",
    "loadLs = NT.DataframeToDicts(loadDf)\n",
    "DB.InsertBulk('emporium', 'ThiefLevel', loadLs)\n",
    "\n",
    "checkLs = DB.GetTableDictionary('emporium', 'ThiefLevel')\n",
    "print('records', len(checkLs))\n",
    "PD.DataFrame(checkLs)[3:7]"
   ]
  },
  {
   "cell_type": "markdown",
   "metadata": {},
   "source": [
    "### Keep Upgrades"
   ]
  },
  {
   "cell_type": "code",
   "execution_count": 14,
   "metadata": {},
   "outputs": [
    {
     "data": {
      "text/plain": [
       "9"
      ]
     },
     "execution_count": 14,
     "metadata": {},
     "output_type": "execute_result"
    }
   ],
   "source": [
    "loadDf = XS.ReadSheet(inputPath, 'KeepUpgrades')\n",
    "loadDf = loadDf.dropna(subset=['Level'])\n",
    "loadDf = loadDf.reset_index().drop(['index'], axis=1, errors='ignore')\n",
    "loadDf.shape[0]"
   ]
  },
  {
   "cell_type": "code",
   "execution_count": 15,
   "metadata": {},
   "outputs": [
    {
     "name": "stdout",
     "output_type": "stream",
     "text": [
      "table deleted\n",
      "bulk inserted\n",
      "records 9\n"
     ]
    },
    {
     "data": {
      "text/html": [
       "<div>\n",
       "<style scoped>\n",
       "    .dataframe tbody tr th:only-of-type {\n",
       "        vertical-align: middle;\n",
       "    }\n",
       "\n",
       "    .dataframe tbody tr th {\n",
       "        vertical-align: top;\n",
       "    }\n",
       "\n",
       "    .dataframe thead th {\n",
       "        text-align: right;\n",
       "    }\n",
       "</style>\n",
       "<table border=\"1\" class=\"dataframe\">\n",
       "  <thead>\n",
       "    <tr style=\"text-align: right;\">\n",
       "      <th></th>\n",
       "      <th>id</th>\n",
       "      <th>Level</th>\n",
       "      <th>Wood</th>\n",
       "      <th>Stone</th>\n",
       "      <th>Iron</th>\n",
       "      <th>UpgradePeriod</th>\n",
       "      <th>MaxRoomCount</th>\n",
       "      <th>MaxRoomLevel</th>\n",
       "      <th>MaxThieves</th>\n",
       "      <th>GoldStorage</th>\n",
       "      <th>GemStorage</th>\n",
       "      <th>WoodStorage</th>\n",
       "      <th>StoneStorage</th>\n",
       "      <th>IronStorage</th>\n",
       "    </tr>\n",
       "  </thead>\n",
       "  <tbody>\n",
       "    <tr>\n",
       "      <th>3</th>\n",
       "      <td>40</td>\n",
       "      <td>4</td>\n",
       "      <td>2730</td>\n",
       "      <td>1520</td>\n",
       "      <td>0</td>\n",
       "      <td>1 day</td>\n",
       "      <td>8</td>\n",
       "      <td>4</td>\n",
       "      <td>7</td>\n",
       "      <td>2150</td>\n",
       "      <td>170</td>\n",
       "      <td>1500</td>\n",
       "      <td>840</td>\n",
       "      <td>0</td>\n",
       "    </tr>\n",
       "    <tr>\n",
       "      <th>4</th>\n",
       "      <td>41</td>\n",
       "      <td>5</td>\n",
       "      <td>3350</td>\n",
       "      <td>1860</td>\n",
       "      <td>0</td>\n",
       "      <td>2 days</td>\n",
       "      <td>9</td>\n",
       "      <td>5</td>\n",
       "      <td>8</td>\n",
       "      <td>2480</td>\n",
       "      <td>200</td>\n",
       "      <td>1840</td>\n",
       "      <td>1030</td>\n",
       "      <td>0</td>\n",
       "    </tr>\n",
       "    <tr>\n",
       "      <th>5</th>\n",
       "      <td>42</td>\n",
       "      <td>6</td>\n",
       "      <td>4010</td>\n",
       "      <td>2220</td>\n",
       "      <td>0</td>\n",
       "      <td>3 days</td>\n",
       "      <td>10</td>\n",
       "      <td>6</td>\n",
       "      <td>8</td>\n",
       "      <td>2840</td>\n",
       "      <td>220</td>\n",
       "      <td>2210</td>\n",
       "      <td>1220</td>\n",
       "      <td>0</td>\n",
       "    </tr>\n",
       "    <tr>\n",
       "      <th>6</th>\n",
       "      <td>43</td>\n",
       "      <td>7</td>\n",
       "      <td>3140</td>\n",
       "      <td>1740</td>\n",
       "      <td>1050</td>\n",
       "      <td>5 days</td>\n",
       "      <td>10</td>\n",
       "      <td>7</td>\n",
       "      <td>9</td>\n",
       "      <td>3220</td>\n",
       "      <td>250</td>\n",
       "      <td>1730</td>\n",
       "      <td>960</td>\n",
       "      <td>580</td>\n",
       "    </tr>\n",
       "  </tbody>\n",
       "</table>\n",
       "</div>"
      ],
      "text/plain": [
       "   id  Level  Wood  Stone  Iron UpgradePeriod  MaxRoomCount  MaxRoomLevel  \\\n",
       "3  40      4  2730   1520     0         1 day             8             4   \n",
       "4  41      5  3350   1860     0        2 days             9             5   \n",
       "5  42      6  4010   2220     0        3 days            10             6   \n",
       "6  43      7  3140   1740  1050        5 days            10             7   \n",
       "\n",
       "   MaxThieves  GoldStorage  GemStorage  WoodStorage  StoneStorage  IronStorage  \n",
       "3           7         2150         170         1500           840            0  \n",
       "4           8         2480         200         1840          1030            0  \n",
       "5           8         2840         220         2210          1220            0  \n",
       "6           9         3220         250         1730           960          580  "
      ]
     },
     "execution_count": 15,
     "metadata": {},
     "output_type": "execute_result"
    }
   ],
   "source": [
    "DB.DeleteTable('emporium', 'KeepUpgrades')\n",
    "\n",
    "loadLs = NT.DataframeToDicts(loadDf)\n",
    "DB.InsertBulk('emporium', 'KeepUpgrades', loadLs)\n",
    "\n",
    "checkLs = DB.GetTableDictionary('emporium', 'KeepUpgrades')\n",
    "print('records', len(checkLs))\n",
    "PD.DataFrame(checkLs)[3:7]"
   ]
  },
  {
   "cell_type": "markdown",
   "metadata": {},
   "source": [
    "### Singleton Upgrades"
   ]
  },
  {
   "cell_type": "code",
   "execution_count": 16,
   "metadata": {},
   "outputs": [
    {
     "data": {
      "text/plain": [
       "9"
      ]
     },
     "execution_count": 16,
     "metadata": {},
     "output_type": "execute_result"
    }
   ],
   "source": [
    "loadDf = XS.ReadSheet(inputPath, 'SingletonUpgrades')\n",
    "loadDf = loadDf.dropna(subset=['Level'])\n",
    "loadDf = loadDf.reset_index().drop(['index'], axis=1, errors='ignore')\n",
    "loadDf.shape[0]"
   ]
  },
  {
   "cell_type": "code",
   "execution_count": 17,
   "metadata": {},
   "outputs": [
    {
     "name": "stdout",
     "output_type": "stream",
     "text": [
      "table deleted\n",
      "bulk inserted\n",
      "records 9\n"
     ]
    },
    {
     "data": {
      "text/html": [
       "<div>\n",
       "<style scoped>\n",
       "    .dataframe tbody tr th:only-of-type {\n",
       "        vertical-align: middle;\n",
       "    }\n",
       "\n",
       "    .dataframe tbody tr th {\n",
       "        vertical-align: top;\n",
       "    }\n",
       "\n",
       "    .dataframe thead th {\n",
       "        text-align: right;\n",
       "    }\n",
       "</style>\n",
       "<table border=\"1\" class=\"dataframe\">\n",
       "  <thead>\n",
       "    <tr style=\"text-align: right;\">\n",
       "      <th></th>\n",
       "      <th>id</th>\n",
       "      <th>Level</th>\n",
       "      <th>Wood</th>\n",
       "      <th>Stone</th>\n",
       "      <th>Iron</th>\n",
       "      <th>UpgradePeriod</th>\n",
       "      <th>KeepDefense</th>\n",
       "    </tr>\n",
       "  </thead>\n",
       "  <tbody>\n",
       "    <tr>\n",
       "      <th>3</th>\n",
       "      <td>40</td>\n",
       "      <td>4</td>\n",
       "      <td>1820</td>\n",
       "      <td>1010</td>\n",
       "      <td>0</td>\n",
       "      <td>12 hr</td>\n",
       "      <td>trap level +1</td>\n",
       "    </tr>\n",
       "    <tr>\n",
       "      <th>4</th>\n",
       "      <td>41</td>\n",
       "      <td>5</td>\n",
       "      <td>2230</td>\n",
       "      <td>1240</td>\n",
       "      <td>0</td>\n",
       "      <td>1 day</td>\n",
       "      <td>defenders +1</td>\n",
       "    </tr>\n",
       "    <tr>\n",
       "      <th>5</th>\n",
       "      <td>42</td>\n",
       "      <td>6</td>\n",
       "      <td>2670</td>\n",
       "      <td>1480</td>\n",
       "      <td>0</td>\n",
       "      <td>2 days</td>\n",
       "      <td>trap level +1</td>\n",
       "    </tr>\n",
       "    <tr>\n",
       "      <th>6</th>\n",
       "      <td>43</td>\n",
       "      <td>7</td>\n",
       "      <td>2090</td>\n",
       "      <td>1160</td>\n",
       "      <td>700</td>\n",
       "      <td>3 days</td>\n",
       "      <td>defenders +1</td>\n",
       "    </tr>\n",
       "  </tbody>\n",
       "</table>\n",
       "</div>"
      ],
      "text/plain": [
       "   id  Level  Wood  Stone  Iron UpgradePeriod    KeepDefense\n",
       "3  40      4  1820   1010     0         12 hr  trap level +1\n",
       "4  41      5  2230   1240     0         1 day   defenders +1\n",
       "5  42      6  2670   1480     0        2 days  trap level +1\n",
       "6  43      7  2090   1160   700        3 days   defenders +1"
      ]
     },
     "execution_count": 17,
     "metadata": {},
     "output_type": "execute_result"
    }
   ],
   "source": [
    "DB.DeleteTable('emporium', 'SingletonUpgrades')\n",
    "\n",
    "loadLs = NT.DataframeToDicts(loadDf)\n",
    "DB.InsertBulk('emporium', 'SingletonUpgrades', loadLs)\n",
    "\n",
    "checkLs = DB.GetTableDictionary('emporium', 'SingletonUpgrades')\n",
    "print('records', len(checkLs))\n",
    "PD.DataFrame(checkLs)[3:7]"
   ]
  },
  {
   "cell_type": "markdown",
   "metadata": {},
   "source": [
    "### Storage Upgrades"
   ]
  },
  {
   "cell_type": "code",
   "execution_count": 18,
   "metadata": {},
   "outputs": [
    {
     "data": {
      "text/plain": [
       "9"
      ]
     },
     "execution_count": 18,
     "metadata": {},
     "output_type": "execute_result"
    }
   ],
   "source": [
    "loadDf = XS.ReadSheet(inputPath, 'StorageUpgrades')\n",
    "loadDf = loadDf.dropna(subset=['Level'])\n",
    "loadDf = loadDf.reset_index().drop(['index'], axis=1, errors='ignore')\n",
    "loadDf.shape[0]"
   ]
  },
  {
   "cell_type": "code",
   "execution_count": 19,
   "metadata": {},
   "outputs": [
    {
     "name": "stdout",
     "output_type": "stream",
     "text": [
      "table deleted\n",
      "bulk inserted\n",
      "records 9\n"
     ]
    },
    {
     "data": {
      "text/html": [
       "<div>\n",
       "<style scoped>\n",
       "    .dataframe tbody tr th:only-of-type {\n",
       "        vertical-align: middle;\n",
       "    }\n",
       "\n",
       "    .dataframe tbody tr th {\n",
       "        vertical-align: top;\n",
       "    }\n",
       "\n",
       "    .dataframe thead th {\n",
       "        text-align: right;\n",
       "    }\n",
       "</style>\n",
       "<table border=\"1\" class=\"dataframe\">\n",
       "  <thead>\n",
       "    <tr style=\"text-align: right;\">\n",
       "      <th></th>\n",
       "      <th>id</th>\n",
       "      <th>Level</th>\n",
       "      <th>Wood</th>\n",
       "      <th>Stone</th>\n",
       "      <th>Iron</th>\n",
       "      <th>UpgradePeriod</th>\n",
       "      <th>MaxThief</th>\n",
       "      <th>RecoveryBonus</th>\n",
       "      <th>GoldStorage</th>\n",
       "      <th>GemStorage</th>\n",
       "      <th>WoodStorage</th>\n",
       "      <th>StoneStorage</th>\n",
       "      <th>IronStorage</th>\n",
       "      <th>MaxThiefLevel</th>\n",
       "    </tr>\n",
       "  </thead>\n",
       "  <tbody>\n",
       "    <tr>\n",
       "      <th>3</th>\n",
       "      <td>40</td>\n",
       "      <td>4</td>\n",
       "      <td>1820</td>\n",
       "      <td>1010</td>\n",
       "      <td>0</td>\n",
       "      <td>12 hr</td>\n",
       "      <td>3</td>\n",
       "      <td>5 min</td>\n",
       "      <td>2150</td>\n",
       "      <td>170</td>\n",
       "      <td>1500</td>\n",
       "      <td>840</td>\n",
       "      <td>0</td>\n",
       "      <td>7</td>\n",
       "    </tr>\n",
       "    <tr>\n",
       "      <th>4</th>\n",
       "      <td>41</td>\n",
       "      <td>5</td>\n",
       "      <td>2230</td>\n",
       "      <td>1240</td>\n",
       "      <td>0</td>\n",
       "      <td>1 day</td>\n",
       "      <td>4</td>\n",
       "      <td>5 min</td>\n",
       "      <td>2480</td>\n",
       "      <td>200</td>\n",
       "      <td>1840</td>\n",
       "      <td>1030</td>\n",
       "      <td>0</td>\n",
       "      <td>8</td>\n",
       "    </tr>\n",
       "    <tr>\n",
       "      <th>5</th>\n",
       "      <td>42</td>\n",
       "      <td>6</td>\n",
       "      <td>2670</td>\n",
       "      <td>1480</td>\n",
       "      <td>0</td>\n",
       "      <td>2 days</td>\n",
       "      <td>4</td>\n",
       "      <td>30 min</td>\n",
       "      <td>2840</td>\n",
       "      <td>220</td>\n",
       "      <td>2210</td>\n",
       "      <td>1220</td>\n",
       "      <td>0</td>\n",
       "      <td>9</td>\n",
       "    </tr>\n",
       "    <tr>\n",
       "      <th>6</th>\n",
       "      <td>43</td>\n",
       "      <td>7</td>\n",
       "      <td>2090</td>\n",
       "      <td>1160</td>\n",
       "      <td>700</td>\n",
       "      <td>3 days</td>\n",
       "      <td>5</td>\n",
       "      <td>30 min</td>\n",
       "      <td>3220</td>\n",
       "      <td>250</td>\n",
       "      <td>1730</td>\n",
       "      <td>960</td>\n",
       "      <td>580</td>\n",
       "      <td>10</td>\n",
       "    </tr>\n",
       "  </tbody>\n",
       "</table>\n",
       "</div>"
      ],
      "text/plain": [
       "   id  Level  Wood  Stone  Iron UpgradePeriod  MaxThief RecoveryBonus  \\\n",
       "3  40      4  1820   1010     0         12 hr         3         5 min   \n",
       "4  41      5  2230   1240     0         1 day         4         5 min   \n",
       "5  42      6  2670   1480     0        2 days         4        30 min   \n",
       "6  43      7  2090   1160   700        3 days         5        30 min   \n",
       "\n",
       "   GoldStorage  GemStorage  WoodStorage  StoneStorage  IronStorage  \\\n",
       "3         2150         170         1500           840            0   \n",
       "4         2480         200         1840          1030            0   \n",
       "5         2840         220         2210          1220            0   \n",
       "6         3220         250         1730           960          580   \n",
       "\n",
       "   MaxThiefLevel  \n",
       "3              7  \n",
       "4              8  \n",
       "5              9  \n",
       "6             10  "
      ]
     },
     "execution_count": 19,
     "metadata": {},
     "output_type": "execute_result"
    }
   ],
   "source": [
    "DB.DeleteTable('emporium', 'StorageUpgrades')\n",
    "\n",
    "loadLs = NT.DataframeToDicts(loadDf)\n",
    "DB.InsertBulk('emporium', 'StorageUpgrades', loadLs)\n",
    "\n",
    "checkLs = DB.GetTableDictionary('emporium', 'StorageUpgrades')\n",
    "print('records', len(checkLs))\n",
    "PD.DataFrame(checkLs)[3:7]"
   ]
  },
  {
   "cell_type": "markdown",
   "metadata": {},
   "source": [
    "### Factory Upgrades"
   ]
  },
  {
   "cell_type": "code",
   "execution_count": 20,
   "metadata": {},
   "outputs": [
    {
     "data": {
      "text/plain": [
       "9"
      ]
     },
     "execution_count": 20,
     "metadata": {},
     "output_type": "execute_result"
    }
   ],
   "source": [
    "loadDf = XS.ReadSheet(inputPath, 'FactoryUpgrades')\n",
    "loadDf = loadDf.dropna(subset=['Level'])\n",
    "loadDf = loadDf.reset_index().drop(['index'], axis=1, errors='ignore')\n",
    "loadDf.shape[0]"
   ]
  },
  {
   "cell_type": "code",
   "execution_count": 21,
   "metadata": {},
   "outputs": [
    {
     "name": "stdout",
     "output_type": "stream",
     "text": [
      "table deleted\n",
      "bulk inserted\n",
      "records 9\n"
     ]
    },
    {
     "data": {
      "text/html": [
       "<div>\n",
       "<style scoped>\n",
       "    .dataframe tbody tr th:only-of-type {\n",
       "        vertical-align: middle;\n",
       "    }\n",
       "\n",
       "    .dataframe tbody tr th {\n",
       "        vertical-align: top;\n",
       "    }\n",
       "\n",
       "    .dataframe thead th {\n",
       "        text-align: right;\n",
       "    }\n",
       "</style>\n",
       "<table border=\"1\" class=\"dataframe\">\n",
       "  <thead>\n",
       "    <tr style=\"text-align: right;\">\n",
       "      <th></th>\n",
       "      <th>id</th>\n",
       "      <th>Level</th>\n",
       "      <th>Wood</th>\n",
       "      <th>Stone</th>\n",
       "      <th>Iron</th>\n",
       "      <th>UpgradePeriod</th>\n",
       "      <th>BonusGold</th>\n",
       "      <th>DailySlots</th>\n",
       "      <th>FenceStaff</th>\n",
       "      <th>BonusGems</th>\n",
       "      <th>UnlockSlots</th>\n",
       "      <th>JewelerStaff</th>\n",
       "      <th>BonusMaterials</th>\n",
       "      <th>WorkshopStaff</th>\n",
       "      <th>BonusXP</th>\n",
       "      <th>ReformatoryStaff</th>\n",
       "    </tr>\n",
       "  </thead>\n",
       "  <tbody>\n",
       "    <tr>\n",
       "      <th>3</th>\n",
       "      <td>40</td>\n",
       "      <td>4</td>\n",
       "      <td>1820</td>\n",
       "      <td>1010</td>\n",
       "      <td>0</td>\n",
       "      <td>12 hr</td>\n",
       "      <td>+3% per 5 AGI</td>\n",
       "      <td>2</td>\n",
       "      <td>1</td>\n",
       "      <td>+45% per 5 CUN</td>\n",
       "      <td>2</td>\n",
       "      <td>1</td>\n",
       "      <td>+8% per 5 MIG</td>\n",
       "      <td>2</td>\n",
       "      <td>+3% per 3 END</td>\n",
       "      <td>2</td>\n",
       "    </tr>\n",
       "    <tr>\n",
       "      <th>4</th>\n",
       "      <td>41</td>\n",
       "      <td>5</td>\n",
       "      <td>2230</td>\n",
       "      <td>1240</td>\n",
       "      <td>0</td>\n",
       "      <td>1 day</td>\n",
       "      <td>+4% per 5 AGI</td>\n",
       "      <td>2</td>\n",
       "      <td>1</td>\n",
       "      <td>+45% per 5 CUN</td>\n",
       "      <td>3</td>\n",
       "      <td>1</td>\n",
       "      <td>+10% per 5 MIG</td>\n",
       "      <td>2</td>\n",
       "      <td>+4% per 3 END</td>\n",
       "      <td>2</td>\n",
       "    </tr>\n",
       "    <tr>\n",
       "      <th>5</th>\n",
       "      <td>42</td>\n",
       "      <td>6</td>\n",
       "      <td>2670</td>\n",
       "      <td>1480</td>\n",
       "      <td>0</td>\n",
       "      <td>2 days</td>\n",
       "      <td>+4% per 5 AGI</td>\n",
       "      <td>2</td>\n",
       "      <td>2</td>\n",
       "      <td>+45% per 5 CUN</td>\n",
       "      <td>3</td>\n",
       "      <td>2</td>\n",
       "      <td>+12% per 5 MIG</td>\n",
       "      <td>2</td>\n",
       "      <td>+5% per 3 END</td>\n",
       "      <td>2</td>\n",
       "    </tr>\n",
       "    <tr>\n",
       "      <th>6</th>\n",
       "      <td>43</td>\n",
       "      <td>7</td>\n",
       "      <td>2090</td>\n",
       "      <td>1160</td>\n",
       "      <td>700</td>\n",
       "      <td>3 days</td>\n",
       "      <td>+4% per 5 AGI</td>\n",
       "      <td>3</td>\n",
       "      <td>2</td>\n",
       "      <td>+60% per 5 CUN</td>\n",
       "      <td>3</td>\n",
       "      <td>2</td>\n",
       "      <td>+12% per 5 MIG</td>\n",
       "      <td>3</td>\n",
       "      <td>+5% per 3 END</td>\n",
       "      <td>3</td>\n",
       "    </tr>\n",
       "  </tbody>\n",
       "</table>\n",
       "</div>"
      ],
      "text/plain": [
       "   id  Level  Wood  Stone  Iron UpgradePeriod      BonusGold  DailySlots  \\\n",
       "3  40      4  1820   1010     0         12 hr  +3% per 5 AGI           2   \n",
       "4  41      5  2230   1240     0         1 day  +4% per 5 AGI           2   \n",
       "5  42      6  2670   1480     0        2 days  +4% per 5 AGI           2   \n",
       "6  43      7  2090   1160   700        3 days  +4% per 5 AGI           3   \n",
       "\n",
       "   FenceStaff       BonusGems  UnlockSlots  JewelerStaff  BonusMaterials  \\\n",
       "3           1  +45% per 5 CUN            2             1   +8% per 5 MIG   \n",
       "4           1  +45% per 5 CUN            3             1  +10% per 5 MIG   \n",
       "5           2  +45% per 5 CUN            3             2  +12% per 5 MIG   \n",
       "6           2  +60% per 5 CUN            3             2  +12% per 5 MIG   \n",
       "\n",
       "   WorkshopStaff        BonusXP  ReformatoryStaff  \n",
       "3              2  +3% per 3 END                 2  \n",
       "4              2  +4% per 3 END                 2  \n",
       "5              2  +5% per 3 END                 2  \n",
       "6              3  +5% per 3 END                 3  "
      ]
     },
     "execution_count": 21,
     "metadata": {},
     "output_type": "execute_result"
    }
   ],
   "source": [
    "DB.DeleteTable('emporium', 'FactoryUpgrades')\n",
    "\n",
    "loadLs = NT.DataframeToDicts(loadDf)\n",
    "DB.InsertBulk('emporium', 'FactoryUpgrades', loadLs)\n",
    "\n",
    "checkLs = DB.GetTableDictionary('emporium', 'FactoryUpgrades')\n",
    "print('records', len(checkLs))\n",
    "PD.DataFrame(checkLs)[3:7]"
   ]
  },
  {
   "cell_type": "code",
   "execution_count": 22,
   "metadata": {},
   "outputs": [
    {
     "data": {
      "text/html": [
       "<div>\n",
       "<style scoped>\n",
       "    .dataframe tbody tr th:only-of-type {\n",
       "        vertical-align: middle;\n",
       "    }\n",
       "\n",
       "    .dataframe tbody tr th {\n",
       "        vertical-align: top;\n",
       "    }\n",
       "\n",
       "    .dataframe thead th {\n",
       "        text-align: right;\n",
       "    }\n",
       "</style>\n",
       "<table border=\"1\" class=\"dataframe\">\n",
       "  <thead>\n",
       "    <tr style=\"text-align: right;\">\n",
       "      <th></th>\n",
       "      <th>Module</th>\n",
       "      <th>Table</th>\n",
       "      <th>Count</th>\n",
       "    </tr>\n",
       "  </thead>\n",
       "  <tbody>\n",
       "    <tr>\n",
       "      <th>0</th>\n",
       "      <td>members</td>\n",
       "      <td>User</td>\n",
       "      <td>2</td>\n",
       "    </tr>\n",
       "    <tr>\n",
       "      <th>1</th>\n",
       "      <td>emporium</td>\n",
       "      <td>UnlockableThief</td>\n",
       "      <td>12</td>\n",
       "    </tr>\n",
       "    <tr>\n",
       "      <th>2</th>\n",
       "      <td>emporium</td>\n",
       "      <td>UnlockableItem</td>\n",
       "      <td>72</td>\n",
       "    </tr>\n",
       "    <tr>\n",
       "      <th>3</th>\n",
       "      <td>emporium</td>\n",
       "      <td>ThiefLevel</td>\n",
       "      <td>12</td>\n",
       "    </tr>\n",
       "    <tr>\n",
       "      <th>4</th>\n",
       "      <td>emporium</td>\n",
       "      <td>KeepUpgrades</td>\n",
       "      <td>9</td>\n",
       "    </tr>\n",
       "    <tr>\n",
       "      <th>5</th>\n",
       "      <td>emporium</td>\n",
       "      <td>SingletonUpgrades</td>\n",
       "      <td>9</td>\n",
       "    </tr>\n",
       "    <tr>\n",
       "      <th>6</th>\n",
       "      <td>emporium</td>\n",
       "      <td>StorageUpgrades</td>\n",
       "      <td>9</td>\n",
       "    </tr>\n",
       "    <tr>\n",
       "      <th>7</th>\n",
       "      <td>emporium</td>\n",
       "      <td>FactoryUpgrades</td>\n",
       "      <td>9</td>\n",
       "    </tr>\n",
       "    <tr>\n",
       "      <th>8</th>\n",
       "      <td>emporium</td>\n",
       "      <td>Trap</td>\n",
       "      <td>72</td>\n",
       "    </tr>\n",
       "    <tr>\n",
       "      <th>9</th>\n",
       "      <td>emporium</td>\n",
       "      <td>Enemy</td>\n",
       "      <td>18</td>\n",
       "    </tr>\n",
       "    <tr>\n",
       "      <th>10</th>\n",
       "      <td>emporium</td>\n",
       "      <td>GothicTower</td>\n",
       "      <td>36</td>\n",
       "    </tr>\n",
       "    <tr>\n",
       "      <th>11</th>\n",
       "      <td>emporium</td>\n",
       "      <td>LeagueTrial</td>\n",
       "      <td>18</td>\n",
       "    </tr>\n",
       "    <tr>\n",
       "      <th>12</th>\n",
       "      <td>emporium</td>\n",
       "      <td>Campaign</td>\n",
       "      <td>41</td>\n",
       "    </tr>\n",
       "    <tr>\n",
       "      <th>13</th>\n",
       "      <td>emporium</td>\n",
       "      <td>TrialDay</td>\n",
       "      <td>7</td>\n",
       "    </tr>\n",
       "    <tr>\n",
       "      <th>14</th>\n",
       "      <td>engine</td>\n",
       "      <td>Guild</td>\n",
       "      <td>1</td>\n",
       "    </tr>\n",
       "    <tr>\n",
       "      <th>15</th>\n",
       "      <td>engine</td>\n",
       "      <td>ThiefInGuild</td>\n",
       "      <td>6</td>\n",
       "    </tr>\n",
       "    <tr>\n",
       "      <th>16</th>\n",
       "      <td>engine</td>\n",
       "      <td>ItemInGuild</td>\n",
       "      <td>18</td>\n",
       "    </tr>\n",
       "    <tr>\n",
       "      <th>17</th>\n",
       "      <td>engine</td>\n",
       "      <td>ThiefUnlocked</td>\n",
       "      <td>0</td>\n",
       "    </tr>\n",
       "    <tr>\n",
       "      <th>18</th>\n",
       "      <td>engine</td>\n",
       "      <td>ItemUnlocked</td>\n",
       "      <td>0</td>\n",
       "    </tr>\n",
       "    <tr>\n",
       "      <th>19</th>\n",
       "      <td>engine</td>\n",
       "      <td>GuildStage</td>\n",
       "      <td>60</td>\n",
       "    </tr>\n",
       "  </tbody>\n",
       "</table>\n",
       "</div>"
      ],
      "text/plain": [
       "      Module              Table  Count\n",
       "0    members               User      2\n",
       "1   emporium    UnlockableThief     12\n",
       "2   emporium     UnlockableItem     72\n",
       "3   emporium         ThiefLevel     12\n",
       "4   emporium       KeepUpgrades      9\n",
       "5   emporium  SingletonUpgrades      9\n",
       "6   emporium    StorageUpgrades      9\n",
       "7   emporium    FactoryUpgrades      9\n",
       "8   emporium               Trap     72\n",
       "9   emporium              Enemy     18\n",
       "10  emporium        GothicTower     36\n",
       "11  emporium        LeagueTrial     18\n",
       "12  emporium           Campaign     41\n",
       "13  emporium           TrialDay      7\n",
       "14    engine              Guild      1\n",
       "15    engine       ThiefInGuild      6\n",
       "16    engine        ItemInGuild     18\n",
       "17    engine      ThiefUnlocked      0\n",
       "18    engine       ItemUnlocked      0\n",
       "19    engine         GuildStage     60"
      ]
     },
     "execution_count": 22,
     "metadata": {},
     "output_type": "execute_result"
    }
   ],
   "source": [
    "infoLs = DB.GetTableCounts()\n",
    "PD.DataFrame(infoLs)"
   ]
  }
 ],
 "metadata": {
  "kernelspec": {
   "display_name": "Python 3 (ipykernel)",
   "language": "python",
   "name": "python3"
  },
  "language_info": {
   "codemirror_mode": {
    "name": "ipython",
    "version": 3
   },
   "file_extension": ".py",
   "mimetype": "text/x-python",
   "name": "python",
   "nbconvert_exporter": "python",
   "pygments_lexer": "ipython3",
   "version": "3.8.2"
  }
 },
 "nbformat": 4,
 "nbformat_minor": 4
}
