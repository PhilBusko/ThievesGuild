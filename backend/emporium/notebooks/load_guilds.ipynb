{
 "cells": [
  {
   "cell_type": "markdown",
   "metadata": {},
   "source": [
    "# Load Guild Tables"
   ]
  },
  {
   "cell_type": "code",
   "execution_count": 1,
   "metadata": {},
   "outputs": [],
   "source": [
    "import os, sys\n",
    "import pandas as PD"
   ]
  },
  {
   "cell_type": "code",
   "execution_count": 2,
   "metadata": {},
   "outputs": [
    {
     "name": "stdout",
     "output_type": "stream",
     "text": [
      "['DataframeToDicts', 'GetRandom', 'NOTEBOOK_ENV']\n"
     ]
    }
   ],
   "source": [
    "BACKEND_PATH = os.path.dirname(os.path.dirname(os.getcwd()))\n",
    "APPPROJ_PATH = os.path.join(BACKEND_PATH, 'app_proj')\n",
    "sys.path.append(APPPROJ_PATH)\n",
    "import notebooks as NT\n",
    "print([x for x in dir(NT) if x[0]!='_' and len(x)>8])"
   ]
  },
  {
   "cell_type": "code",
   "execution_count": 3,
   "metadata": {
    "scrolled": false
   },
   "outputs": [
    {
     "name": "stdout",
     "output_type": "stream",
     "text": [
      "env: DEV\n"
     ]
    }
   ],
   "source": [
    "import django\n",
    "os.environ['DEPLOYMENT_ENV'] = NT.NOTEBOOK_ENV\n",
    "os.environ['DJANGO_ALLOW_ASYNC_UNSAFE'] = 'True'\n",
    "MODULE_PATH = os.path.dirname(os.getcwd())\n",
    "os.chdir(os.path.dirname(MODULE_PATH))\n",
    "django.setup()"
   ]
  },
  {
   "cell_type": "code",
   "execution_count": 4,
   "metadata": {
    "scrolled": true
   },
   "outputs": [
    {
     "name": "stdout",
     "output_type": "stream",
     "text": [
      "['BaseManager', 'DeleteTable', 'GetNativeTableCounts', 'GetTableCounts', 'GetTableDictionary', 'InsertBulk', 'InsertSingle']\n"
     ]
    }
   ],
   "source": [
    "import database as DB\n",
    "print([x for x in dir(DB) if x[0]!='_' and len(x)>8])"
   ]
  },
  {
   "cell_type": "code",
   "execution_count": 5,
   "metadata": {},
   "outputs": [
    {
     "name": "stdout",
     "output_type": "stream",
     "text": [
      "['AppendToExcel', 'ReadSheet', 'ResetFile', 'ResetSheet']\n"
     ]
    }
   ],
   "source": [
    "import app_proj.excel_service as XS\n",
    "print([x for x in dir(XS) if x[0]!='_' and len(x)>8])"
   ]
  },
  {
   "cell_type": "code",
   "execution_count": 6,
   "metadata": {},
   "outputs": [
    {
     "name": "stdout",
     "output_type": "stream",
     "text": [
      "C:\\Documents\\Code\\OpenStack\\ThievesGuild\\codebase\\backend\\emporium\\data\n"
     ]
    }
   ],
   "source": [
    "DATA_PATH = os.path.join(MODULE_PATH, 'data')\n",
    "print(DATA_PATH)"
   ]
  },
  {
   "cell_type": "code",
   "execution_count": 7,
   "metadata": {},
   "outputs": [],
   "source": [
    "%load_ext autoreload\n",
    "%autoreload 2\n",
    "from IPython.core.interactiveshell import InteractiveShell\n",
    "InteractiveShell.ast_node_interactivity = 'all'\n",
    "import IPython.display as DS \n",
    "from ipywidgets import IntProgress"
   ]
  },
  {
   "cell_type": "markdown",
   "metadata": {},
   "source": [
    "### Unlockable Thief"
   ]
  },
  {
   "cell_type": "code",
   "execution_count": 8,
   "metadata": {
    "scrolled": false
   },
   "outputs": [
    {
     "data": {
      "text/plain": [
       "12"
      ]
     },
     "execution_count": 8,
     "metadata": {},
     "output_type": "execute_result"
    }
   ],
   "source": [
    "inputPath = os.path.join(DATA_PATH, 'GuildData.xlsx')\n",
    "loadDf = XS.ReadSheet(inputPath, 'UnlockableThief')\n",
    "loadDf = loadDf.dropna(subset=['Class'])\n",
    "loadDf = loadDf.reset_index().drop(['index'], axis=1, errors='ignore')\n",
    "loadDf.shape[0]"
   ]
  },
  {
   "cell_type": "code",
   "execution_count": 9,
   "metadata": {},
   "outputs": [
    {
     "data": {
      "text/html": [
       "<div>\n",
       "<style scoped>\n",
       "    .dataframe tbody tr th:only-of-type {\n",
       "        vertical-align: middle;\n",
       "    }\n",
       "\n",
       "    .dataframe tbody tr th {\n",
       "        vertical-align: top;\n",
       "    }\n",
       "\n",
       "    .dataframe thead th {\n",
       "        text-align: right;\n",
       "    }\n",
       "</style>\n",
       "<table border=\"1\" class=\"dataframe\">\n",
       "  <thead>\n",
       "    <tr style=\"text-align: right;\">\n",
       "      <th></th>\n",
       "      <th>Class</th>\n",
       "      <th>Stars</th>\n",
       "      <th>UnlockThrone</th>\n",
       "      <th>StoreCost</th>\n",
       "      <th>StartTrait</th>\n",
       "      <th>RandomTraits</th>\n",
       "      <th>ResourceId</th>\n",
       "    </tr>\n",
       "  </thead>\n",
       "  <tbody>\n",
       "    <tr>\n",
       "      <th>0</th>\n",
       "      <td>Burglar</td>\n",
       "      <td>1</td>\n",
       "      <td>2</td>\n",
       "      <td>3100</td>\n",
       "      <td>agi 3</td>\n",
       "      <td>0</td>\n",
       "      <td>thief-agi-s1</td>\n",
       "    </tr>\n",
       "    <tr>\n",
       "      <th>1</th>\n",
       "      <td>Scoundrel</td>\n",
       "      <td>1</td>\n",
       "      <td>2</td>\n",
       "      <td>3100</td>\n",
       "      <td>cun 3</td>\n",
       "      <td>0</td>\n",
       "      <td>thief-cun-s1</td>\n",
       "    </tr>\n",
       "    <tr>\n",
       "      <th>2</th>\n",
       "      <td>Ruffian</td>\n",
       "      <td>1</td>\n",
       "      <td>2</td>\n",
       "      <td>3100</td>\n",
       "      <td>mig 3</td>\n",
       "      <td>0</td>\n",
       "      <td>thief-mig-s1</td>\n",
       "    </tr>\n",
       "  </tbody>\n",
       "</table>\n",
       "</div>"
      ],
      "text/plain": [
       "       Class  Stars  UnlockThrone  StoreCost StartTrait  RandomTraits  \\\n",
       "0    Burglar      1             2       3100      agi 3             0   \n",
       "1  Scoundrel      1             2       3100      cun 3             0   \n",
       "2    Ruffian      1             2       3100      mig 3             0   \n",
       "\n",
       "     ResourceId  \n",
       "0  thief-agi-s1  \n",
       "1  thief-cun-s1  \n",
       "2  thief-mig-s1  "
      ]
     },
     "execution_count": 9,
     "metadata": {},
     "output_type": "execute_result"
    }
   ],
   "source": [
    "def GetResId(row):\n",
    "    return f\"thief-{row['StartTrait'].split(' ')[0]}-s{row['Stars']}\"\n",
    "\n",
    "loadDf['ResourceId'] = loadDf.apply(lambda x: GetResId(x), axis=1)\n",
    "loadDf[:3]"
   ]
  },
  {
   "cell_type": "code",
   "execution_count": 10,
   "metadata": {},
   "outputs": [
    {
     "name": "stdout",
     "output_type": "stream",
     "text": [
      "table deleted\n",
      "bulk inserted\n",
      "records 12\n"
     ]
    },
    {
     "data": {
      "text/html": [
       "<div>\n",
       "<style scoped>\n",
       "    .dataframe tbody tr th:only-of-type {\n",
       "        vertical-align: middle;\n",
       "    }\n",
       "\n",
       "    .dataframe tbody tr th {\n",
       "        vertical-align: top;\n",
       "    }\n",
       "\n",
       "    .dataframe thead th {\n",
       "        text-align: right;\n",
       "    }\n",
       "</style>\n",
       "<table border=\"1\" class=\"dataframe\">\n",
       "  <thead>\n",
       "    <tr style=\"text-align: right;\">\n",
       "      <th></th>\n",
       "      <th>id</th>\n",
       "      <th>ResourceId</th>\n",
       "      <th>Class</th>\n",
       "      <th>Stars</th>\n",
       "      <th>UnlockThrone</th>\n",
       "      <th>StoreCost</th>\n",
       "      <th>StartTrait</th>\n",
       "      <th>RandomTraits</th>\n",
       "    </tr>\n",
       "  </thead>\n",
       "  <tbody>\n",
       "    <tr>\n",
       "      <th>0</th>\n",
       "      <td>37</td>\n",
       "      <td>thief-agi-s1</td>\n",
       "      <td>Burglar</td>\n",
       "      <td>1</td>\n",
       "      <td>2</td>\n",
       "      <td>3100</td>\n",
       "      <td>agi 3</td>\n",
       "      <td>0</td>\n",
       "    </tr>\n",
       "    <tr>\n",
       "      <th>1</th>\n",
       "      <td>38</td>\n",
       "      <td>thief-cun-s1</td>\n",
       "      <td>Scoundrel</td>\n",
       "      <td>1</td>\n",
       "      <td>2</td>\n",
       "      <td>3100</td>\n",
       "      <td>cun 3</td>\n",
       "      <td>0</td>\n",
       "    </tr>\n",
       "    <tr>\n",
       "      <th>2</th>\n",
       "      <td>39</td>\n",
       "      <td>thief-mig-s1</td>\n",
       "      <td>Ruffian</td>\n",
       "      <td>1</td>\n",
       "      <td>2</td>\n",
       "      <td>3100</td>\n",
       "      <td>mig 3</td>\n",
       "      <td>0</td>\n",
       "    </tr>\n",
       "    <tr>\n",
       "      <th>3</th>\n",
       "      <td>40</td>\n",
       "      <td>thief-agi-s2</td>\n",
       "      <td>Burglar</td>\n",
       "      <td>2</td>\n",
       "      <td>4</td>\n",
       "      <td>6700</td>\n",
       "      <td>agi 4</td>\n",
       "      <td>2</td>\n",
       "    </tr>\n",
       "  </tbody>\n",
       "</table>\n",
       "</div>"
      ],
      "text/plain": [
       "   id    ResourceId      Class  Stars  UnlockThrone  StoreCost StartTrait  \\\n",
       "0  37  thief-agi-s1    Burglar      1             2       3100      agi 3   \n",
       "1  38  thief-cun-s1  Scoundrel      1             2       3100      cun 3   \n",
       "2  39  thief-mig-s1    Ruffian      1             2       3100      mig 3   \n",
       "3  40  thief-agi-s2    Burglar      2             4       6700      agi 4   \n",
       "\n",
       "   RandomTraits  \n",
       "0             0  \n",
       "1             0  \n",
       "2             0  \n",
       "3             2  "
      ]
     },
     "execution_count": 10,
     "metadata": {},
     "output_type": "execute_result"
    }
   ],
   "source": [
    "DB.DeleteTable('emporium', 'UnlockableThief')\n",
    "\n",
    "loadLs = NT.DataframeToDicts(loadDf)\n",
    "DB.InsertBulk('emporium', 'UnlockableThief', loadLs)\n",
    "\n",
    "checkLs = DB.GetTableDictionary('emporium', 'UnlockableThief')\n",
    "print('records', len(checkLs))\n",
    "PD.DataFrame(checkLs)[:4]"
   ]
  },
  {
   "cell_type": "markdown",
   "metadata": {},
   "source": [
    "### Unlockable Item"
   ]
  },
  {
   "cell_type": "code",
   "execution_count": 11,
   "metadata": {},
   "outputs": [
    {
     "data": {
      "text/plain": [
       "78"
      ]
     },
     "execution_count": 11,
     "metadata": {},
     "output_type": "execute_result"
    }
   ],
   "source": [
    "# this erases all previous blueprint unlocks\n",
    "\n",
    "loadDf = XS.ReadSheet(inputPath, 'UnlockableItem')\n",
    "loadDf = loadDf.dropna(subset=['Name'])\n",
    "loadDf = loadDf.reset_index().drop(['index'], axis=1, errors='ignore')\n",
    "loadDf['Throne'] = loadDf['Throne'].astype('int')\n",
    "loadDf['Level'] = loadDf['Level'].astype('int')\n",
    "loadDf['MagicLv'] = loadDf['MagicLv'].astype('int')\n",
    "loadDf['TotalLv'] = loadDf['TotalLv'].astype('int')\n",
    "loadDf['StoreCost'] = loadDf['StoreCost'].astype('int')\n",
    "loadDf.shape[0]"
   ]
  },
  {
   "cell_type": "code",
   "execution_count": 12,
   "metadata": {},
   "outputs": [],
   "source": [
    "def GetResId(itemDx, magic):\n",
    "    second = ''\n",
    "    if isinstance(itemDx['Trait'], str):\n",
    "        second = itemDx['Trait'].split(' ')[0]\n",
    "    else:\n",
    "        second = 'cmb' if isinstance(itemDx['Combat'], str) else 'skl'\n",
    "\n",
    "    magicType = f\"-{magic.split(' ')[0]}\" if magic else \"\"\n",
    "    return f\"{itemDx['Slot']}-{second}-t{itemDx['Throne']}-m{itemDx['MagicLv']}{magicType}\""
   ]
  },
  {
   "cell_type": "code",
   "execution_count": 13,
   "metadata": {},
   "outputs": [
    {
     "data": {
      "text/html": [
       "<div>\n",
       "<style scoped>\n",
       "    .dataframe tbody tr th:only-of-type {\n",
       "        vertical-align: middle;\n",
       "    }\n",
       "\n",
       "    .dataframe tbody tr th {\n",
       "        vertical-align: top;\n",
       "    }\n",
       "\n",
       "    .dataframe thead th {\n",
       "        text-align: right;\n",
       "    }\n",
       "</style>\n",
       "<table border=\"1\" class=\"dataframe\">\n",
       "  <thead>\n",
       "    <tr style=\"text-align: right;\">\n",
       "      <th></th>\n",
       "      <th>Name</th>\n",
       "      <th>Throne</th>\n",
       "      <th>Level</th>\n",
       "      <th>MagicLv</th>\n",
       "      <th>TotalLv</th>\n",
       "      <th>Slot</th>\n",
       "      <th>StoreCost</th>\n",
       "      <th>Requirement</th>\n",
       "      <th>Trait</th>\n",
       "      <th>Combat</th>\n",
       "      <th>Skill</th>\n",
       "      <th>ResourceId</th>\n",
       "      <th>Magic</th>\n",
       "    </tr>\n",
       "  </thead>\n",
       "  <tbody>\n",
       "    <tr>\n",
       "      <th>10</th>\n",
       "      <td>Gauntlet</td>\n",
       "      <td>1</td>\n",
       "      <td>1</td>\n",
       "      <td>0</td>\n",
       "      <td>1</td>\n",
       "      <td>hands</td>\n",
       "      <td>600</td>\n",
       "      <td>None</td>\n",
       "      <td>None</td>\n",
       "      <td>dmg 1</td>\n",
       "      <td>None</td>\n",
       "      <td>hands-cmb-t1-m0</td>\n",
       "      <td>None</td>\n",
       "    </tr>\n",
       "    <tr>\n",
       "      <th>11</th>\n",
       "      <td>Greaves</td>\n",
       "      <td>1</td>\n",
       "      <td>1</td>\n",
       "      <td>0</td>\n",
       "      <td>1</td>\n",
       "      <td>feet</td>\n",
       "      <td>600</td>\n",
       "      <td>None</td>\n",
       "      <td>None</td>\n",
       "      <td>att 1</td>\n",
       "      <td>None</td>\n",
       "      <td>feet-cmb-t1-m0</td>\n",
       "      <td>None</td>\n",
       "    </tr>\n",
       "    <tr>\n",
       "      <th>12</th>\n",
       "      <td>Cloak</td>\n",
       "      <td>1</td>\n",
       "      <td>1</td>\n",
       "      <td>0</td>\n",
       "      <td>1</td>\n",
       "      <td>back</td>\n",
       "      <td>600</td>\n",
       "      <td>None</td>\n",
       "      <td>end 1</td>\n",
       "      <td>None</td>\n",
       "      <td>None</td>\n",
       "      <td>back-end-t1-m0</td>\n",
       "      <td>None</td>\n",
       "    </tr>\n",
       "    <tr>\n",
       "      <th>13</th>\n",
       "      <td>Twin Daggers</td>\n",
       "      <td>1</td>\n",
       "      <td>2</td>\n",
       "      <td>1</td>\n",
       "      <td>3</td>\n",
       "      <td>weapon</td>\n",
       "      <td>2100</td>\n",
       "      <td>Burglar</td>\n",
       "      <td>agi 1</td>\n",
       "      <td>dmg 1</td>\n",
       "      <td>None</td>\n",
       "      <td>weapon-agi-t1-m1-dmg</td>\n",
       "      <td>dmg 1</td>\n",
       "    </tr>\n",
       "    <tr>\n",
       "      <th>14</th>\n",
       "      <td>Twin Daggers</td>\n",
       "      <td>1</td>\n",
       "      <td>2</td>\n",
       "      <td>1</td>\n",
       "      <td>3</td>\n",
       "      <td>weapon</td>\n",
       "      <td>2100</td>\n",
       "      <td>Burglar</td>\n",
       "      <td>agi 1</td>\n",
       "      <td>dmg 1</td>\n",
       "      <td>None</td>\n",
       "      <td>weapon-agi-t1-m1-def</td>\n",
       "      <td>def 1</td>\n",
       "    </tr>\n",
       "  </tbody>\n",
       "</table>\n",
       "</div>"
      ],
      "text/plain": [
       "            Name  Throne  Level  MagicLv  TotalLv    Slot  StoreCost  \\\n",
       "10      Gauntlet       1      1        0        1   hands        600   \n",
       "11       Greaves       1      1        0        1    feet        600   \n",
       "12         Cloak       1      1        0        1    back        600   \n",
       "13  Twin Daggers       1      2        1        3  weapon       2100   \n",
       "14  Twin Daggers       1      2        1        3  weapon       2100   \n",
       "\n",
       "   Requirement  Trait Combat Skill            ResourceId  Magic  \n",
       "10        None   None  dmg 1  None       hands-cmb-t1-m0   None  \n",
       "11        None   None  att 1  None        feet-cmb-t1-m0   None  \n",
       "12        None  end 1   None  None        back-end-t1-m0   None  \n",
       "13     Burglar  agi 1  dmg 1  None  weapon-agi-t1-m1-dmg  dmg 1  \n",
       "14     Burglar  agi 1  dmg 1  None  weapon-agi-t1-m1-def  def 1  "
      ]
     },
     "execution_count": 13,
     "metadata": {},
     "output_type": "execute_result"
    }
   ],
   "source": [
    "# expand magic item line into 1 item per enchantment\n",
    "\n",
    "fullItems = []\n",
    "rawItems = NT.DataframeToDicts(loadDf)\n",
    "\n",
    "for tm in rawItems:\n",
    "    \n",
    "    if tm['MagicLv'] == 0:\n",
    "        tm['ResourceId'] = GetResId(tm, None)\n",
    "        tm['Magic'] = None\n",
    "        res = tm.pop('Enchantments')\n",
    "        fullItems.append(tm)\n",
    "\n",
    "    else:\n",
    "        enchants = tm['Enchantments'].split(', ')\n",
    "        for ch in enchants:\n",
    "            copyTm = tm.copy()\n",
    "            copyTm['ResourceId'] = GetResId(tm, ch)\n",
    "            copyTm['Magic'] = ch\n",
    "            res = copyTm.pop('Enchantments')\n",
    "            fullItems.append(copyTm)\n",
    "\n",
    "PD.DataFrame(fullItems)[10:15]"
   ]
  },
  {
   "cell_type": "code",
   "execution_count": 14,
   "metadata": {},
   "outputs": [
    {
     "name": "stdout",
     "output_type": "stream",
     "text": [
      "table deleted\n",
      "bulk inserted\n",
      "records 201\n"
     ]
    },
    {
     "data": {
      "text/html": [
       "<div>\n",
       "<style scoped>\n",
       "    .dataframe tbody tr th:only-of-type {\n",
       "        vertical-align: middle;\n",
       "    }\n",
       "\n",
       "    .dataframe tbody tr th {\n",
       "        vertical-align: top;\n",
       "    }\n",
       "\n",
       "    .dataframe thead th {\n",
       "        text-align: right;\n",
       "    }\n",
       "</style>\n",
       "<table border=\"1\" class=\"dataframe\">\n",
       "  <thead>\n",
       "    <tr style=\"text-align: right;\">\n",
       "      <th></th>\n",
       "      <th>id</th>\n",
       "      <th>ResourceId</th>\n",
       "      <th>Name</th>\n",
       "      <th>Throne</th>\n",
       "      <th>Level</th>\n",
       "      <th>MagicLv</th>\n",
       "      <th>TotalLv</th>\n",
       "      <th>Slot</th>\n",
       "      <th>StoreCost</th>\n",
       "      <th>Requirement</th>\n",
       "      <th>Trait</th>\n",
       "      <th>Combat</th>\n",
       "      <th>Skill</th>\n",
       "      <th>Magic</th>\n",
       "    </tr>\n",
       "  </thead>\n",
       "  <tbody>\n",
       "    <tr>\n",
       "      <th>10</th>\n",
       "      <td>614</td>\n",
       "      <td>hands-cmb-t1-m0</td>\n",
       "      <td>Gauntlet</td>\n",
       "      <td>1</td>\n",
       "      <td>1</td>\n",
       "      <td>0</td>\n",
       "      <td>1</td>\n",
       "      <td>hands</td>\n",
       "      <td>600</td>\n",
       "      <td>None</td>\n",
       "      <td>None</td>\n",
       "      <td>dmg 1</td>\n",
       "      <td>None</td>\n",
       "      <td>None</td>\n",
       "    </tr>\n",
       "    <tr>\n",
       "      <th>11</th>\n",
       "      <td>615</td>\n",
       "      <td>feet-cmb-t1-m0</td>\n",
       "      <td>Greaves</td>\n",
       "      <td>1</td>\n",
       "      <td>1</td>\n",
       "      <td>0</td>\n",
       "      <td>1</td>\n",
       "      <td>feet</td>\n",
       "      <td>600</td>\n",
       "      <td>None</td>\n",
       "      <td>None</td>\n",
       "      <td>att 1</td>\n",
       "      <td>None</td>\n",
       "      <td>None</td>\n",
       "    </tr>\n",
       "    <tr>\n",
       "      <th>12</th>\n",
       "      <td>616</td>\n",
       "      <td>back-end-t1-m0</td>\n",
       "      <td>Cloak</td>\n",
       "      <td>1</td>\n",
       "      <td>1</td>\n",
       "      <td>0</td>\n",
       "      <td>1</td>\n",
       "      <td>back</td>\n",
       "      <td>600</td>\n",
       "      <td>None</td>\n",
       "      <td>end 1</td>\n",
       "      <td>None</td>\n",
       "      <td>None</td>\n",
       "      <td>None</td>\n",
       "    </tr>\n",
       "    <tr>\n",
       "      <th>13</th>\n",
       "      <td>617</td>\n",
       "      <td>weapon-agi-t1-m1-dmg</td>\n",
       "      <td>Twin Daggers</td>\n",
       "      <td>1</td>\n",
       "      <td>2</td>\n",
       "      <td>1</td>\n",
       "      <td>3</td>\n",
       "      <td>weapon</td>\n",
       "      <td>2100</td>\n",
       "      <td>Burglar</td>\n",
       "      <td>agi 1</td>\n",
       "      <td>dmg 1</td>\n",
       "      <td>None</td>\n",
       "      <td>dmg 1</td>\n",
       "    </tr>\n",
       "    <tr>\n",
       "      <th>14</th>\n",
       "      <td>618</td>\n",
       "      <td>weapon-agi-t1-m1-def</td>\n",
       "      <td>Twin Daggers</td>\n",
       "      <td>1</td>\n",
       "      <td>2</td>\n",
       "      <td>1</td>\n",
       "      <td>3</td>\n",
       "      <td>weapon</td>\n",
       "      <td>2100</td>\n",
       "      <td>Burglar</td>\n",
       "      <td>agi 1</td>\n",
       "      <td>dmg 1</td>\n",
       "      <td>None</td>\n",
       "      <td>def 1</td>\n",
       "    </tr>\n",
       "  </tbody>\n",
       "</table>\n",
       "</div>"
      ],
      "text/plain": [
       "     id            ResourceId          Name  Throne  Level  MagicLv  TotalLv  \\\n",
       "10  614       hands-cmb-t1-m0      Gauntlet       1      1        0        1   \n",
       "11  615        feet-cmb-t1-m0       Greaves       1      1        0        1   \n",
       "12  616        back-end-t1-m0         Cloak       1      1        0        1   \n",
       "13  617  weapon-agi-t1-m1-dmg  Twin Daggers       1      2        1        3   \n",
       "14  618  weapon-agi-t1-m1-def  Twin Daggers       1      2        1        3   \n",
       "\n",
       "      Slot  StoreCost Requirement  Trait Combat Skill  Magic  \n",
       "10   hands        600        None   None  dmg 1  None   None  \n",
       "11    feet        600        None   None  att 1  None   None  \n",
       "12    back        600        None  end 1   None  None   None  \n",
       "13  weapon       2100     Burglar  agi 1  dmg 1  None  dmg 1  \n",
       "14  weapon       2100     Burglar  agi 1  dmg 1  None  def 1  "
      ]
     },
     "execution_count": 14,
     "metadata": {},
     "output_type": "execute_result"
    }
   ],
   "source": [
    "DB.DeleteTable('emporium', 'UnlockableItem')\n",
    "\n",
    "DB.InsertBulk('emporium', 'UnlockableItem', fullItems)\n",
    "\n",
    "checkLs = DB.GetTableDictionary('emporium', 'UnlockableItem')\n",
    "print('records', len(checkLs))\n",
    "PD.DataFrame(checkLs)[10:15]"
   ]
  },
  {
   "cell_type": "code",
   "execution_count": 15,
   "metadata": {},
   "outputs": [],
   "source": [
    "#PD.DataFrame(checkLs)[50:75]"
   ]
  },
  {
   "cell_type": "markdown",
   "metadata": {},
   "source": [
    "### Thief Level"
   ]
  },
  {
   "cell_type": "code",
   "execution_count": 16,
   "metadata": {},
   "outputs": [
    {
     "data": {
      "text/plain": [
       "12"
      ]
     },
     "execution_count": 16,
     "metadata": {},
     "output_type": "execute_result"
    }
   ],
   "source": [
    "loadDf = XS.ReadSheet(inputPath, 'ThiefLevel')\n",
    "loadDf = loadDf.dropna(subset=['Level'])\n",
    "loadDf = loadDf.reset_index().drop(['index'], axis=1, errors='ignore')\n",
    "loadDf = loadDf.drop('RawPower', axis=1, errors='ignore')\n",
    "loadDf.shape[0]"
   ]
  },
  {
   "cell_type": "code",
   "execution_count": 17,
   "metadata": {},
   "outputs": [
    {
     "name": "stdout",
     "output_type": "stream",
     "text": [
      "table deleted\n",
      "bulk inserted\n",
      "records 12\n"
     ]
    },
    {
     "data": {
      "text/html": [
       "<div>\n",
       "<style scoped>\n",
       "    .dataframe tbody tr th:only-of-type {\n",
       "        vertical-align: middle;\n",
       "    }\n",
       "\n",
       "    .dataframe tbody tr th {\n",
       "        vertical-align: top;\n",
       "    }\n",
       "\n",
       "    .dataframe thead th {\n",
       "        text-align: right;\n",
       "    }\n",
       "</style>\n",
       "<table border=\"1\" class=\"dataframe\">\n",
       "  <thead>\n",
       "    <tr style=\"text-align: right;\">\n",
       "      <th></th>\n",
       "      <th>id</th>\n",
       "      <th>Level</th>\n",
       "      <th>Experience</th>\n",
       "      <th>Power</th>\n",
       "      <th>TrainPeriod</th>\n",
       "      <th>WoundPeriod</th>\n",
       "      <th>KnockedOutPeriod</th>\n",
       "    </tr>\n",
       "  </thead>\n",
       "  <tbody>\n",
       "    <tr>\n",
       "      <th>3</th>\n",
       "      <td>40</td>\n",
       "      <td>4</td>\n",
       "      <td>1200</td>\n",
       "      <td>50</td>\n",
       "      <td>1 hr</td>\n",
       "      <td>6 min</td>\n",
       "      <td>30 min</td>\n",
       "    </tr>\n",
       "    <tr>\n",
       "      <th>4</th>\n",
       "      <td>41</td>\n",
       "      <td>5</td>\n",
       "      <td>2000</td>\n",
       "      <td>72</td>\n",
       "      <td>2 hr</td>\n",
       "      <td>10 min</td>\n",
       "      <td>1 hr</td>\n",
       "    </tr>\n",
       "    <tr>\n",
       "      <th>5</th>\n",
       "      <td>42</td>\n",
       "      <td>6</td>\n",
       "      <td>3000</td>\n",
       "      <td>96</td>\n",
       "      <td>4 hr</td>\n",
       "      <td>30 min</td>\n",
       "      <td>2 hr</td>\n",
       "    </tr>\n",
       "    <tr>\n",
       "      <th>6</th>\n",
       "      <td>43</td>\n",
       "      <td>7</td>\n",
       "      <td>4200</td>\n",
       "      <td>122</td>\n",
       "      <td>8 hr</td>\n",
       "      <td>1 hr</td>\n",
       "      <td>4 hr</td>\n",
       "    </tr>\n",
       "  </tbody>\n",
       "</table>\n",
       "</div>"
      ],
      "text/plain": [
       "   id  Level  Experience  Power TrainPeriod WoundPeriod KnockedOutPeriod\n",
       "3  40      4        1200     50        1 hr       6 min           30 min\n",
       "4  41      5        2000     72        2 hr      10 min             1 hr\n",
       "5  42      6        3000     96        4 hr      30 min             2 hr\n",
       "6  43      7        4200    122        8 hr        1 hr             4 hr"
      ]
     },
     "execution_count": 17,
     "metadata": {},
     "output_type": "execute_result"
    }
   ],
   "source": [
    "DB.DeleteTable('emporium', 'ThiefLevel')\n",
    "\n",
    "loadLs = NT.DataframeToDicts(loadDf)\n",
    "DB.InsertBulk('emporium', 'ThiefLevel', loadLs)\n",
    "\n",
    "checkLs = DB.GetTableDictionary('emporium', 'ThiefLevel')\n",
    "print('records', len(checkLs))\n",
    "PD.DataFrame(checkLs)[3:7]"
   ]
  },
  {
   "cell_type": "markdown",
   "metadata": {},
   "source": [
    "### Castle Room"
   ]
  },
  {
   "cell_type": "code",
   "execution_count": 18,
   "metadata": {
    "scrolled": true
   },
   "outputs": [
    {
     "data": {
      "text/plain": [
       "13"
      ]
     },
     "execution_count": 18,
     "metadata": {},
     "output_type": "execute_result"
    }
   ],
   "source": [
    "loadDf = XS.ReadSheet(inputPath, 'CastleRoom')\n",
    "loadDf = loadDf.dropna(subset=['Name'])\n",
    "loadDf = loadDf.reset_index().drop(['index'], axis=1, errors='ignore')\n",
    "loadDf.shape[0]"
   ]
  },
  {
   "cell_type": "code",
   "execution_count": 19,
   "metadata": {},
   "outputs": [
    {
     "name": "stdout",
     "output_type": "stream",
     "text": [
      "table deleted\n",
      "bulk inserted\n",
      "records 13\n"
     ]
    },
    {
     "data": {
      "text/html": [
       "<div>\n",
       "<style scoped>\n",
       "    .dataframe tbody tr th:only-of-type {\n",
       "        vertical-align: middle;\n",
       "    }\n",
       "\n",
       "    .dataframe tbody tr th {\n",
       "        vertical-align: top;\n",
       "    }\n",
       "\n",
       "    .dataframe thead th {\n",
       "        text-align: right;\n",
       "    }\n",
       "</style>\n",
       "<table border=\"1\" class=\"dataframe\">\n",
       "  <thead>\n",
       "    <tr style=\"text-align: right;\">\n",
       "      <th></th>\n",
       "      <th>id</th>\n",
       "      <th>Name</th>\n",
       "      <th>UnlockThrone</th>\n",
       "      <th>AllowedPlacement</th>\n",
       "      <th>Description</th>\n",
       "    </tr>\n",
       "  </thead>\n",
       "  <tbody>\n",
       "    <tr>\n",
       "      <th>3</th>\n",
       "      <td>43</td>\n",
       "      <td>Bank</td>\n",
       "      <td>1</td>\n",
       "      <td>R, L</td>\n",
       "      <td>Increases the max storage amount for gold.</td>\n",
       "    </tr>\n",
       "    <tr>\n",
       "      <th>4</th>\n",
       "      <td>44</td>\n",
       "      <td>Warehouse</td>\n",
       "      <td>1</td>\n",
       "      <td>R, L</td>\n",
       "      <td>Increases the max storage amount for wood, sto...</td>\n",
       "    </tr>\n",
       "    <tr>\n",
       "      <th>5</th>\n",
       "      <td>45</td>\n",
       "      <td>Scholarium</td>\n",
       "      <td>1</td>\n",
       "      <td>R, L</td>\n",
       "      <td>Train thieves here to upgrade their level.</td>\n",
       "    </tr>\n",
       "    <tr>\n",
       "      <th>6</th>\n",
       "      <td>46</td>\n",
       "      <td>Dormitory</td>\n",
       "      <td>2</td>\n",
       "      <td>R, L</td>\n",
       "      <td>Increases the number of thieves allowed in the...</td>\n",
       "    </tr>\n",
       "  </tbody>\n",
       "</table>\n",
       "</div>"
      ],
      "text/plain": [
       "   id        Name  UnlockThrone AllowedPlacement  \\\n",
       "3  43        Bank             1             R, L   \n",
       "4  44   Warehouse             1             R, L   \n",
       "5  45  Scholarium             1             R, L   \n",
       "6  46   Dormitory             2             R, L   \n",
       "\n",
       "                                         Description  \n",
       "3         Increases the max storage amount for gold.  \n",
       "4  Increases the max storage amount for wood, sto...  \n",
       "5         Train thieves here to upgrade their level.  \n",
       "6  Increases the number of thieves allowed in the...  "
      ]
     },
     "execution_count": 19,
     "metadata": {},
     "output_type": "execute_result"
    }
   ],
   "source": [
    "DB.DeleteTable('emporium', 'CastleRoom')\n",
    "\n",
    "loadLs = NT.DataframeToDicts(loadDf)\n",
    "DB.InsertBulk('emporium', 'CastleRoom', loadLs)\n",
    "\n",
    "checkLs = DB.GetTableDictionary('emporium', 'CastleRoom')\n",
    "print('records', len(checkLs))\n",
    "PD.DataFrame(checkLs)[3:7]"
   ]
  },
  {
   "cell_type": "markdown",
   "metadata": {},
   "source": [
    "### Room Upgrade"
   ]
  },
  {
   "cell_type": "code",
   "execution_count": 20,
   "metadata": {
    "scrolled": true
   },
   "outputs": [
    {
     "data": {
      "text/plain": [
       "9"
      ]
     },
     "execution_count": 20,
     "metadata": {},
     "output_type": "execute_result"
    }
   ],
   "source": [
    "loadDf = XS.ReadSheet(inputPath, 'RoomUpgrade')\n",
    "loadDf = loadDf.dropna(subset=['Level'])\n",
    "loadDf = loadDf.reset_index().drop(['index'], axis=1, errors='ignore')\n",
    "loadDf.shape[0]"
   ]
  },
  {
   "cell_type": "code",
   "execution_count": 21,
   "metadata": {},
   "outputs": [
    {
     "name": "stdout",
     "output_type": "stream",
     "text": [
      "table deleted\n",
      "bulk inserted\n",
      "records 9\n"
     ]
    },
    {
     "data": {
      "text/html": [
       "<div>\n",
       "<style scoped>\n",
       "    .dataframe tbody tr th:only-of-type {\n",
       "        vertical-align: middle;\n",
       "    }\n",
       "\n",
       "    .dataframe tbody tr th {\n",
       "        vertical-align: top;\n",
       "    }\n",
       "\n",
       "    .dataframe thead th {\n",
       "        text-align: right;\n",
       "    }\n",
       "</style>\n",
       "<table border=\"1\" class=\"dataframe\">\n",
       "  <thead>\n",
       "    <tr style=\"text-align: right;\">\n",
       "      <th></th>\n",
       "      <th>id</th>\n",
       "      <th>Level</th>\n",
       "      <th>Stone_Basic</th>\n",
       "      <th>Stone_Advan</th>\n",
       "      <th>Stone_Throne</th>\n",
       "      <th>Period_Basic</th>\n",
       "      <th>Period_Advan</th>\n",
       "      <th>Period_Throne</th>\n",
       "    </tr>\n",
       "  </thead>\n",
       "  <tbody>\n",
       "    <tr>\n",
       "      <th>3</th>\n",
       "      <td>31</td>\n",
       "      <td>4</td>\n",
       "      <td>2000</td>\n",
       "      <td>2100</td>\n",
       "      <td>2400</td>\n",
       "      <td>12 hr</td>\n",
       "      <td>1 day</td>\n",
       "      <td>2 days</td>\n",
       "    </tr>\n",
       "    <tr>\n",
       "      <th>4</th>\n",
       "      <td>32</td>\n",
       "      <td>5</td>\n",
       "      <td>2700</td>\n",
       "      <td>2900</td>\n",
       "      <td>3100</td>\n",
       "      <td>1 day</td>\n",
       "      <td>2 days</td>\n",
       "      <td>3 days</td>\n",
       "    </tr>\n",
       "    <tr>\n",
       "      <th>5</th>\n",
       "      <td>33</td>\n",
       "      <td>6</td>\n",
       "      <td>3500</td>\n",
       "      <td>3700</td>\n",
       "      <td>4000</td>\n",
       "      <td>2 days</td>\n",
       "      <td>3 days</td>\n",
       "      <td>4 days</td>\n",
       "    </tr>\n",
       "    <tr>\n",
       "      <th>6</th>\n",
       "      <td>34</td>\n",
       "      <td>7</td>\n",
       "      <td>4400</td>\n",
       "      <td>4600</td>\n",
       "      <td>4900</td>\n",
       "      <td>3 days</td>\n",
       "      <td>4 days</td>\n",
       "      <td>5 days</td>\n",
       "    </tr>\n",
       "  </tbody>\n",
       "</table>\n",
       "</div>"
      ],
      "text/plain": [
       "   id  Level  Stone_Basic  Stone_Advan  Stone_Throne Period_Basic  \\\n",
       "3  31      4         2000         2100          2400        12 hr   \n",
       "4  32      5         2700         2900          3100        1 day   \n",
       "5  33      6         3500         3700          4000       2 days   \n",
       "6  34      7         4400         4600          4900       3 days   \n",
       "\n",
       "  Period_Advan Period_Throne  \n",
       "3        1 day        2 days  \n",
       "4       2 days        3 days  \n",
       "5       3 days        4 days  \n",
       "6       4 days        5 days  "
      ]
     },
     "execution_count": 21,
     "metadata": {},
     "output_type": "execute_result"
    }
   ],
   "source": [
    "DB.DeleteTable('emporium', 'RoomUpgrade')\n",
    "\n",
    "loadLs = NT.DataframeToDicts(loadDf)\n",
    "DB.InsertBulk('emporium', 'RoomUpgrade', loadLs)\n",
    "\n",
    "checkLs = DB.GetTableDictionary('emporium', 'RoomUpgrade')\n",
    "print('records', len(checkLs))\n",
    "PD.DataFrame(checkLs)[3:7]"
   ]
  },
  {
   "cell_type": "markdown",
   "metadata": {},
   "source": [
    "### Throne Room"
   ]
  },
  {
   "cell_type": "code",
   "execution_count": 22,
   "metadata": {},
   "outputs": [
    {
     "data": {
      "text/plain": [
       "9"
      ]
     },
     "execution_count": 22,
     "metadata": {},
     "output_type": "execute_result"
    }
   ],
   "source": [
    "loadDf = XS.ReadSheet(inputPath, 'ThroneRoom')\n",
    "loadDf = loadDf.dropna(subset=['Level'])\n",
    "loadDf = loadDf.reset_index().drop(['index'], axis=1, errors='ignore')\n",
    "loadDf.shape[0]"
   ]
  },
  {
   "cell_type": "code",
   "execution_count": 23,
   "metadata": {},
   "outputs": [
    {
     "name": "stdout",
     "output_type": "stream",
     "text": [
      "table deleted\n",
      "bulk inserted\n",
      "records 9\n"
     ]
    },
    {
     "data": {
      "text/html": [
       "<div>\n",
       "<style scoped>\n",
       "    .dataframe tbody tr th:only-of-type {\n",
       "        vertical-align: middle;\n",
       "    }\n",
       "\n",
       "    .dataframe tbody tr th {\n",
       "        vertical-align: top;\n",
       "    }\n",
       "\n",
       "    .dataframe thead th {\n",
       "        text-align: right;\n",
       "    }\n",
       "</style>\n",
       "<table border=\"1\" class=\"dataframe\">\n",
       "  <thead>\n",
       "    <tr style=\"text-align: right;\">\n",
       "      <th></th>\n",
       "      <th>id</th>\n",
       "      <th>Level</th>\n",
       "      <th>MaxRoomCount</th>\n",
       "      <th>MaxRoomLevel</th>\n",
       "      <th>MaxThieves</th>\n",
       "      <th>Throne_Gold</th>\n",
       "      <th>Throne_Stone</th>\n",
       "      <th>MagicSlots</th>\n",
       "    </tr>\n",
       "  </thead>\n",
       "  <tbody>\n",
       "    <tr>\n",
       "      <th>3</th>\n",
       "      <td>31</td>\n",
       "      <td>4</td>\n",
       "      <td>8</td>\n",
       "      <td>4</td>\n",
       "      <td>9</td>\n",
       "      <td>2200</td>\n",
       "      <td>1100</td>\n",
       "      <td>1</td>\n",
       "    </tr>\n",
       "    <tr>\n",
       "      <th>4</th>\n",
       "      <td>32</td>\n",
       "      <td>5</td>\n",
       "      <td>9</td>\n",
       "      <td>5</td>\n",
       "      <td>10</td>\n",
       "      <td>2600</td>\n",
       "      <td>1400</td>\n",
       "      <td>2</td>\n",
       "    </tr>\n",
       "    <tr>\n",
       "      <th>5</th>\n",
       "      <td>33</td>\n",
       "      <td>6</td>\n",
       "      <td>10</td>\n",
       "      <td>6</td>\n",
       "      <td>11</td>\n",
       "      <td>3000</td>\n",
       "      <td>1700</td>\n",
       "      <td>2</td>\n",
       "    </tr>\n",
       "    <tr>\n",
       "      <th>6</th>\n",
       "      <td>34</td>\n",
       "      <td>7</td>\n",
       "      <td>10</td>\n",
       "      <td>7</td>\n",
       "      <td>12</td>\n",
       "      <td>3400</td>\n",
       "      <td>2000</td>\n",
       "      <td>3</td>\n",
       "    </tr>\n",
       "  </tbody>\n",
       "</table>\n",
       "</div>"
      ],
      "text/plain": [
       "   id  Level  MaxRoomCount  MaxRoomLevel  MaxThieves  Throne_Gold  \\\n",
       "3  31      4             8             4           9         2200   \n",
       "4  32      5             9             5          10         2600   \n",
       "5  33      6            10             6          11         3000   \n",
       "6  34      7            10             7          12         3400   \n",
       "\n",
       "   Throne_Stone  MagicSlots  \n",
       "3          1100           1  \n",
       "4          1400           2  \n",
       "5          1700           2  \n",
       "6          2000           3  "
      ]
     },
     "execution_count": 23,
     "metadata": {},
     "output_type": "execute_result"
    }
   ],
   "source": [
    "DB.DeleteTable('emporium', 'ThroneRoom')\n",
    "\n",
    "loadLs = NT.DataframeToDicts(loadDf)\n",
    "DB.InsertBulk('emporium', 'ThroneRoom', loadLs)\n",
    "\n",
    "checkLs = DB.GetTableDictionary('emporium', 'ThroneRoom')\n",
    "print('records', len(checkLs))\n",
    "PD.DataFrame(checkLs)[3:7]"
   ]
  },
  {
   "cell_type": "markdown",
   "metadata": {},
   "source": [
    "### Basic Room"
   ]
  },
  {
   "cell_type": "code",
   "execution_count": 24,
   "metadata": {},
   "outputs": [
    {
     "data": {
      "text/plain": [
       "9"
      ]
     },
     "execution_count": 24,
     "metadata": {},
     "output_type": "execute_result"
    }
   ],
   "source": [
    "loadDf = XS.ReadSheet(inputPath, 'BasicRoom')\n",
    "loadDf = loadDf.dropna(subset=['Level'])\n",
    "loadDf = loadDf.reset_index().drop(['index'], axis=1, errors='ignore')\n",
    "loadDf.shape[0]"
   ]
  },
  {
   "cell_type": "code",
   "execution_count": 25,
   "metadata": {},
   "outputs": [
    {
     "name": "stdout",
     "output_type": "stream",
     "text": [
      "table deleted\n",
      "bulk inserted\n",
      "records 9\n"
     ]
    },
    {
     "data": {
      "text/html": [
       "<div>\n",
       "<style scoped>\n",
       "    .dataframe tbody tr th:only-of-type {\n",
       "        vertical-align: middle;\n",
       "    }\n",
       "\n",
       "    .dataframe tbody tr th {\n",
       "        vertical-align: top;\n",
       "    }\n",
       "\n",
       "    .dataframe thead th {\n",
       "        text-align: right;\n",
       "    }\n",
       "</style>\n",
       "<table border=\"1\" class=\"dataframe\">\n",
       "  <thead>\n",
       "    <tr style=\"text-align: right;\">\n",
       "      <th></th>\n",
       "      <th>id</th>\n",
       "      <th>Level</th>\n",
       "      <th>Keep_Defenders</th>\n",
       "      <th>Keep_Traps</th>\n",
       "      <th>Bank_Gold</th>\n",
       "      <th>Warehouse_Stone</th>\n",
       "      <th>Scholarium_MaxLevel</th>\n",
       "      <th>Dorm_MaxThieves</th>\n",
       "      <th>Dorm_Recovery</th>\n",
       "      <th>Cartog_Slots</th>\n",
       "      <th>Cartog_Recovery</th>\n",
       "    </tr>\n",
       "  </thead>\n",
       "  <tbody>\n",
       "    <tr>\n",
       "      <th>3</th>\n",
       "      <td>31</td>\n",
       "      <td>4</td>\n",
       "      <td>1</td>\n",
       "      <td>2</td>\n",
       "      <td>5200</td>\n",
       "      <td>1400</td>\n",
       "      <td>7</td>\n",
       "      <td>2</td>\n",
       "      <td>20 min</td>\n",
       "      <td>1</td>\n",
       "      <td>10 min</td>\n",
       "    </tr>\n",
       "    <tr>\n",
       "      <th>4</th>\n",
       "      <td>32</td>\n",
       "      <td>5</td>\n",
       "      <td>2</td>\n",
       "      <td>2</td>\n",
       "      <td>6300</td>\n",
       "      <td>1900</td>\n",
       "      <td>8</td>\n",
       "      <td>3</td>\n",
       "      <td>40 min</td>\n",
       "      <td>2</td>\n",
       "      <td>20 min</td>\n",
       "    </tr>\n",
       "    <tr>\n",
       "      <th>5</th>\n",
       "      <td>33</td>\n",
       "      <td>6</td>\n",
       "      <td>2</td>\n",
       "      <td>3</td>\n",
       "      <td>8500</td>\n",
       "      <td>2500</td>\n",
       "      <td>9</td>\n",
       "      <td>3</td>\n",
       "      <td>1 hr</td>\n",
       "      <td>2</td>\n",
       "      <td>30 min</td>\n",
       "    </tr>\n",
       "    <tr>\n",
       "      <th>6</th>\n",
       "      <td>34</td>\n",
       "      <td>7</td>\n",
       "      <td>3</td>\n",
       "      <td>3</td>\n",
       "      <td>10800</td>\n",
       "      <td>3200</td>\n",
       "      <td>10</td>\n",
       "      <td>4</td>\n",
       "      <td>2 hr</td>\n",
       "      <td>2</td>\n",
       "      <td>1 hr</td>\n",
       "    </tr>\n",
       "  </tbody>\n",
       "</table>\n",
       "</div>"
      ],
      "text/plain": [
       "   id  Level  Keep_Defenders  Keep_Traps  Bank_Gold  Warehouse_Stone  \\\n",
       "3  31      4               1           2       5200             1400   \n",
       "4  32      5               2           2       6300             1900   \n",
       "5  33      6               2           3       8500             2500   \n",
       "6  34      7               3           3      10800             3200   \n",
       "\n",
       "   Scholarium_MaxLevel  Dorm_MaxThieves Dorm_Recovery  Cartog_Slots  \\\n",
       "3                    7                2        20 min             1   \n",
       "4                    8                3        40 min             2   \n",
       "5                    9                3          1 hr             2   \n",
       "6                   10                4          2 hr             2   \n",
       "\n",
       "  Cartog_Recovery  \n",
       "3          10 min  \n",
       "4          20 min  \n",
       "5          30 min  \n",
       "6            1 hr  "
      ]
     },
     "execution_count": 25,
     "metadata": {},
     "output_type": "execute_result"
    }
   ],
   "source": [
    "DB.DeleteTable('emporium', 'BasicRoom')\n",
    "\n",
    "loadLs = NT.DataframeToDicts(loadDf)\n",
    "DB.InsertBulk('emporium', 'BasicRoom', loadLs)\n",
    "\n",
    "checkLs = DB.GetTableDictionary('emporium', 'BasicRoom')\n",
    "print('records', len(checkLs))\n",
    "PD.DataFrame(checkLs)[3:7]"
   ]
  },
  {
   "cell_type": "markdown",
   "metadata": {},
   "source": [
    "### Advanced Room"
   ]
  },
  {
   "cell_type": "code",
   "execution_count": 26,
   "metadata": {},
   "outputs": [
    {
     "data": {
      "text/plain": [
       "9"
      ]
     },
     "execution_count": 26,
     "metadata": {},
     "output_type": "execute_result"
    }
   ],
   "source": [
    "loadDf = XS.ReadSheet(inputPath, 'AdvancedRoom')\n",
    "loadDf = loadDf.dropna(subset=['Level'])\n",
    "loadDf = loadDf.reset_index().drop(['index'], axis=1, errors='ignore')\n",
    "loadDf.shape[0]"
   ]
  },
  {
   "cell_type": "code",
   "execution_count": 27,
   "metadata": {},
   "outputs": [
    {
     "name": "stdout",
     "output_type": "stream",
     "text": [
      "table deleted\n",
      "bulk inserted\n",
      "records 9\n"
     ]
    },
    {
     "data": {
      "text/html": [
       "<div>\n",
       "<style scoped>\n",
       "    .dataframe tbody tr th:only-of-type {\n",
       "        vertical-align: middle;\n",
       "    }\n",
       "\n",
       "    .dataframe tbody tr th {\n",
       "        vertical-align: top;\n",
       "    }\n",
       "\n",
       "    .dataframe thead th {\n",
       "        text-align: right;\n",
       "    }\n",
       "</style>\n",
       "<table border=\"1\" class=\"dataframe\">\n",
       "  <thead>\n",
       "    <tr style=\"text-align: right;\">\n",
       "      <th></th>\n",
       "      <th>id</th>\n",
       "      <th>Level</th>\n",
       "      <th>Fence_GoldBonus</th>\n",
       "      <th>Fence_MagicSlots</th>\n",
       "      <th>Workshop_StoneBonus</th>\n",
       "      <th>Workshop_Defense</th>\n",
       "      <th>Jeweler_GemBonus</th>\n",
       "      <th>Jeweler_ExpedSlots</th>\n",
       "      <th>Blacksmith_Period</th>\n",
       "      <th>Artisan_Cost</th>\n",
       "      <th>Artisan_Period</th>\n",
       "    </tr>\n",
       "  </thead>\n",
       "  <tbody>\n",
       "    <tr>\n",
       "      <th>3</th>\n",
       "      <td>31</td>\n",
       "      <td>4</td>\n",
       "      <td>10</td>\n",
       "      <td>2</td>\n",
       "      <td>10</td>\n",
       "      <td>thief +1</td>\n",
       "      <td>2</td>\n",
       "      <td>1</td>\n",
       "      <td>16 hr</td>\n",
       "      <td>1100</td>\n",
       "      <td>12 hr</td>\n",
       "    </tr>\n",
       "    <tr>\n",
       "      <th>4</th>\n",
       "      <td>32</td>\n",
       "      <td>5</td>\n",
       "      <td>12</td>\n",
       "      <td>2</td>\n",
       "      <td>12</td>\n",
       "      <td>None</td>\n",
       "      <td>2</td>\n",
       "      <td>1</td>\n",
       "      <td>20 hr</td>\n",
       "      <td>1200</td>\n",
       "      <td>16 hr</td>\n",
       "    </tr>\n",
       "    <tr>\n",
       "      <th>5</th>\n",
       "      <td>33</td>\n",
       "      <td>6</td>\n",
       "      <td>14</td>\n",
       "      <td>3</td>\n",
       "      <td>14</td>\n",
       "      <td>trap +2</td>\n",
       "      <td>2</td>\n",
       "      <td>1</td>\n",
       "      <td>1 day</td>\n",
       "      <td>1300</td>\n",
       "      <td>20 hr</td>\n",
       "    </tr>\n",
       "    <tr>\n",
       "      <th>6</th>\n",
       "      <td>34</td>\n",
       "      <td>7</td>\n",
       "      <td>16</td>\n",
       "      <td>3</td>\n",
       "      <td>16</td>\n",
       "      <td>None</td>\n",
       "      <td>3</td>\n",
       "      <td>2</td>\n",
       "      <td>2 days</td>\n",
       "      <td>1400</td>\n",
       "      <td>1 day</td>\n",
       "    </tr>\n",
       "  </tbody>\n",
       "</table>\n",
       "</div>"
      ],
      "text/plain": [
       "   id  Level  Fence_GoldBonus  Fence_MagicSlots  Workshop_StoneBonus  \\\n",
       "3  31      4               10                 2                   10   \n",
       "4  32      5               12                 2                   12   \n",
       "5  33      6               14                 3                   14   \n",
       "6  34      7               16                 3                   16   \n",
       "\n",
       "  Workshop_Defense  Jeweler_GemBonus  Jeweler_ExpedSlots Blacksmith_Period  \\\n",
       "3         thief +1                 2                   1             16 hr   \n",
       "4             None                 2                   1             20 hr   \n",
       "5          trap +2                 2                   1             1 day   \n",
       "6             None                 3                   2            2 days   \n",
       "\n",
       "   Artisan_Cost Artisan_Period  \n",
       "3          1100          12 hr  \n",
       "4          1200          16 hr  \n",
       "5          1300          20 hr  \n",
       "6          1400          1 day  "
      ]
     },
     "execution_count": 27,
     "metadata": {},
     "output_type": "execute_result"
    }
   ],
   "source": [
    "DB.DeleteTable('emporium', 'AdvancedRoom')\n",
    "\n",
    "loadLs = NT.DataframeToDicts(loadDf)\n",
    "DB.InsertBulk('emporium', 'AdvancedRoom', loadLs)\n",
    "\n",
    "checkLs = DB.GetTableDictionary('emporium', 'AdvancedRoom')\n",
    "print('records', len(checkLs))\n",
    "PD.DataFrame(checkLs)[3:7]"
   ]
  },
  {
   "cell_type": "code",
   "execution_count": 28,
   "metadata": {},
   "outputs": [
    {
     "data": {
      "text/html": [
       "<div>\n",
       "<style scoped>\n",
       "    .dataframe tbody tr th:only-of-type {\n",
       "        vertical-align: middle;\n",
       "    }\n",
       "\n",
       "    .dataframe tbody tr th {\n",
       "        vertical-align: top;\n",
       "    }\n",
       "\n",
       "    .dataframe thead th {\n",
       "        text-align: right;\n",
       "    }\n",
       "</style>\n",
       "<table border=\"1\" class=\"dataframe\">\n",
       "  <thead>\n",
       "    <tr style=\"text-align: right;\">\n",
       "      <th></th>\n",
       "      <th>Module</th>\n",
       "      <th>Table</th>\n",
       "      <th>Count</th>\n",
       "    </tr>\n",
       "  </thead>\n",
       "  <tbody>\n",
       "    <tr>\n",
       "      <th>0</th>\n",
       "      <td>members</td>\n",
       "      <td>User</td>\n",
       "      <td>1</td>\n",
       "    </tr>\n",
       "    <tr>\n",
       "      <th>1</th>\n",
       "      <td>emporium</td>\n",
       "      <td>UnlockableThief</td>\n",
       "      <td>12</td>\n",
       "    </tr>\n",
       "    <tr>\n",
       "      <th>2</th>\n",
       "      <td>emporium</td>\n",
       "      <td>UnlockableItem</td>\n",
       "      <td>201</td>\n",
       "    </tr>\n",
       "    <tr>\n",
       "      <th>3</th>\n",
       "      <td>emporium</td>\n",
       "      <td>ThiefLevel</td>\n",
       "      <td>12</td>\n",
       "    </tr>\n",
       "    <tr>\n",
       "      <th>4</th>\n",
       "      <td>emporium</td>\n",
       "      <td>CastleRoom</td>\n",
       "      <td>13</td>\n",
       "    </tr>\n",
       "    <tr>\n",
       "      <th>5</th>\n",
       "      <td>emporium</td>\n",
       "      <td>RoomUpgrade</td>\n",
       "      <td>9</td>\n",
       "    </tr>\n",
       "    <tr>\n",
       "      <th>6</th>\n",
       "      <td>emporium</td>\n",
       "      <td>ThroneRoom</td>\n",
       "      <td>9</td>\n",
       "    </tr>\n",
       "    <tr>\n",
       "      <th>7</th>\n",
       "      <td>emporium</td>\n",
       "      <td>BasicRoom</td>\n",
       "      <td>9</td>\n",
       "    </tr>\n",
       "    <tr>\n",
       "      <th>8</th>\n",
       "      <td>emporium</td>\n",
       "      <td>AdvancedRoom</td>\n",
       "      <td>9</td>\n",
       "    </tr>\n",
       "    <tr>\n",
       "      <th>9</th>\n",
       "      <td>emporium</td>\n",
       "      <td>Trap</td>\n",
       "      <td>72</td>\n",
       "    </tr>\n",
       "    <tr>\n",
       "      <th>10</th>\n",
       "      <td>emporium</td>\n",
       "      <td>Enemy</td>\n",
       "      <td>18</td>\n",
       "    </tr>\n",
       "    <tr>\n",
       "      <th>11</th>\n",
       "      <td>emporium</td>\n",
       "      <td>GothicTower</td>\n",
       "      <td>36</td>\n",
       "    </tr>\n",
       "    <tr>\n",
       "      <th>12</th>\n",
       "      <td>emporium</td>\n",
       "      <td>LeagueTrial</td>\n",
       "      <td>18</td>\n",
       "    </tr>\n",
       "    <tr>\n",
       "      <th>13</th>\n",
       "      <td>emporium</td>\n",
       "      <td>Dungeon</td>\n",
       "      <td>6</td>\n",
       "    </tr>\n",
       "    <tr>\n",
       "      <th>14</th>\n",
       "      <td>emporium</td>\n",
       "      <td>Campaign</td>\n",
       "      <td>41</td>\n",
       "    </tr>\n",
       "    <tr>\n",
       "      <th>15</th>\n",
       "      <td>emporium</td>\n",
       "      <td>TrialDay</td>\n",
       "      <td>7</td>\n",
       "    </tr>\n",
       "    <tr>\n",
       "      <th>16</th>\n",
       "      <td>emporium</td>\n",
       "      <td>ExpeditionLevel</td>\n",
       "      <td>6</td>\n",
       "    </tr>\n",
       "    <tr>\n",
       "      <th>17</th>\n",
       "      <td>emporium</td>\n",
       "      <td>ExpeditionType</td>\n",
       "      <td>8</td>\n",
       "    </tr>\n",
       "    <tr>\n",
       "      <th>18</th>\n",
       "      <td>engine</td>\n",
       "      <td>Guild</td>\n",
       "      <td>1</td>\n",
       "    </tr>\n",
       "    <tr>\n",
       "      <th>19</th>\n",
       "      <td>engine</td>\n",
       "      <td>ThiefInGuild</td>\n",
       "      <td>6</td>\n",
       "    </tr>\n",
       "    <tr>\n",
       "      <th>20</th>\n",
       "      <td>engine</td>\n",
       "      <td>ItemInGuild</td>\n",
       "      <td>18</td>\n",
       "    </tr>\n",
       "    <tr>\n",
       "      <th>21</th>\n",
       "      <td>engine</td>\n",
       "      <td>RoomInGuild</td>\n",
       "      <td>0</td>\n",
       "    </tr>\n",
       "    <tr>\n",
       "      <th>22</th>\n",
       "      <td>engine</td>\n",
       "      <td>ThiefUnlocked</td>\n",
       "      <td>0</td>\n",
       "    </tr>\n",
       "    <tr>\n",
       "      <th>23</th>\n",
       "      <td>engine</td>\n",
       "      <td>ItemUnlocked</td>\n",
       "      <td>0</td>\n",
       "    </tr>\n",
       "    <tr>\n",
       "      <th>24</th>\n",
       "      <td>engine</td>\n",
       "      <td>GuildStage</td>\n",
       "      <td>25</td>\n",
       "    </tr>\n",
       "    <tr>\n",
       "      <th>25</th>\n",
       "      <td>engine</td>\n",
       "      <td>GuildExpedition</td>\n",
       "      <td>3</td>\n",
       "    </tr>\n",
       "    <tr>\n",
       "      <th>26</th>\n",
       "      <td>engine</td>\n",
       "      <td>MarketStore</td>\n",
       "      <td>13</td>\n",
       "    </tr>\n",
       "  </tbody>\n",
       "</table>\n",
       "</div>"
      ],
      "text/plain": [
       "      Module            Table  Count\n",
       "0    members             User      1\n",
       "1   emporium  UnlockableThief     12\n",
       "2   emporium   UnlockableItem    201\n",
       "3   emporium       ThiefLevel     12\n",
       "4   emporium       CastleRoom     13\n",
       "5   emporium      RoomUpgrade      9\n",
       "6   emporium       ThroneRoom      9\n",
       "7   emporium        BasicRoom      9\n",
       "8   emporium     AdvancedRoom      9\n",
       "9   emporium             Trap     72\n",
       "10  emporium            Enemy     18\n",
       "11  emporium      GothicTower     36\n",
       "12  emporium      LeagueTrial     18\n",
       "13  emporium          Dungeon      6\n",
       "14  emporium         Campaign     41\n",
       "15  emporium         TrialDay      7\n",
       "16  emporium  ExpeditionLevel      6\n",
       "17  emporium   ExpeditionType      8\n",
       "18    engine            Guild      1\n",
       "19    engine     ThiefInGuild      6\n",
       "20    engine      ItemInGuild     18\n",
       "21    engine      RoomInGuild      0\n",
       "22    engine    ThiefUnlocked      0\n",
       "23    engine     ItemUnlocked      0\n",
       "24    engine       GuildStage     25\n",
       "25    engine  GuildExpedition      3\n",
       "26    engine      MarketStore     13"
      ]
     },
     "execution_count": 28,
     "metadata": {},
     "output_type": "execute_result"
    }
   ],
   "source": [
    "# check end results \n",
    "\n",
    "infoLs = DB.GetTableCounts()\n",
    "PD.DataFrame(infoLs)"
   ]
  },
  {
   "cell_type": "code",
   "execution_count": null,
   "metadata": {},
   "outputs": [],
   "source": []
  }
 ],
 "metadata": {
  "kernelspec": {
   "display_name": "Python 3 (ipykernel)",
   "language": "python",
   "name": "python3"
  },
  "language_info": {
   "codemirror_mode": {
    "name": "ipython",
    "version": 3
   },
   "file_extension": ".py",
   "mimetype": "text/x-python",
   "name": "python",
   "nbconvert_exporter": "python",
   "pygments_lexer": "ipython3",
   "version": "3.8.2"
  }
 },
 "nbformat": 4,
 "nbformat_minor": 4
}
