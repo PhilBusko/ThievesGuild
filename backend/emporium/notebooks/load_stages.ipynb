{
 "cells": [
  {
   "cell_type": "markdown",
   "metadata": {},
   "source": [
    "# Load Stage Tables"
   ]
  },
  {
   "cell_type": "code",
   "execution_count": 1,
   "metadata": {},
   "outputs": [],
   "source": [
    "import os, sys\n",
    "import pandas as PD"
   ]
  },
  {
   "cell_type": "code",
   "execution_count": 2,
   "metadata": {},
   "outputs": [
    {
     "name": "stdout",
     "output_type": "stream",
     "text": [
      "['DataframeToDicts', 'GetRandom', 'NOTEBOOK_ENV']\n"
     ]
    }
   ],
   "source": [
    "BACKEND_PATH = os.path.dirname(os.path.dirname(os.getcwd()))\n",
    "APPPROJ_PATH = os.path.join(BACKEND_PATH, 'app_proj')\n",
    "sys.path.append(APPPROJ_PATH)\n",
    "import notebooks as NT\n",
    "print([x for x in dir(NT) if x[0]!='_' and len(x)>8])"
   ]
  },
  {
   "cell_type": "code",
   "execution_count": 3,
   "metadata": {
    "scrolled": false
   },
   "outputs": [
    {
     "name": "stdout",
     "output_type": "stream",
     "text": [
      "env: DEV\n"
     ]
    }
   ],
   "source": [
    "import django\n",
    "os.environ['DEPLOYMENT_ENV'] = NT.NOTEBOOK_ENV\n",
    "os.environ['DJANGO_ALLOW_ASYNC_UNSAFE'] = 'True'\n",
    "MODULE_PATH = os.path.dirname(os.getcwd())\n",
    "os.chdir(os.path.dirname(MODULE_PATH))\n",
    "django.setup()"
   ]
  },
  {
   "cell_type": "code",
   "execution_count": 4,
   "metadata": {
    "scrolled": true
   },
   "outputs": [
    {
     "name": "stdout",
     "output_type": "stream",
     "text": [
      "['BaseManager', 'DeleteTable', 'GetNativeTableCounts', 'GetTableCounts', 'GetTableDictionary', 'InsertBulk', 'InsertSingle']\n"
     ]
    }
   ],
   "source": [
    "import database as DB\n",
    "print([x for x in dir(DB) if x[0]!='_' and len(x)>8])"
   ]
  },
  {
   "cell_type": "code",
   "execution_count": 5,
   "metadata": {},
   "outputs": [
    {
     "name": "stdout",
     "output_type": "stream",
     "text": [
      "['AppendToExcel', 'ReadSheet', 'ResetFile', 'ResetSheet']\n"
     ]
    }
   ],
   "source": [
    "import app_proj.excel_service as XS\n",
    "print([x for x in dir(XS) if x[0]!='_' and len(x)>8])"
   ]
  },
  {
   "cell_type": "code",
   "execution_count": 6,
   "metadata": {},
   "outputs": [
    {
     "name": "stdout",
     "output_type": "stream",
     "text": [
      "C:\\Documents\\Code\\OpenStack\\ThievesGuild\\codebase\\backend\\emporium\\data\n"
     ]
    }
   ],
   "source": [
    "DATA_PATH = os.path.join(MODULE_PATH, 'data')\n",
    "print(DATA_PATH)"
   ]
  },
  {
   "cell_type": "code",
   "execution_count": 7,
   "metadata": {},
   "outputs": [],
   "source": [
    "%load_ext autoreload\n",
    "%autoreload 2\n",
    "from IPython.core.interactiveshell import InteractiveShell\n",
    "InteractiveShell.ast_node_interactivity = 'all'\n",
    "import IPython.display as DS \n",
    "from ipywidgets import IntProgress"
   ]
  },
  {
   "cell_type": "markdown",
   "metadata": {},
   "source": [
    "### Trap"
   ]
  },
  {
   "cell_type": "code",
   "execution_count": 8,
   "metadata": {
    "scrolled": false
   },
   "outputs": [
    {
     "data": {
      "text/plain": [
       "72"
      ]
     },
     "execution_count": 8,
     "metadata": {},
     "output_type": "execute_result"
    }
   ],
   "source": [
    "inputPath = os.path.join(DATA_PATH, 'StageData.xlsx')\n",
    "loadDf = XS.ReadSheet(inputPath, 'Trap')\n",
    "loadDf = loadDf.dropna(subset=['Name'])\n",
    "loadDf = loadDf.reset_index().drop(['index'], axis=1, errors='ignore')\n",
    "loadDf.shape[0]"
   ]
  },
  {
   "cell_type": "code",
   "execution_count": 9,
   "metadata": {},
   "outputs": [
    {
     "name": "stdout",
     "output_type": "stream",
     "text": [
      "table deleted\n",
      "bulk inserted\n",
      "records 72\n"
     ]
    },
    {
     "data": {
      "text/html": [
       "<div>\n",
       "<style scoped>\n",
       "    .dataframe tbody tr th:only-of-type {\n",
       "        vertical-align: middle;\n",
       "    }\n",
       "\n",
       "    .dataframe tbody tr th {\n",
       "        vertical-align: top;\n",
       "    }\n",
       "\n",
       "    .dataframe thead th {\n",
       "        text-align: right;\n",
       "    }\n",
       "</style>\n",
       "<table border=\"1\" class=\"dataframe\">\n",
       "  <thead>\n",
       "    <tr style=\"text-align: right;\">\n",
       "      <th></th>\n",
       "      <th>World</th>\n",
       "      <th>Level</th>\n",
       "      <th>Name</th>\n",
       "      <th>Trait</th>\n",
       "      <th>Skill</th>\n",
       "      <th>Success</th>\n",
       "      <th>Failure</th>\n",
       "      <th>Experience</th>\n",
       "      <th>Difficulty</th>\n",
       "      <th>Damage</th>\n",
       "    </tr>\n",
       "  </thead>\n",
       "  <tbody>\n",
       "    <tr>\n",
       "      <th>68</th>\n",
       "      <td>3</td>\n",
       "      <td>8</td>\n",
       "      <td>Rat Swarm</td>\n",
       "      <td>Mig</td>\n",
       "      <td>Tra</td>\n",
       "      <td>experience, pass</td>\n",
       "      <td>wound, pass</td>\n",
       "      <td>10</td>\n",
       "      <td>17</td>\n",
       "      <td>19</td>\n",
       "    </tr>\n",
       "    <tr>\n",
       "      <th>69</th>\n",
       "      <td>3</td>\n",
       "      <td>8</td>\n",
       "      <td>Gargoyle</td>\n",
       "      <td>Mig</td>\n",
       "      <td>Sab</td>\n",
       "      <td>experience, pass</td>\n",
       "      <td>wound, pass</td>\n",
       "      <td>10</td>\n",
       "      <td>17</td>\n",
       "      <td>19</td>\n",
       "    </tr>\n",
       "    <tr>\n",
       "      <th>70</th>\n",
       "      <td>3</td>\n",
       "      <td>8</td>\n",
       "      <td>Sewer Grate</td>\n",
       "      <td>Mig</td>\n",
       "      <td>Tra</td>\n",
       "      <td>experience, pass next</td>\n",
       "      <td>wound, pass</td>\n",
       "      <td>10</td>\n",
       "      <td>19</td>\n",
       "      <td>19</td>\n",
       "    </tr>\n",
       "    <tr>\n",
       "      <th>71</th>\n",
       "      <td>3</td>\n",
       "      <td>8</td>\n",
       "      <td>Idol</td>\n",
       "      <td>Mig</td>\n",
       "      <td>Per</td>\n",
       "      <td>treasure, pass</td>\n",
       "      <td>pass</td>\n",
       "      <td>10</td>\n",
       "      <td>21</td>\n",
       "      <td>19</td>\n",
       "    </tr>\n",
       "  </tbody>\n",
       "</table>\n",
       "</div>"
      ],
      "text/plain": [
       "    World  Level         Name Trait Skill                Success      Failure  \\\n",
       "68      3      8    Rat Swarm   Mig   Tra       experience, pass  wound, pass   \n",
       "69      3      8     Gargoyle   Mig   Sab       experience, pass  wound, pass   \n",
       "70      3      8  Sewer Grate   Mig   Tra  experience, pass next  wound, pass   \n",
       "71      3      8         Idol   Mig   Per         treasure, pass         pass   \n",
       "\n",
       "    Experience  Difficulty  Damage  \n",
       "68          10          17      19  \n",
       "69          10          17      19  \n",
       "70          10          19      19  \n",
       "71          10          21      19  "
      ]
     },
     "execution_count": 9,
     "metadata": {},
     "output_type": "execute_result"
    }
   ],
   "source": [
    "DB.DeleteTable('emporium', 'Trap')\n",
    "\n",
    "loadLs = NT.DataframeToDicts(loadDf)\n",
    "DB.InsertBulk('emporium', 'Trap', loadLs)\n",
    "\n",
    "checkLs = DB.GetTableDictionary('emporium', 'Trap')\n",
    "print('records', len(checkLs))\n",
    "PD.DataFrame(checkLs).drop('id', axis=1, errors='ignore')[-4:]"
   ]
  },
  {
   "cell_type": "markdown",
   "metadata": {},
   "source": [
    "### Enemy"
   ]
  },
  {
   "cell_type": "code",
   "execution_count": 10,
   "metadata": {
    "scrolled": true
   },
   "outputs": [
    {
     "data": {
      "text/plain": [
       "18"
      ]
     },
     "execution_count": 10,
     "metadata": {},
     "output_type": "execute_result"
    }
   ],
   "source": [
    "loadDf = XS.ReadSheet(inputPath, 'Enemy')\n",
    "loadDf = loadDf.dropna(subset=['Name'])\n",
    "loadDf = loadDf.reset_index().drop(['index'], axis=1, errors='ignore')\n",
    "loadDf = loadDf.drop(['Unnamed: 11', 'Unnamed: 12', 'check'], axis=1, errors='ignore')\n",
    "loadDf.shape[0]"
   ]
  },
  {
   "cell_type": "code",
   "execution_count": 11,
   "metadata": {},
   "outputs": [
    {
     "name": "stdout",
     "output_type": "stream",
     "text": [
      "table deleted\n",
      "bulk inserted\n",
      "records 18\n"
     ]
    },
    {
     "data": {
      "text/html": [
       "<div>\n",
       "<style scoped>\n",
       "    .dataframe tbody tr th:only-of-type {\n",
       "        vertical-align: middle;\n",
       "    }\n",
       "\n",
       "    .dataframe tbody tr th {\n",
       "        vertical-align: top;\n",
       "    }\n",
       "\n",
       "    .dataframe thead th {\n",
       "        text-align: right;\n",
       "    }\n",
       "</style>\n",
       "<table border=\"1\" class=\"dataframe\">\n",
       "  <thead>\n",
       "    <tr style=\"text-align: right;\">\n",
       "      <th></th>\n",
       "      <th>World</th>\n",
       "      <th>Level</th>\n",
       "      <th>Name</th>\n",
       "      <th>Trait</th>\n",
       "      <th>Skill</th>\n",
       "      <th>Success</th>\n",
       "      <th>Failure</th>\n",
       "      <th>Experience</th>\n",
       "      <th>Attack</th>\n",
       "      <th>Damage</th>\n",
       "      <th>Defense</th>\n",
       "      <th>Health</th>\n",
       "    </tr>\n",
       "  </thead>\n",
       "  <tbody>\n",
       "    <tr>\n",
       "      <th>0</th>\n",
       "      <td>1</td>\n",
       "      <td>1</td>\n",
       "      <td>Vanguard</td>\n",
       "      <td>All</td>\n",
       "      <td>Fight</td>\n",
       "      <td>experience, pass</td>\n",
       "      <td>knockout</td>\n",
       "      <td>13</td>\n",
       "      <td>2</td>\n",
       "      <td>8</td>\n",
       "      <td>13</td>\n",
       "      <td>11</td>\n",
       "    </tr>\n",
       "    <tr>\n",
       "      <th>1</th>\n",
       "      <td>1</td>\n",
       "      <td>1</td>\n",
       "      <td>Sorcerer</td>\n",
       "      <td>All</td>\n",
       "      <td>Fight</td>\n",
       "      <td>experience, pass</td>\n",
       "      <td>knockout</td>\n",
       "      <td>13</td>\n",
       "      <td>3</td>\n",
       "      <td>10</td>\n",
       "      <td>12</td>\n",
       "      <td>9</td>\n",
       "    </tr>\n",
       "    <tr>\n",
       "      <th>2</th>\n",
       "      <td>1</td>\n",
       "      <td>1</td>\n",
       "      <td>Warden</td>\n",
       "      <td>All</td>\n",
       "      <td>Fight</td>\n",
       "      <td>experience, pass</td>\n",
       "      <td>knockout</td>\n",
       "      <td>13</td>\n",
       "      <td>2</td>\n",
       "      <td>6</td>\n",
       "      <td>15</td>\n",
       "      <td>12</td>\n",
       "    </tr>\n",
       "    <tr>\n",
       "      <th>3</th>\n",
       "      <td>1</td>\n",
       "      <td>2</td>\n",
       "      <td>Vanguard</td>\n",
       "      <td>All</td>\n",
       "      <td>Fight</td>\n",
       "      <td>experience, pass</td>\n",
       "      <td>knockout</td>\n",
       "      <td>13</td>\n",
       "      <td>3</td>\n",
       "      <td>8</td>\n",
       "      <td>13</td>\n",
       "      <td>11</td>\n",
       "    </tr>\n",
       "  </tbody>\n",
       "</table>\n",
       "</div>"
      ],
      "text/plain": [
       "   World  Level      Name Trait  Skill           Success   Failure  \\\n",
       "0      1      1  Vanguard   All  Fight  experience, pass  knockout   \n",
       "1      1      1  Sorcerer   All  Fight  experience, pass  knockout   \n",
       "2      1      1    Warden   All  Fight  experience, pass  knockout   \n",
       "3      1      2  Vanguard   All  Fight  experience, pass  knockout   \n",
       "\n",
       "   Experience  Attack  Damage  Defense  Health  \n",
       "0          13       2       8       13      11  \n",
       "1          13       3      10       12       9  \n",
       "2          13       2       6       15      12  \n",
       "3          13       3       8       13      11  "
      ]
     },
     "execution_count": 11,
     "metadata": {},
     "output_type": "execute_result"
    }
   ],
   "source": [
    "DB.DeleteTable('emporium', 'Enemy')\n",
    "\n",
    "loadLs = NT.DataframeToDicts(loadDf)\n",
    "DB.InsertBulk('emporium', 'Enemy', loadLs)\n",
    "\n",
    "checkLs = DB.GetTableDictionary('emporium', 'Enemy')\n",
    "print('records', len(checkLs))\n",
    "PD.DataFrame(checkLs).drop('id', axis=1, errors='ignore')[:4]"
   ]
  },
  {
   "cell_type": "markdown",
   "metadata": {},
   "source": [
    "### Gothic Tower"
   ]
  },
  {
   "cell_type": "code",
   "execution_count": 12,
   "metadata": {},
   "outputs": [
    {
     "data": {
      "text/plain": [
       "36"
      ]
     },
     "execution_count": 12,
     "metadata": {},
     "output_type": "execute_result"
    }
   ],
   "source": [
    "loadDf = XS.ReadSheet(inputPath, 'GothicTower')\n",
    "loadDf = loadDf.dropna(subset=['StageNo'])\n",
    "loadDf = loadDf.reset_index().drop(['index'], axis=1, errors='ignore')\n",
    "loadDf = loadDf.drop(['factor'], axis=1, errors='ignore')\n",
    "loadDf.shape[0]"
   ]
  },
  {
   "cell_type": "code",
   "execution_count": 13,
   "metadata": {},
   "outputs": [
    {
     "name": "stdout",
     "output_type": "stream",
     "text": [
      "table deleted\n",
      "bulk inserted\n",
      "records 36\n"
     ]
    },
    {
     "data": {
      "text/html": [
       "<div>\n",
       "<style scoped>\n",
       "    .dataframe tbody tr th:only-of-type {\n",
       "        vertical-align: middle;\n",
       "    }\n",
       "\n",
       "    .dataframe tbody tr th {\n",
       "        vertical-align: top;\n",
       "    }\n",
       "\n",
       "    .dataframe thead th {\n",
       "        text-align: right;\n",
       "    }\n",
       "</style>\n",
       "<table border=\"1\" class=\"dataframe\">\n",
       "  <thead>\n",
       "    <tr style=\"text-align: right;\">\n",
       "      <th></th>\n",
       "      <th>Throne</th>\n",
       "      <th>StageNo</th>\n",
       "      <th>ObstaclesR1</th>\n",
       "      <th>LevelR1</th>\n",
       "      <th>ObstaclesR2</th>\n",
       "      <th>LevelR2</th>\n",
       "      <th>ObstaclesR3</th>\n",
       "      <th>LevelR3</th>\n",
       "      <th>ObstaclesR4</th>\n",
       "      <th>LevelR4</th>\n",
       "      <th>ObstaclesR5</th>\n",
       "      <th>LevelR5</th>\n",
       "      <th>Gold</th>\n",
       "      <th>Gems</th>\n",
       "      <th>Wood</th>\n",
       "      <th>Stone</th>\n",
       "      <th>Iron</th>\n",
       "    </tr>\n",
       "  </thead>\n",
       "  <tbody>\n",
       "    <tr>\n",
       "      <th>33</th>\n",
       "      <td>3</td>\n",
       "      <td>10</td>\n",
       "      <td>6</td>\n",
       "      <td>7</td>\n",
       "      <td>7.0</td>\n",
       "      <td>7.0</td>\n",
       "      <td>7.0</td>\n",
       "      <td>8.0</td>\n",
       "      <td>None</td>\n",
       "      <td>None</td>\n",
       "      <td>None</td>\n",
       "      <td>None</td>\n",
       "      <td>359</td>\n",
       "      <td>13</td>\n",
       "      <td>101</td>\n",
       "      <td>0</td>\n",
       "      <td>0</td>\n",
       "    </tr>\n",
       "    <tr>\n",
       "      <th>34</th>\n",
       "      <td>3</td>\n",
       "      <td>11</td>\n",
       "      <td>7</td>\n",
       "      <td>8</td>\n",
       "      <td>8.0</td>\n",
       "      <td>7.0</td>\n",
       "      <td>7.0</td>\n",
       "      <td>8.0</td>\n",
       "      <td>None</td>\n",
       "      <td>None</td>\n",
       "      <td>None</td>\n",
       "      <td>None</td>\n",
       "      <td>386</td>\n",
       "      <td>14</td>\n",
       "      <td>109</td>\n",
       "      <td>0</td>\n",
       "      <td>0</td>\n",
       "    </tr>\n",
       "    <tr>\n",
       "      <th>35</th>\n",
       "      <td>3</td>\n",
       "      <td>12</td>\n",
       "      <td>8</td>\n",
       "      <td>7</td>\n",
       "      <td>9.0</td>\n",
       "      <td>8.0</td>\n",
       "      <td>8.0</td>\n",
       "      <td>7.0</td>\n",
       "      <td>None</td>\n",
       "      <td>None</td>\n",
       "      <td>None</td>\n",
       "      <td>None</td>\n",
       "      <td>414</td>\n",
       "      <td>15</td>\n",
       "      <td>117</td>\n",
       "      <td>0</td>\n",
       "      <td>0</td>\n",
       "    </tr>\n",
       "  </tbody>\n",
       "</table>\n",
       "</div>"
      ],
      "text/plain": [
       "    Throne  StageNo  ObstaclesR1  LevelR1  ObstaclesR2  LevelR2  ObstaclesR3  \\\n",
       "33       3       10            6        7          7.0      7.0          7.0   \n",
       "34       3       11            7        8          8.0      7.0          7.0   \n",
       "35       3       12            8        7          9.0      8.0          8.0   \n",
       "\n",
       "    LevelR3 ObstaclesR4 LevelR4 ObstaclesR5 LevelR5  Gold  Gems  Wood  Stone  \\\n",
       "33      8.0        None    None        None    None   359    13   101      0   \n",
       "34      8.0        None    None        None    None   386    14   109      0   \n",
       "35      7.0        None    None        None    None   414    15   117      0   \n",
       "\n",
       "    Iron  \n",
       "33     0  \n",
       "34     0  \n",
       "35     0  "
      ]
     },
     "execution_count": 13,
     "metadata": {},
     "output_type": "execute_result"
    }
   ],
   "source": [
    "DB.DeleteTable('emporium', 'GothicTower')\n",
    "\n",
    "loadLs = NT.DataframeToDicts(loadDf)\n",
    "DB.InsertBulk('emporium', 'GothicTower', loadLs)\n",
    "\n",
    "checkLs = DB.GetTableDictionary('emporium', 'GothicTower')\n",
    "print('records', len(checkLs))\n",
    "PD.DataFrame(checkLs).drop('id', axis=1, errors='ignore')[-3:]"
   ]
  },
  {
   "cell_type": "markdown",
   "metadata": {},
   "source": [
    "### League Trial"
   ]
  },
  {
   "cell_type": "code",
   "execution_count": 14,
   "metadata": {},
   "outputs": [
    {
     "data": {
      "text/plain": [
       "18"
      ]
     },
     "execution_count": 14,
     "metadata": {},
     "output_type": "execute_result"
    }
   ],
   "source": [
    "loadDf = XS.ReadSheet(inputPath, 'LeagueTrial')\n",
    "loadDf = loadDf.dropna(subset=['StageNo'])\n",
    "loadDf = loadDf.reset_index().drop(['index'], axis=1, errors='ignore')\n",
    "loadDf = loadDf.drop(['factor'], axis=1, errors='ignore')\n",
    "loadDf.shape[0]"
   ]
  },
  {
   "cell_type": "code",
   "execution_count": 15,
   "metadata": {},
   "outputs": [
    {
     "name": "stdout",
     "output_type": "stream",
     "text": [
      "table deleted\n",
      "bulk inserted\n",
      "records 18\n"
     ]
    },
    {
     "data": {
      "text/html": [
       "<div>\n",
       "<style scoped>\n",
       "    .dataframe tbody tr th:only-of-type {\n",
       "        vertical-align: middle;\n",
       "    }\n",
       "\n",
       "    .dataframe tbody tr th {\n",
       "        vertical-align: top;\n",
       "    }\n",
       "\n",
       "    .dataframe thead th {\n",
       "        text-align: right;\n",
       "    }\n",
       "</style>\n",
       "<table border=\"1\" class=\"dataframe\">\n",
       "  <thead>\n",
       "    <tr style=\"text-align: right;\">\n",
       "      <th></th>\n",
       "      <th>Throne</th>\n",
       "      <th>StageNo</th>\n",
       "      <th>ObstaclesR1</th>\n",
       "      <th>LevelR1</th>\n",
       "      <th>ObstaclesR2</th>\n",
       "      <th>LevelR2</th>\n",
       "      <th>ObstaclesR3</th>\n",
       "      <th>LevelR3</th>\n",
       "      <th>ObstaclesR4</th>\n",
       "      <th>LevelR4</th>\n",
       "      <th>ObstaclesR5</th>\n",
       "      <th>LevelR5</th>\n",
       "      <th>Gold</th>\n",
       "      <th>Gems</th>\n",
       "      <th>Wood</th>\n",
       "      <th>Stone</th>\n",
       "      <th>Iron</th>\n",
       "    </tr>\n",
       "  </thead>\n",
       "  <tbody>\n",
       "    <tr>\n",
       "      <th>15</th>\n",
       "      <td>8</td>\n",
       "      <td>2</td>\n",
       "      <td>6</td>\n",
       "      <td>1</td>\n",
       "      <td>7.0</td>\n",
       "      <td>1.0</td>\n",
       "      <td>8.0</td>\n",
       "      <td>1.0</td>\n",
       "      <td>NaN</td>\n",
       "      <td>NaN</td>\n",
       "      <td>None</td>\n",
       "      <td>None</td>\n",
       "      <td>1280</td>\n",
       "      <td>46</td>\n",
       "      <td>310</td>\n",
       "      <td>172</td>\n",
       "      <td>86</td>\n",
       "    </tr>\n",
       "    <tr>\n",
       "      <th>16</th>\n",
       "      <td>9</td>\n",
       "      <td>1</td>\n",
       "      <td>6</td>\n",
       "      <td>1</td>\n",
       "      <td>7.0</td>\n",
       "      <td>1.0</td>\n",
       "      <td>8.0</td>\n",
       "      <td>1.0</td>\n",
       "      <td>NaN</td>\n",
       "      <td>NaN</td>\n",
       "      <td>None</td>\n",
       "      <td>None</td>\n",
       "      <td>1164</td>\n",
       "      <td>42</td>\n",
       "      <td>282</td>\n",
       "      <td>156</td>\n",
       "      <td>78</td>\n",
       "    </tr>\n",
       "    <tr>\n",
       "      <th>17</th>\n",
       "      <td>9</td>\n",
       "      <td>2</td>\n",
       "      <td>6</td>\n",
       "      <td>1</td>\n",
       "      <td>7.0</td>\n",
       "      <td>1.0</td>\n",
       "      <td>7.0</td>\n",
       "      <td>1.0</td>\n",
       "      <td>6.0</td>\n",
       "      <td>1.0</td>\n",
       "      <td>None</td>\n",
       "      <td>None</td>\n",
       "      <td>1397</td>\n",
       "      <td>50</td>\n",
       "      <td>338</td>\n",
       "      <td>187</td>\n",
       "      <td>94</td>\n",
       "    </tr>\n",
       "  </tbody>\n",
       "</table>\n",
       "</div>"
      ],
      "text/plain": [
       "    Throne  StageNo  ObstaclesR1  LevelR1  ObstaclesR2  LevelR2  ObstaclesR3  \\\n",
       "15       8        2            6        1          7.0      1.0          8.0   \n",
       "16       9        1            6        1          7.0      1.0          8.0   \n",
       "17       9        2            6        1          7.0      1.0          7.0   \n",
       "\n",
       "    LevelR3  ObstaclesR4  LevelR4 ObstaclesR5 LevelR5  Gold  Gems  Wood  \\\n",
       "15      1.0          NaN      NaN        None    None  1280    46   310   \n",
       "16      1.0          NaN      NaN        None    None  1164    42   282   \n",
       "17      1.0          6.0      1.0        None    None  1397    50   338   \n",
       "\n",
       "    Stone  Iron  \n",
       "15    172    86  \n",
       "16    156    78  \n",
       "17    187    94  "
      ]
     },
     "execution_count": 15,
     "metadata": {},
     "output_type": "execute_result"
    }
   ],
   "source": [
    "DB.DeleteTable('emporium', 'LeagueTrial')\n",
    "\n",
    "loadLs = NT.DataframeToDicts(loadDf)\n",
    "DB.InsertBulk('emporium', 'LeagueTrial', loadLs)\n",
    "\n",
    "checkLs = DB.GetTableDictionary('emporium', 'LeagueTrial')\n",
    "print('records', len(checkLs))\n",
    "PD.DataFrame(checkLs).drop('id', axis=1, errors='ignore')[-3:]"
   ]
  },
  {
   "cell_type": "markdown",
   "metadata": {},
   "source": [
    "### Dungeon"
   ]
  },
  {
   "cell_type": "code",
   "execution_count": 10,
   "metadata": {},
   "outputs": [
    {
     "data": {
      "text/html": [
       "<div>\n",
       "<style scoped>\n",
       "    .dataframe tbody tr th:only-of-type {\n",
       "        vertical-align: middle;\n",
       "    }\n",
       "\n",
       "    .dataframe tbody tr th {\n",
       "        vertical-align: top;\n",
       "    }\n",
       "\n",
       "    .dataframe thead th {\n",
       "        text-align: right;\n",
       "    }\n",
       "</style>\n",
       "<table border=\"1\" class=\"dataframe\">\n",
       "  <thead>\n",
       "    <tr style=\"text-align: right;\">\n",
       "      <th></th>\n",
       "      <th>Throne</th>\n",
       "      <th>StageNo</th>\n",
       "      <th>ObstaclesR1</th>\n",
       "      <th>LevelR1</th>\n",
       "      <th>ObstaclesR2</th>\n",
       "      <th>LevelR2</th>\n",
       "      <th>ObstaclesR3</th>\n",
       "      <th>LevelR3</th>\n",
       "      <th>ObstaclesR4</th>\n",
       "      <th>LevelR4</th>\n",
       "      <th>ObstaclesR5</th>\n",
       "      <th>LevelR5</th>\n",
       "      <th>Gold</th>\n",
       "      <th>Gems</th>\n",
       "      <th>Wood</th>\n",
       "      <th>Stone</th>\n",
       "      <th>Iron</th>\n",
       "    </tr>\n",
       "  </thead>\n",
       "  <tbody>\n",
       "    <tr>\n",
       "      <th>0</th>\n",
       "      <td>1.0</td>\n",
       "      <td>1.0</td>\n",
       "      <td>6.0</td>\n",
       "      <td>2.0</td>\n",
       "      <td>7.0</td>\n",
       "      <td>1.0</td>\n",
       "      <td>8.0</td>\n",
       "      <td>2.0</td>\n",
       "      <td>NaN</td>\n",
       "      <td>NaN</td>\n",
       "      <td>NaN</td>\n",
       "      <td>NaN</td>\n",
       "      <td>330.0</td>\n",
       "      <td>12.0</td>\n",
       "      <td>105.0</td>\n",
       "      <td>0.0</td>\n",
       "      <td>0.0</td>\n",
       "    </tr>\n",
       "    <tr>\n",
       "      <th>1</th>\n",
       "      <td>2.0</td>\n",
       "      <td>1.0</td>\n",
       "      <td>6.0</td>\n",
       "      <td>4.0</td>\n",
       "      <td>6.0</td>\n",
       "      <td>4.0</td>\n",
       "      <td>7.0</td>\n",
       "      <td>5.0</td>\n",
       "      <td>8.0</td>\n",
       "      <td>4.0</td>\n",
       "      <td>NaN</td>\n",
       "      <td>NaN</td>\n",
       "      <td>384.0</td>\n",
       "      <td>12.0</td>\n",
       "      <td>115.0</td>\n",
       "      <td>0.0</td>\n",
       "      <td>0.0</td>\n",
       "    </tr>\n",
       "    <tr>\n",
       "      <th>2</th>\n",
       "      <td>3.0</td>\n",
       "      <td>1.0</td>\n",
       "      <td>6.0</td>\n",
       "      <td>7.0</td>\n",
       "      <td>7.0</td>\n",
       "      <td>7.0</td>\n",
       "      <td>9.0</td>\n",
       "      <td>7.0</td>\n",
       "      <td>9.0</td>\n",
       "      <td>8.0</td>\n",
       "      <td>NaN</td>\n",
       "      <td>NaN</td>\n",
       "      <td>442.0</td>\n",
       "      <td>16.0</td>\n",
       "      <td>125.0</td>\n",
       "      <td>0.0</td>\n",
       "      <td>0.0</td>\n",
       "    </tr>\n",
       "    <tr>\n",
       "      <th>3</th>\n",
       "      <td>4.0</td>\n",
       "      <td>1.0</td>\n",
       "      <td>7.0</td>\n",
       "      <td>10.0</td>\n",
       "      <td>9.0</td>\n",
       "      <td>10.0</td>\n",
       "      <td>9.0</td>\n",
       "      <td>12.0</td>\n",
       "      <td>10.0</td>\n",
       "      <td>10.0</td>\n",
       "      <td>NaN</td>\n",
       "      <td>NaN</td>\n",
       "      <td>502.0</td>\n",
       "      <td>17.0</td>\n",
       "      <td>135.0</td>\n",
       "      <td>66.0</td>\n",
       "      <td>0.0</td>\n",
       "    </tr>\n",
       "    <tr>\n",
       "      <th>4</th>\n",
       "      <td>5.0</td>\n",
       "      <td>1.0</td>\n",
       "      <td>8.0</td>\n",
       "      <td>16.0</td>\n",
       "      <td>9.0</td>\n",
       "      <td>16.0</td>\n",
       "      <td>10.0</td>\n",
       "      <td>14.0</td>\n",
       "      <td>10.0</td>\n",
       "      <td>16.0</td>\n",
       "      <td>NaN</td>\n",
       "      <td>NaN</td>\n",
       "      <td>564.0</td>\n",
       "      <td>20.0</td>\n",
       "      <td>146.0</td>\n",
       "      <td>75.0</td>\n",
       "      <td>0.0</td>\n",
       "    </tr>\n",
       "    <tr>\n",
       "      <th>5</th>\n",
       "      <td>6.0</td>\n",
       "      <td>1.0</td>\n",
       "      <td>8.0</td>\n",
       "      <td>20.0</td>\n",
       "      <td>10.0</td>\n",
       "      <td>18.0</td>\n",
       "      <td>9.0</td>\n",
       "      <td>20.0</td>\n",
       "      <td>10.0</td>\n",
       "      <td>20.0</td>\n",
       "      <td>NaN</td>\n",
       "      <td>NaN</td>\n",
       "      <td>630.0</td>\n",
       "      <td>21.0</td>\n",
       "      <td>158.0</td>\n",
       "      <td>84.0</td>\n",
       "      <td>0.0</td>\n",
       "    </tr>\n",
       "  </tbody>\n",
       "</table>\n",
       "</div>"
      ],
      "text/plain": [
       "   Throne  StageNo  ObstaclesR1  LevelR1  ObstaclesR2  LevelR2  ObstaclesR3  \\\n",
       "0     1.0      1.0          6.0      2.0          7.0      1.0          8.0   \n",
       "1     2.0      1.0          6.0      4.0          6.0      4.0          7.0   \n",
       "2     3.0      1.0          6.0      7.0          7.0      7.0          9.0   \n",
       "3     4.0      1.0          7.0     10.0          9.0     10.0          9.0   \n",
       "4     5.0      1.0          8.0     16.0          9.0     16.0         10.0   \n",
       "5     6.0      1.0          8.0     20.0         10.0     18.0          9.0   \n",
       "\n",
       "   LevelR3  ObstaclesR4  LevelR4  ObstaclesR5  LevelR5   Gold  Gems   Wood  \\\n",
       "0      2.0          NaN      NaN          NaN      NaN  330.0  12.0  105.0   \n",
       "1      5.0          8.0      4.0          NaN      NaN  384.0  12.0  115.0   \n",
       "2      7.0          9.0      8.0          NaN      NaN  442.0  16.0  125.0   \n",
       "3     12.0         10.0     10.0          NaN      NaN  502.0  17.0  135.0   \n",
       "4     14.0         10.0     16.0          NaN      NaN  564.0  20.0  146.0   \n",
       "5     20.0         10.0     20.0          NaN      NaN  630.0  21.0  158.0   \n",
       "\n",
       "   Stone  Iron  \n",
       "0    0.0   0.0  \n",
       "1    0.0   0.0  \n",
       "2    0.0   0.0  \n",
       "3   66.0   0.0  \n",
       "4   75.0   0.0  \n",
       "5   84.0   0.0  "
      ]
     },
     "execution_count": 10,
     "metadata": {},
     "output_type": "execute_result"
    }
   ],
   "source": [
    "loadDf = XS.ReadSheet(inputPath, 'Dungeon')\n",
    "loadDf = loadDf.dropna(subset=['StageNo'])\n",
    "loadDf = loadDf.reset_index().drop(['index'], axis=1, errors='ignore')\n",
    "loadDf = loadDf.drop(['factor'], axis=1, errors='ignore')\n",
    "loadDf#.shape[0]"
   ]
  },
  {
   "cell_type": "code",
   "execution_count": 11,
   "metadata": {},
   "outputs": [
    {
     "name": "stdout",
     "output_type": "stream",
     "text": [
      "table deleted\n",
      "bulk inserted\n",
      "records 6\n"
     ]
    },
    {
     "data": {
      "text/html": [
       "<div>\n",
       "<style scoped>\n",
       "    .dataframe tbody tr th:only-of-type {\n",
       "        vertical-align: middle;\n",
       "    }\n",
       "\n",
       "    .dataframe tbody tr th {\n",
       "        vertical-align: top;\n",
       "    }\n",
       "\n",
       "    .dataframe thead th {\n",
       "        text-align: right;\n",
       "    }\n",
       "</style>\n",
       "<table border=\"1\" class=\"dataframe\">\n",
       "  <thead>\n",
       "    <tr style=\"text-align: right;\">\n",
       "      <th></th>\n",
       "      <th>Throne</th>\n",
       "      <th>StageNo</th>\n",
       "      <th>ObstaclesR1</th>\n",
       "      <th>LevelR1</th>\n",
       "      <th>ObstaclesR2</th>\n",
       "      <th>LevelR2</th>\n",
       "      <th>ObstaclesR3</th>\n",
       "      <th>LevelR3</th>\n",
       "      <th>ObstaclesR4</th>\n",
       "      <th>LevelR4</th>\n",
       "      <th>ObstaclesR5</th>\n",
       "      <th>LevelR5</th>\n",
       "      <th>Gold</th>\n",
       "      <th>Gems</th>\n",
       "      <th>Wood</th>\n",
       "      <th>Stone</th>\n",
       "      <th>Iron</th>\n",
       "    </tr>\n",
       "  </thead>\n",
       "  <tbody>\n",
       "    <tr>\n",
       "      <th>3</th>\n",
       "      <td>4</td>\n",
       "      <td>1</td>\n",
       "      <td>7</td>\n",
       "      <td>10</td>\n",
       "      <td>9</td>\n",
       "      <td>10</td>\n",
       "      <td>9</td>\n",
       "      <td>12</td>\n",
       "      <td>10.0</td>\n",
       "      <td>10.0</td>\n",
       "      <td>None</td>\n",
       "      <td>None</td>\n",
       "      <td>502</td>\n",
       "      <td>17</td>\n",
       "      <td>135</td>\n",
       "      <td>66</td>\n",
       "      <td>0</td>\n",
       "    </tr>\n",
       "    <tr>\n",
       "      <th>4</th>\n",
       "      <td>5</td>\n",
       "      <td>1</td>\n",
       "      <td>8</td>\n",
       "      <td>16</td>\n",
       "      <td>9</td>\n",
       "      <td>16</td>\n",
       "      <td>10</td>\n",
       "      <td>14</td>\n",
       "      <td>10.0</td>\n",
       "      <td>16.0</td>\n",
       "      <td>None</td>\n",
       "      <td>None</td>\n",
       "      <td>564</td>\n",
       "      <td>20</td>\n",
       "      <td>146</td>\n",
       "      <td>75</td>\n",
       "      <td>0</td>\n",
       "    </tr>\n",
       "    <tr>\n",
       "      <th>5</th>\n",
       "      <td>6</td>\n",
       "      <td>1</td>\n",
       "      <td>8</td>\n",
       "      <td>20</td>\n",
       "      <td>10</td>\n",
       "      <td>18</td>\n",
       "      <td>9</td>\n",
       "      <td>20</td>\n",
       "      <td>10.0</td>\n",
       "      <td>20.0</td>\n",
       "      <td>None</td>\n",
       "      <td>None</td>\n",
       "      <td>630</td>\n",
       "      <td>21</td>\n",
       "      <td>158</td>\n",
       "      <td>84</td>\n",
       "      <td>0</td>\n",
       "    </tr>\n",
       "  </tbody>\n",
       "</table>\n",
       "</div>"
      ],
      "text/plain": [
       "   Throne  StageNo  ObstaclesR1  LevelR1  ObstaclesR2  LevelR2  ObstaclesR3  \\\n",
       "3       4        1            7       10            9       10            9   \n",
       "4       5        1            8       16            9       16           10   \n",
       "5       6        1            8       20           10       18            9   \n",
       "\n",
       "   LevelR3  ObstaclesR4  LevelR4 ObstaclesR5 LevelR5  Gold  Gems  Wood  Stone  \\\n",
       "3       12         10.0     10.0        None    None   502    17   135     66   \n",
       "4       14         10.0     16.0        None    None   564    20   146     75   \n",
       "5       20         10.0     20.0        None    None   630    21   158     84   \n",
       "\n",
       "   Iron  \n",
       "3     0  \n",
       "4     0  \n",
       "5     0  "
      ]
     },
     "execution_count": 11,
     "metadata": {},
     "output_type": "execute_result"
    }
   ],
   "source": [
    "DB.DeleteTable('emporium', 'Dungeon')\n",
    "\n",
    "loadLs = NT.DataframeToDicts(loadDf)\n",
    "DB.InsertBulk('emporium', 'Dungeon', loadLs)\n",
    "\n",
    "checkLs = DB.GetTableDictionary('emporium', 'Dungeon')\n",
    "print('records', len(checkLs))\n",
    "PD.DataFrame(checkLs).drop('id', axis=1, errors='ignore')[-3:]"
   ]
  },
  {
   "cell_type": "markdown",
   "metadata": {},
   "source": [
    "### Campaign"
   ]
  },
  {
   "cell_type": "code",
   "execution_count": 16,
   "metadata": {},
   "outputs": [
    {
     "data": {
      "text/plain": [
       "41"
      ]
     },
     "execution_count": 16,
     "metadata": {},
     "output_type": "execute_result"
    }
   ],
   "source": [
    "loadDf = XS.ReadSheet(inputPath, 'Campaign')\n",
    "loadDf = loadDf.dropna(subset=['StageNo'])\n",
    "loadDf = loadDf.reset_index().drop(['index'], axis=1, errors='ignore')\n",
    "loadDf = loadDf.drop(['factor'], axis=1, errors='ignore')\n",
    "loadDf.shape[0]"
   ]
  },
  {
   "cell_type": "code",
   "execution_count": 17,
   "metadata": {},
   "outputs": [
    {
     "name": "stdout",
     "output_type": "stream",
     "text": [
      "table deleted\n",
      "bulk inserted\n",
      "records 41\n"
     ]
    },
    {
     "data": {
      "text/html": [
       "<div>\n",
       "<style scoped>\n",
       "    .dataframe tbody tr th:only-of-type {\n",
       "        vertical-align: middle;\n",
       "    }\n",
       "\n",
       "    .dataframe tbody tr th {\n",
       "        vertical-align: top;\n",
       "    }\n",
       "\n",
       "    .dataframe thead th {\n",
       "        text-align: right;\n",
       "    }\n",
       "</style>\n",
       "<table border=\"1\" class=\"dataframe\">\n",
       "  <thead>\n",
       "    <tr style=\"text-align: right;\">\n",
       "      <th></th>\n",
       "      <th>World</th>\n",
       "      <th>StageNo</th>\n",
       "      <th>ObstaclesR1</th>\n",
       "      <th>LevelR1</th>\n",
       "      <th>ObstaclesR2</th>\n",
       "      <th>LevelR2</th>\n",
       "      <th>ObstaclesR3</th>\n",
       "      <th>LevelR3</th>\n",
       "      <th>ObstaclesR4</th>\n",
       "      <th>LevelR4</th>\n",
       "      <th>ObstaclesR5</th>\n",
       "      <th>LevelR5</th>\n",
       "      <th>Gold</th>\n",
       "      <th>Gems</th>\n",
       "      <th>Wood</th>\n",
       "      <th>Stone</th>\n",
       "      <th>Iron</th>\n",
       "    </tr>\n",
       "  </thead>\n",
       "  <tbody>\n",
       "    <tr>\n",
       "      <th>38</th>\n",
       "      <td>3</td>\n",
       "      <td>15</td>\n",
       "      <td>9</td>\n",
       "      <td>8</td>\n",
       "      <td>12.0</td>\n",
       "      <td>8.0</td>\n",
       "      <td>NaN</td>\n",
       "      <td>NaN</td>\n",
       "      <td>NaN</td>\n",
       "      <td>NaN</td>\n",
       "      <td>None</td>\n",
       "      <td>None</td>\n",
       "      <td>649</td>\n",
       "      <td>24</td>\n",
       "      <td>183</td>\n",
       "      <td>0</td>\n",
       "      <td>0</td>\n",
       "    </tr>\n",
       "    <tr>\n",
       "      <th>39</th>\n",
       "      <td>3</td>\n",
       "      <td>16</td>\n",
       "      <td>6</td>\n",
       "      <td>8</td>\n",
       "      <td>8.0</td>\n",
       "      <td>7.0</td>\n",
       "      <td>10.0</td>\n",
       "      <td>8.0</td>\n",
       "      <td>NaN</td>\n",
       "      <td>NaN</td>\n",
       "      <td>None</td>\n",
       "      <td>None</td>\n",
       "      <td>656</td>\n",
       "      <td>24</td>\n",
       "      <td>185</td>\n",
       "      <td>0</td>\n",
       "      <td>0</td>\n",
       "    </tr>\n",
       "    <tr>\n",
       "      <th>40</th>\n",
       "      <td>3</td>\n",
       "      <td>17</td>\n",
       "      <td>6</td>\n",
       "      <td>7</td>\n",
       "      <td>6.0</td>\n",
       "      <td>7.0</td>\n",
       "      <td>7.0</td>\n",
       "      <td>7.0</td>\n",
       "      <td>8.0</td>\n",
       "      <td>8.0</td>\n",
       "      <td>None</td>\n",
       "      <td>None</td>\n",
       "      <td>662</td>\n",
       "      <td>24</td>\n",
       "      <td>187</td>\n",
       "      <td>0</td>\n",
       "      <td>0</td>\n",
       "    </tr>\n",
       "  </tbody>\n",
       "</table>\n",
       "</div>"
      ],
      "text/plain": [
       "    World  StageNo  ObstaclesR1  LevelR1  ObstaclesR2  LevelR2  ObstaclesR3  \\\n",
       "38      3       15            9        8         12.0      8.0          NaN   \n",
       "39      3       16            6        8          8.0      7.0         10.0   \n",
       "40      3       17            6        7          6.0      7.0          7.0   \n",
       "\n",
       "    LevelR3  ObstaclesR4  LevelR4 ObstaclesR5 LevelR5  Gold  Gems  Wood  \\\n",
       "38      NaN          NaN      NaN        None    None   649    24   183   \n",
       "39      8.0          NaN      NaN        None    None   656    24   185   \n",
       "40      7.0          8.0      8.0        None    None   662    24   187   \n",
       "\n",
       "    Stone  Iron  \n",
       "38      0     0  \n",
       "39      0     0  \n",
       "40      0     0  "
      ]
     },
     "execution_count": 17,
     "metadata": {},
     "output_type": "execute_result"
    }
   ],
   "source": [
    "DB.DeleteTable('emporium', 'Campaign')\n",
    "\n",
    "loadLs = NT.DataframeToDicts(loadDf)\n",
    "DB.InsertBulk('emporium', 'Campaign', loadLs)\n",
    "\n",
    "checkLs = DB.GetTableDictionary('emporium', 'Campaign')\n",
    "print('records', len(checkLs))\n",
    "PD.DataFrame(checkLs).drop('id', axis=1, errors='ignore')[-3:]"
   ]
  },
  {
   "cell_type": "markdown",
   "metadata": {},
   "source": [
    "### Trial Day"
   ]
  },
  {
   "cell_type": "code",
   "execution_count": 18,
   "metadata": {},
   "outputs": [
    {
     "data": {
      "text/plain": [
       "7"
      ]
     },
     "execution_count": 18,
     "metadata": {},
     "output_type": "execute_result"
    }
   ],
   "source": [
    "loadDf = XS.ReadSheet(inputPath, 'TrialDay')\n",
    "loadDf = loadDf.dropna(subset=['WeekDay'])\n",
    "loadDf = loadDf.reset_index().drop(['index'], axis=1, errors='ignore')\n",
    "loadDf.shape[0]"
   ]
  },
  {
   "cell_type": "code",
   "execution_count": 19,
   "metadata": {},
   "outputs": [
    {
     "name": "stdout",
     "output_type": "stream",
     "text": [
      "table deleted\n",
      "bulk inserted\n",
      "records 7\n"
     ]
    },
    {
     "data": {
      "text/html": [
       "<div>\n",
       "<style scoped>\n",
       "    .dataframe tbody tr th:only-of-type {\n",
       "        vertical-align: middle;\n",
       "    }\n",
       "\n",
       "    .dataframe tbody tr th {\n",
       "        vertical-align: top;\n",
       "    }\n",
       "\n",
       "    .dataframe thead th {\n",
       "        text-align: right;\n",
       "    }\n",
       "</style>\n",
       "<table border=\"1\" class=\"dataframe\">\n",
       "  <thead>\n",
       "    <tr style=\"text-align: right;\">\n",
       "      <th></th>\n",
       "      <th>WeekDay</th>\n",
       "      <th>StageType</th>\n",
       "    </tr>\n",
       "  </thead>\n",
       "  <tbody>\n",
       "    <tr>\n",
       "      <th>0</th>\n",
       "      <td>sunday</td>\n",
       "      <td>agi</td>\n",
       "    </tr>\n",
       "    <tr>\n",
       "      <th>1</th>\n",
       "      <td>monday</td>\n",
       "      <td>cun</td>\n",
       "    </tr>\n",
       "    <tr>\n",
       "      <th>2</th>\n",
       "      <td>tuesday</td>\n",
       "      <td>mig</td>\n",
       "    </tr>\n",
       "    <tr>\n",
       "      <th>3</th>\n",
       "      <td>wednesday</td>\n",
       "      <td>combat</td>\n",
       "    </tr>\n",
       "  </tbody>\n",
       "</table>\n",
       "</div>"
      ],
      "text/plain": [
       "     WeekDay StageType\n",
       "0     sunday       agi\n",
       "1     monday       cun\n",
       "2    tuesday       mig\n",
       "3  wednesday    combat"
      ]
     },
     "execution_count": 19,
     "metadata": {},
     "output_type": "execute_result"
    }
   ],
   "source": [
    "DB.DeleteTable('emporium', 'TrialDay')\n",
    "\n",
    "loadLs = NT.DataframeToDicts(loadDf)\n",
    "DB.InsertBulk('emporium', 'TrialDay', loadLs)\n",
    "\n",
    "checkLs = DB.GetTableDictionary('emporium', 'TrialDay')\n",
    "print('records', len(checkLs))\n",
    "PD.DataFrame(checkLs).drop('id', axis=1, errors='ignore')[:4]"
   ]
  },
  {
   "cell_type": "markdown",
   "metadata": {},
   "source": [
    "### Expedition Level"
   ]
  },
  {
   "cell_type": "code",
   "execution_count": 20,
   "metadata": {},
   "outputs": [
    {
     "data": {
      "text/plain": [
       "6"
      ]
     },
     "execution_count": 20,
     "metadata": {},
     "output_type": "execute_result"
    }
   ],
   "source": [
    "loadDf = XS.ReadSheet(inputPath, 'ExpeditionLevel')\n",
    "loadDf = loadDf.dropna(subset=['Throne'])\n",
    "loadDf = loadDf.reset_index().drop(['index'], axis=1, errors='ignore')\n",
    "loadDf.shape[0]"
   ]
  },
  {
   "cell_type": "code",
   "execution_count": 21,
   "metadata": {},
   "outputs": [
    {
     "name": "stdout",
     "output_type": "stream",
     "text": [
      "table deleted\n",
      "bulk inserted\n",
      "records 6\n"
     ]
    },
    {
     "data": {
      "text/html": [
       "<div>\n",
       "<style scoped>\n",
       "    .dataframe tbody tr th:only-of-type {\n",
       "        vertical-align: middle;\n",
       "    }\n",
       "\n",
       "    .dataframe tbody tr th {\n",
       "        vertical-align: top;\n",
       "    }\n",
       "\n",
       "    .dataframe thead th {\n",
       "        text-align: right;\n",
       "    }\n",
       "</style>\n",
       "<table border=\"1\" class=\"dataframe\">\n",
       "  <thead>\n",
       "    <tr style=\"text-align: right;\">\n",
       "      <th></th>\n",
       "      <th>Throne</th>\n",
       "      <th>Level</th>\n",
       "      <th>Duration</th>\n",
       "    </tr>\n",
       "  </thead>\n",
       "  <tbody>\n",
       "    <tr>\n",
       "      <th>0</th>\n",
       "      <td>1</td>\n",
       "      <td>1</td>\n",
       "      <td>1 hr</td>\n",
       "    </tr>\n",
       "    <tr>\n",
       "      <th>1</th>\n",
       "      <td>1</td>\n",
       "      <td>2</td>\n",
       "      <td>2 hr</td>\n",
       "    </tr>\n",
       "    <tr>\n",
       "      <th>2</th>\n",
       "      <td>2</td>\n",
       "      <td>4</td>\n",
       "      <td>3 hr</td>\n",
       "    </tr>\n",
       "    <tr>\n",
       "      <th>3</th>\n",
       "      <td>2</td>\n",
       "      <td>5</td>\n",
       "      <td>4 hr</td>\n",
       "    </tr>\n",
       "  </tbody>\n",
       "</table>\n",
       "</div>"
      ],
      "text/plain": [
       "   Throne  Level Duration\n",
       "0       1      1     1 hr\n",
       "1       1      2     2 hr\n",
       "2       2      4     3 hr\n",
       "3       2      5     4 hr"
      ]
     },
     "execution_count": 21,
     "metadata": {},
     "output_type": "execute_result"
    }
   ],
   "source": [
    "DB.DeleteTable('emporium', 'ExpeditionLevel')\n",
    "\n",
    "loadLs = NT.DataframeToDicts(loadDf)\n",
    "DB.InsertBulk('emporium', 'ExpeditionLevel', loadLs)\n",
    "\n",
    "checkLs = DB.GetTableDictionary('emporium', 'ExpeditionLevel')\n",
    "print('records', len(checkLs))\n",
    "PD.DataFrame(checkLs).drop('id', axis=1, errors='ignore')[:4]"
   ]
  },
  {
   "cell_type": "markdown",
   "metadata": {},
   "source": [
    "### Expedition Type"
   ]
  },
  {
   "cell_type": "code",
   "execution_count": 22,
   "metadata": {},
   "outputs": [
    {
     "data": {
      "text/plain": [
       "8"
      ]
     },
     "execution_count": 22,
     "metadata": {},
     "output_type": "execute_result"
    }
   ],
   "source": [
    "loadDf = XS.ReadSheet(inputPath, 'ExpeditionType')\n",
    "loadDf = loadDf.dropna(subset=['Type'])\n",
    "loadDf = loadDf.reset_index().drop(['index'], axis=1, errors='ignore')\n",
    "loadDf.shape[0]"
   ]
  },
  {
   "cell_type": "code",
   "execution_count": 23,
   "metadata": {},
   "outputs": [
    {
     "name": "stdout",
     "output_type": "stream",
     "text": [
      "table deleted\n",
      "bulk inserted\n",
      "records 8\n"
     ]
    },
    {
     "data": {
      "text/html": [
       "<div>\n",
       "<style scoped>\n",
       "    .dataframe tbody tr th:only-of-type {\n",
       "        vertical-align: middle;\n",
       "    }\n",
       "\n",
       "    .dataframe tbody tr th {\n",
       "        vertical-align: top;\n",
       "    }\n",
       "\n",
       "    .dataframe thead th {\n",
       "        text-align: right;\n",
       "    }\n",
       "</style>\n",
       "<table border=\"1\" class=\"dataframe\">\n",
       "  <thead>\n",
       "    <tr style=\"text-align: right;\">\n",
       "      <th></th>\n",
       "      <th>Type</th>\n",
       "      <th>MainTrait</th>\n",
       "      <th>SecondaryOne</th>\n",
       "      <th>SecondaryTwo</th>\n",
       "      <th>SecondaryThree</th>\n",
       "      <th>SkillOne</th>\n",
       "      <th>SkillTwo</th>\n",
       "      <th>SkillThree</th>\n",
       "    </tr>\n",
       "  </thead>\n",
       "  <tbody>\n",
       "    <tr>\n",
       "      <th>0</th>\n",
       "      <td>agi cmb</td>\n",
       "      <td>agi</td>\n",
       "      <td>cun</td>\n",
       "      <td>mig</td>\n",
       "      <td>end</td>\n",
       "      <td>att + dmg + def</td>\n",
       "      <td>att + dmg + def</td>\n",
       "      <td>att + dmg + def</td>\n",
       "    </tr>\n",
       "    <tr>\n",
       "      <th>1</th>\n",
       "      <td>agi ski</td>\n",
       "      <td>agi</td>\n",
       "      <td>cun</td>\n",
       "      <td>mig</td>\n",
       "      <td>end</td>\n",
       "      <td>sab + per</td>\n",
       "      <td>per + tra</td>\n",
       "      <td>tra + sab</td>\n",
       "    </tr>\n",
       "    <tr>\n",
       "      <th>2</th>\n",
       "      <td>cun cmb</td>\n",
       "      <td>cun</td>\n",
       "      <td>mig</td>\n",
       "      <td>agi</td>\n",
       "      <td>end</td>\n",
       "      <td>att + dmg + def</td>\n",
       "      <td>att + dmg + def</td>\n",
       "      <td>att + dmg + def</td>\n",
       "    </tr>\n",
       "    <tr>\n",
       "      <th>3</th>\n",
       "      <td>cun ski</td>\n",
       "      <td>cun</td>\n",
       "      <td>mig</td>\n",
       "      <td>agi</td>\n",
       "      <td>end</td>\n",
       "      <td>sab + per</td>\n",
       "      <td>per + tra</td>\n",
       "      <td>tra + sab</td>\n",
       "    </tr>\n",
       "  </tbody>\n",
       "</table>\n",
       "</div>"
      ],
      "text/plain": [
       "      Type MainTrait SecondaryOne SecondaryTwo SecondaryThree  \\\n",
       "0  agi cmb       agi          cun          mig            end   \n",
       "1  agi ski       agi          cun          mig            end   \n",
       "2  cun cmb       cun          mig          agi            end   \n",
       "3  cun ski       cun          mig          agi            end   \n",
       "\n",
       "          SkillOne         SkillTwo       SkillThree  \n",
       "0  att + dmg + def  att + dmg + def  att + dmg + def  \n",
       "1        sab + per        per + tra        tra + sab  \n",
       "2  att + dmg + def  att + dmg + def  att + dmg + def  \n",
       "3        sab + per        per + tra        tra + sab  "
      ]
     },
     "execution_count": 23,
     "metadata": {},
     "output_type": "execute_result"
    }
   ],
   "source": [
    "DB.DeleteTable('emporium', 'ExpeditionType')\n",
    "\n",
    "loadLs = NT.DataframeToDicts(loadDf)\n",
    "DB.InsertBulk('emporium', 'ExpeditionType', loadLs)\n",
    "\n",
    "checkLs = DB.GetTableDictionary('emporium', 'ExpeditionType')\n",
    "print('records', len(checkLs))\n",
    "PD.DataFrame(checkLs).drop('id', axis=1, errors='ignore')[:4]"
   ]
  },
  {
   "cell_type": "code",
   "execution_count": null,
   "metadata": {},
   "outputs": [],
   "source": []
  },
  {
   "cell_type": "code",
   "execution_count": 24,
   "metadata": {},
   "outputs": [
    {
     "data": {
      "text/html": [
       "<div>\n",
       "<style scoped>\n",
       "    .dataframe tbody tr th:only-of-type {\n",
       "        vertical-align: middle;\n",
       "    }\n",
       "\n",
       "    .dataframe tbody tr th {\n",
       "        vertical-align: top;\n",
       "    }\n",
       "\n",
       "    .dataframe thead th {\n",
       "        text-align: right;\n",
       "    }\n",
       "</style>\n",
       "<table border=\"1\" class=\"dataframe\">\n",
       "  <thead>\n",
       "    <tr style=\"text-align: right;\">\n",
       "      <th></th>\n",
       "      <th>Module</th>\n",
       "      <th>Table</th>\n",
       "      <th>Count</th>\n",
       "    </tr>\n",
       "  </thead>\n",
       "  <tbody>\n",
       "    <tr>\n",
       "      <th>0</th>\n",
       "      <td>members</td>\n",
       "      <td>User</td>\n",
       "      <td>2</td>\n",
       "    </tr>\n",
       "    <tr>\n",
       "      <th>1</th>\n",
       "      <td>emporium</td>\n",
       "      <td>UnlockableThief</td>\n",
       "      <td>12</td>\n",
       "    </tr>\n",
       "    <tr>\n",
       "      <th>2</th>\n",
       "      <td>emporium</td>\n",
       "      <td>UnlockableItem</td>\n",
       "      <td>72</td>\n",
       "    </tr>\n",
       "    <tr>\n",
       "      <th>3</th>\n",
       "      <td>emporium</td>\n",
       "      <td>ThiefLevel</td>\n",
       "      <td>12</td>\n",
       "    </tr>\n",
       "    <tr>\n",
       "      <th>4</th>\n",
       "      <td>emporium</td>\n",
       "      <td>ThroneUpgrades</td>\n",
       "      <td>9</td>\n",
       "    </tr>\n",
       "    <tr>\n",
       "      <th>5</th>\n",
       "      <td>emporium</td>\n",
       "      <td>SingletonUpgrades</td>\n",
       "      <td>9</td>\n",
       "    </tr>\n",
       "    <tr>\n",
       "      <th>6</th>\n",
       "      <td>emporium</td>\n",
       "      <td>StorageUpgrades</td>\n",
       "      <td>9</td>\n",
       "    </tr>\n",
       "    <tr>\n",
       "      <th>7</th>\n",
       "      <td>emporium</td>\n",
       "      <td>FactoryUpgrades</td>\n",
       "      <td>9</td>\n",
       "    </tr>\n",
       "    <tr>\n",
       "      <th>8</th>\n",
       "      <td>emporium</td>\n",
       "      <td>Trap</td>\n",
       "      <td>72</td>\n",
       "    </tr>\n",
       "    <tr>\n",
       "      <th>9</th>\n",
       "      <td>emporium</td>\n",
       "      <td>Enemy</td>\n",
       "      <td>18</td>\n",
       "    </tr>\n",
       "    <tr>\n",
       "      <th>10</th>\n",
       "      <td>emporium</td>\n",
       "      <td>GothicTower</td>\n",
       "      <td>36</td>\n",
       "    </tr>\n",
       "    <tr>\n",
       "      <th>11</th>\n",
       "      <td>emporium</td>\n",
       "      <td>LeagueTrial</td>\n",
       "      <td>18</td>\n",
       "    </tr>\n",
       "    <tr>\n",
       "      <th>12</th>\n",
       "      <td>emporium</td>\n",
       "      <td>Campaign</td>\n",
       "      <td>41</td>\n",
       "    </tr>\n",
       "    <tr>\n",
       "      <th>13</th>\n",
       "      <td>emporium</td>\n",
       "      <td>TrialDay</td>\n",
       "      <td>7</td>\n",
       "    </tr>\n",
       "    <tr>\n",
       "      <th>14</th>\n",
       "      <td>emporium</td>\n",
       "      <td>ExpeditionLevel</td>\n",
       "      <td>6</td>\n",
       "    </tr>\n",
       "    <tr>\n",
       "      <th>15</th>\n",
       "      <td>emporium</td>\n",
       "      <td>ExpeditionType</td>\n",
       "      <td>8</td>\n",
       "    </tr>\n",
       "    <tr>\n",
       "      <th>16</th>\n",
       "      <td>engine</td>\n",
       "      <td>Guild</td>\n",
       "      <td>1</td>\n",
       "    </tr>\n",
       "    <tr>\n",
       "      <th>17</th>\n",
       "      <td>engine</td>\n",
       "      <td>ThiefInGuild</td>\n",
       "      <td>6</td>\n",
       "    </tr>\n",
       "    <tr>\n",
       "      <th>18</th>\n",
       "      <td>engine</td>\n",
       "      <td>ItemInGuild</td>\n",
       "      <td>18</td>\n",
       "    </tr>\n",
       "    <tr>\n",
       "      <th>19</th>\n",
       "      <td>engine</td>\n",
       "      <td>ThiefUnlocked</td>\n",
       "      <td>0</td>\n",
       "    </tr>\n",
       "    <tr>\n",
       "      <th>20</th>\n",
       "      <td>engine</td>\n",
       "      <td>ItemUnlocked</td>\n",
       "      <td>0</td>\n",
       "    </tr>\n",
       "    <tr>\n",
       "      <th>21</th>\n",
       "      <td>engine</td>\n",
       "      <td>GuildStage</td>\n",
       "      <td>24</td>\n",
       "    </tr>\n",
       "    <tr>\n",
       "      <th>22</th>\n",
       "      <td>engine</td>\n",
       "      <td>GuildExpedition</td>\n",
       "      <td>5</td>\n",
       "    </tr>\n",
       "  </tbody>\n",
       "</table>\n",
       "</div>"
      ],
      "text/plain": [
       "      Module              Table  Count\n",
       "0    members               User      2\n",
       "1   emporium    UnlockableThief     12\n",
       "2   emporium     UnlockableItem     72\n",
       "3   emporium         ThiefLevel     12\n",
       "4   emporium     ThroneUpgrades      9\n",
       "5   emporium  SingletonUpgrades      9\n",
       "6   emporium    StorageUpgrades      9\n",
       "7   emporium    FactoryUpgrades      9\n",
       "8   emporium               Trap     72\n",
       "9   emporium              Enemy     18\n",
       "10  emporium        GothicTower     36\n",
       "11  emporium        LeagueTrial     18\n",
       "12  emporium           Campaign     41\n",
       "13  emporium           TrialDay      7\n",
       "14  emporium    ExpeditionLevel      6\n",
       "15  emporium     ExpeditionType      8\n",
       "16    engine              Guild      1\n",
       "17    engine       ThiefInGuild      6\n",
       "18    engine        ItemInGuild     18\n",
       "19    engine      ThiefUnlocked      0\n",
       "20    engine       ItemUnlocked      0\n",
       "21    engine         GuildStage     24\n",
       "22    engine    GuildExpedition      5"
      ]
     },
     "execution_count": 24,
     "metadata": {},
     "output_type": "execute_result"
    }
   ],
   "source": [
    "# check all\n",
    "\n",
    "infoLs = DB.GetTableCounts()\n",
    "PD.DataFrame(infoLs)"
   ]
  },
  {
   "cell_type": "code",
   "execution_count": null,
   "metadata": {},
   "outputs": [],
   "source": []
  }
 ],
 "metadata": {
  "kernelspec": {
   "display_name": "Python 3 (ipykernel)",
   "language": "python",
   "name": "python3"
  },
  "language_info": {
   "codemirror_mode": {
    "name": "ipython",
    "version": 3
   },
   "file_extension": ".py",
   "mimetype": "text/x-python",
   "name": "python",
   "nbconvert_exporter": "python",
   "pygments_lexer": "ipython3",
   "version": "3.8.2"
  }
 },
 "nbformat": 4,
 "nbformat_minor": 4
}
