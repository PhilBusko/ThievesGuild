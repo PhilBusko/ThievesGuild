{
 "cells": [
  {
   "cell_type": "markdown",
   "metadata": {},
   "source": [
    "# Load Stage Tables"
   ]
  },
  {
   "cell_type": "code",
   "execution_count": 1,
   "metadata": {},
   "outputs": [],
   "source": [
    "import os, sys\n",
    "import pandas as PD"
   ]
  },
  {
   "cell_type": "code",
   "execution_count": 2,
   "metadata": {},
   "outputs": [
    {
     "name": "stdout",
     "output_type": "stream",
     "text": [
      "['DataframeToDicts', 'GetRandom', 'NOTEBOOK_ENV']\n"
     ]
    }
   ],
   "source": [
    "BACKEND_PATH = os.path.dirname(os.path.dirname(os.getcwd()))\n",
    "APPPROJ_PATH = os.path.join(BACKEND_PATH, 'app_proj')\n",
    "sys.path.append(APPPROJ_PATH)\n",
    "import notebooks as NT\n",
    "print([x for x in dir(NT) if x[0]!='_' and len(x)>8])"
   ]
  },
  {
   "cell_type": "code",
   "execution_count": 3,
   "metadata": {
    "scrolled": false
   },
   "outputs": [
    {
     "name": "stdout",
     "output_type": "stream",
     "text": [
      "env: DEV\n"
     ]
    }
   ],
   "source": [
    "import django\n",
    "os.environ['DEPLOYMENT_ENV'] = NT.NOTEBOOK_ENV\n",
    "os.environ['DJANGO_ALLOW_ASYNC_UNSAFE'] = 'True'\n",
    "MODULE_PATH = os.path.dirname(os.getcwd())\n",
    "os.chdir(os.path.dirname(MODULE_PATH))\n",
    "django.setup()"
   ]
  },
  {
   "cell_type": "code",
   "execution_count": 4,
   "metadata": {
    "scrolled": true
   },
   "outputs": [
    {
     "name": "stdout",
     "output_type": "stream",
     "text": [
      "['BaseManager', 'DeleteTable', 'GetNativeTableCounts', 'GetTableCounts', 'GetTableDictionary', 'InsertBulk', 'InsertSingle']\n"
     ]
    }
   ],
   "source": [
    "import database as DB\n",
    "print([x for x in dir(DB) if x[0]!='_' and len(x)>8])"
   ]
  },
  {
   "cell_type": "code",
   "execution_count": 5,
   "metadata": {},
   "outputs": [
    {
     "name": "stdout",
     "output_type": "stream",
     "text": [
      "['AppendToExcel', 'ReadSheet', 'ResetFile', 'ResetSheet']\n"
     ]
    }
   ],
   "source": [
    "import app_proj.excel_service as XS\n",
    "print([x for x in dir(XS) if x[0]!='_' and len(x)>8])"
   ]
  },
  {
   "cell_type": "code",
   "execution_count": 6,
   "metadata": {},
   "outputs": [
    {
     "name": "stdout",
     "output_type": "stream",
     "text": [
      "C:\\Documents\\Code\\OpenStack\\ThievesGuild\\codebase\\backend\\emporium\\data\n"
     ]
    }
   ],
   "source": [
    "DATA_PATH = os.path.join(MODULE_PATH, 'data')\n",
    "print(DATA_PATH)"
   ]
  },
  {
   "cell_type": "code",
   "execution_count": 7,
   "metadata": {},
   "outputs": [],
   "source": [
    "%load_ext autoreload\n",
    "%autoreload 2\n",
    "from IPython.core.interactiveshell import InteractiveShell\n",
    "InteractiveShell.ast_node_interactivity = 'all'\n",
    "import IPython.display as DS \n",
    "from ipywidgets import IntProgress"
   ]
  },
  {
   "cell_type": "markdown",
   "metadata": {},
   "source": [
    "### Trap"
   ]
  },
  {
   "cell_type": "code",
   "execution_count": 8,
   "metadata": {
    "scrolled": false
   },
   "outputs": [
    {
     "data": {
      "text/plain": [
       "72"
      ]
     },
     "execution_count": 8,
     "metadata": {},
     "output_type": "execute_result"
    }
   ],
   "source": [
    "inputPath = os.path.join(DATA_PATH, 'StageData.xlsx')\n",
    "loadDf = XS.ReadSheet(inputPath, 'Trap')\n",
    "loadDf = loadDf.dropna(subset=['Name'])\n",
    "loadDf = loadDf.reset_index().drop(['index'], axis=1, errors='ignore')\n",
    "loadDf.shape[0]"
   ]
  },
  {
   "cell_type": "code",
   "execution_count": 9,
   "metadata": {},
   "outputs": [
    {
     "name": "stdout",
     "output_type": "stream",
     "text": [
      "table deleted\n",
      "bulk inserted\n",
      "records 72\n"
     ]
    },
    {
     "data": {
      "text/html": [
       "<div>\n",
       "<style scoped>\n",
       "    .dataframe tbody tr th:only-of-type {\n",
       "        vertical-align: middle;\n",
       "    }\n",
       "\n",
       "    .dataframe tbody tr th {\n",
       "        vertical-align: top;\n",
       "    }\n",
       "\n",
       "    .dataframe thead th {\n",
       "        text-align: right;\n",
       "    }\n",
       "</style>\n",
       "<table border=\"1\" class=\"dataframe\">\n",
       "  <thead>\n",
       "    <tr style=\"text-align: right;\">\n",
       "      <th></th>\n",
       "      <th>World</th>\n",
       "      <th>Level</th>\n",
       "      <th>Name</th>\n",
       "      <th>Trait</th>\n",
       "      <th>Skill</th>\n",
       "      <th>Success</th>\n",
       "      <th>Failure</th>\n",
       "      <th>Experience</th>\n",
       "      <th>Difficulty</th>\n",
       "      <th>Damage</th>\n",
       "    </tr>\n",
       "  </thead>\n",
       "  <tbody>\n",
       "    <tr>\n",
       "      <th>68</th>\n",
       "      <td>3</td>\n",
       "      <td>8</td>\n",
       "      <td>Rat Swarm</td>\n",
       "      <td>Mig</td>\n",
       "      <td>Tra</td>\n",
       "      <td>experience, pass</td>\n",
       "      <td>wound, pass</td>\n",
       "      <td>17</td>\n",
       "      <td>17</td>\n",
       "      <td>19</td>\n",
       "    </tr>\n",
       "    <tr>\n",
       "      <th>69</th>\n",
       "      <td>3</td>\n",
       "      <td>8</td>\n",
       "      <td>Gargoyle</td>\n",
       "      <td>Mig</td>\n",
       "      <td>Sab</td>\n",
       "      <td>experience, pass</td>\n",
       "      <td>wound, pass</td>\n",
       "      <td>17</td>\n",
       "      <td>17</td>\n",
       "      <td>19</td>\n",
       "    </tr>\n",
       "    <tr>\n",
       "      <th>70</th>\n",
       "      <td>3</td>\n",
       "      <td>8</td>\n",
       "      <td>Sewer Grate</td>\n",
       "      <td>Mig</td>\n",
       "      <td>Tra</td>\n",
       "      <td>experience, pass next</td>\n",
       "      <td>wound, pass</td>\n",
       "      <td>17</td>\n",
       "      <td>19</td>\n",
       "      <td>19</td>\n",
       "    </tr>\n",
       "    <tr>\n",
       "      <th>71</th>\n",
       "      <td>3</td>\n",
       "      <td>8</td>\n",
       "      <td>Idol</td>\n",
       "      <td>Mig</td>\n",
       "      <td>Per</td>\n",
       "      <td>treasure, pass</td>\n",
       "      <td>pass</td>\n",
       "      <td>17</td>\n",
       "      <td>21</td>\n",
       "      <td>19</td>\n",
       "    </tr>\n",
       "  </tbody>\n",
       "</table>\n",
       "</div>"
      ],
      "text/plain": [
       "    World  Level         Name Trait Skill                Success      Failure  \\\n",
       "68      3      8    Rat Swarm   Mig   Tra       experience, pass  wound, pass   \n",
       "69      3      8     Gargoyle   Mig   Sab       experience, pass  wound, pass   \n",
       "70      3      8  Sewer Grate   Mig   Tra  experience, pass next  wound, pass   \n",
       "71      3      8         Idol   Mig   Per         treasure, pass         pass   \n",
       "\n",
       "    Experience  Difficulty  Damage  \n",
       "68          17          17      19  \n",
       "69          17          17      19  \n",
       "70          17          19      19  \n",
       "71          17          21      19  "
      ]
     },
     "execution_count": 9,
     "metadata": {},
     "output_type": "execute_result"
    }
   ],
   "source": [
    "DB.DeleteTable('emporium', 'Trap')\n",
    "\n",
    "loadLs = NT.DataframeToDicts(loadDf)\n",
    "DB.InsertBulk('emporium', 'Trap', loadLs)\n",
    "\n",
    "checkLs = DB.GetTableDictionary('emporium', 'Trap')\n",
    "print('records', len(checkLs))\n",
    "PD.DataFrame(checkLs).drop('id', axis=1, errors='ignore')[-4:]"
   ]
  },
  {
   "cell_type": "markdown",
   "metadata": {},
   "source": [
    "### Enemy"
   ]
  },
  {
   "cell_type": "code",
   "execution_count": 10,
   "metadata": {
    "scrolled": true
   },
   "outputs": [
    {
     "data": {
      "text/plain": [
       "18"
      ]
     },
     "execution_count": 10,
     "metadata": {},
     "output_type": "execute_result"
    }
   ],
   "source": [
    "loadDf = XS.ReadSheet(inputPath, 'Enemy')\n",
    "loadDf = loadDf.dropna(subset=['Name'])\n",
    "loadDf = loadDf.reset_index().drop(['index'], axis=1, errors='ignore')\n",
    "loadDf = loadDf.drop(['Unnamed: 11', 'Unnamed: 12', 'check'], axis=1, errors='ignore')\n",
    "loadDf.shape[0]"
   ]
  },
  {
   "cell_type": "code",
   "execution_count": 11,
   "metadata": {},
   "outputs": [
    {
     "name": "stdout",
     "output_type": "stream",
     "text": [
      "table deleted\n",
      "bulk inserted\n",
      "records 18\n"
     ]
    },
    {
     "data": {
      "text/html": [
       "<div>\n",
       "<style scoped>\n",
       "    .dataframe tbody tr th:only-of-type {\n",
       "        vertical-align: middle;\n",
       "    }\n",
       "\n",
       "    .dataframe tbody tr th {\n",
       "        vertical-align: top;\n",
       "    }\n",
       "\n",
       "    .dataframe thead th {\n",
       "        text-align: right;\n",
       "    }\n",
       "</style>\n",
       "<table border=\"1\" class=\"dataframe\">\n",
       "  <thead>\n",
       "    <tr style=\"text-align: right;\">\n",
       "      <th></th>\n",
       "      <th>World</th>\n",
       "      <th>Level</th>\n",
       "      <th>Name</th>\n",
       "      <th>Trait</th>\n",
       "      <th>Skill</th>\n",
       "      <th>Success</th>\n",
       "      <th>Failure</th>\n",
       "      <th>Experience</th>\n",
       "      <th>Attack</th>\n",
       "      <th>Damage</th>\n",
       "      <th>Defense</th>\n",
       "      <th>Health</th>\n",
       "    </tr>\n",
       "  </thead>\n",
       "  <tbody>\n",
       "    <tr>\n",
       "      <th>0</th>\n",
       "      <td>1</td>\n",
       "      <td>1</td>\n",
       "      <td>Vanguard</td>\n",
       "      <td>All</td>\n",
       "      <td>Fight</td>\n",
       "      <td>experience, pass</td>\n",
       "      <td>knockout</td>\n",
       "      <td>16</td>\n",
       "      <td>2</td>\n",
       "      <td>8</td>\n",
       "      <td>13</td>\n",
       "      <td>11</td>\n",
       "    </tr>\n",
       "    <tr>\n",
       "      <th>1</th>\n",
       "      <td>1</td>\n",
       "      <td>1</td>\n",
       "      <td>Sorcerer</td>\n",
       "      <td>All</td>\n",
       "      <td>Fight</td>\n",
       "      <td>experience, pass</td>\n",
       "      <td>knockout</td>\n",
       "      <td>16</td>\n",
       "      <td>3</td>\n",
       "      <td>10</td>\n",
       "      <td>12</td>\n",
       "      <td>9</td>\n",
       "    </tr>\n",
       "    <tr>\n",
       "      <th>2</th>\n",
       "      <td>1</td>\n",
       "      <td>1</td>\n",
       "      <td>Warden</td>\n",
       "      <td>All</td>\n",
       "      <td>Fight</td>\n",
       "      <td>experience, pass</td>\n",
       "      <td>knockout</td>\n",
       "      <td>16</td>\n",
       "      <td>2</td>\n",
       "      <td>6</td>\n",
       "      <td>15</td>\n",
       "      <td>12</td>\n",
       "    </tr>\n",
       "    <tr>\n",
       "      <th>3</th>\n",
       "      <td>1</td>\n",
       "      <td>2</td>\n",
       "      <td>Vanguard</td>\n",
       "      <td>All</td>\n",
       "      <td>Fight</td>\n",
       "      <td>experience, pass</td>\n",
       "      <td>knockout</td>\n",
       "      <td>18</td>\n",
       "      <td>3</td>\n",
       "      <td>8</td>\n",
       "      <td>13</td>\n",
       "      <td>11</td>\n",
       "    </tr>\n",
       "  </tbody>\n",
       "</table>\n",
       "</div>"
      ],
      "text/plain": [
       "   World  Level      Name Trait  Skill           Success   Failure  \\\n",
       "0      1      1  Vanguard   All  Fight  experience, pass  knockout   \n",
       "1      1      1  Sorcerer   All  Fight  experience, pass  knockout   \n",
       "2      1      1    Warden   All  Fight  experience, pass  knockout   \n",
       "3      1      2  Vanguard   All  Fight  experience, pass  knockout   \n",
       "\n",
       "   Experience  Attack  Damage  Defense  Health  \n",
       "0          16       2       8       13      11  \n",
       "1          16       3      10       12       9  \n",
       "2          16       2       6       15      12  \n",
       "3          18       3       8       13      11  "
      ]
     },
     "execution_count": 11,
     "metadata": {},
     "output_type": "execute_result"
    }
   ],
   "source": [
    "DB.DeleteTable('emporium', 'Enemy')\n",
    "\n",
    "loadLs = NT.DataframeToDicts(loadDf)\n",
    "DB.InsertBulk('emporium', 'Enemy', loadLs)\n",
    "\n",
    "checkLs = DB.GetTableDictionary('emporium', 'Enemy')\n",
    "print('records', len(checkLs))\n",
    "PD.DataFrame(checkLs).drop('id', axis=1, errors='ignore')[:4]"
   ]
  },
  {
   "cell_type": "markdown",
   "metadata": {},
   "source": [
    "### Gothic Tower"
   ]
  },
  {
   "cell_type": "code",
   "execution_count": 12,
   "metadata": {},
   "outputs": [
    {
     "data": {
      "text/plain": [
       "36"
      ]
     },
     "execution_count": 12,
     "metadata": {},
     "output_type": "execute_result"
    }
   ],
   "source": [
    "loadDf = XS.ReadSheet(inputPath, 'GothicTower')\n",
    "loadDf = loadDf.dropna(subset=['StageNo'])\n",
    "loadDf = loadDf.reset_index().drop(['index'], axis=1, errors='ignore')\n",
    "loadDf = loadDf.drop(['Rank', 'factor'], axis=1, errors='ignore')\n",
    "loadDf.shape[0]"
   ]
  },
  {
   "cell_type": "code",
   "execution_count": 13,
   "metadata": {},
   "outputs": [
    {
     "name": "stdout",
     "output_type": "stream",
     "text": [
      "table deleted\n",
      "bulk inserted\n",
      "records 36\n"
     ]
    },
    {
     "data": {
      "text/html": [
       "<div>\n",
       "<style scoped>\n",
       "    .dataframe tbody tr th:only-of-type {\n",
       "        vertical-align: middle;\n",
       "    }\n",
       "\n",
       "    .dataframe tbody tr th {\n",
       "        vertical-align: top;\n",
       "    }\n",
       "\n",
       "    .dataframe thead th {\n",
       "        text-align: right;\n",
       "    }\n",
       "</style>\n",
       "<table border=\"1\" class=\"dataframe\">\n",
       "  <thead>\n",
       "    <tr style=\"text-align: right;\">\n",
       "      <th></th>\n",
       "      <th>World</th>\n",
       "      <th>StageNo</th>\n",
       "      <th>ObstaclesL1</th>\n",
       "      <th>LevelLnd1</th>\n",
       "      <th>ObstaclesL2</th>\n",
       "      <th>LevelLnd2</th>\n",
       "      <th>ObstaclesL3</th>\n",
       "      <th>LevelLnd3</th>\n",
       "      <th>ObstaclesL4</th>\n",
       "      <th>LevelLnd4</th>\n",
       "      <th>ObstaclesL5</th>\n",
       "      <th>LevelLnd5</th>\n",
       "      <th>Gold</th>\n",
       "      <th>Stone</th>\n",
       "      <th>Gems</th>\n",
       "    </tr>\n",
       "  </thead>\n",
       "  <tbody>\n",
       "    <tr>\n",
       "      <th>0</th>\n",
       "      <td>1</td>\n",
       "      <td>1</td>\n",
       "      <td>12</td>\n",
       "      <td>1</td>\n",
       "      <td>NaN</td>\n",
       "      <td>NaN</td>\n",
       "      <td>NaN</td>\n",
       "      <td>NaN</td>\n",
       "      <td>None</td>\n",
       "      <td>None</td>\n",
       "      <td>None</td>\n",
       "      <td>None</td>\n",
       "      <td>50</td>\n",
       "      <td>20</td>\n",
       "      <td>5</td>\n",
       "    </tr>\n",
       "    <tr>\n",
       "      <th>1</th>\n",
       "      <td>1</td>\n",
       "      <td>2</td>\n",
       "      <td>13</td>\n",
       "      <td>1</td>\n",
       "      <td>NaN</td>\n",
       "      <td>NaN</td>\n",
       "      <td>NaN</td>\n",
       "      <td>NaN</td>\n",
       "      <td>None</td>\n",
       "      <td>None</td>\n",
       "      <td>None</td>\n",
       "      <td>None</td>\n",
       "      <td>53</td>\n",
       "      <td>21</td>\n",
       "      <td>5</td>\n",
       "    </tr>\n",
       "    <tr>\n",
       "      <th>2</th>\n",
       "      <td>1</td>\n",
       "      <td>3</td>\n",
       "      <td>13</td>\n",
       "      <td>2</td>\n",
       "      <td>NaN</td>\n",
       "      <td>NaN</td>\n",
       "      <td>NaN</td>\n",
       "      <td>NaN</td>\n",
       "      <td>None</td>\n",
       "      <td>None</td>\n",
       "      <td>None</td>\n",
       "      <td>None</td>\n",
       "      <td>55</td>\n",
       "      <td>22</td>\n",
       "      <td>6</td>\n",
       "    </tr>\n",
       "    <tr>\n",
       "      <th>3</th>\n",
       "      <td>1</td>\n",
       "      <td>4</td>\n",
       "      <td>16</td>\n",
       "      <td>1</td>\n",
       "      <td>NaN</td>\n",
       "      <td>NaN</td>\n",
       "      <td>NaN</td>\n",
       "      <td>NaN</td>\n",
       "      <td>None</td>\n",
       "      <td>None</td>\n",
       "      <td>None</td>\n",
       "      <td>None</td>\n",
       "      <td>58</td>\n",
       "      <td>23</td>\n",
       "      <td>6</td>\n",
       "    </tr>\n",
       "  </tbody>\n",
       "</table>\n",
       "</div>"
      ],
      "text/plain": [
       "   World  StageNo  ObstaclesL1  LevelLnd1  ObstaclesL2  LevelLnd2  \\\n",
       "0      1        1           12          1          NaN        NaN   \n",
       "1      1        2           13          1          NaN        NaN   \n",
       "2      1        3           13          2          NaN        NaN   \n",
       "3      1        4           16          1          NaN        NaN   \n",
       "\n",
       "   ObstaclesL3  LevelLnd3 ObstaclesL4 LevelLnd4 ObstaclesL5 LevelLnd5  Gold  \\\n",
       "0          NaN        NaN        None      None        None      None    50   \n",
       "1          NaN        NaN        None      None        None      None    53   \n",
       "2          NaN        NaN        None      None        None      None    55   \n",
       "3          NaN        NaN        None      None        None      None    58   \n",
       "\n",
       "   Stone  Gems  \n",
       "0     20     5  \n",
       "1     21     5  \n",
       "2     22     6  \n",
       "3     23     6  "
      ]
     },
     "execution_count": 13,
     "metadata": {},
     "output_type": "execute_result"
    }
   ],
   "source": [
    "DB.DeleteTable('emporium', 'GothicTower')\n",
    "\n",
    "loadLs = NT.DataframeToDicts(loadDf)\n",
    "DB.InsertBulk('emporium', 'GothicTower', loadLs)\n",
    "\n",
    "checkLs = DB.GetTableDictionary('emporium', 'GothicTower')\n",
    "print('records', len(checkLs))\n",
    "PD.DataFrame(checkLs).drop('id', axis=1, errors='ignore')[:4]"
   ]
  },
  {
   "cell_type": "markdown",
   "metadata": {},
   "source": [
    "### League Trial"
   ]
  },
  {
   "cell_type": "code",
   "execution_count": 14,
   "metadata": {},
   "outputs": [
    {
     "data": {
      "text/plain": [
       "12"
      ]
     },
     "execution_count": 14,
     "metadata": {},
     "output_type": "execute_result"
    }
   ],
   "source": [
    "loadDf = XS.ReadSheet(inputPath, 'LeagueTrial')\n",
    "loadDf = loadDf.dropna(subset=['StageNo'])\n",
    "loadDf = loadDf.reset_index().drop(['index'], axis=1, errors='ignore')\n",
    "loadDf = loadDf.drop(['Rank', 'factor'], axis=1, errors='ignore')\n",
    "loadDf.shape[0]"
   ]
  },
  {
   "cell_type": "code",
   "execution_count": 15,
   "metadata": {},
   "outputs": [
    {
     "name": "stdout",
     "output_type": "stream",
     "text": [
      "table deleted\n",
      "bulk inserted\n",
      "records 12\n"
     ]
    },
    {
     "data": {
      "text/html": [
       "<div>\n",
       "<style scoped>\n",
       "    .dataframe tbody tr th:only-of-type {\n",
       "        vertical-align: middle;\n",
       "    }\n",
       "\n",
       "    .dataframe tbody tr th {\n",
       "        vertical-align: top;\n",
       "    }\n",
       "\n",
       "    .dataframe thead th {\n",
       "        text-align: right;\n",
       "    }\n",
       "</style>\n",
       "<table border=\"1\" class=\"dataframe\">\n",
       "  <thead>\n",
       "    <tr style=\"text-align: right;\">\n",
       "      <th></th>\n",
       "      <th>World</th>\n",
       "      <th>StageNo</th>\n",
       "      <th>ObstaclesL1</th>\n",
       "      <th>LevelLnd1</th>\n",
       "      <th>ObstaclesL2</th>\n",
       "      <th>LevelLnd2</th>\n",
       "      <th>ObstaclesL3</th>\n",
       "      <th>LevelLnd3</th>\n",
       "      <th>ObstaclesL4</th>\n",
       "      <th>LevelLnd4</th>\n",
       "      <th>ObstaclesL5</th>\n",
       "      <th>LevelLnd5</th>\n",
       "      <th>Gold</th>\n",
       "      <th>Stone</th>\n",
       "      <th>Gems</th>\n",
       "    </tr>\n",
       "  </thead>\n",
       "  <tbody>\n",
       "    <tr>\n",
       "      <th>9</th>\n",
       "      <td>5</td>\n",
       "      <td>2</td>\n",
       "      <td>16</td>\n",
       "      <td>1</td>\n",
       "      <td>15.0</td>\n",
       "      <td>1.0</td>\n",
       "      <td>None</td>\n",
       "      <td>None</td>\n",
       "      <td>None</td>\n",
       "      <td>None</td>\n",
       "      <td>None</td>\n",
       "      <td>None</td>\n",
       "      <td>322</td>\n",
       "      <td>146</td>\n",
       "      <td>12</td>\n",
       "    </tr>\n",
       "    <tr>\n",
       "      <th>10</th>\n",
       "      <td>6</td>\n",
       "      <td>1</td>\n",
       "      <td>14</td>\n",
       "      <td>1</td>\n",
       "      <td>16.0</td>\n",
       "      <td>1.0</td>\n",
       "      <td>None</td>\n",
       "      <td>None</td>\n",
       "      <td>None</td>\n",
       "      <td>None</td>\n",
       "      <td>None</td>\n",
       "      <td>None</td>\n",
       "      <td>325</td>\n",
       "      <td>150</td>\n",
       "      <td>13</td>\n",
       "    </tr>\n",
       "    <tr>\n",
       "      <th>11</th>\n",
       "      <td>6</td>\n",
       "      <td>2</td>\n",
       "      <td>15</td>\n",
       "      <td>1</td>\n",
       "      <td>17.0</td>\n",
       "      <td>1.0</td>\n",
       "      <td>None</td>\n",
       "      <td>None</td>\n",
       "      <td>None</td>\n",
       "      <td>None</td>\n",
       "      <td>None</td>\n",
       "      <td>None</td>\n",
       "      <td>351</td>\n",
       "      <td>162</td>\n",
       "      <td>14</td>\n",
       "    </tr>\n",
       "  </tbody>\n",
       "</table>\n",
       "</div>"
      ],
      "text/plain": [
       "    World  StageNo  ObstaclesL1  LevelLnd1  ObstaclesL2  LevelLnd2  \\\n",
       "9       5        2           16          1         15.0        1.0   \n",
       "10      6        1           14          1         16.0        1.0   \n",
       "11      6        2           15          1         17.0        1.0   \n",
       "\n",
       "   ObstaclesL3 LevelLnd3 ObstaclesL4 LevelLnd4 ObstaclesL5 LevelLnd5  Gold  \\\n",
       "9         None      None        None      None        None      None   322   \n",
       "10        None      None        None      None        None      None   325   \n",
       "11        None      None        None      None        None      None   351   \n",
       "\n",
       "    Stone  Gems  \n",
       "9     146    12  \n",
       "10    150    13  \n",
       "11    162    14  "
      ]
     },
     "execution_count": 15,
     "metadata": {},
     "output_type": "execute_result"
    }
   ],
   "source": [
    "DB.DeleteTable('emporium', 'LeagueTrial')\n",
    "\n",
    "loadLs = NT.DataframeToDicts(loadDf)\n",
    "DB.InsertBulk('emporium', 'LeagueTrial', loadLs)\n",
    "\n",
    "checkLs = DB.GetTableDictionary('emporium', 'LeagueTrial')\n",
    "print('records', len(checkLs))\n",
    "PD.DataFrame(checkLs).drop('id', axis=1, errors='ignore')[-3:]"
   ]
  },
  {
   "cell_type": "markdown",
   "metadata": {},
   "source": [
    "### Dungeon"
   ]
  },
  {
   "cell_type": "code",
   "execution_count": 16,
   "metadata": {},
   "outputs": [
    {
     "data": {
      "text/html": [
       "<div>\n",
       "<style scoped>\n",
       "    .dataframe tbody tr th:only-of-type {\n",
       "        vertical-align: middle;\n",
       "    }\n",
       "\n",
       "    .dataframe tbody tr th {\n",
       "        vertical-align: top;\n",
       "    }\n",
       "\n",
       "    .dataframe thead th {\n",
       "        text-align: right;\n",
       "    }\n",
       "</style>\n",
       "<table border=\"1\" class=\"dataframe\">\n",
       "  <thead>\n",
       "    <tr style=\"text-align: right;\">\n",
       "      <th></th>\n",
       "      <th>World</th>\n",
       "      <th>StageNo</th>\n",
       "      <th>DifficultyL1</th>\n",
       "      <th>DifficultyL2</th>\n",
       "      <th>DifficultyL3</th>\n",
       "      <th>DifficultyL4</th>\n",
       "      <th>DifficultyL5</th>\n",
       "      <th>Gold</th>\n",
       "      <th>Stone</th>\n",
       "      <th>Gems</th>\n",
       "    </tr>\n",
       "  </thead>\n",
       "  <tbody>\n",
       "    <tr>\n",
       "      <th>0</th>\n",
       "      <td>2.0</td>\n",
       "      <td>1.0</td>\n",
       "      <td>easy</td>\n",
       "      <td>easy / med</td>\n",
       "      <td>med</td>\n",
       "      <td>NaN</td>\n",
       "      <td>NaN</td>\n",
       "      <td>493.0</td>\n",
       "      <td>205.0</td>\n",
       "      <td>6.0</td>\n",
       "    </tr>\n",
       "    <tr>\n",
       "      <th>1</th>\n",
       "      <td>3.0</td>\n",
       "      <td>1.0</td>\n",
       "      <td>easy</td>\n",
       "      <td>easy / med</td>\n",
       "      <td>med</td>\n",
       "      <td>NaN</td>\n",
       "      <td>NaN</td>\n",
       "      <td>538.0</td>\n",
       "      <td>230.0</td>\n",
       "      <td>7.0</td>\n",
       "    </tr>\n",
       "    <tr>\n",
       "      <th>2</th>\n",
       "      <td>4.0</td>\n",
       "      <td>1.0</td>\n",
       "      <td>easy</td>\n",
       "      <td>easy / med</td>\n",
       "      <td>easy / med</td>\n",
       "      <td>med</td>\n",
       "      <td>NaN</td>\n",
       "      <td>779.0</td>\n",
       "      <td>343.0</td>\n",
       "      <td>9.0</td>\n",
       "    </tr>\n",
       "    <tr>\n",
       "      <th>3</th>\n",
       "      <td>5.0</td>\n",
       "      <td>1.0</td>\n",
       "      <td>easy</td>\n",
       "      <td>easy / med</td>\n",
       "      <td>easy / med</td>\n",
       "      <td>med</td>\n",
       "      <td>NaN</td>\n",
       "      <td>843.0</td>\n",
       "      <td>381.0</td>\n",
       "      <td>10.0</td>\n",
       "    </tr>\n",
       "    <tr>\n",
       "      <th>4</th>\n",
       "      <td>6.0</td>\n",
       "      <td>1.0</td>\n",
       "      <td>easy</td>\n",
       "      <td>easy / med</td>\n",
       "      <td>easy / med</td>\n",
       "      <td>med</td>\n",
       "      <td>NaN</td>\n",
       "      <td>910.0</td>\n",
       "      <td>420.0</td>\n",
       "      <td>12.0</td>\n",
       "    </tr>\n",
       "  </tbody>\n",
       "</table>\n",
       "</div>"
      ],
      "text/plain": [
       "   World  StageNo DifficultyL1 DifficultyL2 DifficultyL3 DifficultyL4  \\\n",
       "0    2.0      1.0         easy   easy / med          med          NaN   \n",
       "1    3.0      1.0         easy   easy / med          med          NaN   \n",
       "2    4.0      1.0         easy   easy / med   easy / med          med   \n",
       "3    5.0      1.0         easy   easy / med   easy / med          med   \n",
       "4    6.0      1.0         easy   easy / med   easy / med          med   \n",
       "\n",
       "   DifficultyL5   Gold  Stone  Gems  \n",
       "0           NaN  493.0  205.0   6.0  \n",
       "1           NaN  538.0  230.0   7.0  \n",
       "2           NaN  779.0  343.0   9.0  \n",
       "3           NaN  843.0  381.0  10.0  \n",
       "4           NaN  910.0  420.0  12.0  "
      ]
     },
     "execution_count": 16,
     "metadata": {},
     "output_type": "execute_result"
    }
   ],
   "source": [
    "loadDf = XS.ReadSheet(inputPath, 'Dungeon')\n",
    "loadDf = loadDf.dropna(subset=['StageNo'])\n",
    "loadDf = loadDf.reset_index().drop(['index'], axis=1, errors='ignore')\n",
    "loadDf = loadDf.drop(['Rank', 'factor'], axis=1, errors='ignore')\n",
    "loadDf#.shape[0]"
   ]
  },
  {
   "cell_type": "code",
   "execution_count": 17,
   "metadata": {},
   "outputs": [
    {
     "name": "stdout",
     "output_type": "stream",
     "text": [
      "table deleted\n",
      "bulk inserted\n",
      "records 5\n"
     ]
    },
    {
     "data": {
      "text/html": [
       "<div>\n",
       "<style scoped>\n",
       "    .dataframe tbody tr th:only-of-type {\n",
       "        vertical-align: middle;\n",
       "    }\n",
       "\n",
       "    .dataframe tbody tr th {\n",
       "        vertical-align: top;\n",
       "    }\n",
       "\n",
       "    .dataframe thead th {\n",
       "        text-align: right;\n",
       "    }\n",
       "</style>\n",
       "<table border=\"1\" class=\"dataframe\">\n",
       "  <thead>\n",
       "    <tr style=\"text-align: right;\">\n",
       "      <th></th>\n",
       "      <th>World</th>\n",
       "      <th>StageNo</th>\n",
       "      <th>DifficultyL1</th>\n",
       "      <th>DifficultyL2</th>\n",
       "      <th>DifficultyL3</th>\n",
       "      <th>DifficultyL4</th>\n",
       "      <th>DifficultyL5</th>\n",
       "      <th>Gold</th>\n",
       "      <th>Stone</th>\n",
       "      <th>Gems</th>\n",
       "    </tr>\n",
       "  </thead>\n",
       "  <tbody>\n",
       "    <tr>\n",
       "      <th>0</th>\n",
       "      <td>2</td>\n",
       "      <td>1</td>\n",
       "      <td>easy</td>\n",
       "      <td>easy / med</td>\n",
       "      <td>med</td>\n",
       "      <td>None</td>\n",
       "      <td>None</td>\n",
       "      <td>493</td>\n",
       "      <td>205</td>\n",
       "      <td>6</td>\n",
       "    </tr>\n",
       "    <tr>\n",
       "      <th>1</th>\n",
       "      <td>3</td>\n",
       "      <td>1</td>\n",
       "      <td>easy</td>\n",
       "      <td>easy / med</td>\n",
       "      <td>med</td>\n",
       "      <td>None</td>\n",
       "      <td>None</td>\n",
       "      <td>538</td>\n",
       "      <td>230</td>\n",
       "      <td>7</td>\n",
       "    </tr>\n",
       "    <tr>\n",
       "      <th>2</th>\n",
       "      <td>4</td>\n",
       "      <td>1</td>\n",
       "      <td>easy</td>\n",
       "      <td>easy / med</td>\n",
       "      <td>easy / med</td>\n",
       "      <td>med</td>\n",
       "      <td>None</td>\n",
       "      <td>779</td>\n",
       "      <td>343</td>\n",
       "      <td>9</td>\n",
       "    </tr>\n",
       "    <tr>\n",
       "      <th>3</th>\n",
       "      <td>5</td>\n",
       "      <td>1</td>\n",
       "      <td>easy</td>\n",
       "      <td>easy / med</td>\n",
       "      <td>easy / med</td>\n",
       "      <td>med</td>\n",
       "      <td>None</td>\n",
       "      <td>843</td>\n",
       "      <td>381</td>\n",
       "      <td>10</td>\n",
       "    </tr>\n",
       "    <tr>\n",
       "      <th>4</th>\n",
       "      <td>6</td>\n",
       "      <td>1</td>\n",
       "      <td>easy</td>\n",
       "      <td>easy / med</td>\n",
       "      <td>easy / med</td>\n",
       "      <td>med</td>\n",
       "      <td>None</td>\n",
       "      <td>910</td>\n",
       "      <td>420</td>\n",
       "      <td>12</td>\n",
       "    </tr>\n",
       "  </tbody>\n",
       "</table>\n",
       "</div>"
      ],
      "text/plain": [
       "   World  StageNo DifficultyL1 DifficultyL2 DifficultyL3 DifficultyL4  \\\n",
       "0      2        1         easy   easy / med          med         None   \n",
       "1      3        1         easy   easy / med          med         None   \n",
       "2      4        1         easy   easy / med   easy / med          med   \n",
       "3      5        1         easy   easy / med   easy / med          med   \n",
       "4      6        1         easy   easy / med   easy / med          med   \n",
       "\n",
       "  DifficultyL5  Gold  Stone  Gems  \n",
       "0         None   493    205     6  \n",
       "1         None   538    230     7  \n",
       "2         None   779    343     9  \n",
       "3         None   843    381    10  \n",
       "4         None   910    420    12  "
      ]
     },
     "execution_count": 17,
     "metadata": {},
     "output_type": "execute_result"
    }
   ],
   "source": [
    "DB.DeleteTable('emporium', 'Dungeon')\n",
    "\n",
    "loadLs = NT.DataframeToDicts(loadDf)\n",
    "DB.InsertBulk('emporium', 'Dungeon', loadLs)\n",
    "\n",
    "checkLs = DB.GetTableDictionary('emporium', 'Dungeon')\n",
    "print('records', len(checkLs))\n",
    "PD.DataFrame(checkLs).drop('id', axis=1, errors='ignore')"
   ]
  },
  {
   "cell_type": "markdown",
   "metadata": {},
   "source": [
    "### Campaign"
   ]
  },
  {
   "cell_type": "code",
   "execution_count": 18,
   "metadata": {},
   "outputs": [
    {
     "data": {
      "text/plain": [
       "41"
      ]
     },
     "execution_count": 18,
     "metadata": {},
     "output_type": "execute_result"
    }
   ],
   "source": [
    "loadDf = XS.ReadSheet(inputPath, 'Campaign')\n",
    "loadDf = loadDf.dropna(subset=['StageNo'])\n",
    "loadDf = loadDf.reset_index().drop(['index'], axis=1, errors='ignore')\n",
    "loadDf = loadDf.drop(['Rank', 'factor'], axis=1, errors='ignore')\n",
    "loadDf.shape[0]"
   ]
  },
  {
   "cell_type": "code",
   "execution_count": 19,
   "metadata": {},
   "outputs": [
    {
     "name": "stdout",
     "output_type": "stream",
     "text": [
      "table deleted\n",
      "bulk inserted\n",
      "records 41\n"
     ]
    },
    {
     "data": {
      "text/html": [
       "<div>\n",
       "<style scoped>\n",
       "    .dataframe tbody tr th:only-of-type {\n",
       "        vertical-align: middle;\n",
       "    }\n",
       "\n",
       "    .dataframe tbody tr th {\n",
       "        vertical-align: top;\n",
       "    }\n",
       "\n",
       "    .dataframe thead th {\n",
       "        text-align: right;\n",
       "    }\n",
       "</style>\n",
       "<table border=\"1\" class=\"dataframe\">\n",
       "  <thead>\n",
       "    <tr style=\"text-align: right;\">\n",
       "      <th></th>\n",
       "      <th>World</th>\n",
       "      <th>StageNo</th>\n",
       "      <th>DifficultyL1</th>\n",
       "      <th>DifficultyL2</th>\n",
       "      <th>DifficultyL3</th>\n",
       "      <th>DifficultyL4</th>\n",
       "      <th>DifficultyL5</th>\n",
       "      <th>Gold</th>\n",
       "      <th>Stone</th>\n",
       "      <th>Gems</th>\n",
       "    </tr>\n",
       "  </thead>\n",
       "  <tbody>\n",
       "    <tr>\n",
       "      <th>38</th>\n",
       "      <td>3</td>\n",
       "      <td>15</td>\n",
       "      <td>med / hard</td>\n",
       "      <td>hard</td>\n",
       "      <td>med / hard</td>\n",
       "      <td>None</td>\n",
       "      <td>None</td>\n",
       "      <td>790</td>\n",
       "      <td>338</td>\n",
       "      <td>8</td>\n",
       "    </tr>\n",
       "    <tr>\n",
       "      <th>39</th>\n",
       "      <td>3</td>\n",
       "      <td>16</td>\n",
       "      <td>hard</td>\n",
       "      <td>hard</td>\n",
       "      <td>None</td>\n",
       "      <td>None</td>\n",
       "      <td>None</td>\n",
       "      <td>532</td>\n",
       "      <td>228</td>\n",
       "      <td>8</td>\n",
       "    </tr>\n",
       "    <tr>\n",
       "      <th>40</th>\n",
       "      <td>3</td>\n",
       "      <td>17</td>\n",
       "      <td>med / hard</td>\n",
       "      <td>hard</td>\n",
       "      <td>hard</td>\n",
       "      <td>None</td>\n",
       "      <td>None</td>\n",
       "      <td>806</td>\n",
       "      <td>346</td>\n",
       "      <td>8</td>\n",
       "    </tr>\n",
       "  </tbody>\n",
       "</table>\n",
       "</div>"
      ],
      "text/plain": [
       "    World  StageNo DifficultyL1 DifficultyL2 DifficultyL3 DifficultyL4  \\\n",
       "38      3       15   med / hard         hard   med / hard         None   \n",
       "39      3       16         hard         hard         None         None   \n",
       "40      3       17   med / hard         hard         hard         None   \n",
       "\n",
       "   DifficultyL5  Gold  Stone  Gems  \n",
       "38         None   790    338     8  \n",
       "39         None   532    228     8  \n",
       "40         None   806    346     8  "
      ]
     },
     "execution_count": 19,
     "metadata": {},
     "output_type": "execute_result"
    }
   ],
   "source": [
    "DB.DeleteTable('emporium', 'Campaign')\n",
    "\n",
    "loadLs = NT.DataframeToDicts(loadDf)\n",
    "DB.InsertBulk('emporium', 'Campaign', loadLs)\n",
    "\n",
    "checkLs = DB.GetTableDictionary('emporium', 'Campaign')\n",
    "print('records', len(checkLs))\n",
    "PD.DataFrame(checkLs).drop('id', axis=1, errors='ignore')[-3:]"
   ]
  },
  {
   "cell_type": "markdown",
   "metadata": {},
   "source": [
    "### Trial Day"
   ]
  },
  {
   "cell_type": "code",
   "execution_count": 20,
   "metadata": {},
   "outputs": [
    {
     "data": {
      "text/plain": [
       "7"
      ]
     },
     "execution_count": 20,
     "metadata": {},
     "output_type": "execute_result"
    }
   ],
   "source": [
    "loadDf = XS.ReadSheet(inputPath, 'TrialDay')\n",
    "loadDf = loadDf.dropna(subset=['WeekDay'])\n",
    "loadDf = loadDf.reset_index().drop(['index'], axis=1, errors='ignore')\n",
    "loadDf.shape[0]"
   ]
  },
  {
   "cell_type": "code",
   "execution_count": 21,
   "metadata": {},
   "outputs": [
    {
     "name": "stdout",
     "output_type": "stream",
     "text": [
      "table deleted\n",
      "bulk inserted\n",
      "records 7\n"
     ]
    },
    {
     "data": {
      "text/html": [
       "<div>\n",
       "<style scoped>\n",
       "    .dataframe tbody tr th:only-of-type {\n",
       "        vertical-align: middle;\n",
       "    }\n",
       "\n",
       "    .dataframe tbody tr th {\n",
       "        vertical-align: top;\n",
       "    }\n",
       "\n",
       "    .dataframe thead th {\n",
       "        text-align: right;\n",
       "    }\n",
       "</style>\n",
       "<table border=\"1\" class=\"dataframe\">\n",
       "  <thead>\n",
       "    <tr style=\"text-align: right;\">\n",
       "      <th></th>\n",
       "      <th>WeekDay</th>\n",
       "      <th>StageType</th>\n",
       "    </tr>\n",
       "  </thead>\n",
       "  <tbody>\n",
       "    <tr>\n",
       "      <th>0</th>\n",
       "      <td>sunday</td>\n",
       "      <td>agi</td>\n",
       "    </tr>\n",
       "    <tr>\n",
       "      <th>1</th>\n",
       "      <td>monday</td>\n",
       "      <td>cun</td>\n",
       "    </tr>\n",
       "    <tr>\n",
       "      <th>2</th>\n",
       "      <td>tuesday</td>\n",
       "      <td>mig</td>\n",
       "    </tr>\n",
       "    <tr>\n",
       "      <th>3</th>\n",
       "      <td>wednesday</td>\n",
       "      <td>cmb</td>\n",
       "    </tr>\n",
       "  </tbody>\n",
       "</table>\n",
       "</div>"
      ],
      "text/plain": [
       "     WeekDay StageType\n",
       "0     sunday       agi\n",
       "1     monday       cun\n",
       "2    tuesday       mig\n",
       "3  wednesday       cmb"
      ]
     },
     "execution_count": 21,
     "metadata": {},
     "output_type": "execute_result"
    }
   ],
   "source": [
    "DB.DeleteTable('emporium', 'TrialDay')\n",
    "\n",
    "loadLs = NT.DataframeToDicts(loadDf)\n",
    "DB.InsertBulk('emporium', 'TrialDay', loadLs)\n",
    "\n",
    "checkLs = DB.GetTableDictionary('emporium', 'TrialDay')\n",
    "print('records', len(checkLs))\n",
    "PD.DataFrame(checkLs).drop('id', axis=1, errors='ignore')[:4]"
   ]
  },
  {
   "cell_type": "markdown",
   "metadata": {},
   "source": [
    "### Expedition Level"
   ]
  },
  {
   "cell_type": "code",
   "execution_count": 22,
   "metadata": {},
   "outputs": [
    {
     "data": {
      "text/plain": [
       "6"
      ]
     },
     "execution_count": 22,
     "metadata": {},
     "output_type": "execute_result"
    }
   ],
   "source": [
    "loadDf = XS.ReadSheet(inputPath, 'ExpeditionLevel')\n",
    "loadDf = loadDf.dropna(subset=['World'])\n",
    "loadDf = loadDf.reset_index().drop(['index'], axis=1, errors='ignore')\n",
    "loadDf.shape[0]"
   ]
  },
  {
   "cell_type": "code",
   "execution_count": 23,
   "metadata": {},
   "outputs": [
    {
     "name": "stdout",
     "output_type": "stream",
     "text": [
      "table deleted\n",
      "bulk inserted\n",
      "records 6\n"
     ]
    },
    {
     "data": {
      "text/html": [
       "<div>\n",
       "<style scoped>\n",
       "    .dataframe tbody tr th:only-of-type {\n",
       "        vertical-align: middle;\n",
       "    }\n",
       "\n",
       "    .dataframe tbody tr th {\n",
       "        vertical-align: top;\n",
       "    }\n",
       "\n",
       "    .dataframe thead th {\n",
       "        text-align: right;\n",
       "    }\n",
       "</style>\n",
       "<table border=\"1\" class=\"dataframe\">\n",
       "  <thead>\n",
       "    <tr style=\"text-align: right;\">\n",
       "      <th></th>\n",
       "      <th>World</th>\n",
       "      <th>Level</th>\n",
       "      <th>Duration</th>\n",
       "      <th>DurationMin</th>\n",
       "    </tr>\n",
       "  </thead>\n",
       "  <tbody>\n",
       "    <tr>\n",
       "      <th>0</th>\n",
       "      <td>1</td>\n",
       "      <td>1</td>\n",
       "      <td>8 hr</td>\n",
       "      <td>3 hr</td>\n",
       "    </tr>\n",
       "    <tr>\n",
       "      <th>1</th>\n",
       "      <td>1</td>\n",
       "      <td>2</td>\n",
       "      <td>9 hr</td>\n",
       "      <td>4 hr</td>\n",
       "    </tr>\n",
       "    <tr>\n",
       "      <th>2</th>\n",
       "      <td>2</td>\n",
       "      <td>4</td>\n",
       "      <td>16 hr</td>\n",
       "      <td>5 hr</td>\n",
       "    </tr>\n",
       "    <tr>\n",
       "      <th>3</th>\n",
       "      <td>2</td>\n",
       "      <td>5</td>\n",
       "      <td>18 hr</td>\n",
       "      <td>6 hr</td>\n",
       "    </tr>\n",
       "  </tbody>\n",
       "</table>\n",
       "</div>"
      ],
      "text/plain": [
       "   World  Level Duration DurationMin\n",
       "0      1      1     8 hr        3 hr\n",
       "1      1      2     9 hr        4 hr\n",
       "2      2      4    16 hr        5 hr\n",
       "3      2      5    18 hr        6 hr"
      ]
     },
     "execution_count": 23,
     "metadata": {},
     "output_type": "execute_result"
    }
   ],
   "source": [
    "DB.DeleteTable('emporium', 'ExpeditionLevel')\n",
    "\n",
    "loadLs = NT.DataframeToDicts(loadDf)\n",
    "DB.InsertBulk('emporium', 'ExpeditionLevel', loadLs)\n",
    "\n",
    "checkLs = DB.GetTableDictionary('emporium', 'ExpeditionLevel')\n",
    "print('records', len(checkLs))\n",
    "PD.DataFrame(checkLs).drop('id', axis=1, errors='ignore')[:4]"
   ]
  },
  {
   "cell_type": "markdown",
   "metadata": {},
   "source": [
    "### Expedition Type"
   ]
  },
  {
   "cell_type": "code",
   "execution_count": 24,
   "metadata": {},
   "outputs": [
    {
     "data": {
      "text/plain": [
       "8"
      ]
     },
     "execution_count": 24,
     "metadata": {},
     "output_type": "execute_result"
    }
   ],
   "source": [
    "loadDf = XS.ReadSheet(inputPath, 'ExpeditionType')\n",
    "loadDf = loadDf.dropna(subset=['Type'])\n",
    "loadDf = loadDf.reset_index().drop(['index'], axis=1, errors='ignore')\n",
    "loadDf.shape[0]"
   ]
  },
  {
   "cell_type": "code",
   "execution_count": 25,
   "metadata": {},
   "outputs": [
    {
     "name": "stdout",
     "output_type": "stream",
     "text": [
      "table deleted\n",
      "bulk inserted\n",
      "records 8\n"
     ]
    },
    {
     "data": {
      "text/html": [
       "<div>\n",
       "<style scoped>\n",
       "    .dataframe tbody tr th:only-of-type {\n",
       "        vertical-align: middle;\n",
       "    }\n",
       "\n",
       "    .dataframe tbody tr th {\n",
       "        vertical-align: top;\n",
       "    }\n",
       "\n",
       "    .dataframe thead th {\n",
       "        text-align: right;\n",
       "    }\n",
       "</style>\n",
       "<table border=\"1\" class=\"dataframe\">\n",
       "  <thead>\n",
       "    <tr style=\"text-align: right;\">\n",
       "      <th></th>\n",
       "      <th>Type</th>\n",
       "      <th>MainTrait</th>\n",
       "      <th>SecondaryOne</th>\n",
       "      <th>SecondaryTwo</th>\n",
       "      <th>SecondaryThree</th>\n",
       "      <th>SkillOne</th>\n",
       "      <th>SkillTwo</th>\n",
       "      <th>SkillThree</th>\n",
       "    </tr>\n",
       "  </thead>\n",
       "  <tbody>\n",
       "    <tr>\n",
       "      <th>0</th>\n",
       "      <td>agi cmb</td>\n",
       "      <td>agi</td>\n",
       "      <td>cun</td>\n",
       "      <td>mig</td>\n",
       "      <td>end</td>\n",
       "      <td>att + dmg + def</td>\n",
       "      <td>att + dmg + def</td>\n",
       "      <td>att + dmg + def</td>\n",
       "    </tr>\n",
       "    <tr>\n",
       "      <th>1</th>\n",
       "      <td>agi ski</td>\n",
       "      <td>agi</td>\n",
       "      <td>cun</td>\n",
       "      <td>mig</td>\n",
       "      <td>end</td>\n",
       "      <td>sab + per</td>\n",
       "      <td>per + tra</td>\n",
       "      <td>tra + sab</td>\n",
       "    </tr>\n",
       "    <tr>\n",
       "      <th>2</th>\n",
       "      <td>cun cmb</td>\n",
       "      <td>cun</td>\n",
       "      <td>mig</td>\n",
       "      <td>agi</td>\n",
       "      <td>end</td>\n",
       "      <td>att + dmg + def</td>\n",
       "      <td>att + dmg + def</td>\n",
       "      <td>att + dmg + def</td>\n",
       "    </tr>\n",
       "    <tr>\n",
       "      <th>3</th>\n",
       "      <td>cun ski</td>\n",
       "      <td>cun</td>\n",
       "      <td>mig</td>\n",
       "      <td>agi</td>\n",
       "      <td>end</td>\n",
       "      <td>sab + per</td>\n",
       "      <td>per + tra</td>\n",
       "      <td>tra + sab</td>\n",
       "    </tr>\n",
       "  </tbody>\n",
       "</table>\n",
       "</div>"
      ],
      "text/plain": [
       "      Type MainTrait SecondaryOne SecondaryTwo SecondaryThree  \\\n",
       "0  agi cmb       agi          cun          mig            end   \n",
       "1  agi ski       agi          cun          mig            end   \n",
       "2  cun cmb       cun          mig          agi            end   \n",
       "3  cun ski       cun          mig          agi            end   \n",
       "\n",
       "          SkillOne         SkillTwo       SkillThree  \n",
       "0  att + dmg + def  att + dmg + def  att + dmg + def  \n",
       "1        sab + per        per + tra        tra + sab  \n",
       "2  att + dmg + def  att + dmg + def  att + dmg + def  \n",
       "3        sab + per        per + tra        tra + sab  "
      ]
     },
     "execution_count": 25,
     "metadata": {},
     "output_type": "execute_result"
    }
   ],
   "source": [
    "DB.DeleteTable('emporium', 'ExpeditionType')\n",
    "\n",
    "loadLs = NT.DataframeToDicts(loadDf)\n",
    "DB.InsertBulk('emporium', 'ExpeditionType', loadLs)\n",
    "\n",
    "checkLs = DB.GetTableDictionary('emporium', 'ExpeditionType')\n",
    "print('records', len(checkLs))\n",
    "PD.DataFrame(checkLs).drop('id', axis=1, errors='ignore')[:4]"
   ]
  },
  {
   "cell_type": "markdown",
   "metadata": {},
   "source": [
    "### Required Power"
   ]
  },
  {
   "cell_type": "code",
   "execution_count": 26,
   "metadata": {},
   "outputs": [
    {
     "data": {
      "text/plain": [
       "48"
      ]
     },
     "execution_count": 26,
     "metadata": {},
     "output_type": "execute_result"
    }
   ],
   "source": [
    "loadDf = XS.ReadSheet(inputPath, 'RequiredPower')\n",
    "loadDf = loadDf.dropna(subset=['Level'])\n",
    "loadDf = loadDf.reset_index().drop(['index'], axis=1, errors='ignore')\n",
    "loadDf.shape[0]"
   ]
  },
  {
   "cell_type": "code",
   "execution_count": 27,
   "metadata": {},
   "outputs": [
    {
     "name": "stdout",
     "output_type": "stream",
     "text": [
      "table deleted\n",
      "bulk inserted\n",
      "records 48\n"
     ]
    },
    {
     "data": {
      "text/html": [
       "<div>\n",
       "<style scoped>\n",
       "    .dataframe tbody tr th:only-of-type {\n",
       "        vertical-align: middle;\n",
       "    }\n",
       "\n",
       "    .dataframe tbody tr th {\n",
       "        vertical-align: top;\n",
       "    }\n",
       "\n",
       "    .dataframe thead th {\n",
       "        text-align: right;\n",
       "    }\n",
       "</style>\n",
       "<table border=\"1\" class=\"dataframe\">\n",
       "  <thead>\n",
       "    <tr style=\"text-align: right;\">\n",
       "      <th></th>\n",
       "      <th>World</th>\n",
       "      <th>Level</th>\n",
       "      <th>Obstacles</th>\n",
       "      <th>RequiredPower</th>\n",
       "    </tr>\n",
       "  </thead>\n",
       "  <tbody>\n",
       "    <tr>\n",
       "      <th>0</th>\n",
       "      <td>1</td>\n",
       "      <td>1</td>\n",
       "      <td>12</td>\n",
       "      <td>110</td>\n",
       "    </tr>\n",
       "    <tr>\n",
       "      <th>1</th>\n",
       "      <td>1</td>\n",
       "      <td>1</td>\n",
       "      <td>13</td>\n",
       "      <td>130</td>\n",
       "    </tr>\n",
       "    <tr>\n",
       "      <th>2</th>\n",
       "      <td>1</td>\n",
       "      <td>1</td>\n",
       "      <td>14</td>\n",
       "      <td>140</td>\n",
       "    </tr>\n",
       "    <tr>\n",
       "      <th>3</th>\n",
       "      <td>1</td>\n",
       "      <td>1</td>\n",
       "      <td>15</td>\n",
       "      <td>150</td>\n",
       "    </tr>\n",
       "  </tbody>\n",
       "</table>\n",
       "</div>"
      ],
      "text/plain": [
       "   World  Level  Obstacles  RequiredPower\n",
       "0      1      1         12            110\n",
       "1      1      1         13            130\n",
       "2      1      1         14            140\n",
       "3      1      1         15            150"
      ]
     },
     "execution_count": 27,
     "metadata": {},
     "output_type": "execute_result"
    }
   ],
   "source": [
    "DB.DeleteTable('emporium', 'RequiredPower')\n",
    "\n",
    "loadLs = NT.DataframeToDicts(loadDf)\n",
    "DB.InsertBulk('emporium', 'RequiredPower', loadLs)\n",
    "\n",
    "checkLs = DB.GetTableDictionary('emporium', 'RequiredPower')\n",
    "print('records', len(checkLs))\n",
    "PD.DataFrame(checkLs).drop('id', axis=1, errors='ignore')[:4]"
   ]
  },
  {
   "cell_type": "code",
   "execution_count": null,
   "metadata": {},
   "outputs": [],
   "source": []
  },
  {
   "cell_type": "code",
   "execution_count": 28,
   "metadata": {},
   "outputs": [
    {
     "data": {
      "text/html": [
       "<div>\n",
       "<style scoped>\n",
       "    .dataframe tbody tr th:only-of-type {\n",
       "        vertical-align: middle;\n",
       "    }\n",
       "\n",
       "    .dataframe tbody tr th {\n",
       "        vertical-align: top;\n",
       "    }\n",
       "\n",
       "    .dataframe thead th {\n",
       "        text-align: right;\n",
       "    }\n",
       "</style>\n",
       "<table border=\"1\" class=\"dataframe\">\n",
       "  <thead>\n",
       "    <tr style=\"text-align: right;\">\n",
       "      <th></th>\n",
       "      <th>Module</th>\n",
       "      <th>Table</th>\n",
       "      <th>Count</th>\n",
       "    </tr>\n",
       "  </thead>\n",
       "  <tbody>\n",
       "    <tr>\n",
       "      <th>0</th>\n",
       "      <td>members</td>\n",
       "      <td>User</td>\n",
       "      <td>1</td>\n",
       "    </tr>\n",
       "    <tr>\n",
       "      <th>1</th>\n",
       "      <td>emporium</td>\n",
       "      <td>UnlockableThief</td>\n",
       "      <td>12</td>\n",
       "    </tr>\n",
       "    <tr>\n",
       "      <th>2</th>\n",
       "      <td>emporium</td>\n",
       "      <td>UnlockableItem</td>\n",
       "      <td>201</td>\n",
       "    </tr>\n",
       "    <tr>\n",
       "      <th>3</th>\n",
       "      <td>emporium</td>\n",
       "      <td>ThiefLevel</td>\n",
       "      <td>12</td>\n",
       "    </tr>\n",
       "    <tr>\n",
       "      <th>4</th>\n",
       "      <td>emporium</td>\n",
       "      <td>CastleRoom</td>\n",
       "      <td>13</td>\n",
       "    </tr>\n",
       "    <tr>\n",
       "      <th>5</th>\n",
       "      <td>emporium</td>\n",
       "      <td>RoomUpgrade</td>\n",
       "      <td>9</td>\n",
       "    </tr>\n",
       "    <tr>\n",
       "      <th>6</th>\n",
       "      <td>emporium</td>\n",
       "      <td>UniqueRoom</td>\n",
       "      <td>9</td>\n",
       "    </tr>\n",
       "    <tr>\n",
       "      <th>7</th>\n",
       "      <td>emporium</td>\n",
       "      <td>BasicRoom</td>\n",
       "      <td>9</td>\n",
       "    </tr>\n",
       "    <tr>\n",
       "      <th>8</th>\n",
       "      <td>emporium</td>\n",
       "      <td>AdvancedRoom</td>\n",
       "      <td>9</td>\n",
       "    </tr>\n",
       "    <tr>\n",
       "      <th>9</th>\n",
       "      <td>emporium</td>\n",
       "      <td>Trap</td>\n",
       "      <td>72</td>\n",
       "    </tr>\n",
       "    <tr>\n",
       "      <th>10</th>\n",
       "      <td>emporium</td>\n",
       "      <td>Enemy</td>\n",
       "      <td>18</td>\n",
       "    </tr>\n",
       "    <tr>\n",
       "      <th>11</th>\n",
       "      <td>emporium</td>\n",
       "      <td>GothicTower</td>\n",
       "      <td>36</td>\n",
       "    </tr>\n",
       "    <tr>\n",
       "      <th>12</th>\n",
       "      <td>emporium</td>\n",
       "      <td>LeagueTrial</td>\n",
       "      <td>12</td>\n",
       "    </tr>\n",
       "    <tr>\n",
       "      <th>13</th>\n",
       "      <td>emporium</td>\n",
       "      <td>Dungeon</td>\n",
       "      <td>5</td>\n",
       "    </tr>\n",
       "    <tr>\n",
       "      <th>14</th>\n",
       "      <td>emporium</td>\n",
       "      <td>Campaign</td>\n",
       "      <td>41</td>\n",
       "    </tr>\n",
       "    <tr>\n",
       "      <th>15</th>\n",
       "      <td>emporium</td>\n",
       "      <td>TrialDay</td>\n",
       "      <td>7</td>\n",
       "    </tr>\n",
       "    <tr>\n",
       "      <th>16</th>\n",
       "      <td>emporium</td>\n",
       "      <td>ExpeditionLevel</td>\n",
       "      <td>6</td>\n",
       "    </tr>\n",
       "    <tr>\n",
       "      <th>17</th>\n",
       "      <td>emporium</td>\n",
       "      <td>ExpeditionType</td>\n",
       "      <td>8</td>\n",
       "    </tr>\n",
       "    <tr>\n",
       "      <th>18</th>\n",
       "      <td>emporium</td>\n",
       "      <td>RequiredPower</td>\n",
       "      <td>48</td>\n",
       "    </tr>\n",
       "    <tr>\n",
       "      <th>19</th>\n",
       "      <td>engine</td>\n",
       "      <td>Guild</td>\n",
       "      <td>2</td>\n",
       "    </tr>\n",
       "    <tr>\n",
       "      <th>20</th>\n",
       "      <td>engine</td>\n",
       "      <td>ThiefInGuild</td>\n",
       "      <td>12</td>\n",
       "    </tr>\n",
       "    <tr>\n",
       "      <th>21</th>\n",
       "      <td>engine</td>\n",
       "      <td>ItemInGuild</td>\n",
       "      <td>37</td>\n",
       "    </tr>\n",
       "    <tr>\n",
       "      <th>22</th>\n",
       "      <td>engine</td>\n",
       "      <td>RoomInGuild</td>\n",
       "      <td>11</td>\n",
       "    </tr>\n",
       "    <tr>\n",
       "      <th>23</th>\n",
       "      <td>engine</td>\n",
       "      <td>ThiefUnlocked</td>\n",
       "      <td>0</td>\n",
       "    </tr>\n",
       "    <tr>\n",
       "      <th>24</th>\n",
       "      <td>engine</td>\n",
       "      <td>ItemUnlocked</td>\n",
       "      <td>0</td>\n",
       "    </tr>\n",
       "    <tr>\n",
       "      <th>25</th>\n",
       "      <td>engine</td>\n",
       "      <td>GuildStage</td>\n",
       "      <td>42</td>\n",
       "    </tr>\n",
       "    <tr>\n",
       "      <th>26</th>\n",
       "      <td>engine</td>\n",
       "      <td>GuildExpedition</td>\n",
       "      <td>4</td>\n",
       "    </tr>\n",
       "    <tr>\n",
       "      <th>27</th>\n",
       "      <td>engine</td>\n",
       "      <td>MarketStore</td>\n",
       "      <td>13</td>\n",
       "    </tr>\n",
       "  </tbody>\n",
       "</table>\n",
       "</div>"
      ],
      "text/plain": [
       "      Module            Table  Count\n",
       "0    members             User      1\n",
       "1   emporium  UnlockableThief     12\n",
       "2   emporium   UnlockableItem    201\n",
       "3   emporium       ThiefLevel     12\n",
       "4   emporium       CastleRoom     13\n",
       "5   emporium      RoomUpgrade      9\n",
       "6   emporium       UniqueRoom      9\n",
       "7   emporium        BasicRoom      9\n",
       "8   emporium     AdvancedRoom      9\n",
       "9   emporium             Trap     72\n",
       "10  emporium            Enemy     18\n",
       "11  emporium      GothicTower     36\n",
       "12  emporium      LeagueTrial     12\n",
       "13  emporium          Dungeon      5\n",
       "14  emporium         Campaign     41\n",
       "15  emporium         TrialDay      7\n",
       "16  emporium  ExpeditionLevel      6\n",
       "17  emporium   ExpeditionType      8\n",
       "18  emporium    RequiredPower     48\n",
       "19    engine            Guild      2\n",
       "20    engine     ThiefInGuild     12\n",
       "21    engine      ItemInGuild     37\n",
       "22    engine      RoomInGuild     11\n",
       "23    engine    ThiefUnlocked      0\n",
       "24    engine     ItemUnlocked      0\n",
       "25    engine       GuildStage     42\n",
       "26    engine  GuildExpedition      4\n",
       "27    engine      MarketStore     13"
      ]
     },
     "execution_count": 28,
     "metadata": {},
     "output_type": "execute_result"
    }
   ],
   "source": [
    "# check all\n",
    "\n",
    "infoLs = DB.GetTableCounts()\n",
    "PD.DataFrame(infoLs)"
   ]
  },
  {
   "cell_type": "code",
   "execution_count": null,
   "metadata": {},
   "outputs": [],
   "source": []
  }
 ],
 "metadata": {
  "kernelspec": {
   "display_name": "Python 3 (ipykernel)",
   "language": "python",
   "name": "python3"
  },
  "language_info": {
   "codemirror_mode": {
    "name": "ipython",
    "version": 3
   },
   "file_extension": ".py",
   "mimetype": "text/x-python",
   "name": "python",
   "nbconvert_exporter": "python",
   "pygments_lexer": "ipython3",
   "version": "3.8.2"
  }
 },
 "nbformat": 4,
 "nbformat_minor": 4
}
