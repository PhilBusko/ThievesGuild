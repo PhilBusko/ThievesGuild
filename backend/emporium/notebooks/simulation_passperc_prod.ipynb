{
 "cells": [
  {
   "cell_type": "markdown",
   "metadata": {},
   "source": [
    "# Simulation: Passing Percentage"
   ]
  },
  {
   "cell_type": "code",
   "execution_count": 1,
   "metadata": {},
   "outputs": [],
   "source": [
    "import os, sys, random, statistics\n",
    "import pandas as PD"
   ]
  },
  {
   "cell_type": "code",
   "execution_count": 2,
   "metadata": {},
   "outputs": [
    {
     "name": "stdout",
     "output_type": "stream",
     "text": [
      "['DataframeToDicts', 'GetRandom', 'NOTEBOOK_ENV']\n"
     ]
    }
   ],
   "source": [
    "BACKEND_PATH = os.path.dirname(os.path.dirname(os.getcwd()))\n",
    "APPPROJ_PATH = os.path.join(BACKEND_PATH, 'app_proj')\n",
    "sys.path.append(APPPROJ_PATH)\n",
    "import notebooks as NT\n",
    "print([x for x in dir(NT) if x[0]!='_' and len(x)>8])"
   ]
  },
  {
   "cell_type": "code",
   "execution_count": 3,
   "metadata": {},
   "outputs": [
    {
     "data": {
      "text/plain": [
       "True"
      ]
     },
     "execution_count": 3,
     "metadata": {},
     "output_type": "execute_result"
    }
   ],
   "source": [
    "MODULE_PATH = os.path.dirname(os.getcwd())\n",
    "DATA_PATH = os.path.join(MODULE_PATH, 'data')\n",
    "os.path.exists(DATA_PATH)"
   ]
  },
  {
   "cell_type": "code",
   "execution_count": 4,
   "metadata": {
    "scrolled": false
   },
   "outputs": [
    {
     "name": "stdout",
     "output_type": "stream",
     "text": [
      "env: DEV\n"
     ]
    }
   ],
   "source": [
    "import django\n",
    "os.environ['DEPLOYMENT_ENV'] = NT.NOTEBOOK_ENV\n",
    "os.environ['DJANGO_ALLOW_ASYNC_UNSAFE'] = 'True'\n",
    "os.chdir(os.path.dirname(MODULE_PATH))\n",
    "django.setup()"
   ]
  },
  {
   "cell_type": "code",
   "execution_count": 5,
   "metadata": {
    "scrolled": true
   },
   "outputs": [
    {
     "name": "stdout",
     "output_type": "stream",
     "text": [
      "['AssembleRoom', 'CheckPermitted', 'DIFFICULTY', 'GetDevAgility', 'GetDevCombat', 'GetDevCunning', 'GetDevMight', 'GetDevelopmentTable', 'GetExpedition', 'GetHealAmount', 'GetMagicItem', 'GetRareMaterial', 'GetStageRewards', 'GetStarThief', 'GetTreasureReward', 'ObstacleSequence', 'ProductionTable', 'RandomBiasedType', 'RandomRoomType', 'RollDamage', 'RollReward', 'StageBackground']\n"
     ]
    }
   ],
   "source": [
    "import emporium.logic.stage as SG\n",
    "print([x for x in dir(SG) if x[0]!='_' and len(x)>8])"
   ]
  },
  {
   "cell_type": "code",
   "execution_count": 6,
   "metadata": {},
   "outputs": [
    {
     "name": "stdout",
     "output_type": "stream",
     "text": [
      "['ApplyRandomLevels', 'AttachWargear', 'RunBeatCount', 'RunPassTest', 'TestExpedition']\n"
     ]
    }
   ],
   "source": [
    "import emporium.logic.simulation as SM\n",
    "print([x for x in dir(SM) if x[0]!='_' and len(x)>8])"
   ]
  },
  {
   "cell_type": "code",
   "execution_count": 7,
   "metadata": {},
   "outputs": [],
   "source": [
    "%load_ext autoreload\n",
    "%autoreload 2\n",
    "from IPython.core.interactiveshell import InteractiveShell\n",
    "InteractiveShell.ast_node_interactivity = 'all'\n",
    "import IPython.display as DS \n",
    "from ipywidgets import IntProgress"
   ]
  },
  {
   "cell_type": "markdown",
   "metadata": {},
   "source": [
    "### Simulation"
   ]
  },
  {
   "cell_type": "code",
   "execution_count": 8,
   "metadata": {
    "scrolled": false
   },
   "outputs": [
    {
     "data": {
      "text/html": [
       "<div>\n",
       "<style scoped>\n",
       "    .dataframe tbody tr th:only-of-type {\n",
       "        vertical-align: middle;\n",
       "    }\n",
       "\n",
       "    .dataframe tbody tr th {\n",
       "        vertical-align: top;\n",
       "    }\n",
       "\n",
       "    .dataframe thead th {\n",
       "        text-align: right;\n",
       "    }\n",
       "</style>\n",
       "<table border=\"1\" class=\"dataframe\">\n",
       "  <thead>\n",
       "    <tr style=\"text-align: right;\">\n",
       "      <th></th>\n",
       "      <th>Agi</th>\n",
       "      <th>Cun</th>\n",
       "      <th>Mig</th>\n",
       "      <th>End</th>\n",
       "      <th>Hlt</th>\n",
       "      <th>Sab</th>\n",
       "      <th>Per</th>\n",
       "      <th>Tra</th>\n",
       "      <th>Att</th>\n",
       "      <th>Dmg</th>\n",
       "      <th>Def</th>\n",
       "    </tr>\n",
       "  </thead>\n",
       "  <tbody>\n",
       "    <tr>\n",
       "      <th>0</th>\n",
       "      <td>5</td>\n",
       "      <td>0</td>\n",
       "      <td>0</td>\n",
       "      <td>0</td>\n",
       "      <td>70</td>\n",
       "      <td>0</td>\n",
       "      <td>0</td>\n",
       "      <td>0</td>\n",
       "      <td>5</td>\n",
       "      <td>7</td>\n",
       "      <td>14</td>\n",
       "    </tr>\n",
       "  </tbody>\n",
       "</table>\n",
       "</div>"
      ],
      "text/plain": [
       "   Agi  Cun  Mig  End  Hlt  Sab  Per  Tra  Att  Dmg  Def\n",
       "0    5    0    0    0   70    0    0    0    5    7   14"
      ]
     },
     "execution_count": 8,
     "metadata": {},
     "output_type": "execute_result"
    }
   ],
   "source": [
    "baseThief = {\n",
    "    'Agi': 3, 'Cun': 0, 'Mig': 0, 'End': 0,\n",
    "    'Hlt': 70,\n",
    "    'Sab': 0, 'Per': 0, 'Tra': 0, \n",
    "}\n",
    "baseThief = SM.AttachWargear(baseThief)\n",
    "# baseThief['Hlt'] += 6\n",
    "# baseThief['Per'] += 4\n",
    "PD.DataFrame([baseThief])"
   ]
  },
  {
   "cell_type": "code",
   "execution_count": 9,
   "metadata": {},
   "outputs": [
    {
     "data": {
      "text/html": [
       "<div>\n",
       "<style scoped>\n",
       "    .dataframe tbody tr th:only-of-type {\n",
       "        vertical-align: middle;\n",
       "    }\n",
       "\n",
       "    .dataframe tbody tr th {\n",
       "        vertical-align: top;\n",
       "    }\n",
       "\n",
       "    .dataframe thead th {\n",
       "        text-align: right;\n",
       "    }\n",
       "</style>\n",
       "<table border=\"1\" class=\"dataframe\">\n",
       "  <thead>\n",
       "    <tr style=\"text-align: right;\">\n",
       "      <th></th>\n",
       "      <th>Agi</th>\n",
       "      <th>Cun</th>\n",
       "      <th>Mig</th>\n",
       "      <th>End</th>\n",
       "      <th>Hlt</th>\n",
       "      <th>Sab</th>\n",
       "      <th>Per</th>\n",
       "      <th>Tra</th>\n",
       "      <th>Att</th>\n",
       "      <th>Dmg</th>\n",
       "      <th>Def</th>\n",
       "    </tr>\n",
       "  </thead>\n",
       "  <tbody>\n",
       "    <tr>\n",
       "      <th>0</th>\n",
       "      <td>5</td>\n",
       "      <td>0</td>\n",
       "      <td>0</td>\n",
       "      <td>0</td>\n",
       "      <td>70</td>\n",
       "      <td>0</td>\n",
       "      <td>0</td>\n",
       "      <td>0</td>\n",
       "      <td>5</td>\n",
       "      <td>7</td>\n",
       "      <td>14</td>\n",
       "    </tr>\n",
       "  </tbody>\n",
       "</table>\n",
       "</div>"
      ],
      "text/plain": [
       "   Agi  Cun  Mig  End  Hlt  Sab  Per  Tra  Att  Dmg  Def\n",
       "0    5    0    0    0   70    0    0    0    5    7   14"
      ]
     },
     "execution_count": 9,
     "metadata": {},
     "output_type": "execute_result"
    }
   ],
   "source": [
    "THIEF_LEVEL = 0\n",
    "thiefConfig = SM.ApplyRandomLevels(baseThief, THIEF_LEVEL)\n",
    "PD.DataFrame([thiefConfig])"
   ]
  },
  {
   "cell_type": "code",
   "execution_count": 10,
   "metadata": {
    "scrolled": false
   },
   "outputs": [
    {
     "data": {
      "text/html": [
       "<div>\n",
       "<style scoped>\n",
       "    .dataframe tbody tr th:only-of-type {\n",
       "        vertical-align: middle;\n",
       "    }\n",
       "\n",
       "    .dataframe tbody tr th {\n",
       "        vertical-align: top;\n",
       "    }\n",
       "\n",
       "    .dataframe thead th {\n",
       "        text-align: right;\n",
       "    }\n",
       "</style>\n",
       "<table border=\"1\" class=\"dataframe\">\n",
       "  <thead>\n",
       "    <tr style=\"text-align: right;\">\n",
       "      <th></th>\n",
       "      <th>World</th>\n",
       "      <th>Level</th>\n",
       "      <th>Name</th>\n",
       "      <th>Trait</th>\n",
       "      <th>Skill</th>\n",
       "      <th>Success</th>\n",
       "      <th>Failure</th>\n",
       "      <th>Experience</th>\n",
       "      <th>Attack</th>\n",
       "      <th>Damage</th>\n",
       "      <th>Defense</th>\n",
       "      <th>Health</th>\n",
       "      <th>Difficulty</th>\n",
       "    </tr>\n",
       "  </thead>\n",
       "  <tbody>\n",
       "    <tr>\n",
       "      <th>0</th>\n",
       "      <td>1</td>\n",
       "      <td>1</td>\n",
       "      <td>Sorcerer</td>\n",
       "      <td>All</td>\n",
       "      <td>Fight</td>\n",
       "      <td>experience, pass</td>\n",
       "      <td>knockout</td>\n",
       "      <td>16</td>\n",
       "      <td>3.0</td>\n",
       "      <td>10</td>\n",
       "      <td>12.0</td>\n",
       "      <td>9.0</td>\n",
       "      <td>NaN</td>\n",
       "    </tr>\n",
       "  </tbody>\n",
       "</table>\n",
       "</div>"
      ],
      "text/plain": [
       "   World  Level      Name Trait  Skill           Success   Failure  \\\n",
       "0      1      1  Sorcerer   All  Fight  experience, pass  knockout   \n",
       "\n",
       "   Experience  Attack  Damage  Defense  Health  Difficulty  \n",
       "0          16     3.0      10     12.0     9.0         NaN  "
      ]
     },
     "execution_count": 10,
     "metadata": {},
     "output_type": "execute_result"
    }
   ],
   "source": [
    "MAX_OBSTACLES = 15\n",
    "STAGE_TYPE = 'balanced'   #'biased agi'\n",
    "ENEMY_LEVEL = 1\n",
    "\n",
    "potentialLs = SG.ProductionTable(ENEMY_LEVEL,4,1,1,1)\n",
    "obstacleLs = SG.ObstacleSequence(potentialLs, MAX_OBSTACLES)\n",
    "permitted = SG.CheckPermitted(obstacleLs, STAGE_TYPE, MAX_OBSTACLES)\n",
    "\n",
    "while not permitted:\n",
    "    obstacleLs = SG.ObstacleSequence(potentialLs, MAX_OBSTACLES)\n",
    "    permitted = SG.CheckPermitted(obstacleLs, STAGE_TYPE, MAX_OBSTACLES)\n",
    "\n",
    "PD.DataFrame(obstacleLs)[0:1]"
   ]
  },
  {
   "cell_type": "code",
   "execution_count": 11,
   "metadata": {
    "scrolled": false
   },
   "outputs": [
    {
     "data": {
      "text/html": [
       "<div>\n",
       "<style scoped>\n",
       "    .dataframe tbody tr th:only-of-type {\n",
       "        vertical-align: middle;\n",
       "    }\n",
       "\n",
       "    .dataframe tbody tr th {\n",
       "        vertical-align: top;\n",
       "    }\n",
       "\n",
       "    .dataframe thead th {\n",
       "        text-align: right;\n",
       "    }\n",
       "</style>\n",
       "<table border=\"1\" class=\"dataframe\">\n",
       "  <thead>\n",
       "    <tr style=\"text-align: right;\">\n",
       "      <th></th>\n",
       "      <th>obstacle</th>\n",
       "      <th>passed</th>\n",
       "      <th>curr pos</th>\n",
       "      <th>next pos</th>\n",
       "      <th>wounds</th>\n",
       "      <th>xp</th>\n",
       "      <th>gold</th>\n",
       "    </tr>\n",
       "  </thead>\n",
       "  <tbody>\n",
       "    <tr>\n",
       "      <th>12</th>\n",
       "      <td>Vanguard</td>\n",
       "      <td>True</td>\n",
       "      <td>14</td>\n",
       "      <td>15</td>\n",
       "      <td>47</td>\n",
       "      <td>15</td>\n",
       "      <td>10</td>\n",
       "    </tr>\n",
       "  </tbody>\n",
       "</table>\n",
       "</div>"
      ],
      "text/plain": [
       "    obstacle  passed  curr pos  next pos  wounds  xp  gold\n",
       "12  Vanguard    True        14        15      47  15    10"
      ]
     },
     "execution_count": 11,
     "metadata": {},
     "output_type": "execute_result"
    }
   ],
   "source": [
    "runLs = SM.RunPassTest(thiefConfig, obstacleLs)\n",
    "PD.DataFrame(runLs)[-1:]"
   ]
  },
  {
   "cell_type": "code",
   "execution_count": 12,
   "metadata": {
    "scrolled": false
   },
   "outputs": [
    {
     "data": {
      "application/vnd.jupyter.widget-view+json": {
       "model_id": "e550dd397b4c45ebbbbc406ea6840f37",
       "version_major": 2,
       "version_minor": 0
      },
      "text/plain": [
       "IntProgress(value=0, max=9)"
      ]
     },
     "metadata": {},
     "output_type": "display_data"
    },
    {
     "data": {
      "text/plain": [
       "38.6"
      ]
     },
     "execution_count": 12,
     "metadata": {},
     "output_type": "execute_result"
    }
   ],
   "source": [
    "TRIALS = 90000\n",
    "clearedLs = []\n",
    "progressBar = IntProgress(min=0, max=TRIALS/10000) \n",
    "DS.display(progressBar) \n",
    "\n",
    "for tr in range(0, TRIALS):\n",
    "    if tr % 10000 == 0: progressBar.value += 1\n",
    "\n",
    "    thiefConfig = SM.ApplyRandomLevels(baseThief, THIEF_LEVEL)\n",
    "    \n",
    "    obstacleLs = SG.ObstacleSequence(potentialLs, MAX_OBSTACLES)\n",
    "    permitted = SG.CheckPermitted(obstacleLs, STAGE_TYPE, MAX_OBSTACLES)\n",
    "\n",
    "    while not permitted:\n",
    "        obstacleLs = SG.ObstacleSequence(potentialLs, MAX_OBSTACLES)\n",
    "        permitted = SG.CheckPermitted(obstacleLs, STAGE_TYPE, MAX_OBSTACLES)\n",
    "\n",
    "    runLs = SM.RunPassTest(thiefConfig, obstacleLs)\n",
    "    clearedLs.append( runLs[-1]['next pos'] == MAX_OBSTACLES )\n",
    "\n",
    "round(statistics.mean(clearedLs)*100, 1)"
   ]
  }
 ],
 "metadata": {
  "kernelspec": {
   "display_name": "Python 3 (ipykernel)",
   "language": "python",
   "name": "python3"
  },
  "language_info": {
   "codemirror_mode": {
    "name": "ipython",
    "version": 3
   },
   "file_extension": ".py",
   "mimetype": "text/x-python",
   "name": "python",
   "nbconvert_exporter": "python",
   "pygments_lexer": "ipython3",
   "version": "3.8.2"
  }
 },
 "nbformat": 4,
 "nbformat_minor": 4
}
