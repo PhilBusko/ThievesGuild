{
 "cells": [
  {
   "cell_type": "markdown",
   "metadata": {},
   "source": [
    "# Stage Challenge\n",
    "\n",
    "**1.** Model the difficulty of a level with a formula. Doesn't have to be precise, but should allow comparison between number of  rooms in stage versus the number of obstacles in each room. \n",
    "\n",
    "**2.** Run the full matrix of possible room-obstacle configurations. Create a report file to reference later.\n",
    "\n",
    "**3.** Create game stages (campaign, league, etc) based on stage configuration challenge values."
   ]
  },
  {
   "cell_type": "code",
   "execution_count": 1,
   "metadata": {},
   "outputs": [],
   "source": [
    "import os, sys, random, statistics\n",
    "import pandas as PD"
   ]
  },
  {
   "cell_type": "code",
   "execution_count": 2,
   "metadata": {},
   "outputs": [
    {
     "name": "stdout",
     "output_type": "stream",
     "text": [
      "['DataframeToDicts', 'GetRandom', 'NOTEBOOK_ENV']\n"
     ]
    }
   ],
   "source": [
    "BACKEND_PATH = os.path.dirname(os.path.dirname(os.getcwd()))\n",
    "APPPROJ_PATH = os.path.join(BACKEND_PATH, 'app_proj')\n",
    "sys.path.append(APPPROJ_PATH)\n",
    "import notebooks as NT\n",
    "print([x for x in dir(NT) if x[0]!='_' and len(x)>8])"
   ]
  },
  {
   "cell_type": "code",
   "execution_count": 3,
   "metadata": {},
   "outputs": [
    {
     "name": "stdout",
     "output_type": "stream",
     "text": [
      "C:\\Documents\\Code\\OpenStack\\ThievesGuild\\codebase\\backend\\emporium\\data\n"
     ]
    }
   ],
   "source": [
    "MODULE_PATH = os.path.dirname(os.getcwd())\n",
    "DATA_PATH = os.path.join(MODULE_PATH, 'data')\n",
    "print(DATA_PATH)"
   ]
  },
  {
   "cell_type": "code",
   "execution_count": 4,
   "metadata": {
    "scrolled": false
   },
   "outputs": [
    {
     "name": "stdout",
     "output_type": "stream",
     "text": [
      "env: DEV\n"
     ]
    }
   ],
   "source": [
    "import django\n",
    "os.environ['DEPLOYMENT_ENV'] = NT.NOTEBOOK_ENV\n",
    "os.environ['DJANGO_ALLOW_ASYNC_UNSAFE'] = 'True'\n",
    "os.chdir(os.path.dirname(MODULE_PATH))\n",
    "django.setup()"
   ]
  },
  {
   "cell_type": "code",
   "execution_count": 5,
   "metadata": {},
   "outputs": [
    {
     "name": "stdout",
     "output_type": "stream",
     "text": [
      "['AppendToExcel', 'ReadSheet', 'ResetFile', 'ResetSheet']\n"
     ]
    }
   ],
   "source": [
    "import app_proj.excel_service as XC\n",
    "print([x for x in dir(XC) if x[0]!='_' and len(x)>8])"
   ]
  },
  {
   "cell_type": "code",
   "execution_count": 6,
   "metadata": {},
   "outputs": [],
   "source": [
    "%load_ext autoreload\n",
    "%autoreload 2\n",
    "from IPython.core.interactiveshell import InteractiveShell\n",
    "InteractiveShell.ast_node_interactivity = 'all'"
   ]
  },
  {
   "cell_type": "markdown",
   "metadata": {},
   "source": [
    "### Begin Code"
   ]
  },
  {
   "cell_type": "code",
   "execution_count": 7,
   "metadata": {},
   "outputs": [
    {
     "data": {
      "text/plain": [
       "5"
      ]
     },
     "execution_count": 7,
     "metadata": {},
     "output_type": "execute_result"
    }
   ],
   "source": [
    "stageRange = [\n",
    "    {'rooms': 1, 'minObst': 12, 'maxObst': 19},\n",
    "    {'rooms': 2, 'minObst': 12, 'maxObst': 19},\n",
    "    {'rooms': 3, 'minObst': 12, 'maxObst': 19},\n",
    "    {'rooms': 4, 'minObst': 12, 'maxObst': 19},\n",
    "    {'rooms': 5, 'minObst': 12, 'maxObst': 19},\n",
    "]\n",
    "len(stageRange)"
   ]
  },
  {
   "cell_type": "code",
   "execution_count": 8,
   "metadata": {},
   "outputs": [
    {
     "name": "stdout",
     "output_type": "stream",
     "text": [
      "no doops: 16\n"
     ]
    },
    {
     "data": {
      "text/html": [
       "<div>\n",
       "<style scoped>\n",
       "    .dataframe tbody tr th:only-of-type {\n",
       "        vertical-align: middle;\n",
       "    }\n",
       "\n",
       "    .dataframe tbody tr th {\n",
       "        vertical-align: top;\n",
       "    }\n",
       "\n",
       "    .dataframe thead th {\n",
       "        text-align: right;\n",
       "    }\n",
       "</style>\n",
       "<table border=\"1\" class=\"dataframe\">\n",
       "  <thead>\n",
       "    <tr style=\"text-align: right;\">\n",
       "      <th></th>\n",
       "      <th>0</th>\n",
       "    </tr>\n",
       "  </thead>\n",
       "  <tbody>\n",
       "    <tr>\n",
       "      <th>0</th>\n",
       "      <td>(12, 1)</td>\n",
       "    </tr>\n",
       "    <tr>\n",
       "      <th>1</th>\n",
       "      <td>(12, 1.2)</td>\n",
       "    </tr>\n",
       "    <tr>\n",
       "      <th>2</th>\n",
       "      <td>(13, 1)</td>\n",
       "    </tr>\n",
       "    <tr>\n",
       "      <th>3</th>\n",
       "      <td>(13, 1.2)</td>\n",
       "    </tr>\n",
       "    <tr>\n",
       "      <th>4</th>\n",
       "      <td>(14, 1)</td>\n",
       "    </tr>\n",
       "    <tr>\n",
       "      <th>5</th>\n",
       "      <td>(14, 1.2)</td>\n",
       "    </tr>\n",
       "    <tr>\n",
       "      <th>6</th>\n",
       "      <td>(15, 1)</td>\n",
       "    </tr>\n",
       "    <tr>\n",
       "      <th>7</th>\n",
       "      <td>(15, 1.2)</td>\n",
       "    </tr>\n",
       "    <tr>\n",
       "      <th>8</th>\n",
       "      <td>(16, 1)</td>\n",
       "    </tr>\n",
       "    <tr>\n",
       "      <th>9</th>\n",
       "      <td>(16, 1.2)</td>\n",
       "    </tr>\n",
       "    <tr>\n",
       "      <th>10</th>\n",
       "      <td>(17, 1)</td>\n",
       "    </tr>\n",
       "    <tr>\n",
       "      <th>11</th>\n",
       "      <td>(17, 1.2)</td>\n",
       "    </tr>\n",
       "    <tr>\n",
       "      <th>12</th>\n",
       "      <td>(18, 1)</td>\n",
       "    </tr>\n",
       "    <tr>\n",
       "      <th>13</th>\n",
       "      <td>(18, 1.2)</td>\n",
       "    </tr>\n",
       "    <tr>\n",
       "      <th>14</th>\n",
       "      <td>(19, 1)</td>\n",
       "    </tr>\n",
       "    <tr>\n",
       "      <th>15</th>\n",
       "      <td>(19, 1.2)</td>\n",
       "    </tr>\n",
       "  </tbody>\n",
       "</table>\n",
       "</div>"
      ],
      "text/plain": [
       "            0\n",
       "0     (12, 1)\n",
       "1   (12, 1.2)\n",
       "2     (13, 1)\n",
       "3   (13, 1.2)\n",
       "4     (14, 1)\n",
       "5   (14, 1.2)\n",
       "6     (15, 1)\n",
       "7   (15, 1.2)\n",
       "8     (16, 1)\n",
       "9   (16, 1.2)\n",
       "10    (17, 1)\n",
       "11  (17, 1.2)\n",
       "12    (18, 1)\n",
       "13  (18, 1.2)\n",
       "14    (19, 1)\n",
       "15  (19, 1.2)"
      ]
     },
     "execution_count": 8,
     "metadata": {},
     "output_type": "execute_result"
    }
   ],
   "source": [
    "# 1 room\n",
    "\n",
    "LEVEL_FACTOR = 1.2\n",
    "configs1 = []\n",
    "roomDx = stageRange[0]\n",
    "for ob in range(roomDx['minObst'], roomDx['maxObst']+1):\n",
    "    configs1.append([(ob, 1)])\n",
    "    configs1.append([(ob, LEVEL_FACTOR)])\n",
    "\n",
    "print('no doops:', len(configs1))\n",
    "PD.DataFrame(configs1)"
   ]
  },
  {
   "cell_type": "code",
   "execution_count": 9,
   "metadata": {
    "scrolled": false
   },
   "outputs": [
    {
     "name": "stdout",
     "output_type": "stream",
     "text": [
      "full set: 256\n",
      "no doops: 136\n"
     ]
    }
   ],
   "source": [
    "# 2 rooms\n",
    "\n",
    "configs2 = []\n",
    "roomDx = stageRange[1]\n",
    "for ob1 in range(roomDx['minObst'], roomDx['maxObst']+1):\n",
    "\n",
    "    base1 = [(ob1, 1)]\n",
    "    for ob2 in range(roomDx['minObst'], roomDx['maxObst']+1):\n",
    "        configs2.append(sorted(base1 + [(ob2, 1)]))\n",
    "        configs2.append(sorted(base1 + [(ob2, LEVEL_FACTOR)]))\n",
    "\n",
    "    base2 = [(ob1, LEVEL_FACTOR)]\n",
    "    for ob2 in range(roomDx['minObst'], roomDx['maxObst']+1):\n",
    "        configs2.append(sorted(base2 + [(ob2, 1)]))\n",
    "        configs2.append(sorted(base2 + [(ob2, LEVEL_FACTOR)]))\n",
    "\n",
    "print('full set:', len(configs2))\n",
    "configDf = PD.DataFrame(configs2)\n",
    "configDf = configDf.drop_duplicates()\n",
    "configs2 = configDf.values.tolist()\n",
    "print('no doops:', len(configs2))\n",
    "#sorted(configs2)"
   ]
  },
  {
   "cell_type": "code",
   "execution_count": 10,
   "metadata": {},
   "outputs": [
    {
     "name": "stdout",
     "output_type": "stream",
     "text": [
      "full set: 4096\n",
      "no doops: 816\n"
     ]
    }
   ],
   "source": [
    "# 3 rooms\n",
    "\n",
    "configs3 = []\n",
    "roomDx = stageRange[2]\n",
    "for ob1 in range(roomDx['minObst'], roomDx['maxObst']+1):\n",
    "\n",
    "    base1 = [(ob1, 1)]\n",
    "    for ob2 in range(roomDx['minObst'], roomDx['maxObst']+1):\n",
    "\n",
    "        base2 = [(ob2, 1)]\n",
    "        for ob3 in range(roomDx['minObst'], roomDx['maxObst']+1):\n",
    "            configs3.append(sorted(base1 + base2 + [(ob3, 1)]))\n",
    "            configs3.append(sorted(base1 + base2 + [(ob3, LEVEL_FACTOR)]))\n",
    "\n",
    "        base2 = [(ob2, LEVEL_FACTOR)]\n",
    "        for ob3 in range(roomDx['minObst'], roomDx['maxObst']+1):\n",
    "            configs3.append(sorted(base1 + base2 + [(ob3, 1)]))\n",
    "            configs3.append(sorted(base1 + base2 + [(ob3, LEVEL_FACTOR)]))\n",
    "\n",
    "    base1 = [(ob1, LEVEL_FACTOR)]\n",
    "    for ob2 in range(roomDx['minObst'], roomDx['maxObst']+1):\n",
    "\n",
    "        base2 = [(ob2, 1)]\n",
    "        for ob3 in range(roomDx['minObst'], roomDx['maxObst']+1):\n",
    "            configs3.append(sorted(base1 + base2 + [(ob3, 1)]))\n",
    "            configs3.append(sorted(base1 + base2 + [(ob3, LEVEL_FACTOR)]))\n",
    "\n",
    "        base2 = [(ob2, LEVEL_FACTOR)]\n",
    "        for ob3 in range(roomDx['minObst'], roomDx['maxObst']+1):\n",
    "            configs3.append(sorted(base1 + base2 + [(ob3, 1)]))\n",
    "            configs3.append(sorted(base1 + base2 + [(ob3, LEVEL_FACTOR)]))\n",
    "\n",
    "print('full set:', len(configs3))\n",
    "configDf = PD.DataFrame(configs3)\n",
    "configDf = configDf.drop_duplicates()\n",
    "configs3 = configDf.values.tolist()\n",
    "print('no doops:', len(configs3))\n",
    "#sorted(configs3)"
   ]
  },
  {
   "cell_type": "code",
   "execution_count": 11,
   "metadata": {
    "scrolled": false
   },
   "outputs": [
    {
     "name": "stdout",
     "output_type": "stream",
     "text": [
      "full set: 8192\n",
      "no doops: 1920\n"
     ]
    }
   ],
   "source": [
    "# 4 rooms\n",
    "\n",
    "configs4 = []\n",
    "roomDx = stageRange[3]\n",
    "for ob1 in range(roomDx['minObst'], roomDx['maxObst']+1):\n",
    "    \n",
    "    base1 = [(ob1, 1)]\n",
    "    for ob2 in range(roomDx['minObst'], roomDx['maxObst']+1):\n",
    "        \n",
    "        base2 = [(ob2, 1)]\n",
    "        for ob3 in range(roomDx['minObst'], roomDx['maxObst']+1):\n",
    "            \n",
    "            base3 = [(ob3, 1)]\n",
    "            for ob4 in range(roomDx['minObst'], roomDx['maxObst']+1):\n",
    "#                 configs4.append(sorted(base1 + base2 + base3 + [(ob4, 1)]))\n",
    "                configs4.append(sorted(base1 + base2 + base3 + [(ob4, LEVEL_FACTOR)]))\n",
    "        \n",
    "#             base3 = [(ob3, LEVEL_FACTOR)]\n",
    "#             for ob4 in range(roomDx['minObst'], roomDx['maxObst']+1):\n",
    "#                 configs4.append(sorted(base1 + base2 + base3 + [(ob4, 1)]))\n",
    "#                 configs4.append(sorted(base1 + base2 + base3 + [(ob4, LEVEL_FACTOR)]))\n",
    "\n",
    "        base2 = [(ob2, LEVEL_FACTOR)]\n",
    "        for ob3 in range(roomDx['minObst'], roomDx['maxObst']+1):\n",
    "            \n",
    "#             base3 = [(ob3, 1)]\n",
    "#             for ob4 in range(roomDx['minObst'], roomDx['maxObst']+1):\n",
    "#                 configs4.append(sorted(base1 + base2 + base3 + [(ob4, 1)]))\n",
    "#                 configs4.append(sorted(base1 + base2 + base3 + [(ob4, LEVEL_FACTOR)]))\n",
    "        \n",
    "            base3 = [(ob3, LEVEL_FACTOR)]\n",
    "            for ob4 in range(roomDx['minObst'], roomDx['maxObst']+1):\n",
    "#                 configs4.append(sorted(base1 + base2 + base3 + [(ob4, 1)]))\n",
    "                configs4.append(sorted(base1 + base2 + base3 + [(ob4, LEVEL_FACTOR)]))\n",
    "\n",
    "print('full set:', len(configs4))\n",
    "configDf = PD.DataFrame(configs4)\n",
    "configDf = configDf.drop_duplicates()\n",
    "configs4 = configDf.values.tolist()\n",
    "print('no doops:', len(configs4))\n",
    "#sorted(configs4)[:10]"
   ]
  },
  {
   "cell_type": "code",
   "execution_count": 12,
   "metadata": {},
   "outputs": [
    {
     "name": "stdout",
     "output_type": "stream",
     "text": [
      "full set: 65536\n",
      "no doops: 5280\n"
     ]
    }
   ],
   "source": [
    "# 5 rooms\n",
    "\n",
    "configs5 = []\n",
    "roomDx = stageRange[4]\n",
    "for ob1 in range(roomDx['minObst'], roomDx['maxObst']+1):\n",
    "    \n",
    "    base1 = [(ob1, 1)]\n",
    "    for ob2 in range(roomDx['minObst'], roomDx['maxObst']+1):\n",
    "        \n",
    "        base2 = [(ob2, 1)]\n",
    "        for ob3 in range(roomDx['minObst'], roomDx['maxObst']+1):\n",
    "            \n",
    "            base3 = [(ob3, 1)]\n",
    "            for ob4 in range(roomDx['minObst'], roomDx['maxObst']+1):\n",
    "                \n",
    "                base4 = [(ob4, 1)]\n",
    "                for ob5 in range(roomDx['minObst'], roomDx['maxObst']+1):\n",
    "#                     configs5.append(sorted(base1 + base2 + base3 + base4 + [(ob5, 1)]))\n",
    "                    configs5.append(sorted(base1 + base2 + base3 + base4 + [(ob5, LEVEL_FACTOR)]))\n",
    "\n",
    "        base2 = [(ob2, LEVEL_FACTOR)]\n",
    "        for ob3 in range(roomDx['minObst'], roomDx['maxObst']+1):\n",
    "            \n",
    "            base3 = [(ob3, LEVEL_FACTOR)]\n",
    "            for ob4 in range(roomDx['minObst'], roomDx['maxObst']+1):\n",
    "\n",
    "                base4 = [(ob4, LEVEL_FACTOR)]\n",
    "                for ob5 in range(roomDx['minObst'], roomDx['maxObst']+1):\n",
    "#                     configs5.append(sorted(base1 + base2 + base3 + base4 + [(ob5, 1)]))\n",
    "                    configs5.append(sorted(base1 + base2 + base3 + base4 + [(ob5, LEVEL_FACTOR)]))\n",
    "\n",
    "print('full set:', len(configs5))\n",
    "configDf = PD.DataFrame(configs5)\n",
    "configDf = configDf.drop_duplicates()\n",
    "configs5 = configDf.values.tolist()\n",
    "print('no doops:', len(configs5))\n",
    "#sorted(configs5)[:10]"
   ]
  },
  {
   "cell_type": "code",
   "execution_count": 13,
   "metadata": {
    "scrolled": false
   },
   "outputs": [
    {
     "name": "stdout",
     "output_type": "stream",
     "text": [
      "all challenges: 8168\n"
     ]
    },
    {
     "data": {
      "text/html": [
       "<div>\n",
       "<style scoped>\n",
       "    .dataframe tbody tr th:only-of-type {\n",
       "        vertical-align: middle;\n",
       "    }\n",
       "\n",
       "    .dataframe tbody tr th {\n",
       "        vertical-align: top;\n",
       "    }\n",
       "\n",
       "    .dataframe thead th {\n",
       "        text-align: right;\n",
       "    }\n",
       "</style>\n",
       "<table border=\"1\" class=\"dataframe\">\n",
       "  <thead>\n",
       "    <tr style=\"text-align: right;\">\n",
       "      <th></th>\n",
       "      <th>rooms</th>\n",
       "      <th>challenge</th>\n",
       "    </tr>\n",
       "  </thead>\n",
       "  <tbody>\n",
       "    <tr>\n",
       "      <th>30</th>\n",
       "      <td>[(13, 1), (13, 1.2)]</td>\n",
       "      <td>680</td>\n",
       "    </tr>\n",
       "    <tr>\n",
       "      <th>31</th>\n",
       "      <td>[(12, 1), (14, 1.2)]</td>\n",
       "      <td>686</td>\n",
       "    </tr>\n",
       "    <tr>\n",
       "      <th>32</th>\n",
       "      <td>[(12, 1.2), (15, 1)]</td>\n",
       "      <td>704</td>\n",
       "    </tr>\n",
       "    <tr>\n",
       "      <th>33</th>\n",
       "      <td>[(14, 1), (15, 1)]</td>\n",
       "      <td>706</td>\n",
       "    </tr>\n",
       "    <tr>\n",
       "      <th>34</th>\n",
       "      <td>[(13, 1), (16, 1)]</td>\n",
       "      <td>707</td>\n",
       "    </tr>\n",
       "    <tr>\n",
       "      <th>35</th>\n",
       "      <td>[(12, 1.2), (13, 1.2)]</td>\n",
       "      <td>708</td>\n",
       "    </tr>\n",
       "    <tr>\n",
       "      <th>36</th>\n",
       "      <td>[(12, 1), (17, 1)]</td>\n",
       "      <td>709</td>\n",
       "    </tr>\n",
       "    <tr>\n",
       "      <th>37</th>\n",
       "      <td>[(13, 1.2), (14, 1)]</td>\n",
       "      <td>709</td>\n",
       "    </tr>\n",
       "    <tr>\n",
       "      <th>38</th>\n",
       "      <td>[(13, 1), (14, 1.2)]</td>\n",
       "      <td>715</td>\n",
       "    </tr>\n",
       "    <tr>\n",
       "      <th>39</th>\n",
       "      <td>[(12, 1), (15, 1.2)]</td>\n",
       "      <td>722</td>\n",
       "    </tr>\n",
       "  </tbody>\n",
       "</table>\n",
       "</div>"
      ],
      "text/plain": [
       "                     rooms  challenge\n",
       "30    [(13, 1), (13, 1.2)]        680\n",
       "31    [(12, 1), (14, 1.2)]        686\n",
       "32    [(12, 1.2), (15, 1)]        704\n",
       "33      [(14, 1), (15, 1)]        706\n",
       "34      [(13, 1), (16, 1)]        707\n",
       "35  [(12, 1.2), (13, 1.2)]        708\n",
       "36      [(12, 1), (17, 1)]        709\n",
       "37    [(13, 1.2), (14, 1)]        709\n",
       "38    [(13, 1), (14, 1.2)]        715\n",
       "39    [(12, 1), (15, 1.2)]        722"
      ]
     },
     "execution_count": 13,
     "metadata": {},
     "output_type": "execute_result"
    }
   ],
   "source": [
    "# append the challenge to each config\n",
    "\n",
    "challenges = []\n",
    "configUnion = configs1 + configs2 + configs3 + configs4 + configs5\n",
    "\n",
    "for cf in configUnion:\n",
    "    \n",
    "    challenge = 0\n",
    "    for rm in cf:\n",
    "        challenge += ((rm[0] +1) ** 1.3) * rm[1] \n",
    "\n",
    "    challenges.append({\n",
    "        'rooms': cf,\n",
    "        'challenge': int(f\"{challenge*10:.0f}\"),\n",
    "    })\n",
    "\n",
    "challenges = sorted(challenges, key=lambda x: x['challenge'])\n",
    "print('all challenges:', len(challenges))\n",
    "PD.DataFrame(challenges)[30:40]"
   ]
  },
  {
   "cell_type": "code",
   "execution_count": 14,
   "metadata": {},
   "outputs": [
    {
     "data": {
      "text/html": [
       "<div>\n",
       "<style scoped>\n",
       "    .dataframe tbody tr th:only-of-type {\n",
       "        vertical-align: middle;\n",
       "    }\n",
       "\n",
       "    .dataframe tbody tr th {\n",
       "        vertical-align: top;\n",
       "    }\n",
       "\n",
       "    .dataframe thead th {\n",
       "        text-align: right;\n",
       "    }\n",
       "</style>\n",
       "<table border=\"1\" class=\"dataframe\">\n",
       "  <thead>\n",
       "    <tr style=\"text-align: right;\">\n",
       "      <th></th>\n",
       "      <th>1 obs</th>\n",
       "      <th>1 diff</th>\n",
       "      <th>2 obs</th>\n",
       "      <th>2 diff</th>\n",
       "      <th>3 obs</th>\n",
       "      <th>3 diff</th>\n",
       "      <th>4 obs</th>\n",
       "      <th>4 diff</th>\n",
       "      <th>5 obs</th>\n",
       "      <th>5 diff</th>\n",
       "      <th>rank</th>\n",
       "      <th>challenge</th>\n",
       "    </tr>\n",
       "  </thead>\n",
       "  <tbody>\n",
       "    <tr>\n",
       "      <th>0</th>\n",
       "      <td>12</td>\n",
       "      <td>1.0</td>\n",
       "      <td>NaN</td>\n",
       "      <td>NaN</td>\n",
       "      <td>NaN</td>\n",
       "      <td>NaN</td>\n",
       "      <td>NaN</td>\n",
       "      <td>NaN</td>\n",
       "      <td>NaN</td>\n",
       "      <td>NaN</td>\n",
       "      <td>1</td>\n",
       "      <td>281</td>\n",
       "    </tr>\n",
       "    <tr>\n",
       "      <th>1</th>\n",
       "      <td>13</td>\n",
       "      <td>1.0</td>\n",
       "      <td>NaN</td>\n",
       "      <td>NaN</td>\n",
       "      <td>NaN</td>\n",
       "      <td>NaN</td>\n",
       "      <td>NaN</td>\n",
       "      <td>NaN</td>\n",
       "      <td>NaN</td>\n",
       "      <td>NaN</td>\n",
       "      <td>1</td>\n",
       "      <td>309</td>\n",
       "    </tr>\n",
       "    <tr>\n",
       "      <th>2</th>\n",
       "      <td>12</td>\n",
       "      <td>1.2</td>\n",
       "      <td>NaN</td>\n",
       "      <td>NaN</td>\n",
       "      <td>NaN</td>\n",
       "      <td>NaN</td>\n",
       "      <td>NaN</td>\n",
       "      <td>NaN</td>\n",
       "      <td>NaN</td>\n",
       "      <td>NaN</td>\n",
       "      <td>1</td>\n",
       "      <td>337</td>\n",
       "    </tr>\n",
       "    <tr>\n",
       "      <th>3</th>\n",
       "      <td>14</td>\n",
       "      <td>1.0</td>\n",
       "      <td>NaN</td>\n",
       "      <td>NaN</td>\n",
       "      <td>NaN</td>\n",
       "      <td>NaN</td>\n",
       "      <td>NaN</td>\n",
       "      <td>NaN</td>\n",
       "      <td>NaN</td>\n",
       "      <td>NaN</td>\n",
       "      <td>1</td>\n",
       "      <td>338</td>\n",
       "    </tr>\n",
       "    <tr>\n",
       "      <th>4</th>\n",
       "      <td>15</td>\n",
       "      <td>1.0</td>\n",
       "      <td>NaN</td>\n",
       "      <td>NaN</td>\n",
       "      <td>NaN</td>\n",
       "      <td>NaN</td>\n",
       "      <td>NaN</td>\n",
       "      <td>NaN</td>\n",
       "      <td>NaN</td>\n",
       "      <td>NaN</td>\n",
       "      <td>1</td>\n",
       "      <td>368</td>\n",
       "    </tr>\n",
       "  </tbody>\n",
       "</table>\n",
       "</div>"
      ],
      "text/plain": [
       "   1 obs  1 diff  2 obs  2 diff  3 obs  3 diff  4 obs  4 diff  5 obs  5 diff  \\\n",
       "0     12     1.0    NaN     NaN    NaN     NaN    NaN     NaN    NaN     NaN   \n",
       "1     13     1.0    NaN     NaN    NaN     NaN    NaN     NaN    NaN     NaN   \n",
       "2     12     1.2    NaN     NaN    NaN     NaN    NaN     NaN    NaN     NaN   \n",
       "3     14     1.0    NaN     NaN    NaN     NaN    NaN     NaN    NaN     NaN   \n",
       "4     15     1.0    NaN     NaN    NaN     NaN    NaN     NaN    NaN     NaN   \n",
       "\n",
       "   rank  challenge  \n",
       "0     1        281  \n",
       "1     1        309  \n",
       "2     1        337  \n",
       "3     1        338  \n",
       "4     1        368  "
      ]
     },
     "execution_count": 14,
     "metadata": {},
     "output_type": "execute_result"
    }
   ],
   "source": [
    "# convert to output schema\n",
    "\n",
    "output = []\n",
    "for ch in challenges:\n",
    "    output.append({\n",
    "        '1 obs': ch['rooms'][0][0],\n",
    "        '1 diff': ch['rooms'][0][1],\n",
    "        '2 obs': ch['rooms'][1][0] if len(ch['rooms'])>=2 else None,\n",
    "        '2 diff': ch['rooms'][1][1] if len(ch['rooms'])>=2 else None,\n",
    "        '3 obs': ch['rooms'][2][0] if len(ch['rooms'])>=3 else None,\n",
    "        '3 diff': ch['rooms'][2][1] if len(ch['rooms'])>=3 else None,\n",
    "        '4 obs': ch['rooms'][3][0] if len(ch['rooms'])>=4 else None,\n",
    "        '4 diff': ch['rooms'][3][1] if len(ch['rooms'])>=4 else None,\n",
    "        '5 obs': ch['rooms'][4][0] if len(ch['rooms'])>=5 else None,\n",
    "        '5 diff': ch['rooms'][4][1] if len(ch['rooms'])>=5 else None,\n",
    "        'rank': len(ch['rooms']),\n",
    "        'challenge': ch['challenge'],\n",
    "    })\n",
    "\n",
    "PD.DataFrame(output)[:5]"
   ]
  },
  {
   "cell_type": "code",
   "execution_count": 15,
   "metadata": {
    "scrolled": true
   },
   "outputs": [
    {
     "name": "stdout",
     "output_type": "stream",
     "text": [
      "output to excel\n"
     ]
    }
   ],
   "source": [
    "# output to excel\n",
    "\n",
    "outputDf = PD.DataFrame(output)\n",
    "outputDf = outputDf.sort_values(['challenge'])\n",
    "sortedLs = NT.DataframeToDicts(outputDf)\n",
    "\n",
    "sheetPath = os.path.join(DATA_PATH, 'EmporiumReports.xlsx')\n",
    "XC.ResetFile(sheetPath)\n",
    "# XC.ResetSheet(sheetPath, 'Stage Challenge')\n",
    "XC.AppendToExcel(sheetPath, 'Stage Challenge', sortedLs)\n",
    "print('output to excel')"
   ]
  },
  {
   "cell_type": "code",
   "execution_count": null,
   "metadata": {},
   "outputs": [],
   "source": []
  }
 ],
 "metadata": {
  "kernelspec": {
   "display_name": "Python 3 (ipykernel)",
   "language": "python",
   "name": "python3"
  },
  "language_info": {
   "codemirror_mode": {
    "name": "ipython",
    "version": 3
   },
   "file_extension": ".py",
   "mimetype": "text/x-python",
   "name": "python",
   "nbconvert_exporter": "python",
   "pygments_lexer": "ipython3",
   "version": "3.8.2"
  }
 },
 "nbformat": 4,
 "nbformat_minor": 4
}
