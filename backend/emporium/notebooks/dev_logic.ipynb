{
 "cells": [
  {
   "cell_type": "markdown",
   "metadata": {},
   "source": [
    "# Emporium Logic"
   ]
  },
  {
   "cell_type": "code",
   "execution_count": 1,
   "metadata": {},
   "outputs": [],
   "source": [
    "import os, sys, random\n",
    "import pandas as PD"
   ]
  },
  {
   "cell_type": "code",
   "execution_count": 2,
   "metadata": {
    "scrolled": false
   },
   "outputs": [
    {
     "name": "stdout",
     "output_type": "stream",
     "text": [
      "['DataframeToDicts', 'GetRandom', 'NOTEBOOK_ENV']\n"
     ]
    }
   ],
   "source": [
    "BACKEND_PATH = os.path.dirname(os.path.dirname(os.getcwd()))\n",
    "APPPROJ_PATH = os.path.join(BACKEND_PATH, 'app_proj')\n",
    "sys.path.append(APPPROJ_PATH)\n",
    "import notebooks as NT\n",
    "print([x for x in dir(NT) if x[0]!='_' and len(x)>8])"
   ]
  },
  {
   "cell_type": "code",
   "execution_count": 3,
   "metadata": {},
   "outputs": [
    {
     "name": "stdout",
     "output_type": "stream",
     "text": [
      "env: DEV\n"
     ]
    }
   ],
   "source": [
    "import django\n",
    "os.environ['DEPLOYMENT_ENV'] = NT.NOTEBOOK_ENV\n",
    "os.environ['DJANGO_ALLOW_ASYNC_UNSAFE'] = 'True'\n",
    "MODULE_PATH = os.path.dirname(os.getcwd())\n",
    "os.chdir(os.path.dirname(MODULE_PATH))\n",
    "django.setup()"
   ]
  },
  {
   "cell_type": "code",
   "execution_count": 4,
   "metadata": {},
   "outputs": [
    {
     "name": "stdout",
     "output_type": "stream",
     "text": [
      "['BaseManager', 'DeleteTable', 'GetNativeTableCounts', 'GetTableCounts', 'GetTableDictionary', 'InsertBulk', 'InsertSingle']\n"
     ]
    }
   ],
   "source": [
    "import database as DB\n",
    "print([x for x in dir(DB) if x[0]!='_' and len(x)>8])"
   ]
  },
  {
   "cell_type": "code",
   "execution_count": 5,
   "metadata": {},
   "outputs": [],
   "source": [
    "import django.db.models as JM\n",
    "from django.contrib.auth import get_user_model"
   ]
  },
  {
   "cell_type": "code",
   "execution_count": 6,
   "metadata": {},
   "outputs": [],
   "source": [
    "import emporium.models as EM\n",
    "import emporium.logic.guild as GD\n",
    "import emporium.logic.stage as ST"
   ]
  },
  {
   "cell_type": "code",
   "execution_count": 7,
   "metadata": {},
   "outputs": [],
   "source": [
    "%load_ext autoreload\n",
    "%autoreload 2\n",
    "from IPython.core.interactiveshell import InteractiveShell\n",
    "InteractiveShell.ast_node_interactivity = 'all'"
   ]
  },
  {
   "cell_type": "markdown",
   "metadata": {},
   "source": [
    "### Logic Functions"
   ]
  },
  {
   "cell_type": "code",
   "execution_count": 8,
   "metadata": {},
   "outputs": [
    {
     "data": {
      "text/html": [
       "<div>\n",
       "<style scoped>\n",
       "    .dataframe tbody tr th:only-of-type {\n",
       "        vertical-align: middle;\n",
       "    }\n",
       "\n",
       "    .dataframe tbody tr th {\n",
       "        vertical-align: top;\n",
       "    }\n",
       "\n",
       "    .dataframe thead th {\n",
       "        text-align: right;\n",
       "    }\n",
       "</style>\n",
       "<table border=\"1\" class=\"dataframe\">\n",
       "  <thead>\n",
       "    <tr style=\"text-align: right;\">\n",
       "      <th></th>\n",
       "      <th>World</th>\n",
       "      <th>Level</th>\n",
       "      <th>Name</th>\n",
       "      <th>Trait</th>\n",
       "      <th>Skill</th>\n",
       "      <th>Success</th>\n",
       "      <th>Failure</th>\n",
       "      <th>Experience</th>\n",
       "      <th>Attack</th>\n",
       "      <th>Damage</th>\n",
       "      <th>Defense</th>\n",
       "      <th>Health</th>\n",
       "      <th>Difficulty</th>\n",
       "    </tr>\n",
       "  </thead>\n",
       "  <tbody>\n",
       "    <tr>\n",
       "      <th>0</th>\n",
       "      <td>1</td>\n",
       "      <td>1</td>\n",
       "      <td>Vanguard</td>\n",
       "      <td>All</td>\n",
       "      <td>Fight</td>\n",
       "      <td>experience, pass</td>\n",
       "      <td>knockout</td>\n",
       "      <td>13</td>\n",
       "      <td>2.0</td>\n",
       "      <td>8</td>\n",
       "      <td>13.0</td>\n",
       "      <td>11.0</td>\n",
       "      <td>NaN</td>\n",
       "    </tr>\n",
       "    <tr>\n",
       "      <th>1</th>\n",
       "      <td>1</td>\n",
       "      <td>1</td>\n",
       "      <td>Sewer Grate</td>\n",
       "      <td>Mig</td>\n",
       "      <td>Tra</td>\n",
       "      <td>experience, pass next</td>\n",
       "      <td>wound, pass</td>\n",
       "      <td>8</td>\n",
       "      <td>NaN</td>\n",
       "      <td>10</td>\n",
       "      <td>NaN</td>\n",
       "      <td>NaN</td>\n",
       "      <td>14.0</td>\n",
       "    </tr>\n",
       "    <tr>\n",
       "      <th>2</th>\n",
       "      <td>1</td>\n",
       "      <td>1</td>\n",
       "      <td>Vanguard</td>\n",
       "      <td>All</td>\n",
       "      <td>Fight</td>\n",
       "      <td>experience, pass</td>\n",
       "      <td>knockout</td>\n",
       "      <td>13</td>\n",
       "      <td>2.0</td>\n",
       "      <td>8</td>\n",
       "      <td>13.0</td>\n",
       "      <td>11.0</td>\n",
       "      <td>NaN</td>\n",
       "    </tr>\n",
       "    <tr>\n",
       "      <th>3</th>\n",
       "      <td>1</td>\n",
       "      <td>1</td>\n",
       "      <td>Gargoyle</td>\n",
       "      <td>Mig</td>\n",
       "      <td>Sab</td>\n",
       "      <td>experience, pass</td>\n",
       "      <td>wound, pass</td>\n",
       "      <td>8</td>\n",
       "      <td>NaN</td>\n",
       "      <td>10</td>\n",
       "      <td>NaN</td>\n",
       "      <td>NaN</td>\n",
       "      <td>12.0</td>\n",
       "    </tr>\n",
       "    <tr>\n",
       "      <th>4</th>\n",
       "      <td>1</td>\n",
       "      <td>1</td>\n",
       "      <td>Spike Trap</td>\n",
       "      <td>Agi</td>\n",
       "      <td>Tra</td>\n",
       "      <td>experience, pass</td>\n",
       "      <td>wound, pass</td>\n",
       "      <td>8</td>\n",
       "      <td>NaN</td>\n",
       "      <td>10</td>\n",
       "      <td>NaN</td>\n",
       "      <td>NaN</td>\n",
       "      <td>12.0</td>\n",
       "    </tr>\n",
       "    <tr>\n",
       "      <th>5</th>\n",
       "      <td>1</td>\n",
       "      <td>1</td>\n",
       "      <td>Vanguard</td>\n",
       "      <td>All</td>\n",
       "      <td>Fight</td>\n",
       "      <td>experience, pass</td>\n",
       "      <td>knockout</td>\n",
       "      <td>13</td>\n",
       "      <td>2.0</td>\n",
       "      <td>8</td>\n",
       "      <td>13.0</td>\n",
       "      <td>11.0</td>\n",
       "      <td>NaN</td>\n",
       "    </tr>\n",
       "    <tr>\n",
       "      <th>6</th>\n",
       "      <td>1</td>\n",
       "      <td>1</td>\n",
       "      <td>Idol</td>\n",
       "      <td>Mig</td>\n",
       "      <td>Per</td>\n",
       "      <td>treasure, pass</td>\n",
       "      <td>pass</td>\n",
       "      <td>8</td>\n",
       "      <td>NaN</td>\n",
       "      <td>10</td>\n",
       "      <td>NaN</td>\n",
       "      <td>NaN</td>\n",
       "      <td>16.0</td>\n",
       "    </tr>\n",
       "    <tr>\n",
       "      <th>7</th>\n",
       "      <td>1</td>\n",
       "      <td>1</td>\n",
       "      <td>Sorcerer</td>\n",
       "      <td>All</td>\n",
       "      <td>Fight</td>\n",
       "      <td>experience, pass</td>\n",
       "      <td>knockout</td>\n",
       "      <td>13</td>\n",
       "      <td>3.0</td>\n",
       "      <td>10</td>\n",
       "      <td>12.0</td>\n",
       "      <td>9.0</td>\n",
       "      <td>NaN</td>\n",
       "    </tr>\n",
       "    <tr>\n",
       "      <th>8</th>\n",
       "      <td>1</td>\n",
       "      <td>1</td>\n",
       "      <td>Chest</td>\n",
       "      <td>Agi</td>\n",
       "      <td>Sab</td>\n",
       "      <td>treasure, pass</td>\n",
       "      <td>pass</td>\n",
       "      <td>8</td>\n",
       "      <td>NaN</td>\n",
       "      <td>10</td>\n",
       "      <td>NaN</td>\n",
       "      <td>NaN</td>\n",
       "      <td>16.0</td>\n",
       "    </tr>\n",
       "    <tr>\n",
       "      <th>9</th>\n",
       "      <td>1</td>\n",
       "      <td>1</td>\n",
       "      <td>Sorcerer</td>\n",
       "      <td>All</td>\n",
       "      <td>Fight</td>\n",
       "      <td>experience, pass</td>\n",
       "      <td>knockout</td>\n",
       "      <td>13</td>\n",
       "      <td>3.0</td>\n",
       "      <td>10</td>\n",
       "      <td>12.0</td>\n",
       "      <td>9.0</td>\n",
       "      <td>NaN</td>\n",
       "    </tr>\n",
       "    <tr>\n",
       "      <th>10</th>\n",
       "      <td>1</td>\n",
       "      <td>1</td>\n",
       "      <td>Armoire</td>\n",
       "      <td>Cun</td>\n",
       "      <td>Tra</td>\n",
       "      <td>healing, pass</td>\n",
       "      <td>pass</td>\n",
       "      <td>8</td>\n",
       "      <td>NaN</td>\n",
       "      <td>10</td>\n",
       "      <td>NaN</td>\n",
       "      <td>NaN</td>\n",
       "      <td>16.0</td>\n",
       "    </tr>\n",
       "  </tbody>\n",
       "</table>\n",
       "</div>"
      ],
      "text/plain": [
       "    World  Level         Name Trait  Skill                Success  \\\n",
       "0       1      1     Vanguard   All  Fight       experience, pass   \n",
       "1       1      1  Sewer Grate   Mig    Tra  experience, pass next   \n",
       "2       1      1     Vanguard   All  Fight       experience, pass   \n",
       "3       1      1     Gargoyle   Mig    Sab       experience, pass   \n",
       "4       1      1   Spike Trap   Agi    Tra       experience, pass   \n",
       "5       1      1     Vanguard   All  Fight       experience, pass   \n",
       "6       1      1         Idol   Mig    Per         treasure, pass   \n",
       "7       1      1     Sorcerer   All  Fight       experience, pass   \n",
       "8       1      1        Chest   Agi    Sab         treasure, pass   \n",
       "9       1      1     Sorcerer   All  Fight       experience, pass   \n",
       "10      1      1      Armoire   Cun    Tra          healing, pass   \n",
       "\n",
       "        Failure  Experience  Attack  Damage  Defense  Health  Difficulty  \n",
       "0      knockout          13     2.0       8     13.0    11.0         NaN  \n",
       "1   wound, pass           8     NaN      10      NaN     NaN        14.0  \n",
       "2      knockout          13     2.0       8     13.0    11.0         NaN  \n",
       "3   wound, pass           8     NaN      10      NaN     NaN        12.0  \n",
       "4   wound, pass           8     NaN      10      NaN     NaN        12.0  \n",
       "5      knockout          13     2.0       8     13.0    11.0         NaN  \n",
       "6          pass           8     NaN      10      NaN     NaN        16.0  \n",
       "7      knockout          13     3.0      10     12.0     9.0         NaN  \n",
       "8          pass           8     NaN      10      NaN     NaN        16.0  \n",
       "9      knockout          13     3.0      10     12.0     9.0         NaN  \n",
       "10         pass           8     NaN      10      NaN     NaN        16.0  "
      ]
     },
     "execution_count": 8,
     "metadata": {},
     "output_type": "execute_result"
    }
   ],
   "source": [
    "# permited obstacles development\n",
    "\n",
    "stageType = 'balanced'\n",
    "maxObstacles = 11\n",
    "\n",
    "potentialLs = ST.ProductionTable(1,3,1,1,1)\n",
    "obstacleLs = ST.ObstacleSequence(potentialLs, maxObstacles)\n",
    "\n",
    "PD.DataFrame(obstacleLs)"
   ]
  },
  {
   "cell_type": "code",
   "execution_count": 9,
   "metadata": {},
   "outputs": [
    {
     "data": {
      "text/plain": [
       "{'Agi': 2, 'Cun': 2, 'Mig': 2, 'All': 3}"
      ]
     },
     "execution_count": 9,
     "metadata": {},
     "output_type": "execute_result"
    }
   ],
   "source": [
    "# permitted = CheckPermitted(obstacleLs, stageType, maxObstacles)\n",
    "\n",
    "if stageType == 'balanced' and maxObstacles <= 9:\n",
    "    minDx = {'Agi': 1, 'Cun': 1, 'Mig': 1, 'All': 2}\n",
    "elif stageType == 'balanced':\n",
    "    minDx = {'Agi': 2, 'Cun': 2, 'Mig': 2, 'All': 3}\n",
    "    \n",
    "if stageType == 'biased agi' and maxObstacles <= 9:\n",
    "    minDx = {'Agi': 3, 'Cun': 0, 'Mig': 0, 'All': 2}\n",
    "elif stageType == 'biased agi':\n",
    "    minDx = {'Agi': 4, 'Cun': 1, 'Mig': 1, 'All': 3}\n",
    "    \n",
    "if stageType == 'biased cun' and maxObstacles <= 9:\n",
    "    minDx = {'Agi': 0, 'Cun': 3, 'Mig': 0, 'All': 2}\n",
    "elif stageType == 'biased cun':\n",
    "    minDx = {'Agi': 1, 'Cun': 4, 'Mig': 1, 'All': 3}\n",
    "    \n",
    "if stageType == 'biased mig' and maxObstacles <= 9:\n",
    "    minDx = {'Agi': 0, 'Cun': 0, 'Mig': 3, 'All': 2}\n",
    "elif stageType == 'biased mig':\n",
    "    minDx = {'Agi': 1, 'Cun': 1, 'Mig': 4, 'All': 3}\n",
    "\n",
    "if stageType == 'biased cmb' and maxObstacles <= 9:\n",
    "    minDx = {'Agi': 1, 'Cun': 1, 'Mig': 1, 'All': 3}\n",
    "elif stageType == 'biased cmb':\n",
    "    minDx = {'Agi': 1, 'Cun': 1, 'Mig': 1, 'All': 4}\n",
    "\n",
    "minDx"
   ]
  },
  {
   "cell_type": "code",
   "execution_count": 10,
   "metadata": {},
   "outputs": [
    {
     "data": {
      "text/plain": [
       "{'Agi': 2, 'Cun': 1, 'Mig': 3, 'All': 5}"
      ]
     },
     "execution_count": 10,
     "metadata": {},
     "output_type": "execute_result"
    }
   ],
   "source": [
    "countDx = {'Agi': 0, 'Cun': 0, 'Mig': 0, 'All': 0}\n",
    "for ob in obstacleLs:\n",
    "    countDx[ob['Trait']] += 1\n",
    "\n",
    "countDx"
   ]
  },
  {
   "cell_type": "code",
   "execution_count": 11,
   "metadata": {},
   "outputs": [
    {
     "data": {
      "text/plain": [
       "False"
      ]
     },
     "execution_count": 11,
     "metadata": {},
     "output_type": "execute_result"
    }
   ],
   "source": [
    "permited = True\n",
    "\n",
    "if countDx['Agi'] < minDx['Agi'] or countDx['Agi'] > minDx['Agi'] +2:\n",
    "    permited = False\n",
    "\n",
    "if countDx['Cun'] < minDx['Cun'] or countDx['Cun'] > minDx['Cun'] +2:\n",
    "    permited = False\n",
    "\n",
    "if countDx['Mig'] < minDx['Mig'] or countDx['Mig'] > minDx['Mig'] +2:\n",
    "    permited = False\n",
    "\n",
    "if countDx['All'] < minDx['All'] or countDx['All'] > minDx['All'] +2:\n",
    "    permited = False\n",
    "\n",
    "permited"
   ]
  },
  {
   "cell_type": "code",
   "execution_count": 22,
   "metadata": {},
   "outputs": [
    {
     "data": {
      "text/plain": [
       "7"
      ]
     },
     "execution_count": 22,
     "metadata": {},
     "output_type": "execute_result"
    }
   ],
   "source": [
    "# run loop to get the number of trials\n",
    "\n",
    "potentialLs = ST.ProductionTable(1,3,1,1,1)\n",
    "runs = 1\n",
    "\n",
    "obstacleLs = ST.ObstacleSequence(potentialLs, maxObstacles)\n",
    "permitted = ST.CheckPermitted(obstacleLs, stageType, maxObstacles)\n",
    "\n",
    "while not permitted:\n",
    "    obstacleLs = ST.ObstacleSequence(potentialLs, maxObstacles)\n",
    "    permitted = ST.CheckPermitted(obstacleLs, stageType, maxObstacles)\n",
    "    runs += 1\n",
    "\n",
    "runs"
   ]
  },
  {
   "cell_type": "code",
   "execution_count": null,
   "metadata": {},
   "outputs": [],
   "source": []
  }
 ],
 "metadata": {
  "kernelspec": {
   "display_name": "Python 3 (ipykernel)",
   "language": "python",
   "name": "python3"
  },
  "language_info": {
   "codemirror_mode": {
    "name": "ipython",
    "version": 3
   },
   "file_extension": ".py",
   "mimetype": "text/x-python",
   "name": "python",
   "nbconvert_exporter": "python",
   "pygments_lexer": "ipython3",
   "version": "3.8.2"
  }
 },
 "nbformat": 4,
 "nbformat_minor": 4
}
