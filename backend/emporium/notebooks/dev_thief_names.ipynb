{
 "cells": [
  {
   "cell_type": "markdown",
   "metadata": {},
   "source": [
    "# Title"
   ]
  },
  {
   "cell_type": "code",
   "execution_count": 1,
   "metadata": {},
   "outputs": [],
   "source": [
    "import os, sys\n",
    "import pandas as PD"
   ]
  },
  {
   "cell_type": "code",
   "execution_count": 2,
   "metadata": {},
   "outputs": [
    {
     "name": "stdout",
     "output_type": "stream",
     "text": [
      "['DataframeToDicts', 'GetRandom', 'NOTEBOOK_ENV']\n"
     ]
    }
   ],
   "source": [
    "BACKEND_PATH = os.path.dirname(os.path.dirname(os.getcwd()))\n",
    "APPPROJ_PATH = os.path.join(BACKEND_PATH, 'app_proj')\n",
    "sys.path.append(APPPROJ_PATH)\n",
    "import notebooks as NT\n",
    "print([x for x in dir(NT) if x[0]!='_' and len(x)>8])"
   ]
  },
  {
   "cell_type": "code",
   "execution_count": 3,
   "metadata": {},
   "outputs": [
    {
     "data": {
      "text/plain": [
       "True"
      ]
     },
     "execution_count": 3,
     "metadata": {},
     "output_type": "execute_result"
    }
   ],
   "source": [
    "MODULE_PATH = os.path.dirname(os.getcwd())\n",
    "DATA_PATH = os.path.join(MODULE_PATH, 'data')\n",
    "os.path.exists(DATA_PATH)"
   ]
  },
  {
   "cell_type": "code",
   "execution_count": 4,
   "metadata": {
    "scrolled": false
   },
   "outputs": [
    {
     "name": "stdout",
     "output_type": "stream",
     "text": [
      "env: DEV\n"
     ]
    }
   ],
   "source": [
    "import django\n",
    "os.environ['DEPLOYMENT_ENV'] = NT.NOTEBOOK_ENV\n",
    "os.environ['DJANGO_ALLOW_ASYNC_UNSAFE'] = 'True'\n",
    "os.chdir(os.path.dirname(MODULE_PATH))\n",
    "django.setup()"
   ]
  },
  {
   "cell_type": "code",
   "execution_count": 5,
   "metadata": {},
   "outputs": [
    {
     "name": "stdout",
     "output_type": "stream",
     "text": [
      "['AppendToExcel', 'ReadSheet', 'ResetFile', 'ResetSheet']\n"
     ]
    }
   ],
   "source": [
    "import app_proj.excel_service as XS\n",
    "print([x for x in dir(XS) if x[0]!='_' and len(x)>8])"
   ]
  },
  {
   "cell_type": "code",
   "execution_count": 6,
   "metadata": {},
   "outputs": [
    {
     "name": "stdout",
     "output_type": "stream",
     "text": [
      "C:\\Documents\\Code\\OpenStack\\ThievesGuild\\codebase\\backend\\emporium\\data\n"
     ]
    }
   ],
   "source": [
    "DATA_PATH = os.path.join(MODULE_PATH, 'data')\n",
    "print(DATA_PATH)"
   ]
  },
  {
   "cell_type": "code",
   "execution_count": 7,
   "metadata": {},
   "outputs": [],
   "source": [
    "%load_ext autoreload\n",
    "%autoreload 2\n",
    "from IPython.core.interactiveshell import InteractiveShell\n",
    "InteractiveShell.ast_node_interactivity = 'all'"
   ]
  },
  {
   "cell_type": "markdown",
   "metadata": {},
   "source": [
    "### Begin Code"
   ]
  },
  {
   "cell_type": "code",
   "execution_count": 8,
   "metadata": {
    "scrolled": false
   },
   "outputs": [
    {
     "data": {
      "text/html": [
       "<div>\n",
       "<style scoped>\n",
       "    .dataframe tbody tr th:only-of-type {\n",
       "        vertical-align: middle;\n",
       "    }\n",
       "\n",
       "    .dataframe tbody tr th {\n",
       "        vertical-align: top;\n",
       "    }\n",
       "\n",
       "    .dataframe thead th {\n",
       "        text-align: right;\n",
       "    }\n",
       "</style>\n",
       "<table border=\"1\" class=\"dataframe\">\n",
       "  <thead>\n",
       "    <tr style=\"text-align: right;\">\n",
       "      <th></th>\n",
       "      <th>Original</th>\n",
       "      <th>Movie, Series</th>\n",
       "      <th>Artist, Music</th>\n",
       "      <th>Game</th>\n",
       "      <th>Person, Religion</th>\n",
       "      <th>Location</th>\n",
       "      <th>Other</th>\n",
       "    </tr>\n",
       "  </thead>\n",
       "  <tbody>\n",
       "    <tr>\n",
       "      <th>0</th>\n",
       "      <td>NaN</td>\n",
       "      <td>NaN</td>\n",
       "      <td>NaN</td>\n",
       "      <td>NaN</td>\n",
       "      <td>NaN</td>\n",
       "      <td>NaN</td>\n",
       "      <td>NaN</td>\n",
       "    </tr>\n",
       "    <tr>\n",
       "      <th>1</th>\n",
       "      <td>Aelix</td>\n",
       "      <td>Agathor</td>\n",
       "      <td>Abramson</td>\n",
       "      <td>Adjani</td>\n",
       "      <td>Abatu</td>\n",
       "      <td>Abydos</td>\n",
       "      <td>Abiggar</td>\n",
       "    </tr>\n",
       "    <tr>\n",
       "      <th>2</th>\n",
       "      <td>Afion</td>\n",
       "      <td>Akron</td>\n",
       "      <td>NaN</td>\n",
       "      <td>Alannon</td>\n",
       "      <td>Aleksios</td>\n",
       "      <td>NaN</td>\n",
       "      <td>Agramon</td>\n",
       "    </tr>\n",
       "    <tr>\n",
       "      <th>3</th>\n",
       "      <td>Altamira</td>\n",
       "      <td>NaN</td>\n",
       "      <td>NaN</td>\n",
       "      <td>Althea</td>\n",
       "      <td>Allocen</td>\n",
       "      <td>NaN</td>\n",
       "      <td>NaN</td>\n",
       "    </tr>\n",
       "    <tr>\n",
       "      <th>4</th>\n",
       "      <td>NaN</td>\n",
       "      <td>NaN</td>\n",
       "      <td>NaN</td>\n",
       "      <td>NaN</td>\n",
       "      <td>NaN</td>\n",
       "      <td>NaN</td>\n",
       "      <td>NaN</td>\n",
       "    </tr>\n",
       "    <tr>\n",
       "      <th>...</th>\n",
       "      <td>...</td>\n",
       "      <td>...</td>\n",
       "      <td>...</td>\n",
       "      <td>...</td>\n",
       "      <td>...</td>\n",
       "      <td>...</td>\n",
       "      <td>...</td>\n",
       "    </tr>\n",
       "    <tr>\n",
       "      <th>324</th>\n",
       "      <td>NaN</td>\n",
       "      <td>NaN</td>\n",
       "      <td>NaN</td>\n",
       "      <td>NaN</td>\n",
       "      <td>NaN</td>\n",
       "      <td>NaN</td>\n",
       "      <td>NaN</td>\n",
       "    </tr>\n",
       "    <tr>\n",
       "      <th>325</th>\n",
       "      <td>NaN</td>\n",
       "      <td>NaN</td>\n",
       "      <td>NaN</td>\n",
       "      <td>NaN</td>\n",
       "      <td>NaN</td>\n",
       "      <td>NaN</td>\n",
       "      <td>NaN</td>\n",
       "    </tr>\n",
       "    <tr>\n",
       "      <th>326</th>\n",
       "      <td>NaN</td>\n",
       "      <td>NaN</td>\n",
       "      <td>NaN</td>\n",
       "      <td>NaN</td>\n",
       "      <td>NaN</td>\n",
       "      <td>NaN</td>\n",
       "      <td>NaN</td>\n",
       "    </tr>\n",
       "    <tr>\n",
       "      <th>327</th>\n",
       "      <td>NaN</td>\n",
       "      <td>NaN</td>\n",
       "      <td>NaN</td>\n",
       "      <td>NaN</td>\n",
       "      <td>NaN</td>\n",
       "      <td>NaN</td>\n",
       "      <td>NaN</td>\n",
       "    </tr>\n",
       "    <tr>\n",
       "      <th>328</th>\n",
       "      <td>165</td>\n",
       "      <td>76</td>\n",
       "      <td>58</td>\n",
       "      <td>116</td>\n",
       "      <td>155</td>\n",
       "      <td>25</td>\n",
       "      <td>53</td>\n",
       "    </tr>\n",
       "  </tbody>\n",
       "</table>\n",
       "<p>329 rows × 7 columns</p>\n",
       "</div>"
      ],
      "text/plain": [
       "     Original Movie, Series Artist, Music     Game Person, Religion Location  \\\n",
       "0         NaN           NaN           NaN      NaN              NaN      NaN   \n",
       "1       Aelix       Agathor      Abramson   Adjani            Abatu   Abydos   \n",
       "2       Afion         Akron           NaN  Alannon         Aleksios      NaN   \n",
       "3    Altamira           NaN           NaN   Althea          Allocen      NaN   \n",
       "4         NaN           NaN           NaN      NaN              NaN      NaN   \n",
       "..        ...           ...           ...      ...              ...      ...   \n",
       "324       NaN           NaN           NaN      NaN              NaN      NaN   \n",
       "325       NaN           NaN           NaN      NaN              NaN      NaN   \n",
       "326       NaN           NaN           NaN      NaN              NaN      NaN   \n",
       "327       NaN           NaN           NaN      NaN              NaN      NaN   \n",
       "328       165            76            58      116              155       25   \n",
       "\n",
       "       Other  \n",
       "0        NaN  \n",
       "1    Abiggar  \n",
       "2    Agramon  \n",
       "3        NaN  \n",
       "4        NaN  \n",
       "..       ...  \n",
       "324      NaN  \n",
       "325      NaN  \n",
       "326      NaN  \n",
       "327      NaN  \n",
       "328       53  \n",
       "\n",
       "[329 rows x 7 columns]"
      ]
     },
     "execution_count": 8,
     "metadata": {},
     "output_type": "execute_result"
    }
   ],
   "source": [
    "inputPath = os.path.join(DATA_PATH, 'CharacterNames.xlsx')\n",
    "nameDf = XS.ReadSheet(inputPath, 'Names')\n",
    "nameDf = nameDf.reset_index().drop(['index', 'Sort Letter', 'Unnamed: 2'], axis=1, errors='ignore')\n",
    "nameDf = nameDf.dropna(axis=1, how='all')\n",
    "nameDf"
   ]
  },
  {
   "cell_type": "code",
   "execution_count": 18,
   "metadata": {
    "scrolled": true
   },
   "outputs": [
    {
     "data": {
      "text/plain": [
       "['Akron',\n",
       " 'Alannon',\n",
       " 'Aleksios',\n",
       " 'Allocen',\n",
       " 'Altamira',\n",
       " 'Alteriel',\n",
       " 'Althea',\n",
       " 'Amaymon',\n",
       " 'Amilyn',\n",
       " 'Amonette',\n",
       " 'Ancasta',\n",
       " 'Anchylos',\n",
       " 'Andramilin',\n",
       " 'Andraste',\n",
       " 'Androcine',\n",
       " 'Angrath',\n",
       " 'Anhur',\n",
       " 'Anike',\n",
       " 'Arawen',\n",
       " 'Arcadia']"
      ]
     },
     "execution_count": 18,
     "metadata": {},
     "output_type": "execute_result"
    }
   ],
   "source": [
    "nameLs = nameDf.values.tolist()\n",
    "characters = []\n",
    "\n",
    "for rw in nameLs:\n",
    "    for nm in rw:\n",
    "        checkVal = str(nm)\n",
    "        if not checkVal in ['nan', 'NaT', '<NA>'] and not any(char.isdigit() for char in checkVal): \n",
    "            characters.append(nm)\n",
    "\n",
    "sorted(characters)[10:30]"
   ]
  },
  {
   "cell_type": "code",
   "execution_count": null,
   "metadata": {},
   "outputs": [],
   "source": []
  }
 ],
 "metadata": {
  "kernelspec": {
   "display_name": "Python 3 (ipykernel)",
   "language": "python",
   "name": "python3"
  },
  "language_info": {
   "codemirror_mode": {
    "name": "ipython",
    "version": 3
   },
   "file_extension": ".py",
   "mimetype": "text/x-python",
   "name": "python",
   "nbconvert_exporter": "python",
   "pygments_lexer": "ipython3",
   "version": "3.8.2"
  }
 },
 "nbformat": 4,
 "nbformat_minor": 4
}
