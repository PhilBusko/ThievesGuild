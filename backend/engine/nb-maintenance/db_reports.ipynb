{
 "cells": [
  {
   "cell_type": "markdown",
   "metadata": {},
   "source": [
    "# Database Reports"
   ]
  },
  {
   "cell_type": "code",
   "execution_count": 1,
   "metadata": {},
   "outputs": [],
   "source": [
    "import os, sys\n",
    "import pandas as PD"
   ]
  },
  {
   "cell_type": "code",
   "execution_count": 2,
   "metadata": {
    "scrolled": false
   },
   "outputs": [
    {
     "name": "stdout",
     "output_type": "stream",
     "text": [
      "['DataframeToDicts', 'GetRandom', 'NOTEBOOK_ENV']\n"
     ]
    }
   ],
   "source": [
    "BACKEND_PATH = os.path.dirname(os.path.dirname(os.getcwd()))\n",
    "APPPROJ_PATH = os.path.join(BACKEND_PATH, 'app_proj')\n",
    "sys.path.append(APPPROJ_PATH)\n",
    "import notebooks as NT\n",
    "print([x for x in dir(NT) if x[0]!='_' and len(x)>8])"
   ]
  },
  {
   "cell_type": "code",
   "execution_count": 3,
   "metadata": {},
   "outputs": [
    {
     "name": "stdout",
     "output_type": "stream",
     "text": [
      "env: DEV\n"
     ]
    }
   ],
   "source": [
    "import django\n",
    "os.environ['DEPLOYMENT_ENV'] = NT.NOTEBOOK_ENV\n",
    "os.environ['DJANGO_ALLOW_ASYNC_UNSAFE'] = 'True'\n",
    "MODULE_PATH = os.path.dirname(os.getcwd())\n",
    "os.chdir(os.path.dirname(MODULE_PATH))\n",
    "django.setup()"
   ]
  },
  {
   "cell_type": "code",
   "execution_count": 4,
   "metadata": {},
   "outputs": [
    {
     "name": "stdout",
     "output_type": "stream",
     "text": [
      "['BaseManager', 'DeleteTable', 'GetNativeTableCounts', 'GetTableCounts', 'GetTableDictionary', 'InsertBulk', 'InsertSingle']\n"
     ]
    }
   ],
   "source": [
    "import database as DB\n",
    "print([x for x in dir(DB) if x[0]!='_' and len(x)>8])"
   ]
  },
  {
   "cell_type": "code",
   "execution_count": 5,
   "metadata": {},
   "outputs": [],
   "source": [
    "%load_ext autoreload\n",
    "%autoreload 2\n",
    "from IPython.core.interactiveshell import InteractiveShell\n",
    "InteractiveShell.ast_node_interactivity = 'all'"
   ]
  },
  {
   "cell_type": "markdown",
   "metadata": {},
   "source": [
    "### Reports"
   ]
  },
  {
   "cell_type": "code",
   "execution_count": 6,
   "metadata": {
    "scrolled": false
   },
   "outputs": [
    {
     "data": {
      "text/html": [
       "<div>\n",
       "<style scoped>\n",
       "    .dataframe tbody tr th:only-of-type {\n",
       "        vertical-align: middle;\n",
       "    }\n",
       "\n",
       "    .dataframe tbody tr th {\n",
       "        vertical-align: top;\n",
       "    }\n",
       "\n",
       "    .dataframe thead th {\n",
       "        text-align: right;\n",
       "    }\n",
       "</style>\n",
       "<table border=\"1\" class=\"dataframe\">\n",
       "  <thead>\n",
       "    <tr style=\"text-align: right;\">\n",
       "      <th></th>\n",
       "      <th>Module</th>\n",
       "      <th>Table</th>\n",
       "      <th>Count</th>\n",
       "    </tr>\n",
       "  </thead>\n",
       "  <tbody>\n",
       "    <tr>\n",
       "      <th>0</th>\n",
       "      <td>members</td>\n",
       "      <td>User</td>\n",
       "      <td>2</td>\n",
       "    </tr>\n",
       "    <tr>\n",
       "      <th>1</th>\n",
       "      <td>emporium</td>\n",
       "      <td>UnlockableThief</td>\n",
       "      <td>12</td>\n",
       "    </tr>\n",
       "    <tr>\n",
       "      <th>2</th>\n",
       "      <td>emporium</td>\n",
       "      <td>UnlockableItem</td>\n",
       "      <td>72</td>\n",
       "    </tr>\n",
       "    <tr>\n",
       "      <th>3</th>\n",
       "      <td>emporium</td>\n",
       "      <td>ThiefLevel</td>\n",
       "      <td>12</td>\n",
       "    </tr>\n",
       "    <tr>\n",
       "      <th>4</th>\n",
       "      <td>emporium</td>\n",
       "      <td>KeepUpgrades</td>\n",
       "      <td>9</td>\n",
       "    </tr>\n",
       "    <tr>\n",
       "      <th>5</th>\n",
       "      <td>emporium</td>\n",
       "      <td>SingletonUpgrades</td>\n",
       "      <td>9</td>\n",
       "    </tr>\n",
       "    <tr>\n",
       "      <th>6</th>\n",
       "      <td>emporium</td>\n",
       "      <td>StorageUpgrades</td>\n",
       "      <td>9</td>\n",
       "    </tr>\n",
       "    <tr>\n",
       "      <th>7</th>\n",
       "      <td>emporium</td>\n",
       "      <td>FactoryUpgrades</td>\n",
       "      <td>9</td>\n",
       "    </tr>\n",
       "    <tr>\n",
       "      <th>8</th>\n",
       "      <td>emporium</td>\n",
       "      <td>Trap</td>\n",
       "      <td>72</td>\n",
       "    </tr>\n",
       "    <tr>\n",
       "      <th>9</th>\n",
       "      <td>emporium</td>\n",
       "      <td>Enemy</td>\n",
       "      <td>18</td>\n",
       "    </tr>\n",
       "    <tr>\n",
       "      <th>10</th>\n",
       "      <td>emporium</td>\n",
       "      <td>GothicTower</td>\n",
       "      <td>36</td>\n",
       "    </tr>\n",
       "    <tr>\n",
       "      <th>11</th>\n",
       "      <td>emporium</td>\n",
       "      <td>LeagueTrial</td>\n",
       "      <td>18</td>\n",
       "    </tr>\n",
       "    <tr>\n",
       "      <th>12</th>\n",
       "      <td>emporium</td>\n",
       "      <td>Campaign</td>\n",
       "      <td>41</td>\n",
       "    </tr>\n",
       "    <tr>\n",
       "      <th>13</th>\n",
       "      <td>emporium</td>\n",
       "      <td>TrialDay</td>\n",
       "      <td>7</td>\n",
       "    </tr>\n",
       "    <tr>\n",
       "      <th>14</th>\n",
       "      <td>engine</td>\n",
       "      <td>Guild</td>\n",
       "      <td>1</td>\n",
       "    </tr>\n",
       "    <tr>\n",
       "      <th>15</th>\n",
       "      <td>engine</td>\n",
       "      <td>ThiefInGuild</td>\n",
       "      <td>6</td>\n",
       "    </tr>\n",
       "    <tr>\n",
       "      <th>16</th>\n",
       "      <td>engine</td>\n",
       "      <td>ItemInGuild</td>\n",
       "      <td>18</td>\n",
       "    </tr>\n",
       "    <tr>\n",
       "      <th>17</th>\n",
       "      <td>engine</td>\n",
       "      <td>ThiefUnlocked</td>\n",
       "      <td>0</td>\n",
       "    </tr>\n",
       "    <tr>\n",
       "      <th>18</th>\n",
       "      <td>engine</td>\n",
       "      <td>ItemUnlocked</td>\n",
       "      <td>0</td>\n",
       "    </tr>\n",
       "    <tr>\n",
       "      <th>19</th>\n",
       "      <td>engine</td>\n",
       "      <td>GuildStages</td>\n",
       "      <td>0</td>\n",
       "    </tr>\n",
       "  </tbody>\n",
       "</table>\n",
       "</div>"
      ],
      "text/plain": [
       "      Module              Table  Count\n",
       "0    members               User      2\n",
       "1   emporium    UnlockableThief     12\n",
       "2   emporium     UnlockableItem     72\n",
       "3   emporium         ThiefLevel     12\n",
       "4   emporium       KeepUpgrades      9\n",
       "5   emporium  SingletonUpgrades      9\n",
       "6   emporium    StorageUpgrades      9\n",
       "7   emporium    FactoryUpgrades      9\n",
       "8   emporium               Trap     72\n",
       "9   emporium              Enemy     18\n",
       "10  emporium        GothicTower     36\n",
       "11  emporium        LeagueTrial     18\n",
       "12  emporium           Campaign     41\n",
       "13  emporium           TrialDay      7\n",
       "14    engine              Guild      1\n",
       "15    engine       ThiefInGuild      6\n",
       "16    engine        ItemInGuild     18\n",
       "17    engine      ThiefUnlocked      0\n",
       "18    engine       ItemUnlocked      0\n",
       "19    engine        GuildStages      0"
      ]
     },
     "execution_count": 6,
     "metadata": {},
     "output_type": "execute_result"
    }
   ],
   "source": [
    "infoLs = DB.GetTableCounts()\n",
    "PD.DataFrame(infoLs)"
   ]
  },
  {
   "cell_type": "code",
   "execution_count": 7,
   "metadata": {},
   "outputs": [],
   "source": [
    "# voteLs = DB.GetTableDictionary('central', 'UserProfile')\n",
    "# voteDf = PD.DataFrame(voteLs)\n",
    "# voteDf"
   ]
  },
  {
   "cell_type": "code",
   "execution_count": null,
   "metadata": {},
   "outputs": [],
   "source": []
  }
 ],
 "metadata": {
  "kernelspec": {
   "display_name": "Python 3 (ipykernel)",
   "language": "python",
   "name": "python3"
  },
  "language_info": {
   "codemirror_mode": {
    "name": "ipython",
    "version": 3
   },
   "file_extension": ".py",
   "mimetype": "text/x-python",
   "name": "python",
   "nbconvert_exporter": "python",
   "pygments_lexer": "ipython3",
   "version": "3.8.2"
  }
 },
 "nbformat": 4,
 "nbformat_minor": 4
}
