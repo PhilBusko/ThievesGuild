{
 "cells": [
  {
   "cell_type": "markdown",
   "metadata": {},
   "source": [
    "# Migrate Database"
   ]
  },
  {
   "cell_type": "code",
   "execution_count": 1,
   "metadata": {},
   "outputs": [],
   "source": [
    "import os, sys\n",
    "import pandas as PD"
   ]
  },
  {
   "cell_type": "code",
   "execution_count": 2,
   "metadata": {},
   "outputs": [
    {
     "name": "stdout",
     "output_type": "stream",
     "text": [
      "['DataframeToDicts', 'GetRandom', 'NOTEBOOK_ENV']\n"
     ]
    }
   ],
   "source": [
    "BACKEND_PATH = os.path.dirname(os.path.dirname(os.getcwd()))\n",
    "APPPROJ_PATH = os.path.join(BACKEND_PATH, 'app_proj')\n",
    "sys.path.append(APPPROJ_PATH)\n",
    "import notebooks as NT\n",
    "print([x for x in dir(NT) if x[0]!='_' and len(x)>8])"
   ]
  },
  {
   "cell_type": "code",
   "execution_count": 3,
   "metadata": {
    "scrolled": false
   },
   "outputs": [
    {
     "name": "stdout",
     "output_type": "stream",
     "text": [
      "env: DEV\n"
     ]
    }
   ],
   "source": [
    "import django\n",
    "os.environ['DEPLOYMENT_ENV'] = NT.NOTEBOOK_ENV\n",
    "os.environ['DJANGO_ALLOW_ASYNC_UNSAFE'] = 'True'\n",
    "MODULE_PATH = os.path.dirname(os.getcwd())\n",
    "os.chdir(os.path.dirname(MODULE_PATH))\n",
    "django.setup()"
   ]
  },
  {
   "cell_type": "code",
   "execution_count": 4,
   "metadata": {},
   "outputs": [],
   "source": [
    "from django.core.management import call_command"
   ]
  },
  {
   "cell_type": "code",
   "execution_count": 5,
   "metadata": {},
   "outputs": [],
   "source": [
    "%load_ext autoreload\n",
    "%autoreload 2\n",
    "from IPython.core.interactiveshell import InteractiveShell\n",
    "InteractiveShell.ast_node_interactivity = 'all'"
   ]
  },
  {
   "cell_type": "markdown",
   "metadata": {},
   "source": [
    "### Migratations"
   ]
  },
  {
   "cell_type": "code",
   "execution_count": 6,
   "metadata": {
    "scrolled": false
   },
   "outputs": [
    {
     "name": "stdout",
     "output_type": "stream",
     "text": [
      "Was thieflevel.KnockedOutPeriod renamed to thieflevel.BeatenPeriod (a TextField)? [y/N] y\n",
      "It is impossible to add a non-nullable field 'BeatenPeriodMin' to thieflevel without specifying a default. This is because the database needs something to populate existing rows.\n",
      "Please select a fix:\n",
      " 1) Provide a one-off default now (will be set on all existing rows with a null value for this column)\n",
      " 2) Quit and manually define a default value in models.py.\n",
      "Select an option: 1\n",
      "Please enter the default value as valid Python.\n",
      "The datetime and django.utils.timezone modules are available, so it is possible to provide e.g. timezone.now as a value.\n",
      "Type 'exit' to exit this prompt\n",
      ">>> ''\n",
      "It is impossible to add a non-nullable field 'WoundPeriodMin' to thieflevel without specifying a default. This is because the database needs something to populate existing rows.\n",
      "Please select a fix:\n",
      " 1) Provide a one-off default now (will be set on all existing rows with a null value for this column)\n",
      " 2) Quit and manually define a default value in models.py.\n",
      "Select an option: 1\n",
      "Please enter the default value as valid Python.\n",
      "The datetime and django.utils.timezone modules are available, so it is possible to provide e.g. timezone.now as a value.\n",
      "Type 'exit' to exit this prompt\n",
      ">>> ''\n",
      "Migrations for 'emporium':\n",
      "  emporium\\migrations\\0013_rename_knockedoutperiod_thieflevel_beatenperiod_and_more.py\n",
      "    - Rename field KnockedOutPeriod on thieflevel to BeatenPeriod\n",
      "    - Add field BeatenPeriodMin to thieflevel\n",
      "    - Add field WoundPeriodMin to thieflevel\n"
     ]
    }
   ],
   "source": [
    "\n",
    "call_command('makemigrations')\n"
   ]
  },
  {
   "cell_type": "code",
   "execution_count": 7,
   "metadata": {
    "scrolled": false
   },
   "outputs": [
    {
     "name": "stdout",
     "output_type": "stream",
     "text": [
      "Operations to perform:\n",
      "  Apply all migrations: admin, auth, contenttypes, emporium, engine, members, sessions\n",
      "Running migrations:\n",
      "  Applying emporium.0013_rename_knockedoutperiod_thieflevel_beatenperiod_and_more... OK\n"
     ]
    }
   ],
   "source": [
    "\n",
    "call_command('migrate')\n"
   ]
  },
  {
   "cell_type": "code",
   "execution_count": null,
   "metadata": {},
   "outputs": [],
   "source": []
  }
 ],
 "metadata": {
  "kernelspec": {
   "display_name": "Python 3 (ipykernel)",
   "language": "python",
   "name": "python3"
  },
  "language_info": {
   "codemirror_mode": {
    "name": "ipython",
    "version": 3
   },
   "file_extension": ".py",
   "mimetype": "text/x-python",
   "name": "python",
   "nbconvert_exporter": "python",
   "pygments_lexer": "ipython3",
   "version": "3.8.2"
  }
 },
 "nbformat": 4,
 "nbformat_minor": 4
}
