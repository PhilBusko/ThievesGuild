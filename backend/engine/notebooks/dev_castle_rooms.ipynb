{
 "cells": [
  {
   "cell_type": "markdown",
   "metadata": {},
   "source": [
    "# Castle Rooms"
   ]
  },
  {
   "cell_type": "code",
   "execution_count": 1,
   "metadata": {},
   "outputs": [],
   "source": [
    "import os, sys, random, json\n",
    "import pandas as PD"
   ]
  },
  {
   "cell_type": "code",
   "execution_count": 2,
   "metadata": {
    "scrolled": false
   },
   "outputs": [
    {
     "name": "stdout",
     "output_type": "stream",
     "text": [
      "['DataframeToDicts', 'GetRandom', 'NOTEBOOK_ENV']\n"
     ]
    }
   ],
   "source": [
    "BACKEND_PATH = os.path.dirname(os.path.dirname(os.getcwd()))\n",
    "APPPROJ_PATH = os.path.join(BACKEND_PATH, 'app_proj')\n",
    "sys.path.append(APPPROJ_PATH)\n",
    "import notebooks as NT\n",
    "print([x for x in dir(NT) if x[0]!='_' and len(x)>8])"
   ]
  },
  {
   "cell_type": "code",
   "execution_count": 3,
   "metadata": {},
   "outputs": [
    {
     "name": "stdout",
     "output_type": "stream",
     "text": [
      "env: DEV\n"
     ]
    }
   ],
   "source": [
    "import django\n",
    "os.environ['DEPLOYMENT_ENV'] = NT.NOTEBOOK_ENV\n",
    "os.environ['DJANGO_ALLOW_ASYNC_UNSAFE'] = 'True'\n",
    "MODULE_PATH = os.path.dirname(os.getcwd())\n",
    "os.chdir(os.path.dirname(MODULE_PATH))\n",
    "django.setup()"
   ]
  },
  {
   "cell_type": "code",
   "execution_count": 4,
   "metadata": {},
   "outputs": [
    {
     "name": "stdout",
     "output_type": "stream",
     "text": [
      "['BaseManager', 'DeleteTable', 'GetNativeTableCounts', 'GetTableCounts', 'GetTableDictionary', 'InsertBulk', 'InsertSingle']\n"
     ]
    }
   ],
   "source": [
    "import database as DB\n",
    "print([x for x in dir(DB) if x[0]!='_' and len(x)>8])"
   ]
  },
  {
   "cell_type": "code",
   "execution_count": 5,
   "metadata": {},
   "outputs": [],
   "source": [
    "import django.db.models as JM\n",
    "from django.utils import timezone\n",
    "from django.contrib.auth import get_user_model"
   ]
  },
  {
   "cell_type": "code",
   "execution_count": 6,
   "metadata": {},
   "outputs": [
    {
     "name": "stdout",
     "output_type": "stream",
     "text": [
      "['AdvancedRoom', 'BasicRoom', 'CastleRoom', 'ExpeditionLevel', 'ExpeditionType', 'GothicTower', 'LeagueTrial', 'RequiredPower', 'RoomUpgrade', 'ThiefLevel', 'ThroneRoom', 'UnlockableItem', 'UnlockableThief']\n"
     ]
    }
   ],
   "source": [
    "import emporium.models as EM\n",
    "import emporium.logic.guild as GD\n",
    "import emporium.logic.stage as ST\n",
    "import emporium.logic.simulation as SM\n",
    "print([x for x in dir(EM) if x[0]!='_' and len(x)>8])"
   ]
  },
  {
   "cell_type": "code",
   "execution_count": 7,
   "metadata": {},
   "outputs": [
    {
     "name": "stdout",
     "output_type": "stream",
     "text": [
      "['GuildExpedition', 'GuildStage', 'ItemInGuild', 'ItemUnlocked', 'MarketStore', 'RoomInGuild', 'ThiefInGuild', 'ThiefUnlocked']\n"
     ]
    }
   ],
   "source": [
    "import engine.models as GM\n",
    "import engine.logic.content as CT\n",
    "import engine.logic.launcher as LH\n",
    "import engine.logic.resource as RS\n",
    "import engine.logic.robot as RB\n",
    "print([x for x in dir(GM) if x[0]!='_' and len(x)>8])"
   ]
  },
  {
   "cell_type": "code",
   "execution_count": 8,
   "metadata": {},
   "outputs": [],
   "source": [
    "%load_ext autoreload\n",
    "%autoreload 2\n",
    "from IPython.core.interactiveshell import InteractiveShell\n",
    "InteractiveShell.ast_node_interactivity = 'all'"
   ]
  },
  {
   "cell_type": "markdown",
   "metadata": {},
   "source": [
    "### Begin Code"
   ]
  },
  {
   "cell_type": "code",
   "execution_count": 9,
   "metadata": {
    "scrolled": true
   },
   "outputs": [
    {
     "data": {
      "text/plain": [
       "<User: admin@thieves-guild.com>"
      ]
     },
     "execution_count": 9,
     "metadata": {},
     "output_type": "execute_result"
    }
   ],
   "source": [
    "# get user and guild\n",
    "\n",
    "userMd = get_user_model().objects.filter(user_name='Admin')[0]\n",
    "userMd"
   ]
  },
  {
   "cell_type": "code",
   "execution_count": 10,
   "metadata": {
    "scrolled": true
   },
   "outputs": [
    {
     "data": {
      "text/plain": [
       "'432'"
      ]
     },
     "execution_count": 10,
     "metadata": {},
     "output_type": "execute_result"
    }
   ],
   "source": [
    "guildMd = GM.Guild.objects.GetOrNone(UserFK=userMd, Selected=True)\n",
    "guildMd.Name"
   ]
  },
  {
   "cell_type": "code",
   "execution_count": 11,
   "metadata": {},
   "outputs": [
    {
     "data": {
      "text/html": [
       "<div>\n",
       "<style scoped>\n",
       "    .dataframe tbody tr th:only-of-type {\n",
       "        vertical-align: middle;\n",
       "    }\n",
       "\n",
       "    .dataframe tbody tr th {\n",
       "        vertical-align: top;\n",
       "    }\n",
       "\n",
       "    .dataframe thead th {\n",
       "        text-align: right;\n",
       "    }\n",
       "</style>\n",
       "<table border=\"1\" class=\"dataframe\">\n",
       "  <thead>\n",
       "    <tr style=\"text-align: right;\">\n",
       "      <th></th>\n",
       "      <th>id</th>\n",
       "      <th>GuildFK_id</th>\n",
       "      <th>Name</th>\n",
       "      <th>UpgradeType</th>\n",
       "      <th>Placement</th>\n",
       "      <th>Description</th>\n",
       "      <th>Level</th>\n",
       "      <th>Status</th>\n",
       "      <th>CooldownExpire</th>\n",
       "    </tr>\n",
       "  </thead>\n",
       "  <tbody>\n",
       "    <tr>\n",
       "      <th>0</th>\n",
       "      <td>7</td>\n",
       "      <td>13</td>\n",
       "      <td>Throne</td>\n",
       "      <td>unique</td>\n",
       "      <td>M 1</td>\n",
       "      <td>The administrative center of the castle. Sets ...</td>\n",
       "      <td>1</td>\n",
       "      <td>Ready</td>\n",
       "      <td>None</td>\n",
       "    </tr>\n",
       "    <tr>\n",
       "      <th>1</th>\n",
       "      <td>8</td>\n",
       "      <td>13</td>\n",
       "      <td>Great Hall</td>\n",
       "      <td>unique</td>\n",
       "      <td>M 2</td>\n",
       "      <td>Where thieves lounge and await their next miss...</td>\n",
       "      <td>1</td>\n",
       "      <td>Ready</td>\n",
       "      <td>None</td>\n",
       "    </tr>\n",
       "    <tr>\n",
       "      <th>2</th>\n",
       "      <td>9</td>\n",
       "      <td>13</td>\n",
       "      <td>Keep</td>\n",
       "      <td>unique</td>\n",
       "      <td>M 3</td>\n",
       "      <td>The castle entrance which must be protected ag...</td>\n",
       "      <td>0</td>\n",
       "      <td>Ready</td>\n",
       "      <td>None</td>\n",
       "    </tr>\n",
       "  </tbody>\n",
       "</table>\n",
       "</div>"
      ],
      "text/plain": [
       "   id  GuildFK_id        Name UpgradeType Placement  \\\n",
       "0   7          13      Throne      unique       M 1   \n",
       "1   8          13  Great Hall      unique       M 2   \n",
       "2   9          13        Keep      unique       M 3   \n",
       "\n",
       "                                         Description  Level Status  \\\n",
       "0  The administrative center of the castle. Sets ...      1  Ready   \n",
       "1  Where thieves lounge and await their next miss...      1  Ready   \n",
       "2  The castle entrance which must be protected ag...      0  Ready   \n",
       "\n",
       "  CooldownExpire  \n",
       "0           None  \n",
       "1           None  \n",
       "2           None  "
      ]
     },
     "execution_count": 11,
     "metadata": {},
     "output_type": "execute_result"
    }
   ],
   "source": [
    "roomMds = GM.RoomInGuild.objects.filter(GuildFK=guildMd).values()\n",
    "\n",
    "PD.DataFrame(roomMds)"
   ]
  },
  {
   "cell_type": "code",
   "execution_count": 12,
   "metadata": {},
   "outputs": [],
   "source": [
    "# grant stone for dev\n",
    "\n",
    "guildMd.VaultStone = 10000\n",
    "guildMd.save()"
   ]
  }
 ],
 "metadata": {
  "kernelspec": {
   "display_name": "Python 3 (ipykernel)",
   "language": "python",
   "name": "python3"
  },
  "language_info": {
   "codemirror_mode": {
    "name": "ipython",
    "version": 3
   },
   "file_extension": ".py",
   "mimetype": "text/x-python",
   "name": "python",
   "nbconvert_exporter": "python",
   "pygments_lexer": "ipython3",
   "version": "3.8.2"
  }
 },
 "nbformat": 4,
 "nbformat_minor": 4
}
