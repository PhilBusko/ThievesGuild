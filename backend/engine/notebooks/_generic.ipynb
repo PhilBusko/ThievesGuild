{
 "cells": [
  {
   "cell_type": "markdown",
   "metadata": {},
   "source": [
    "# Title"
   ]
  },
  {
   "cell_type": "code",
   "execution_count": 1,
   "metadata": {},
   "outputs": [],
   "source": [
    "import os, sys\n",
    "import pandas as PD"
   ]
  },
  {
   "cell_type": "code",
   "execution_count": 2,
   "metadata": {},
   "outputs": [
    {
     "name": "stdout",
     "output_type": "stream",
     "text": [
      "['DataframeToDicts', 'GetRandom', 'NOTEBOOK_ENV']\n"
     ]
    }
   ],
   "source": [
    "BACKEND_PATH = os.path.dirname(os.path.dirname(os.getcwd()))\n",
    "APPPROJ_PATH = os.path.join(BACKEND_PATH, 'app_proj')\n",
    "sys.path.append(APPPROJ_PATH)\n",
    "import notebooks as NT\n",
    "print([x for x in dir(NT) if x[0]!='_' and len(x)>8])"
   ]
  },
  {
   "cell_type": "code",
   "execution_count": 3,
   "metadata": {},
   "outputs": [
    {
     "data": {
      "text/plain": [
       "True"
      ]
     },
     "execution_count": 3,
     "metadata": {},
     "output_type": "execute_result"
    }
   ],
   "source": [
    "MODULE_PATH = os.path.dirname(os.getcwd())\n",
    "DATA_PATH = os.path.join(MODULE_PATH, 'data')\n",
    "os.path.exists(DATA_PATH)"
   ]
  },
  {
   "cell_type": "code",
   "execution_count": 4,
   "metadata": {
    "scrolled": false
   },
   "outputs": [
    {
     "name": "stdout",
     "output_type": "stream",
     "text": [
      "env: DEV\n"
     ]
    }
   ],
   "source": [
    "import django\n",
    "os.environ['DEPLOYMENT_ENV'] = NT.NOTEBOOK_ENV\n",
    "os.environ['DJANGO_ALLOW_ASYNC_UNSAFE'] = 'True'\n",
    "os.chdir(os.path.dirname(MODULE_PATH))\n",
    "django.setup()"
   ]
  },
  {
   "cell_type": "code",
   "execution_count": 5,
   "metadata": {},
   "outputs": [],
   "source": [
    "import django.db.models as JM\n",
    "from django.contrib.auth import get_user_model\n",
    "from django.utils import timezone"
   ]
  },
  {
   "cell_type": "code",
   "execution_count": 6,
   "metadata": {
    "scrolled": true
   },
   "outputs": [
    {
     "name": "stdout",
     "output_type": "stream",
     "text": [
      "['BaseManager', 'DeleteTable', 'GetNativeTableCounts', 'GetTableCounts', 'GetTableDictionary', 'InsertBulk', 'InsertSingle']\n"
     ]
    }
   ],
   "source": [
    "import database as DB\n",
    "print([x for x in dir(DB) if x[0]!='_' and len(x)>8])"
   ]
  },
  {
   "cell_type": "code",
   "execution_count": 7,
   "metadata": {},
   "outputs": [
    {
     "name": "stdout",
     "output_type": "stream",
     "text": [
      "['FactoryUpgrades', 'GothicTower', 'KeepUpgrades', 'LeagueTrial', 'SingletonUpgrades', 'StorageUpgrades', 'ThiefLevel', 'UnlockableItem', 'UnlockableThief']\n"
     ]
    }
   ],
   "source": [
    "import emporium.models as EM\n",
    "import emporium.logic.guild as GD\n",
    "import emporium.logic.stage as ST\n",
    "import emporium.logic.simulation as SM\n",
    "print([x for x in dir(EM) if x[0]!='_' and len(x)>8])"
   ]
  },
  {
   "cell_type": "code",
   "execution_count": 8,
   "metadata": {},
   "outputs": [
    {
     "name": "stdout",
     "output_type": "stream",
     "text": [
      "['CommonWares', 'GuildAssets', 'GuildRamp', 'GuildTower', 'ItemInGuild', 'ItemUnlocked', 'MagicMarket', 'ThiefInGuild', 'ThiefUnlocked']\n"
     ]
    }
   ],
   "source": [
    "import engine.models as GM\n",
    "import engine.logic.resource as RS\n",
    "import engine.logic.content as CT\n",
    "import engine.logic.launcher as LH\n",
    "import engine.logic.robot as RB\n",
    "print([x for x in dir(GM) if x[0]!='_' and len(x)>8])"
   ]
  },
  {
   "cell_type": "code",
   "execution_count": 9,
   "metadata": {},
   "outputs": [],
   "source": [
    "%load_ext autoreload\n",
    "%autoreload 2\n",
    "from IPython.core.interactiveshell import InteractiveShell\n",
    "InteractiveShell.ast_node_interactivity = 'all'"
   ]
  },
  {
   "cell_type": "markdown",
   "metadata": {},
   "source": [
    "### Begin Code"
   ]
  },
  {
   "cell_type": "code",
   "execution_count": 10,
   "metadata": {},
   "outputs": [
    {
     "data": {
      "text/plain": [
       "django.db.models.base.ModelBase"
      ]
     },
     "execution_count": 10,
     "metadata": {},
     "output_type": "execute_result"
    }
   ],
   "source": [
    "userTb = get_user_model()\n",
    "type(userTb)"
   ]
  },
  {
   "cell_type": "code",
   "execution_count": 11,
   "metadata": {
    "scrolled": true
   },
   "outputs": [
    {
     "data": {
      "text/html": [
       "<div>\n",
       "<style scoped>\n",
       "    .dataframe tbody tr th:only-of-type {\n",
       "        vertical-align: middle;\n",
       "    }\n",
       "\n",
       "    .dataframe tbody tr th {\n",
       "        vertical-align: top;\n",
       "    }\n",
       "\n",
       "    .dataframe thead th {\n",
       "        text-align: right;\n",
       "    }\n",
       "</style>\n",
       "<table border=\"1\" class=\"dataframe\">\n",
       "  <thead>\n",
       "    <tr style=\"text-align: right;\">\n",
       "      <th></th>\n",
       "      <th>Module</th>\n",
       "      <th>Table</th>\n",
       "      <th>Count</th>\n",
       "    </tr>\n",
       "  </thead>\n",
       "  <tbody>\n",
       "    <tr>\n",
       "      <th>0</th>\n",
       "      <td>members</td>\n",
       "      <td>User</td>\n",
       "      <td>2</td>\n",
       "    </tr>\n",
       "    <tr>\n",
       "      <th>1</th>\n",
       "      <td>emporium</td>\n",
       "      <td>UnlockableThief</td>\n",
       "      <td>12</td>\n",
       "    </tr>\n",
       "    <tr>\n",
       "      <th>2</th>\n",
       "      <td>emporium</td>\n",
       "      <td>UnlockableItem</td>\n",
       "      <td>72</td>\n",
       "    </tr>\n",
       "    <tr>\n",
       "      <th>3</th>\n",
       "      <td>emporium</td>\n",
       "      <td>ThiefLevel</td>\n",
       "      <td>12</td>\n",
       "    </tr>\n",
       "    <tr>\n",
       "      <th>4</th>\n",
       "      <td>emporium</td>\n",
       "      <td>KeepUpgrades</td>\n",
       "      <td>9</td>\n",
       "    </tr>\n",
       "    <tr>\n",
       "      <th>5</th>\n",
       "      <td>emporium</td>\n",
       "      <td>SingletonUpgrades</td>\n",
       "      <td>9</td>\n",
       "    </tr>\n",
       "    <tr>\n",
       "      <th>6</th>\n",
       "      <td>emporium</td>\n",
       "      <td>StorageUpgrades</td>\n",
       "      <td>9</td>\n",
       "    </tr>\n",
       "    <tr>\n",
       "      <th>7</th>\n",
       "      <td>emporium</td>\n",
       "      <td>FactoryUpgrades</td>\n",
       "      <td>9</td>\n",
       "    </tr>\n",
       "    <tr>\n",
       "      <th>8</th>\n",
       "      <td>emporium</td>\n",
       "      <td>Trap</td>\n",
       "      <td>72</td>\n",
       "    </tr>\n",
       "    <tr>\n",
       "      <th>9</th>\n",
       "      <td>emporium</td>\n",
       "      <td>Enemy</td>\n",
       "      <td>18</td>\n",
       "    </tr>\n",
       "    <tr>\n",
       "      <th>10</th>\n",
       "      <td>emporium</td>\n",
       "      <td>GothicTower</td>\n",
       "      <td>36</td>\n",
       "    </tr>\n",
       "    <tr>\n",
       "      <th>11</th>\n",
       "      <td>emporium</td>\n",
       "      <td>LeagueTrial</td>\n",
       "      <td>18</td>\n",
       "    </tr>\n",
       "    <tr>\n",
       "      <th>12</th>\n",
       "      <td>emporium</td>\n",
       "      <td>Campaign</td>\n",
       "      <td>41</td>\n",
       "    </tr>\n",
       "    <tr>\n",
       "      <th>13</th>\n",
       "      <td>emporium</td>\n",
       "      <td>TrialDay</td>\n",
       "      <td>7</td>\n",
       "    </tr>\n",
       "    <tr>\n",
       "      <th>14</th>\n",
       "      <td>engine</td>\n",
       "      <td>Guild</td>\n",
       "      <td>3</td>\n",
       "    </tr>\n",
       "    <tr>\n",
       "      <th>15</th>\n",
       "      <td>engine</td>\n",
       "      <td>ThiefInGuild</td>\n",
       "      <td>18</td>\n",
       "    </tr>\n",
       "    <tr>\n",
       "      <th>16</th>\n",
       "      <td>engine</td>\n",
       "      <td>ItemInGuild</td>\n",
       "      <td>54</td>\n",
       "    </tr>\n",
       "    <tr>\n",
       "      <th>17</th>\n",
       "      <td>engine</td>\n",
       "      <td>ThiefUnlocked</td>\n",
       "      <td>0</td>\n",
       "    </tr>\n",
       "    <tr>\n",
       "      <th>18</th>\n",
       "      <td>engine</td>\n",
       "      <td>ItemUnlocked</td>\n",
       "      <td>0</td>\n",
       "    </tr>\n",
       "    <tr>\n",
       "      <th>19</th>\n",
       "      <td>engine</td>\n",
       "      <td>GuildRamp</td>\n",
       "      <td>0</td>\n",
       "    </tr>\n",
       "    <tr>\n",
       "      <th>20</th>\n",
       "      <td>engine</td>\n",
       "      <td>GuildTower</td>\n",
       "      <td>0</td>\n",
       "    </tr>\n",
       "    <tr>\n",
       "      <th>21</th>\n",
       "      <td>engine</td>\n",
       "      <td>MagicMarket</td>\n",
       "      <td>0</td>\n",
       "    </tr>\n",
       "    <tr>\n",
       "      <th>22</th>\n",
       "      <td>engine</td>\n",
       "      <td>CommonWares</td>\n",
       "      <td>0</td>\n",
       "    </tr>\n",
       "    <tr>\n",
       "      <th>23</th>\n",
       "      <td>engine</td>\n",
       "      <td>GuildAssets</td>\n",
       "      <td>0</td>\n",
       "    </tr>\n",
       "  </tbody>\n",
       "</table>\n",
       "</div>"
      ],
      "text/plain": [
       "      Module              Table  Count\n",
       "0    members               User      2\n",
       "1   emporium    UnlockableThief     12\n",
       "2   emporium     UnlockableItem     72\n",
       "3   emporium         ThiefLevel     12\n",
       "4   emporium       KeepUpgrades      9\n",
       "5   emporium  SingletonUpgrades      9\n",
       "6   emporium    StorageUpgrades      9\n",
       "7   emporium    FactoryUpgrades      9\n",
       "8   emporium               Trap     72\n",
       "9   emporium              Enemy     18\n",
       "10  emporium        GothicTower     36\n",
       "11  emporium        LeagueTrial     18\n",
       "12  emporium           Campaign     41\n",
       "13  emporium           TrialDay      7\n",
       "14    engine              Guild      3\n",
       "15    engine       ThiefInGuild     18\n",
       "16    engine        ItemInGuild     54\n",
       "17    engine      ThiefUnlocked      0\n",
       "18    engine       ItemUnlocked      0\n",
       "19    engine          GuildRamp      0\n",
       "20    engine         GuildTower      0\n",
       "21    engine        MagicMarket      0\n",
       "22    engine        CommonWares      0\n",
       "23    engine        GuildAssets      0"
      ]
     },
     "execution_count": 11,
     "metadata": {},
     "output_type": "execute_result"
    }
   ],
   "source": [
    "PD.DataFrame(DB.GetTableCounts())"
   ]
  },
  {
   "cell_type": "code",
   "execution_count": null,
   "metadata": {},
   "outputs": [],
   "source": []
  },
  {
   "cell_type": "code",
   "execution_count": null,
   "metadata": {},
   "outputs": [],
   "source": []
  }
 ],
 "metadata": {
  "kernelspec": {
   "display_name": "Python 3 (ipykernel)",
   "language": "python",
   "name": "python3"
  },
  "language_info": {
   "codemirror_mode": {
    "name": "ipython",
    "version": 3
   },
   "file_extension": ".py",
   "mimetype": "text/x-python",
   "name": "python",
   "nbconvert_exporter": "python",
   "pygments_lexer": "ipython3",
   "version": "3.8.2"
  }
 },
 "nbformat": 4,
 "nbformat_minor": 4
}
