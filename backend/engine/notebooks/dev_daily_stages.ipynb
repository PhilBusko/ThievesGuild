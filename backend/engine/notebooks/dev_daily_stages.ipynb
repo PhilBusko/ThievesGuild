{
 "cells": [
  {
   "cell_type": "markdown",
   "metadata": {},
   "source": [
    "# Create Daily Stages"
   ]
  },
  {
   "cell_type": "code",
   "execution_count": 1,
   "metadata": {},
   "outputs": [],
   "source": [
    "import os, sys, random, json\n",
    "import pandas as PD"
   ]
  },
  {
   "cell_type": "code",
   "execution_count": 2,
   "metadata": {
    "scrolled": false
   },
   "outputs": [
    {
     "name": "stdout",
     "output_type": "stream",
     "text": [
      "['DataframeToDicts', 'GetRandom', 'NOTEBOOK_ENV']\n"
     ]
    }
   ],
   "source": [
    "BACKEND_PATH = os.path.dirname(os.path.dirname(os.getcwd()))\n",
    "APPPROJ_PATH = os.path.join(BACKEND_PATH, 'app_proj')\n",
    "sys.path.append(APPPROJ_PATH)\n",
    "import notebooks as NT\n",
    "print([x for x in dir(NT) if x[0]!='_' and len(x)>8])"
   ]
  },
  {
   "cell_type": "code",
   "execution_count": 3,
   "metadata": {},
   "outputs": [
    {
     "name": "stdout",
     "output_type": "stream",
     "text": [
      "env: DEV\n"
     ]
    }
   ],
   "source": [
    "import django\n",
    "os.environ['DEPLOYMENT_ENV'] = NT.NOTEBOOK_ENV\n",
    "os.environ['DJANGO_ALLOW_ASYNC_UNSAFE'] = 'True'\n",
    "MODULE_PATH = os.path.dirname(os.getcwd())\n",
    "os.chdir(os.path.dirname(MODULE_PATH))\n",
    "django.setup()"
   ]
  },
  {
   "cell_type": "code",
   "execution_count": 4,
   "metadata": {},
   "outputs": [
    {
     "name": "stdout",
     "output_type": "stream",
     "text": [
      "['BaseManager', 'DeleteTable', 'GetNativeTableCounts', 'GetTableCounts', 'GetTableDictionary', 'InsertBulk', 'InsertSingle']\n"
     ]
    }
   ],
   "source": [
    "import database as DB\n",
    "print([x for x in dir(DB) if x[0]!='_' and len(x)>8])"
   ]
  },
  {
   "cell_type": "code",
   "execution_count": 5,
   "metadata": {},
   "outputs": [],
   "source": [
    "import django.db.models as JM\n",
    "from django.contrib.auth import get_user_model"
   ]
  },
  {
   "cell_type": "code",
   "execution_count": 6,
   "metadata": {},
   "outputs": [],
   "source": [
    "import emporium.models as EM\n",
    "\n",
    "import emporium.logic.stage as SG"
   ]
  },
  {
   "cell_type": "code",
   "execution_count": 7,
   "metadata": {},
   "outputs": [],
   "source": [
    "import engine.models as GM\n",
    "\n",
    "import engine.logic.content as CT"
   ]
  },
  {
   "cell_type": "code",
   "execution_count": 8,
   "metadata": {},
   "outputs": [],
   "source": [
    "%load_ext autoreload\n",
    "%autoreload 2\n",
    "from IPython.core.interactiveshell import InteractiveShell\n",
    "InteractiveShell.ast_node_interactivity = 'all'"
   ]
  },
  {
   "cell_type": "markdown",
   "metadata": {},
   "source": [
    "### Get Guild"
   ]
  },
  {
   "cell_type": "code",
   "execution_count": 9,
   "metadata": {
    "scrolled": true
   },
   "outputs": [
    {
     "data": {
      "text/plain": [
       "<User: admin@thieves-guild.com>"
      ]
     },
     "execution_count": 9,
     "metadata": {},
     "output_type": "execute_result"
    }
   ],
   "source": [
    "userMd = get_user_model().objects.filter(user_name='Admin')[0]\n",
    "userMd"
   ]
  },
  {
   "cell_type": "code",
   "execution_count": 10,
   "metadata": {
    "scrolled": true
   },
   "outputs": [
    {
     "data": {
      "text/html": [
       "<div>\n",
       "<style scoped>\n",
       "    .dataframe tbody tr th:only-of-type {\n",
       "        vertical-align: middle;\n",
       "    }\n",
       "\n",
       "    .dataframe tbody tr th {\n",
       "        vertical-align: top;\n",
       "    }\n",
       "\n",
       "    .dataframe thead th {\n",
       "        text-align: right;\n",
       "    }\n",
       "</style>\n",
       "<table border=\"1\" class=\"dataframe\">\n",
       "  <thead>\n",
       "    <tr style=\"text-align: right;\">\n",
       "      <th></th>\n",
       "      <th>UserFK_id</th>\n",
       "      <th>Name</th>\n",
       "      <th>KeepLevel</th>\n",
       "      <th>TotalPower</th>\n",
       "      <th>VaultGold</th>\n",
       "      <th>VaultGems</th>\n",
       "      <th>Selected</th>\n",
       "      <th>LastPlayed</th>\n",
       "      <th>CreateDate</th>\n",
       "    </tr>\n",
       "  </thead>\n",
       "  <tbody>\n",
       "    <tr>\n",
       "      <th>0</th>\n",
       "      <td>1</td>\n",
       "      <td>123</td>\n",
       "      <td>1</td>\n",
       "      <td>0</td>\n",
       "      <td>0</td>\n",
       "      <td>0</td>\n",
       "      <td>True</td>\n",
       "      <td>2023-08-10</td>\n",
       "      <td>2023-08-10</td>\n",
       "    </tr>\n",
       "  </tbody>\n",
       "</table>\n",
       "</div>"
      ],
      "text/plain": [
       "   UserFK_id Name  KeepLevel  TotalPower  VaultGold  VaultGems  Selected  \\\n",
       "0          1  123          1           0          0          0      True   \n",
       "\n",
       "   LastPlayed  CreateDate  \n",
       "0  2023-08-10  2023-08-10  "
      ]
     },
     "execution_count": 10,
     "metadata": {},
     "output_type": "execute_result"
    }
   ],
   "source": [
    "guild = GM.Guild.objects.GetOrNone(UserFK=userMd, Name='123')\n",
    "PD.DataFrame([guild.__dict__]).drop(['id', '_state'], axis=1, errors='ignore')"
   ]
  },
  {
   "cell_type": "markdown",
   "metadata": {},
   "source": [
    "### Gothic Tower"
   ]
  },
  {
   "cell_type": "code",
   "execution_count": 16,
   "metadata": {},
   "outputs": [],
   "source": [
    "CT.SetGuildTower(guild)"
   ]
  },
  {
   "cell_type": "code",
   "execution_count": 17,
   "metadata": {
    "scrolled": false
   },
   "outputs": [
    {
     "data": {
      "text/html": [
       "<div>\n",
       "<style scoped>\n",
       "    .dataframe tbody tr th:only-of-type {\n",
       "        vertical-align: middle;\n",
       "    }\n",
       "\n",
       "    .dataframe tbody tr th {\n",
       "        vertical-align: top;\n",
       "    }\n",
       "\n",
       "    .dataframe thead th {\n",
       "        text-align: right;\n",
       "    }\n",
       "</style>\n",
       "<table border=\"1\" class=\"dataframe\">\n",
       "  <thead>\n",
       "    <tr style=\"text-align: right;\">\n",
       "      <th></th>\n",
       "      <th>GuildFK_id</th>\n",
       "      <th>StageNo</th>\n",
       "      <th>StageDate</th>\n",
       "      <th>ObstaclesR1</th>\n",
       "      <th>ObstaclesR2</th>\n",
       "      <th>ObstaclesR3</th>\n",
       "      <th>TypeR1</th>\n",
       "      <th>TypeR2</th>\n",
       "      <th>TypeR3</th>\n",
       "      <th>CompleteR1</th>\n",
       "      <th>CompleteR2</th>\n",
       "      <th>CompleteR3</th>\n",
       "    </tr>\n",
       "  </thead>\n",
       "  <tbody>\n",
       "    <tr>\n",
       "      <th>0</th>\n",
       "      <td>2</td>\n",
       "      <td>1</td>\n",
       "      <td>2023-08-10</td>\n",
       "      <td>[{\"Level\": 1, \"Name\": \"Gargoyle\", \"Trait\": \"Mi...</td>\n",
       "      <td>None</td>\n",
       "      <td>None</td>\n",
       "      <td>balanced</td>\n",
       "      <td>None</td>\n",
       "      <td>None</td>\n",
       "      <td>False</td>\n",
       "      <td>None</td>\n",
       "      <td>None</td>\n",
       "    </tr>\n",
       "    <tr>\n",
       "      <th>1</th>\n",
       "      <td>2</td>\n",
       "      <td>2</td>\n",
       "      <td>2023-08-10</td>\n",
       "      <td>[{\"Level\": 1, \"Name\": \"Crossbow Trap\", \"Trait\"...</td>\n",
       "      <td>None</td>\n",
       "      <td>None</td>\n",
       "      <td>biased cun</td>\n",
       "      <td>None</td>\n",
       "      <td>None</td>\n",
       "      <td>False</td>\n",
       "      <td>None</td>\n",
       "      <td>None</td>\n",
       "    </tr>\n",
       "    <tr>\n",
       "      <th>2</th>\n",
       "      <td>2</td>\n",
       "      <td>3</td>\n",
       "      <td>2023-08-10</td>\n",
       "      <td>[{\"Level\": 1, \"Name\": \"Secret Passage\", \"Trait...</td>\n",
       "      <td>None</td>\n",
       "      <td>None</td>\n",
       "      <td>balanced</td>\n",
       "      <td>None</td>\n",
       "      <td>None</td>\n",
       "      <td>False</td>\n",
       "      <td>None</td>\n",
       "      <td>None</td>\n",
       "    </tr>\n",
       "    <tr>\n",
       "      <th>3</th>\n",
       "      <td>2</td>\n",
       "      <td>4</td>\n",
       "      <td>2023-08-10</td>\n",
       "      <td>[{\"Level\": 1, \"Name\": \"Warden\", \"Trait\": \"Any\"...</td>\n",
       "      <td>None</td>\n",
       "      <td>None</td>\n",
       "      <td>balanced</td>\n",
       "      <td>None</td>\n",
       "      <td>None</td>\n",
       "      <td>False</td>\n",
       "      <td>None</td>\n",
       "      <td>None</td>\n",
       "    </tr>\n",
       "    <tr>\n",
       "      <th>4</th>\n",
       "      <td>2</td>\n",
       "      <td>5</td>\n",
       "      <td>2023-08-10</td>\n",
       "      <td>[{\"Level\": 1, \"Name\": \"Spike Trap\", \"Trait\": \"...</td>\n",
       "      <td>None</td>\n",
       "      <td>None</td>\n",
       "      <td>biased mig</td>\n",
       "      <td>None</td>\n",
       "      <td>None</td>\n",
       "      <td>False</td>\n",
       "      <td>None</td>\n",
       "      <td>None</td>\n",
       "    </tr>\n",
       "    <tr>\n",
       "      <th>5</th>\n",
       "      <td>2</td>\n",
       "      <td>6</td>\n",
       "      <td>2023-08-10</td>\n",
       "      <td>[{\"Level\": 2, \"Name\": \"Chandelier\", \"Trait\": \"...</td>\n",
       "      <td>[{\"Level\": 1, \"Name\": \"Spike Trap\", \"Trait\": \"...</td>\n",
       "      <td>None</td>\n",
       "      <td>balanced</td>\n",
       "      <td>balanced</td>\n",
       "      <td>None</td>\n",
       "      <td>False</td>\n",
       "      <td>False</td>\n",
       "      <td>None</td>\n",
       "    </tr>\n",
       "    <tr>\n",
       "      <th>6</th>\n",
       "      <td>2</td>\n",
       "      <td>7</td>\n",
       "      <td>2023-08-10</td>\n",
       "      <td>[{\"Level\": 1, \"Name\": \"Sorcerer\", \"Trait\": \"An...</td>\n",
       "      <td>[{\"Level\": 1, \"Name\": \"Arcane Seal\", \"Trait\": ...</td>\n",
       "      <td>None</td>\n",
       "      <td>biased mig</td>\n",
       "      <td>balanced</td>\n",
       "      <td>None</td>\n",
       "      <td>False</td>\n",
       "      <td>False</td>\n",
       "      <td>None</td>\n",
       "    </tr>\n",
       "    <tr>\n",
       "      <th>7</th>\n",
       "      <td>2</td>\n",
       "      <td>8</td>\n",
       "      <td>2023-08-10</td>\n",
       "      <td>[{\"Level\": 1, \"Name\": \"Arcane Seal\", \"Trait\": ...</td>\n",
       "      <td>[{\"Level\": 2, \"Name\": \"Crossbow Trap\", \"Trait\"...</td>\n",
       "      <td>None</td>\n",
       "      <td>biased agi</td>\n",
       "      <td>balanced</td>\n",
       "      <td>None</td>\n",
       "      <td>False</td>\n",
       "      <td>False</td>\n",
       "      <td>None</td>\n",
       "    </tr>\n",
       "    <tr>\n",
       "      <th>8</th>\n",
       "      <td>2</td>\n",
       "      <td>9</td>\n",
       "      <td>2023-08-10</td>\n",
       "      <td>[{\"Level\": 2, \"Name\": \"Crossbow Trap\", \"Trait\"...</td>\n",
       "      <td>[{\"Level\": 2, \"Name\": \"Door\", \"Trait\": \"Agi\", ...</td>\n",
       "      <td>None</td>\n",
       "      <td>biased agi</td>\n",
       "      <td>balanced</td>\n",
       "      <td>None</td>\n",
       "      <td>False</td>\n",
       "      <td>False</td>\n",
       "      <td>None</td>\n",
       "    </tr>\n",
       "    <tr>\n",
       "      <th>9</th>\n",
       "      <td>2</td>\n",
       "      <td>10</td>\n",
       "      <td>2023-08-10</td>\n",
       "      <td>[{\"Level\": 1, \"Name\": \"Window\", \"Trait\": \"Mig\"...</td>\n",
       "      <td>[{\"Level\": 1, \"Name\": \"Window\", \"Trait\": \"Mig\"...</td>\n",
       "      <td>[{\"Level\": 2, \"Name\": \"Warden\", \"Trait\": \"Any\"...</td>\n",
       "      <td>balanced</td>\n",
       "      <td>biased mig</td>\n",
       "      <td>balanced</td>\n",
       "      <td>False</td>\n",
       "      <td>False</td>\n",
       "      <td>False</td>\n",
       "    </tr>\n",
       "    <tr>\n",
       "      <th>10</th>\n",
       "      <td>2</td>\n",
       "      <td>11</td>\n",
       "      <td>2023-08-10</td>\n",
       "      <td>[{\"Level\": 2, \"Name\": \"Warden\", \"Trait\": \"Any\"...</td>\n",
       "      <td>[{\"Level\": 1, \"Name\": \"Barrel\", \"Trait\": \"Mig\"...</td>\n",
       "      <td>[{\"Level\": 2, \"Name\": \"Gargoyle\", \"Trait\": \"Mi...</td>\n",
       "      <td>biased agi</td>\n",
       "      <td>balanced</td>\n",
       "      <td>biased mig</td>\n",
       "      <td>False</td>\n",
       "      <td>False</td>\n",
       "      <td>False</td>\n",
       "    </tr>\n",
       "    <tr>\n",
       "      <th>11</th>\n",
       "      <td>2</td>\n",
       "      <td>12</td>\n",
       "      <td>2023-08-10</td>\n",
       "      <td>[{\"Level\": 1, \"Name\": \"Vanguard\", \"Trait\": \"An...</td>\n",
       "      <td>[{\"Level\": 2, \"Name\": \"Spike Trap\", \"Trait\": \"...</td>\n",
       "      <td>[{\"Level\": 1, \"Name\": \"Vanguard\", \"Trait\": \"An...</td>\n",
       "      <td>balanced</td>\n",
       "      <td>balanced</td>\n",
       "      <td>balanced</td>\n",
       "      <td>False</td>\n",
       "      <td>False</td>\n",
       "      <td>False</td>\n",
       "    </tr>\n",
       "  </tbody>\n",
       "</table>\n",
       "</div>"
      ],
      "text/plain": [
       "    GuildFK_id  StageNo   StageDate  \\\n",
       "0            2        1  2023-08-10   \n",
       "1            2        2  2023-08-10   \n",
       "2            2        3  2023-08-10   \n",
       "3            2        4  2023-08-10   \n",
       "4            2        5  2023-08-10   \n",
       "5            2        6  2023-08-10   \n",
       "6            2        7  2023-08-10   \n",
       "7            2        8  2023-08-10   \n",
       "8            2        9  2023-08-10   \n",
       "9            2       10  2023-08-10   \n",
       "10           2       11  2023-08-10   \n",
       "11           2       12  2023-08-10   \n",
       "\n",
       "                                          ObstaclesR1  \\\n",
       "0   [{\"Level\": 1, \"Name\": \"Gargoyle\", \"Trait\": \"Mi...   \n",
       "1   [{\"Level\": 1, \"Name\": \"Crossbow Trap\", \"Trait\"...   \n",
       "2   [{\"Level\": 1, \"Name\": \"Secret Passage\", \"Trait...   \n",
       "3   [{\"Level\": 1, \"Name\": \"Warden\", \"Trait\": \"Any\"...   \n",
       "4   [{\"Level\": 1, \"Name\": \"Spike Trap\", \"Trait\": \"...   \n",
       "5   [{\"Level\": 2, \"Name\": \"Chandelier\", \"Trait\": \"...   \n",
       "6   [{\"Level\": 1, \"Name\": \"Sorcerer\", \"Trait\": \"An...   \n",
       "7   [{\"Level\": 1, \"Name\": \"Arcane Seal\", \"Trait\": ...   \n",
       "8   [{\"Level\": 2, \"Name\": \"Crossbow Trap\", \"Trait\"...   \n",
       "9   [{\"Level\": 1, \"Name\": \"Window\", \"Trait\": \"Mig\"...   \n",
       "10  [{\"Level\": 2, \"Name\": \"Warden\", \"Trait\": \"Any\"...   \n",
       "11  [{\"Level\": 1, \"Name\": \"Vanguard\", \"Trait\": \"An...   \n",
       "\n",
       "                                          ObstaclesR2  \\\n",
       "0                                                None   \n",
       "1                                                None   \n",
       "2                                                None   \n",
       "3                                                None   \n",
       "4                                                None   \n",
       "5   [{\"Level\": 1, \"Name\": \"Spike Trap\", \"Trait\": \"...   \n",
       "6   [{\"Level\": 1, \"Name\": \"Arcane Seal\", \"Trait\": ...   \n",
       "7   [{\"Level\": 2, \"Name\": \"Crossbow Trap\", \"Trait\"...   \n",
       "8   [{\"Level\": 2, \"Name\": \"Door\", \"Trait\": \"Agi\", ...   \n",
       "9   [{\"Level\": 1, \"Name\": \"Window\", \"Trait\": \"Mig\"...   \n",
       "10  [{\"Level\": 1, \"Name\": \"Barrel\", \"Trait\": \"Mig\"...   \n",
       "11  [{\"Level\": 2, \"Name\": \"Spike Trap\", \"Trait\": \"...   \n",
       "\n",
       "                                          ObstaclesR3      TypeR1      TypeR2  \\\n",
       "0                                                None    balanced        None   \n",
       "1                                                None  biased cun        None   \n",
       "2                                                None    balanced        None   \n",
       "3                                                None    balanced        None   \n",
       "4                                                None  biased mig        None   \n",
       "5                                                None    balanced    balanced   \n",
       "6                                                None  biased mig    balanced   \n",
       "7                                                None  biased agi    balanced   \n",
       "8                                                None  biased agi    balanced   \n",
       "9   [{\"Level\": 2, \"Name\": \"Warden\", \"Trait\": \"Any\"...    balanced  biased mig   \n",
       "10  [{\"Level\": 2, \"Name\": \"Gargoyle\", \"Trait\": \"Mi...  biased agi    balanced   \n",
       "11  [{\"Level\": 1, \"Name\": \"Vanguard\", \"Trait\": \"An...    balanced    balanced   \n",
       "\n",
       "        TypeR3  CompleteR1 CompleteR2 CompleteR3  \n",
       "0         None       False       None       None  \n",
       "1         None       False       None       None  \n",
       "2         None       False       None       None  \n",
       "3         None       False       None       None  \n",
       "4         None       False       None       None  \n",
       "5         None       False      False       None  \n",
       "6         None       False      False       None  \n",
       "7         None       False      False       None  \n",
       "8         None       False      False       None  \n",
       "9     balanced       False      False      False  \n",
       "10  biased mig       False      False      False  \n",
       "11    balanced       False      False      False  "
      ]
     },
     "execution_count": 17,
     "metadata": {},
     "output_type": "execute_result"
    }
   ],
   "source": [
    "towers = GM.GuildTower.objects.all().values()\n",
    "PD.DataFrame(towers).drop(['id'], axis=1, errors='ignore')"
   ]
  },
  {
   "cell_type": "markdown",
   "metadata": {},
   "source": [
    "### League Trials"
   ]
  },
  {
   "cell_type": "code",
   "execution_count": null,
   "metadata": {},
   "outputs": [],
   "source": []
  },
  {
   "cell_type": "code",
   "execution_count": null,
   "metadata": {},
   "outputs": [],
   "source": []
  },
  {
   "cell_type": "code",
   "execution_count": null,
   "metadata": {},
   "outputs": [],
   "source": []
  }
 ],
 "metadata": {
  "kernelspec": {
   "display_name": "Python 3 (ipykernel)",
   "language": "python",
   "name": "python3"
  },
  "language_info": {
   "codemirror_mode": {
    "name": "ipython",
    "version": 3
   },
   "file_extension": ".py",
   "mimetype": "text/x-python",
   "name": "python",
   "nbconvert_exporter": "python",
   "pygments_lexer": "ipython3",
   "version": "3.8.2"
  }
 },
 "nbformat": 4,
 "nbformat_minor": 4
}
