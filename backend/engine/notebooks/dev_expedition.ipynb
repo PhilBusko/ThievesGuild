{
 "cells": [
  {
   "cell_type": "markdown",
   "metadata": {},
   "source": [
    "# Expedition"
   ]
  },
  {
   "cell_type": "code",
   "execution_count": 1,
   "metadata": {},
   "outputs": [],
   "source": [
    "import os, sys\n",
    "import pandas as PD"
   ]
  },
  {
   "cell_type": "code",
   "execution_count": 2,
   "metadata": {},
   "outputs": [
    {
     "name": "stdout",
     "output_type": "stream",
     "text": [
      "['DataframeToDicts', 'GetRandom', 'NOTEBOOK_ENV']\n"
     ]
    }
   ],
   "source": [
    "BACKEND_PATH = os.path.dirname(os.path.dirname(os.getcwd()))\n",
    "APPPROJ_PATH = os.path.join(BACKEND_PATH, 'app_proj')\n",
    "sys.path.append(APPPROJ_PATH)\n",
    "import notebooks as NT\n",
    "print([x for x in dir(NT) if x[0]!='_' and len(x)>8])"
   ]
  },
  {
   "cell_type": "code",
   "execution_count": 3,
   "metadata": {},
   "outputs": [
    {
     "data": {
      "text/plain": [
       "True"
      ]
     },
     "execution_count": 3,
     "metadata": {},
     "output_type": "execute_result"
    }
   ],
   "source": [
    "MODULE_PATH = os.path.dirname(os.getcwd())\n",
    "DATA_PATH = os.path.join(MODULE_PATH, 'data')\n",
    "os.path.exists(DATA_PATH)"
   ]
  },
  {
   "cell_type": "code",
   "execution_count": 4,
   "metadata": {
    "scrolled": false
   },
   "outputs": [
    {
     "name": "stdout",
     "output_type": "stream",
     "text": [
      "env: DEV\n"
     ]
    }
   ],
   "source": [
    "import django\n",
    "os.environ['DEPLOYMENT_ENV'] = NT.NOTEBOOK_ENV\n",
    "os.environ['DJANGO_ALLOW_ASYNC_UNSAFE'] = 'True'\n",
    "os.chdir(os.path.dirname(MODULE_PATH))\n",
    "django.setup()"
   ]
  },
  {
   "cell_type": "code",
   "execution_count": 5,
   "metadata": {},
   "outputs": [],
   "source": [
    "import django.db.models as JM\n",
    "from django.contrib.auth import get_user_model\n",
    "from django.utils import timezone"
   ]
  },
  {
   "cell_type": "code",
   "execution_count": 6,
   "metadata": {
    "scrolled": true
   },
   "outputs": [
    {
     "name": "stdout",
     "output_type": "stream",
     "text": [
      "['BaseManager', 'DeleteTable', 'GetNativeTableCounts', 'GetTableCounts', 'GetTableDictionary', 'InsertBulk', 'InsertSingle']\n"
     ]
    }
   ],
   "source": [
    "import database as DB\n",
    "print([x for x in dir(DB) if x[0]!='_' and len(x)>8])"
   ]
  },
  {
   "cell_type": "code",
   "execution_count": 7,
   "metadata": {},
   "outputs": [
    {
     "name": "stdout",
     "output_type": "stream",
     "text": [
      "['AdvancedRoom', 'BasicRoom', 'CastleRoom', 'ExpeditionLevel', 'ExpeditionType', 'GothicTower', 'LeagueTrial', 'RoomUpgrade', 'ThiefLevel', 'ThroneRoom', 'UnlockableItem', 'UnlockableThief']\n"
     ]
    }
   ],
   "source": [
    "import emporium.models as EM\n",
    "import emporium.logic.guild as GD\n",
    "import emporium.logic.stage as ST\n",
    "import emporium.logic.simulation as SM\n",
    "print([x for x in dir(EM) if x[0]!='_' and len(x)>8])"
   ]
  },
  {
   "cell_type": "code",
   "execution_count": 8,
   "metadata": {},
   "outputs": [
    {
     "name": "stdout",
     "output_type": "stream",
     "text": [
      "['GuildExpedition', 'GuildStage', 'ItemInGuild', 'ItemUnlocked', 'MarketStore', 'RoomInGuild', 'ThiefInGuild', 'ThiefUnlocked']\n"
     ]
    }
   ],
   "source": [
    "import engine.models as GM\n",
    "import engine.logic.resource as RS\n",
    "import engine.logic.content as CT\n",
    "import engine.logic.launcher as LH\n",
    "import engine.logic.robot as RB\n",
    "print([x for x in dir(GM) if x[0]!='_' and len(x)>8])"
   ]
  },
  {
   "cell_type": "code",
   "execution_count": 9,
   "metadata": {},
   "outputs": [],
   "source": [
    "%load_ext autoreload\n",
    "%autoreload 2\n",
    "from IPython.core.interactiveshell import InteractiveShell\n",
    "InteractiveShell.ast_node_interactivity = 'all'"
   ]
  },
  {
   "cell_type": "markdown",
   "metadata": {},
   "source": [
    "### Begin Code"
   ]
  },
  {
   "cell_type": "code",
   "execution_count": 10,
   "metadata": {},
   "outputs": [
    {
     "data": {
      "text/html": [
       "<div>\n",
       "<style scoped>\n",
       "    .dataframe tbody tr th:only-of-type {\n",
       "        vertical-align: middle;\n",
       "    }\n",
       "\n",
       "    .dataframe tbody tr th {\n",
       "        vertical-align: top;\n",
       "    }\n",
       "\n",
       "    .dataframe thead th {\n",
       "        text-align: right;\n",
       "    }\n",
       "</style>\n",
       "<table border=\"1\" class=\"dataframe\">\n",
       "  <thead>\n",
       "    <tr style=\"text-align: right;\">\n",
       "      <th></th>\n",
       "      <th>id</th>\n",
       "      <th>GuildFK_id</th>\n",
       "      <th>CreateDate</th>\n",
       "      <th>SlotNo</th>\n",
       "      <th>Level</th>\n",
       "      <th>BaseType</th>\n",
       "      <th>FullType</th>\n",
       "      <th>Duration</th>\n",
       "      <th>StartDate</th>\n",
       "      <th>ThiefFK_id</th>\n",
       "      <th>Results</th>\n",
       "      <th>Claimed</th>\n",
       "    </tr>\n",
       "  </thead>\n",
       "  <tbody>\n",
       "    <tr>\n",
       "      <th>0</th>\n",
       "      <td>13</td>\n",
       "      <td>1</td>\n",
       "      <td>2024-09-10</td>\n",
       "      <td>1</td>\n",
       "      <td>5</td>\n",
       "      <td>cun ski</td>\n",
       "      <td>5-cun ski</td>\n",
       "      <td>1 min</td>\n",
       "      <td>2024-09-10 14:38:17+00:00</td>\n",
       "      <td>4</td>\n",
       "      <td>{'passed': 19, 'grade': 'A', 'reward': {'categ...</td>\n",
       "      <td>True</td>\n",
       "    </tr>\n",
       "    <tr>\n",
       "      <th>1</th>\n",
       "      <td>14</td>\n",
       "      <td>1</td>\n",
       "      <td>2024-09-10</td>\n",
       "      <td>2</td>\n",
       "      <td>4</td>\n",
       "      <td>cun ski</td>\n",
       "      <td>4-cun ski</td>\n",
       "      <td>1 min</td>\n",
       "      <td>2024-09-10 14:38:20+00:00</td>\n",
       "      <td>6</td>\n",
       "      <td>{'passed': 19, 'grade': 'A', 'reward': {'categ...</td>\n",
       "      <td>True</td>\n",
       "    </tr>\n",
       "    <tr>\n",
       "      <th>2</th>\n",
       "      <td>15</td>\n",
       "      <td>1</td>\n",
       "      <td>2024-09-10</td>\n",
       "      <td>3</td>\n",
       "      <td>4</td>\n",
       "      <td>mig cmb</td>\n",
       "      <td>4-mig cmb</td>\n",
       "      <td>1 min</td>\n",
       "      <td>2024-09-10 14:38:22+00:00</td>\n",
       "      <td>1</td>\n",
       "      <td>{'passed': 19, 'grade': 'A', 'reward': {'categ...</td>\n",
       "      <td>True</td>\n",
       "    </tr>\n",
       "  </tbody>\n",
       "</table>\n",
       "</div>"
      ],
      "text/plain": [
       "   id  GuildFK_id  CreateDate  SlotNo  Level BaseType   FullType Duration  \\\n",
       "0  13           1  2024-09-10       1      5  cun ski  5-cun ski    1 min   \n",
       "1  14           1  2024-09-10       2      4  cun ski  4-cun ski    1 min   \n",
       "2  15           1  2024-09-10       3      4  mig cmb  4-mig cmb    1 min   \n",
       "\n",
       "                  StartDate  ThiefFK_id  \\\n",
       "0 2024-09-10 14:38:17+00:00           4   \n",
       "1 2024-09-10 14:38:20+00:00           6   \n",
       "2 2024-09-10 14:38:22+00:00           1   \n",
       "\n",
       "                                             Results  Claimed  \n",
       "0  {'passed': 19, 'grade': 'A', 'reward': {'categ...     True  \n",
       "1  {'passed': 19, 'grade': 'A', 'reward': {'categ...     True  \n",
       "2  {'passed': 19, 'grade': 'A', 'reward': {'categ...     True  "
      ]
     },
     "execution_count": 10,
     "metadata": {},
     "output_type": "execute_result"
    }
   ],
   "source": [
    "expLs = DB.GetTableDictionary('engine', 'GuildExpedition')\n",
    "PD.DataFrame(expLs)"
   ]
  },
  {
   "cell_type": "code",
   "execution_count": 11,
   "metadata": {},
   "outputs": [
    {
     "name": "stdout",
     "output_type": "stream",
     "text": [
      "table deleted\n"
     ]
    }
   ],
   "source": [
    "DB.DeleteTable('engine', 'GuildExpedition')"
   ]
  },
  {
   "cell_type": "code",
   "execution_count": 12,
   "metadata": {},
   "outputs": [
    {
     "data": {
      "text/html": [
       "<div>\n",
       "<style scoped>\n",
       "    .dataframe tbody tr th:only-of-type {\n",
       "        vertical-align: middle;\n",
       "    }\n",
       "\n",
       "    .dataframe tbody tr th {\n",
       "        vertical-align: top;\n",
       "    }\n",
       "\n",
       "    .dataframe thead th {\n",
       "        text-align: right;\n",
       "    }\n",
       "</style>\n",
       "<table border=\"1\" class=\"dataframe\">\n",
       "  <thead>\n",
       "    <tr style=\"text-align: right;\">\n",
       "      <th></th>\n",
       "      <th>UserFK_id</th>\n",
       "      <th>Name</th>\n",
       "      <th>LastPlayed</th>\n",
       "      <th>CreateDate</th>\n",
       "      <th>Selected</th>\n",
       "      <th>ThroneLevel</th>\n",
       "      <th>CampaignWorld</th>\n",
       "      <th>VaultGold</th>\n",
       "      <th>VaultStone</th>\n",
       "      <th>VaultGems</th>\n",
       "      <th>DungeonCheck</th>\n",
       "    </tr>\n",
       "  </thead>\n",
       "  <tbody>\n",
       "    <tr>\n",
       "      <th>0</th>\n",
       "      <td>1</td>\n",
       "      <td>123</td>\n",
       "      <td>2024-09-10</td>\n",
       "      <td>2024-09-08</td>\n",
       "      <td>True</td>\n",
       "      <td>2</td>\n",
       "      <td>1</td>\n",
       "      <td>344</td>\n",
       "      <td>140</td>\n",
       "      <td>91</td>\n",
       "      <td>2024-09-10</td>\n",
       "    </tr>\n",
       "  </tbody>\n",
       "</table>\n",
       "</div>"
      ],
      "text/plain": [
       "   UserFK_id Name  LastPlayed  CreateDate  Selected  ThroneLevel  \\\n",
       "0          1  123  2024-09-10  2024-09-08      True            2   \n",
       "\n",
       "   CampaignWorld  VaultGold  VaultStone  VaultGems DungeonCheck  \n",
       "0              1        344         140         91   2024-09-10  "
      ]
     },
     "execution_count": 12,
     "metadata": {},
     "output_type": "execute_result"
    }
   ],
   "source": [
    "userMd = get_user_model().objects.filter(user_name='Admin')[0]\n",
    "guildMd = GM.Guild.objects.GetOrNone(UserFK=userMd, Selected=True)\n",
    "PD.DataFrame([guildMd.__dict__]).drop(['id', '_state'], axis=1, errors='ignore')"
   ]
  },
  {
   "cell_type": "code",
   "execution_count": 13,
   "metadata": {},
   "outputs": [],
   "source": [
    "thiefMds = GM.ThiefInGuild.objects.filter(GuildFK=guildMd)\n",
    "for md in thiefMds:\n",
    "    md.Status = 'Ready'\n",
    "    md.CooldownExpire = None\n",
    "    md.save()"
   ]
  },
  {
   "cell_type": "code",
   "execution_count": 14,
   "metadata": {},
   "outputs": [
    {
     "ename": "AttributeError",
     "evalue": "'NoneType' object has no attribute 'CreateDate'",
     "output_type": "error",
     "traceback": [
      "\u001b[1;31m---------------------------------------------------------------------------\u001b[0m",
      "\u001b[1;31mAttributeError\u001b[0m                            Traceback (most recent call last)",
      "Cell \u001b[1;32mIn[14], line 2\u001b[0m\n\u001b[0;32m      1\u001b[0m editMd \u001b[38;5;241m=\u001b[39m GM\u001b[38;5;241m.\u001b[39mGuildExpedition\u001b[38;5;241m.\u001b[39mobjects\u001b[38;5;241m.\u001b[39mGetOrNone(\u001b[38;5;28mid\u001b[39m\u001b[38;5;241m=\u001b[39m\u001b[38;5;241m134\u001b[39m)\n\u001b[1;32m----> 2\u001b[0m \u001b[43meditMd\u001b[49m\u001b[38;5;241;43m.\u001b[39;49m\u001b[43mCreateDate\u001b[49m \u001b[38;5;241m=\u001b[39m \u001b[38;5;124m'\u001b[39m\u001b[38;5;124m2024-07-17\u001b[39m\u001b[38;5;124m'\u001b[39m\n\u001b[0;32m      3\u001b[0m editMd\u001b[38;5;241m.\u001b[39msave()\n",
      "\u001b[1;31mAttributeError\u001b[0m: 'NoneType' object has no attribute 'CreateDate'"
     ]
    }
   ],
   "source": [
    "editMd = GM.GuildExpedition.objects.GetOrNone(id=134)\n",
    "editMd.CreateDate = '2024-07-17'\n",
    "editMd.save()"
   ]
  },
  {
   "cell_type": "code",
   "execution_count": null,
   "metadata": {},
   "outputs": [],
   "source": [
    "table = DB.GetTableDictionary('engine', 'ThiefUnlocked')\n",
    "PD.DataFrame(table)\n",
    "\n",
    "table = DB.GetTableDictionary('engine', 'ItemUnlocked')\n",
    "PD.DataFrame(table)"
   ]
  },
  {
   "cell_type": "code",
   "execution_count": null,
   "metadata": {},
   "outputs": [],
   "source": [
    "table = DB.GetTableDictionary('emporium', 'UnlockableItem')\n",
    "tableDf = PD.DataFrame(table)\n",
    "tableDf[10:20]"
   ]
  },
  {
   "cell_type": "code",
   "execution_count": null,
   "metadata": {},
   "outputs": [],
   "source": [
    "table = DB.GetTableDictionary('engine', 'Guild')\n",
    "tableDf = PD.DataFrame(table)\n",
    "tableDf"
   ]
  },
  {
   "cell_type": "code",
   "execution_count": null,
   "metadata": {},
   "outputs": [],
   "source": []
  }
 ],
 "metadata": {
  "kernelspec": {
   "display_name": "Python 3 (ipykernel)",
   "language": "python",
   "name": "python3"
  },
  "language_info": {
   "codemirror_mode": {
    "name": "ipython",
    "version": 3
   },
   "file_extension": ".py",
   "mimetype": "text/x-python",
   "name": "python",
   "nbconvert_exporter": "python",
   "pygments_lexer": "ipython3",
   "version": "3.8.2"
  }
 },
 "nbformat": 4,
 "nbformat_minor": 4
}
