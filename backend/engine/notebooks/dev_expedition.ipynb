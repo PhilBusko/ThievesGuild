{
 "cells": [
  {
   "cell_type": "markdown",
   "metadata": {},
   "source": [
    "# Expedition"
   ]
  },
  {
   "cell_type": "code",
   "execution_count": 1,
   "metadata": {},
   "outputs": [],
   "source": [
    "import os, sys\n",
    "import pandas as PD"
   ]
  },
  {
   "cell_type": "code",
   "execution_count": 2,
   "metadata": {},
   "outputs": [
    {
     "name": "stdout",
     "output_type": "stream",
     "text": [
      "['DataframeToDicts', 'GetRandom', 'NOTEBOOK_ENV']\n"
     ]
    }
   ],
   "source": [
    "BACKEND_PATH = os.path.dirname(os.path.dirname(os.getcwd()))\n",
    "APPPROJ_PATH = os.path.join(BACKEND_PATH, 'app_proj')\n",
    "sys.path.append(APPPROJ_PATH)\n",
    "import notebooks as NT\n",
    "print([x for x in dir(NT) if x[0]!='_' and len(x)>8])"
   ]
  },
  {
   "cell_type": "code",
   "execution_count": 3,
   "metadata": {},
   "outputs": [
    {
     "data": {
      "text/plain": [
       "True"
      ]
     },
     "execution_count": 3,
     "metadata": {},
     "output_type": "execute_result"
    }
   ],
   "source": [
    "MODULE_PATH = os.path.dirname(os.getcwd())\n",
    "DATA_PATH = os.path.join(MODULE_PATH, 'data')\n",
    "os.path.exists(DATA_PATH)"
   ]
  },
  {
   "cell_type": "code",
   "execution_count": 4,
   "metadata": {
    "scrolled": false
   },
   "outputs": [
    {
     "name": "stdout",
     "output_type": "stream",
     "text": [
      "env: DEV\n"
     ]
    }
   ],
   "source": [
    "import django\n",
    "os.environ['DEPLOYMENT_ENV'] = NT.NOTEBOOK_ENV\n",
    "os.environ['DJANGO_ALLOW_ASYNC_UNSAFE'] = 'True'\n",
    "os.chdir(os.path.dirname(MODULE_PATH))\n",
    "django.setup()"
   ]
  },
  {
   "cell_type": "code",
   "execution_count": 5,
   "metadata": {},
   "outputs": [],
   "source": [
    "import django.db.models as JM\n",
    "from django.contrib.auth import get_user_model\n",
    "from django.utils import timezone"
   ]
  },
  {
   "cell_type": "code",
   "execution_count": 6,
   "metadata": {
    "scrolled": true
   },
   "outputs": [
    {
     "name": "stdout",
     "output_type": "stream",
     "text": [
      "['BaseManager', 'DeleteTable', 'GetNativeTableCounts', 'GetTableCounts', 'GetTableDictionary', 'InsertBulk', 'InsertSingle']\n"
     ]
    }
   ],
   "source": [
    "import database as DB\n",
    "print([x for x in dir(DB) if x[0]!='_' and len(x)>8])"
   ]
  },
  {
   "cell_type": "code",
   "execution_count": 7,
   "metadata": {},
   "outputs": [
    {
     "name": "stdout",
     "output_type": "stream",
     "text": [
      "['ExpeditionLevel', 'ExpeditionType', 'FactoryUpgrades', 'GothicTower', 'LeagueTrial', 'SingletonUpgrades', 'StorageUpgrades', 'ThiefLevel', 'ThroneUpgrades', 'UnlockableItem', 'UnlockableThief']\n"
     ]
    }
   ],
   "source": [
    "import emporium.models as EM\n",
    "import emporium.logic.guild as GD\n",
    "import emporium.logic.stage as ST\n",
    "import emporium.logic.simulation as SM\n",
    "print([x for x in dir(EM) if x[0]!='_' and len(x)>8])"
   ]
  },
  {
   "cell_type": "code",
   "execution_count": 8,
   "metadata": {},
   "outputs": [
    {
     "name": "stdout",
     "output_type": "stream",
     "text": [
      "['GuildExpedition', 'GuildStage', 'ItemInGuild', 'ItemUnlocked', 'ThiefInGuild', 'ThiefUnlocked']\n"
     ]
    }
   ],
   "source": [
    "import engine.models as GM\n",
    "import engine.logic.resource as RS\n",
    "import engine.logic.content as CT\n",
    "import engine.logic.launcher as LH\n",
    "import engine.logic.robot as RB\n",
    "print([x for x in dir(GM) if x[0]!='_' and len(x)>8])"
   ]
  },
  {
   "cell_type": "code",
   "execution_count": 9,
   "metadata": {},
   "outputs": [],
   "source": [
    "%load_ext autoreload\n",
    "%autoreload 2\n",
    "from IPython.core.interactiveshell import InteractiveShell\n",
    "InteractiveShell.ast_node_interactivity = 'all'"
   ]
  },
  {
   "cell_type": "markdown",
   "metadata": {},
   "source": [
    "### Begin Code"
   ]
  },
  {
   "cell_type": "code",
   "execution_count": 55,
   "metadata": {},
   "outputs": [
    {
     "data": {
      "text/html": [
       "<div>\n",
       "<style scoped>\n",
       "    .dataframe tbody tr th:only-of-type {\n",
       "        vertical-align: middle;\n",
       "    }\n",
       "\n",
       "    .dataframe tbody tr th {\n",
       "        vertical-align: top;\n",
       "    }\n",
       "\n",
       "    .dataframe thead th {\n",
       "        text-align: right;\n",
       "    }\n",
       "</style>\n",
       "<table border=\"1\" class=\"dataframe\">\n",
       "  <thead>\n",
       "    <tr style=\"text-align: right;\">\n",
       "      <th></th>\n",
       "      <th>id</th>\n",
       "      <th>GuildFK_id</th>\n",
       "      <th>CreateDate</th>\n",
       "      <th>Level</th>\n",
       "      <th>BaseType</th>\n",
       "      <th>FullType</th>\n",
       "      <th>Duration</th>\n",
       "      <th>StartDate</th>\n",
       "      <th>ThiefFK_id</th>\n",
       "      <th>Results</th>\n",
       "      <th>Claimed</th>\n",
       "    </tr>\n",
       "  </thead>\n",
       "  <tbody>\n",
       "    <tr>\n",
       "      <th>0</th>\n",
       "      <td>123</td>\n",
       "      <td>13</td>\n",
       "      <td>2024-07-18</td>\n",
       "      <td>2</td>\n",
       "      <td>cun cmb</td>\n",
       "      <td>2-cun cmb</td>\n",
       "      <td>1 min</td>\n",
       "      <td>2024-07-18 21:40:14+00:00</td>\n",
       "      <td>60</td>\n",
       "      <td>{'passed': 11, 'grade': 'B', 'reward': {'categ...</td>\n",
       "      <td>True</td>\n",
       "    </tr>\n",
       "    <tr>\n",
       "      <th>1</th>\n",
       "      <td>124</td>\n",
       "      <td>13</td>\n",
       "      <td>2024-07-18</td>\n",
       "      <td>1</td>\n",
       "      <td>cun cmb</td>\n",
       "      <td>1-cun cmb</td>\n",
       "      <td>1 min</td>\n",
       "      <td>2024-07-18 21:40:17+00:00</td>\n",
       "      <td>59</td>\n",
       "      <td>{'passed': 11, 'grade': 'B', 'reward': {'categ...</td>\n",
       "      <td>True</td>\n",
       "    </tr>\n",
       "    <tr>\n",
       "      <th>2</th>\n",
       "      <td>125</td>\n",
       "      <td>13</td>\n",
       "      <td>2024-07-18</td>\n",
       "      <td>1</td>\n",
       "      <td>mig cmb</td>\n",
       "      <td>1-mig cmb</td>\n",
       "      <td>1 min</td>\n",
       "      <td>2024-07-18 21:40:20+00:00</td>\n",
       "      <td>62</td>\n",
       "      <td>{'passed': 11, 'grade': 'B', 'reward': {'categ...</td>\n",
       "      <td>True</td>\n",
       "    </tr>\n",
       "  </tbody>\n",
       "</table>\n",
       "</div>"
      ],
      "text/plain": [
       "    id  GuildFK_id  CreateDate  Level BaseType   FullType Duration  \\\n",
       "0  123          13  2024-07-18      2  cun cmb  2-cun cmb    1 min   \n",
       "1  124          13  2024-07-18      1  cun cmb  1-cun cmb    1 min   \n",
       "2  125          13  2024-07-18      1  mig cmb  1-mig cmb    1 min   \n",
       "\n",
       "                  StartDate  ThiefFK_id  \\\n",
       "0 2024-07-18 21:40:14+00:00          60   \n",
       "1 2024-07-18 21:40:17+00:00          59   \n",
       "2 2024-07-18 21:40:20+00:00          62   \n",
       "\n",
       "                                             Results  Claimed  \n",
       "0  {'passed': 11, 'grade': 'B', 'reward': {'categ...     True  \n",
       "1  {'passed': 11, 'grade': 'B', 'reward': {'categ...     True  \n",
       "2  {'passed': 11, 'grade': 'B', 'reward': {'categ...     True  "
      ]
     },
     "execution_count": 55,
     "metadata": {},
     "output_type": "execute_result"
    }
   ],
   "source": [
    "expLs = DB.GetTableDictionary('engine', 'GuildExpedition')\n",
    "PD.DataFrame(expLs)"
   ]
  },
  {
   "cell_type": "code",
   "execution_count": 51,
   "metadata": {},
   "outputs": [
    {
     "name": "stdout",
     "output_type": "stream",
     "text": [
      "table deleted\n"
     ]
    }
   ],
   "source": [
    "DB.Delete Table('engine', 'GuildExpedition')"
   ]
  },
  {
   "cell_type": "code",
   "execution_count": 26,
   "metadata": {},
   "outputs": [
    {
     "ename": "AttributeError",
     "evalue": "'NoneType' object has no attribute 'CreateDate'",
     "output_type": "error",
     "traceback": [
      "\u001b[1;31m---------------------------------------------------------------------------\u001b[0m",
      "\u001b[1;31mAttributeError\u001b[0m                            Traceback (most recent call last)",
      "Cell \u001b[1;32mIn[26], line 2\u001b[0m\n\u001b[0;32m      1\u001b[0m editMd \u001b[38;5;241m=\u001b[39m GM\u001b[38;5;241m.\u001b[39mGuildExpedition\u001b[38;5;241m.\u001b[39mobjects\u001b[38;5;241m.\u001b[39mGetOrNone(\u001b[38;5;28mid\u001b[39m\u001b[38;5;241m=\u001b[39m\u001b[38;5;241m113\u001b[39m)\n\u001b[1;32m----> 2\u001b[0m \u001b[43meditMd\u001b[49m\u001b[38;5;241;43m.\u001b[39;49m\u001b[43mCreateDate\u001b[49m \u001b[38;5;241m=\u001b[39m \u001b[38;5;124m'\u001b[39m\u001b[38;5;124m2024-07-17\u001b[39m\u001b[38;5;124m'\u001b[39m\n\u001b[0;32m      3\u001b[0m editMd\u001b[38;5;241m.\u001b[39msave()\n",
      "\u001b[1;31mAttributeError\u001b[0m: 'NoneType' object has no attribute 'CreateDate'"
     ]
    }
   ],
   "source": [
    "editMd = GM.GuildExp edition.objects.GetOrNone(id=113)\n",
    "editMd.CreateDate = '2024-07-17'\n",
    "editMd.save()"
   ]
  },
  {
   "cell_type": "code",
   "execution_count": 54,
   "metadata": {},
   "outputs": [
    {
     "data": {
      "text/html": [
       "<div>\n",
       "<style scoped>\n",
       "    .dataframe tbody tr th:only-of-type {\n",
       "        vertical-align: middle;\n",
       "    }\n",
       "\n",
       "    .dataframe tbody tr th {\n",
       "        vertical-align: top;\n",
       "    }\n",
       "\n",
       "    .dataframe thead th {\n",
       "        text-align: right;\n",
       "    }\n",
       "</style>\n",
       "<table border=\"1\" class=\"dataframe\">\n",
       "  <thead>\n",
       "    <tr style=\"text-align: right;\">\n",
       "      <th></th>\n",
       "      <th>id</th>\n",
       "      <th>GuildFK_id</th>\n",
       "      <th>ThiefFK_id</th>\n",
       "    </tr>\n",
       "  </thead>\n",
       "  <tbody>\n",
       "    <tr>\n",
       "      <th>0</th>\n",
       "      <td>1</td>\n",
       "      <td>13</td>\n",
       "      <td>160</td>\n",
       "    </tr>\n",
       "    <tr>\n",
       "      <th>1</th>\n",
       "      <td>2</td>\n",
       "      <td>13</td>\n",
       "      <td>162</td>\n",
       "    </tr>\n",
       "  </tbody>\n",
       "</table>\n",
       "</div>"
      ],
      "text/plain": [
       "   id  GuildFK_id  ThiefFK_id\n",
       "0   1          13         160\n",
       "1   2          13         162"
      ]
     },
     "execution_count": 54,
     "metadata": {},
     "output_type": "execute_result"
    },
    {
     "data": {
      "text/html": [
       "<div>\n",
       "<style scoped>\n",
       "    .dataframe tbody tr th:only-of-type {\n",
       "        vertical-align: middle;\n",
       "    }\n",
       "\n",
       "    .dataframe tbody tr th {\n",
       "        vertical-align: top;\n",
       "    }\n",
       "\n",
       "    .dataframe thead th {\n",
       "        text-align: right;\n",
       "    }\n",
       "</style>\n",
       "<table border=\"1\" class=\"dataframe\">\n",
       "  <thead>\n",
       "    <tr style=\"text-align: right;\">\n",
       "      <th></th>\n",
       "      <th>id</th>\n",
       "      <th>GuildFK_id</th>\n",
       "      <th>ItemFK_id</th>\n",
       "    </tr>\n",
       "  </thead>\n",
       "  <tbody>\n",
       "    <tr>\n",
       "      <th>0</th>\n",
       "      <td>1</td>\n",
       "      <td>13</td>\n",
       "      <td>1171</td>\n",
       "    </tr>\n",
       "    <tr>\n",
       "      <th>1</th>\n",
       "      <td>2</td>\n",
       "      <td>13</td>\n",
       "      <td>1169</td>\n",
       "    </tr>\n",
       "    <tr>\n",
       "      <th>2</th>\n",
       "      <td>3</td>\n",
       "      <td>13</td>\n",
       "      <td>1168</td>\n",
       "    </tr>\n",
       "    <tr>\n",
       "      <th>3</th>\n",
       "      <td>4</td>\n",
       "      <td>13</td>\n",
       "      <td>1175</td>\n",
       "    </tr>\n",
       "  </tbody>\n",
       "</table>\n",
       "</div>"
      ],
      "text/plain": [
       "   id  GuildFK_id  ItemFK_id\n",
       "0   1          13       1171\n",
       "1   2          13       1169\n",
       "2   3          13       1168\n",
       "3   4          13       1175"
      ]
     },
     "execution_count": 54,
     "metadata": {},
     "output_type": "execute_result"
    }
   ],
   "source": [
    "table = DB.GetTableDictionary('engine', 'ThiefUnlocked')\n",
    "PD.DataFrame(table)\n",
    "\n",
    "table = DB.GetTableDictionary('engine', 'ItemUnlocked')\n",
    "PD.DataFrame(table)"
   ]
  },
  {
   "cell_type": "code",
   "execution_count": 53,
   "metadata": {},
   "outputs": [
    {
     "data": {
      "text/html": [
       "<div>\n",
       "<style scoped>\n",
       "    .dataframe tbody tr th:only-of-type {\n",
       "        vertical-align: middle;\n",
       "    }\n",
       "\n",
       "    .dataframe tbody tr th {\n",
       "        vertical-align: top;\n",
       "    }\n",
       "\n",
       "    .dataframe thead th {\n",
       "        text-align: right;\n",
       "    }\n",
       "</style>\n",
       "<table border=\"1\" class=\"dataframe\">\n",
       "  <thead>\n",
       "    <tr style=\"text-align: right;\">\n",
       "      <th></th>\n",
       "      <th>id</th>\n",
       "      <th>ResourceId</th>\n",
       "      <th>Name</th>\n",
       "      <th>Level</th>\n",
       "      <th>MagicLv</th>\n",
       "      <th>TotalLv</th>\n",
       "      <th>Slot</th>\n",
       "      <th>StoreCost</th>\n",
       "      <th>Requirement</th>\n",
       "      <th>Trait</th>\n",
       "      <th>Combat</th>\n",
       "      <th>Skill</th>\n",
       "      <th>EnchantmentList</th>\n",
       "    </tr>\n",
       "  </thead>\n",
       "  <tbody>\n",
       "    <tr>\n",
       "      <th>10</th>\n",
       "      <td>1163</td>\n",
       "      <td>hands-cmb-l1-m0</td>\n",
       "      <td>Gauntlet</td>\n",
       "      <td>1</td>\n",
       "      <td>0</td>\n",
       "      <td>1</td>\n",
       "      <td>hands</td>\n",
       "      <td>800</td>\n",
       "      <td>None</td>\n",
       "      <td>None</td>\n",
       "      <td>dmg 1</td>\n",
       "      <td>None</td>\n",
       "      <td>None</td>\n",
       "    </tr>\n",
       "    <tr>\n",
       "      <th>11</th>\n",
       "      <td>1164</td>\n",
       "      <td>feet-cmb-l1-m0</td>\n",
       "      <td>Greaves</td>\n",
       "      <td>1</td>\n",
       "      <td>0</td>\n",
       "      <td>1</td>\n",
       "      <td>feet</td>\n",
       "      <td>800</td>\n",
       "      <td>None</td>\n",
       "      <td>None</td>\n",
       "      <td>att 1</td>\n",
       "      <td>None</td>\n",
       "      <td>None</td>\n",
       "    </tr>\n",
       "    <tr>\n",
       "      <th>12</th>\n",
       "      <td>1165</td>\n",
       "      <td>weapon-agi-l1-m1</td>\n",
       "      <td>Twin Daggers</td>\n",
       "      <td>1</td>\n",
       "      <td>1</td>\n",
       "      <td>2</td>\n",
       "      <td>weapon</td>\n",
       "      <td>1650</td>\n",
       "      <td>Burglar</td>\n",
       "      <td>agi 1</td>\n",
       "      <td>dmg 1</td>\n",
       "      <td>None</td>\n",
       "      <td>dmg 1, def 1, per 5, tra 5</td>\n",
       "    </tr>\n",
       "    <tr>\n",
       "      <th>13</th>\n",
       "      <td>1166</td>\n",
       "      <td>weapon-cun-l1-m1</td>\n",
       "      <td>Blackthorn</td>\n",
       "      <td>1</td>\n",
       "      <td>1</td>\n",
       "      <td>2</td>\n",
       "      <td>weapon</td>\n",
       "      <td>1650</td>\n",
       "      <td>Scoundrel</td>\n",
       "      <td>cun 1</td>\n",
       "      <td>att 2</td>\n",
       "      <td>None</td>\n",
       "      <td>att 1, def 1, sab 5, tra 5</td>\n",
       "    </tr>\n",
       "    <tr>\n",
       "      <th>14</th>\n",
       "      <td>1167</td>\n",
       "      <td>weapon-mig-l1-m1</td>\n",
       "      <td>Sword &amp; Shield</td>\n",
       "      <td>1</td>\n",
       "      <td>1</td>\n",
       "      <td>2</td>\n",
       "      <td>weapon</td>\n",
       "      <td>1650</td>\n",
       "      <td>Ruffian</td>\n",
       "      <td>mig 1</td>\n",
       "      <td>att 3</td>\n",
       "      <td>None</td>\n",
       "      <td>att 1, dmg 1, sab 5, per 5</td>\n",
       "    </tr>\n",
       "    <tr>\n",
       "      <th>15</th>\n",
       "      <td>1168</td>\n",
       "      <td>armor-agi-l1-m1</td>\n",
       "      <td>Brigandine</td>\n",
       "      <td>1</td>\n",
       "      <td>1</td>\n",
       "      <td>2</td>\n",
       "      <td>armor</td>\n",
       "      <td>1650</td>\n",
       "      <td>Burglar</td>\n",
       "      <td>agi 1</td>\n",
       "      <td>def 3</td>\n",
       "      <td>None</td>\n",
       "      <td>dmg 1, def 1, per 5, tra 5</td>\n",
       "    </tr>\n",
       "    <tr>\n",
       "      <th>16</th>\n",
       "      <td>1169</td>\n",
       "      <td>armor-cun-l1-m1</td>\n",
       "      <td>Vestment</td>\n",
       "      <td>1</td>\n",
       "      <td>1</td>\n",
       "      <td>2</td>\n",
       "      <td>armor</td>\n",
       "      <td>1650</td>\n",
       "      <td>Scoundrel</td>\n",
       "      <td>cun 1</td>\n",
       "      <td>def 2</td>\n",
       "      <td>None</td>\n",
       "      <td>att 1, def 1, sab 5, tra 5</td>\n",
       "    </tr>\n",
       "    <tr>\n",
       "      <th>17</th>\n",
       "      <td>1170</td>\n",
       "      <td>armor-mig-l1-m1</td>\n",
       "      <td>Chain Maille</td>\n",
       "      <td>1</td>\n",
       "      <td>1</td>\n",
       "      <td>2</td>\n",
       "      <td>armor</td>\n",
       "      <td>1650</td>\n",
       "      <td>Ruffian</td>\n",
       "      <td>mig 1</td>\n",
       "      <td>def 1</td>\n",
       "      <td>None</td>\n",
       "      <td>att 1, dmg 1, sab 5, per 5</td>\n",
       "    </tr>\n",
       "    <tr>\n",
       "      <th>18</th>\n",
       "      <td>1171</td>\n",
       "      <td>head-skl-l1-m1</td>\n",
       "      <td>Cowl</td>\n",
       "      <td>1</td>\n",
       "      <td>1</td>\n",
       "      <td>2</td>\n",
       "      <td>head</td>\n",
       "      <td>1250</td>\n",
       "      <td>None</td>\n",
       "      <td>None</td>\n",
       "      <td>None</td>\n",
       "      <td>per 5</td>\n",
       "      <td>agi 1, mig 1</td>\n",
       "    </tr>\n",
       "    <tr>\n",
       "      <th>19</th>\n",
       "      <td>1172</td>\n",
       "      <td>hands-skl-l1-m1</td>\n",
       "      <td>Gloves</td>\n",
       "      <td>1</td>\n",
       "      <td>1</td>\n",
       "      <td>2</td>\n",
       "      <td>hands</td>\n",
       "      <td>1250</td>\n",
       "      <td>None</td>\n",
       "      <td>None</td>\n",
       "      <td>None</td>\n",
       "      <td>sab 5</td>\n",
       "      <td>cun 1, mig 1</td>\n",
       "    </tr>\n",
       "  </tbody>\n",
       "</table>\n",
       "</div>"
      ],
      "text/plain": [
       "      id        ResourceId            Name  Level  MagicLv  TotalLv    Slot  \\\n",
       "10  1163   hands-cmb-l1-m0        Gauntlet      1        0        1   hands   \n",
       "11  1164    feet-cmb-l1-m0         Greaves      1        0        1    feet   \n",
       "12  1165  weapon-agi-l1-m1    Twin Daggers      1        1        2  weapon   \n",
       "13  1166  weapon-cun-l1-m1      Blackthorn      1        1        2  weapon   \n",
       "14  1167  weapon-mig-l1-m1  Sword & Shield      1        1        2  weapon   \n",
       "15  1168   armor-agi-l1-m1      Brigandine      1        1        2   armor   \n",
       "16  1169   armor-cun-l1-m1        Vestment      1        1        2   armor   \n",
       "17  1170   armor-mig-l1-m1    Chain Maille      1        1        2   armor   \n",
       "18  1171    head-skl-l1-m1            Cowl      1        1        2    head   \n",
       "19  1172   hands-skl-l1-m1          Gloves      1        1        2   hands   \n",
       "\n",
       "    StoreCost Requirement  Trait Combat  Skill             EnchantmentList  \n",
       "10        800        None   None  dmg 1   None                        None  \n",
       "11        800        None   None  att 1   None                        None  \n",
       "12       1650     Burglar  agi 1  dmg 1   None  dmg 1, def 1, per 5, tra 5  \n",
       "13       1650   Scoundrel  cun 1  att 2   None  att 1, def 1, sab 5, tra 5  \n",
       "14       1650     Ruffian  mig 1  att 3   None  att 1, dmg 1, sab 5, per 5  \n",
       "15       1650     Burglar  agi 1  def 3   None  dmg 1, def 1, per 5, tra 5  \n",
       "16       1650   Scoundrel  cun 1  def 2   None  att 1, def 1, sab 5, tra 5  \n",
       "17       1650     Ruffian  mig 1  def 1   None  att 1, dmg 1, sab 5, per 5  \n",
       "18       1250        None   None   None  per 5                agi 1, mig 1  \n",
       "19       1250        None   None   None  sab 5                cun 1, mig 1  "
      ]
     },
     "execution_count": 53,
     "metadata": {},
     "output_type": "execute_result"
    }
   ],
   "source": [
    "table = DB.GetTableDictionary('emporium', 'UnlockableItem')\n",
    "tableDf = PD.DataFrame(table)\n",
    "tableDf[10:20]"
   ]
  },
  {
   "cell_type": "code",
   "execution_count": 52,
   "metadata": {},
   "outputs": [
    {
     "data": {
      "text/html": [
       "<div>\n",
       "<style scoped>\n",
       "    .dataframe tbody tr th:only-of-type {\n",
       "        vertical-align: middle;\n",
       "    }\n",
       "\n",
       "    .dataframe tbody tr th {\n",
       "        vertical-align: top;\n",
       "    }\n",
       "\n",
       "    .dataframe thead th {\n",
       "        text-align: right;\n",
       "    }\n",
       "</style>\n",
       "<table border=\"1\" class=\"dataframe\">\n",
       "  <thead>\n",
       "    <tr style=\"text-align: right;\">\n",
       "      <th></th>\n",
       "      <th>id</th>\n",
       "      <th>UserFK_id</th>\n",
       "      <th>Name</th>\n",
       "      <th>LastPlayed</th>\n",
       "      <th>CreateDate</th>\n",
       "      <th>Selected</th>\n",
       "      <th>ThroneLevel</th>\n",
       "      <th>CampaignWorld</th>\n",
       "      <th>TotalPower</th>\n",
       "      <th>MaxThieves</th>\n",
       "      <th>StorageGold</th>\n",
       "      <th>StorageGems</th>\n",
       "      <th>StorageWood</th>\n",
       "      <th>StorageStone</th>\n",
       "      <th>StorageIron</th>\n",
       "      <th>VaultGold</th>\n",
       "      <th>VaultGems</th>\n",
       "      <th>VaultWood</th>\n",
       "      <th>VaultStone</th>\n",
       "      <th>VaultIron</th>\n",
       "    </tr>\n",
       "  </thead>\n",
       "  <tbody>\n",
       "    <tr>\n",
       "      <th>0</th>\n",
       "      <td>13</td>\n",
       "      <td>1</td>\n",
       "      <td>123</td>\n",
       "      <td>2024-06-27</td>\n",
       "      <td>2024-06-27</td>\n",
       "      <td>True</td>\n",
       "      <td>1</td>\n",
       "      <td>1</td>\n",
       "      <td>672</td>\n",
       "      <td>6</td>\n",
       "      <td>0</td>\n",
       "      <td>0</td>\n",
       "      <td>0</td>\n",
       "      <td>0</td>\n",
       "      <td>0</td>\n",
       "      <td>0</td>\n",
       "      <td>24</td>\n",
       "      <td>0</td>\n",
       "      <td>0</td>\n",
       "      <td>0</td>\n",
       "    </tr>\n",
       "  </tbody>\n",
       "</table>\n",
       "</div>"
      ],
      "text/plain": [
       "   id  UserFK_id Name  LastPlayed  CreateDate  Selected  ThroneLevel  \\\n",
       "0  13          1  123  2024-06-27  2024-06-27      True            1   \n",
       "\n",
       "   CampaignWorld  TotalPower  MaxThieves  StorageGold  StorageGems  \\\n",
       "0              1         672           6            0            0   \n",
       "\n",
       "   StorageWood  StorageStone  StorageIron  VaultGold  VaultGems  VaultWood  \\\n",
       "0            0             0            0          0         24          0   \n",
       "\n",
       "   VaultStone  VaultIron  \n",
       "0           0          0  "
      ]
     },
     "execution_count": 52,
     "metadata": {},
     "output_type": "execute_result"
    }
   ],
   "source": [
    "table = DB.GetTableDictionary('engine', 'Guild')\n",
    "tableDf = PD.DataFrame(table)\n",
    "tableDf"
   ]
  },
  {
   "cell_type": "code",
   "execution_count": null,
   "metadata": {},
   "outputs": [],
   "source": []
  }
 ],
 "metadata": {
  "kernelspec": {
   "display_name": "Python 3 (ipykernel)",
   "language": "python",
   "name": "python3"
  },
  "language_info": {
   "codemirror_mode": {
    "name": "ipython",
    "version": 3
   },
   "file_extension": ".py",
   "mimetype": "text/x-python",
   "name": "python",
   "nbconvert_exporter": "python",
   "pygments_lexer": "ipython3",
   "version": "3.8.2"
  }
 },
 "nbformat": 4,
 "nbformat_minor": 4
}
