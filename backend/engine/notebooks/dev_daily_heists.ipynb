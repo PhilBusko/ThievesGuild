{
 "cells": [
  {
   "cell_type": "markdown",
   "metadata": {},
   "source": [
    "# Create Daily Heists"
   ]
  },
  {
   "cell_type": "code",
   "execution_count": 1,
   "metadata": {},
   "outputs": [],
   "source": [
    "import os, sys, random, json\n",
    "import pandas as PD"
   ]
  },
  {
   "cell_type": "code",
   "execution_count": 2,
   "metadata": {
    "scrolled": false
   },
   "outputs": [
    {
     "name": "stdout",
     "output_type": "stream",
     "text": [
      "['DataframeToDicts', 'GetRandom', 'NOTEBOOK_ENV']\n"
     ]
    }
   ],
   "source": [
    "BACKEND_PATH = os.path.dirname(os.path.dirname(os.getcwd()))\n",
    "APPPROJ_PATH = os.path.join(BACKEND_PATH, 'app_proj')\n",
    "sys.path.append(APPPROJ_PATH)\n",
    "import notebooks as NT\n",
    "print([x for x in dir(NT) if x[0]!='_' and len(x)>8])"
   ]
  },
  {
   "cell_type": "code",
   "execution_count": 3,
   "metadata": {},
   "outputs": [
    {
     "name": "stdout",
     "output_type": "stream",
     "text": [
      "env: DEV\n"
     ]
    }
   ],
   "source": [
    "import django\n",
    "os.environ['DEPLOYMENT_ENV'] = NT.NOTEBOOK_ENV\n",
    "os.environ['DJANGO_ALLOW_ASYNC_UNSAFE'] = 'True'\n",
    "MODULE_PATH = os.path.dirname(os.getcwd())\n",
    "os.chdir(os.path.dirname(MODULE_PATH))\n",
    "django.setup()"
   ]
  },
  {
   "cell_type": "code",
   "execution_count": 4,
   "metadata": {},
   "outputs": [
    {
     "name": "stdout",
     "output_type": "stream",
     "text": [
      "['BaseManager', 'DeleteTable', 'GetNativeTableCounts', 'GetTableCounts', 'GetTableDictionary', 'InsertBulk', 'InsertSingle']\n"
     ]
    }
   ],
   "source": [
    "import database as DB\n",
    "print([x for x in dir(DB) if x[0]!='_' and len(x)>8])"
   ]
  },
  {
   "cell_type": "code",
   "execution_count": 5,
   "metadata": {},
   "outputs": [],
   "source": [
    "import django.db.models as JM\n",
    "from django.utils import timezone\n",
    "from django.contrib.auth import get_user_model"
   ]
  },
  {
   "cell_type": "code",
   "execution_count": 6,
   "metadata": {},
   "outputs": [
    {
     "name": "stdout",
     "output_type": "stream",
     "text": [
      "['AdvancedRoom', 'BasicRoom', 'CastleRoom', 'ExpeditionLevel', 'ExpeditionType', 'GothicTower', 'LeagueTrial', 'RequiredPower', 'RoomUpgrade', 'ThiefLevel', 'UniqueRoom', 'UnlockableItem', 'UnlockableThief']\n"
     ]
    }
   ],
   "source": [
    "import emporium.models as EM\n",
    "import emporium.logic.guild as GD\n",
    "import emporium.logic.stage as ST\n",
    "import emporium.logic.simulation as SM\n",
    "print([x for x in dir(EM) if x[0]!='_' and len(x)>8])"
   ]
  },
  {
   "cell_type": "code",
   "execution_count": 7,
   "metadata": {},
   "outputs": [
    {
     "name": "stdout",
     "output_type": "stream",
     "text": [
      "['GuildExpedition', 'GuildStage', 'ItemInGuild', 'ItemUnlocked', 'MarketStore', 'RoomInGuild', 'ThiefInGuild', 'ThiefUnlocked']\n"
     ]
    }
   ],
   "source": [
    "import engine.models as GM\n",
    "import engine.logic.content as CT\n",
    "import engine.logic.launcher as LH\n",
    "import engine.logic.resource as RS\n",
    "import engine.logic.robot as RB\n",
    "print([x for x in dir(GM) if x[0]!='_' and len(x)>8])"
   ]
  },
  {
   "cell_type": "code",
   "execution_count": 8,
   "metadata": {},
   "outputs": [],
   "source": [
    "%load_ext autoreload\n",
    "%autoreload 2\n",
    "from IPython.core.interactiveshell import InteractiveShell\n",
    "InteractiveShell.ast_node_interactivity = 'all'"
   ]
  },
  {
   "cell_type": "markdown",
   "metadata": {},
   "source": [
    "### Development"
   ]
  },
  {
   "cell_type": "code",
   "execution_count": 9,
   "metadata": {
    "scrolled": true
   },
   "outputs": [
    {
     "data": {
      "text/plain": [
       "<User: admin@thieves-guild.com>"
      ]
     },
     "execution_count": 9,
     "metadata": {},
     "output_type": "execute_result"
    }
   ],
   "source": [
    "# get user\n",
    "\n",
    "userMd = get_user_model().objects.filter(user_name='Admin')[0]\n",
    "userMd"
   ]
  },
  {
   "cell_type": "code",
   "execution_count": 10,
   "metadata": {
    "scrolled": true
   },
   "outputs": [
    {
     "name": "stdout",
     "output_type": "stream",
     "text": [
      "50\n"
     ]
    },
    {
     "data": {
      "text/html": [
       "<div>\n",
       "<style scoped>\n",
       "    .dataframe tbody tr th:only-of-type {\n",
       "        vertical-align: middle;\n",
       "    }\n",
       "\n",
       "    .dataframe tbody tr th {\n",
       "        vertical-align: top;\n",
       "    }\n",
       "\n",
       "    .dataframe thead th {\n",
       "        text-align: right;\n",
       "    }\n",
       "</style>\n",
       "<table border=\"1\" class=\"dataframe\">\n",
       "  <thead>\n",
       "    <tr style=\"text-align: right;\">\n",
       "      <th></th>\n",
       "      <th>GuildFK_id</th>\n",
       "      <th>Heist</th>\n",
       "      <th>StageNo count</th>\n",
       "    </tr>\n",
       "  </thead>\n",
       "  <tbody>\n",
       "    <tr>\n",
       "      <th>0</th>\n",
       "      <td>25</td>\n",
       "      <td>campaign</td>\n",
       "      <td>10</td>\n",
       "    </tr>\n",
       "    <tr>\n",
       "      <th>1</th>\n",
       "      <td>25</td>\n",
       "      <td>dungeon</td>\n",
       "      <td>1</td>\n",
       "    </tr>\n",
       "    <tr>\n",
       "      <th>2</th>\n",
       "      <td>25</td>\n",
       "      <td>tower</td>\n",
       "      <td>12</td>\n",
       "    </tr>\n",
       "    <tr>\n",
       "      <th>3</th>\n",
       "      <td>25</td>\n",
       "      <td>trial</td>\n",
       "      <td>2</td>\n",
       "    </tr>\n",
       "    <tr>\n",
       "      <th>4</th>\n",
       "      <td>26</td>\n",
       "      <td>campaign</td>\n",
       "      <td>10</td>\n",
       "    </tr>\n",
       "    <tr>\n",
       "      <th>5</th>\n",
       "      <td>26</td>\n",
       "      <td>dungeon</td>\n",
       "      <td>1</td>\n",
       "    </tr>\n",
       "    <tr>\n",
       "      <th>6</th>\n",
       "      <td>26</td>\n",
       "      <td>tower</td>\n",
       "      <td>12</td>\n",
       "    </tr>\n",
       "    <tr>\n",
       "      <th>7</th>\n",
       "      <td>26</td>\n",
       "      <td>trial</td>\n",
       "      <td>2</td>\n",
       "    </tr>\n",
       "  </tbody>\n",
       "</table>\n",
       "</div>"
      ],
      "text/plain": [
       "   GuildFK_id     Heist   StageNo count\n",
       "0           25  campaign             10\n",
       "1           25   dungeon              1\n",
       "2           25     tower             12\n",
       "3           25     trial              2\n",
       "4           26  campaign             10\n",
       "5           26   dungeon              1\n",
       "6           26     tower             12\n",
       "7           26     trial              2"
      ]
     },
     "execution_count": 10,
     "metadata": {},
     "output_type": "execute_result"
    }
   ],
   "source": [
    "# view stages for all guilds\n",
    "\n",
    "stageLs = GM.GuildStage.objects.filter().values()\n",
    "stageDf = PD.DataFrame(stageLs).drop(['_state', 'id', 'BackgroundBias', \n",
    "                                     'ObstaclesL2', 'ObstaclesL3', 'ObstaclesL4', 'ObstaclesL5',], axis=1, errors='ignore')\n",
    "print( len(stageLs) )\n",
    "\n",
    "groupDf = stageDf[['GuildFK_id', 'Heist', 'StageNo']]\n",
    "groupDf = groupDf.groupby(['GuildFK_id', 'Heist']).agg(['count']).reset_index()\n",
    "groupDf.columns = [' '.join(str(c) for c in col) for col in groupDf.columns]\n",
    "groupDf"
   ]
  },
  {
   "cell_type": "code",
   "execution_count": 33,
   "metadata": {},
   "outputs": [
    {
     "data": {
      "text/html": [
       "<div>\n",
       "<style scoped>\n",
       "    .dataframe tbody tr th:only-of-type {\n",
       "        vertical-align: middle;\n",
       "    }\n",
       "\n",
       "    .dataframe tbody tr th {\n",
       "        vertical-align: top;\n",
       "    }\n",
       "\n",
       "    .dataframe thead th {\n",
       "        text-align: right;\n",
       "    }\n",
       "</style>\n",
       "<table border=\"1\" class=\"dataframe\">\n",
       "  <thead>\n",
       "    <tr style=\"text-align: right;\">\n",
       "      <th></th>\n",
       "      <th>id</th>\n",
       "      <th>Name</th>\n",
       "      <th>LastPlayed</th>\n",
       "      <th>CreateDate</th>\n",
       "      <th>Selected</th>\n",
       "      <th>VaultGold</th>\n",
       "      <th>VaultStone</th>\n",
       "      <th>VaultGems</th>\n",
       "      <th>LastHeist</th>\n",
       "      <th>CampaignWorld</th>\n",
       "      <th>DungeonCheck</th>\n",
       "    </tr>\n",
       "  </thead>\n",
       "  <tbody>\n",
       "    <tr>\n",
       "      <th>0</th>\n",
       "      <td>25</td>\n",
       "      <td>963</td>\n",
       "      <td>2025-01-09</td>\n",
       "      <td>2025-01-07</td>\n",
       "      <td>True</td>\n",
       "      <td>1000</td>\n",
       "      <td>450</td>\n",
       "      <td>85</td>\n",
       "      <td>campaign</td>\n",
       "      <td>2</td>\n",
       "      <td>2025-01-09</td>\n",
       "    </tr>\n",
       "  </tbody>\n",
       "</table>\n",
       "</div>"
      ],
      "text/plain": [
       "   id Name  LastPlayed  CreateDate  Selected  VaultGold  VaultStone  \\\n",
       "0  25  963  2025-01-09  2025-01-07      True       1000         450   \n",
       "\n",
       "   VaultGems LastHeist  CampaignWorld DungeonCheck  \n",
       "0         85  campaign              2   2025-01-09  "
      ]
     },
     "execution_count": 33,
     "metadata": {},
     "output_type": "execute_result"
    }
   ],
   "source": [
    "# get selected guild\n",
    "\n",
    "guildMd = GM.Guild.objects.GetOrNone(UserFK=userMd, Selected=True)\n",
    "PD.DataFrame([guildMd.__dict__]).drop(['_state', 'UserFK_id'], axis=1, errors='ignore')"
   ]
  },
  {
   "cell_type": "code",
   "execution_count": 39,
   "metadata": {},
   "outputs": [
    {
     "data": {
      "text/plain": [
       "(29, {'engine.GuildStage': 29})"
      ]
     },
     "execution_count": 39,
     "metadata": {},
     "output_type": "execute_result"
    },
    {
     "data": {
      "text/html": [
       "<div>\n",
       "<style scoped>\n",
       "    .dataframe tbody tr th:only-of-type {\n",
       "        vertical-align: middle;\n",
       "    }\n",
       "\n",
       "    .dataframe tbody tr th {\n",
       "        vertical-align: top;\n",
       "    }\n",
       "\n",
       "    .dataframe thead th {\n",
       "        text-align: right;\n",
       "    }\n",
       "</style>\n",
       "<table border=\"1\" class=\"dataframe\">\n",
       "  <thead>\n",
       "    <tr style=\"text-align: right;\">\n",
       "      <th></th>\n",
       "    </tr>\n",
       "  </thead>\n",
       "  <tbody>\n",
       "  </tbody>\n",
       "</table>\n",
       "</div>"
      ],
      "text/plain": [
       "Empty DataFrame\n",
       "Columns: []\n",
       "Index: []"
      ]
     },
     "execution_count": 39,
     "metadata": {},
     "output_type": "execute_result"
    }
   ],
   "source": [
    "# reset stages\n",
    "\n",
    "GM.GuildStage.objects.filter(GuildFK=guildMd).delete()\n",
    "guildMd.DungeonCheck = None\n",
    "guildMd.save()\n",
    "\n",
    "stageLs = GM.GuildStage.objects.filter(GuildFK=guildMd).values()\n",
    "stageDf = PD.DataFrame(stageLs).drop(['_state', 'GuildFK_id'], axis=1, errors='ignore')\n",
    "stageDf"
   ]
  },
  {
   "cell_type": "code",
   "execution_count": 13,
   "metadata": {},
   "outputs": [
    {
     "name": "stdout",
     "output_type": "stream",
     "text": [
      "thieves reset\n"
     ]
    }
   ],
   "source": [
    "# reset thieves\n",
    "\n",
    "thiefLs = GM.ThiefInGuild.objects.filter(GuildFK=guildMd)\n",
    "for th in thiefLs:\n",
    "    th.Status = 'Ready'\n",
    "    th.save()\n",
    "print('thieves reset')"
   ]
  },
  {
   "cell_type": "code",
   "execution_count": 37,
   "metadata": {
    "scrolled": true
   },
   "outputs": [
    {
     "data": {
      "text/plain": [
       "0"
      ]
     },
     "execution_count": 37,
     "metadata": {},
     "output_type": "execute_result"
    },
    {
     "data": {
      "text/html": [
       "<div>\n",
       "<style scoped>\n",
       "    .dataframe tbody tr th:only-of-type {\n",
       "        vertical-align: middle;\n",
       "    }\n",
       "\n",
       "    .dataframe tbody tr th {\n",
       "        vertical-align: top;\n",
       "    }\n",
       "\n",
       "    .dataframe thead th {\n",
       "        text-align: right;\n",
       "    }\n",
       "</style>\n",
       "<table border=\"1\" class=\"dataframe\">\n",
       "  <thead>\n",
       "    <tr style=\"text-align: right;\">\n",
       "      <th></th>\n",
       "    </tr>\n",
       "  </thead>\n",
       "  <tbody>\n",
       "  </tbody>\n",
       "</table>\n",
       "</div>"
      ],
      "text/plain": [
       "Empty DataFrame\n",
       "Columns: []\n",
       "Index: []"
      ]
     },
     "execution_count": 37,
     "metadata": {},
     "output_type": "execute_result"
    }
   ],
   "source": [
    "stageLs = GM.GuildStage.objects.filter(GuildFK=guildMd).values()\n",
    "stageDf = PD.DataFrame(stageLs).drop(['_state', 'id', 'GuildFK_id', 'BackgroundBias', \n",
    "                                     'ObstaclesL2', 'ObstaclesL3', 'ObstaclesL4', 'ObstaclesL5',], axis=1, errors='ignore')\n",
    "len(stageLs)\n",
    "stageDf#[12:15]"
   ]
  },
  {
   "cell_type": "code",
   "execution_count": 30,
   "metadata": {},
   "outputs": [
    {
     "data": {
      "text/html": [
       "<div>\n",
       "<style scoped>\n",
       "    .dataframe tbody tr th:only-of-type {\n",
       "        vertical-align: middle;\n",
       "    }\n",
       "\n",
       "    .dataframe tbody tr th {\n",
       "        vertical-align: top;\n",
       "    }\n",
       "\n",
       "    .dataframe thead th {\n",
       "        text-align: right;\n",
       "    }\n",
       "</style>\n",
       "<table border=\"1\" class=\"dataframe\">\n",
       "  <thead>\n",
       "    <tr style=\"text-align: right;\">\n",
       "      <th></th>\n",
       "      <th>Heist</th>\n",
       "      <th>CreateDate</th>\n",
       "      <th>StageNo</th>\n",
       "      <th>LandingTypes</th>\n",
       "      <th>LandingRewards</th>\n",
       "      <th>StageRewards</th>\n",
       "    </tr>\n",
       "  </thead>\n",
       "  <tbody>\n",
       "    <tr>\n",
       "      <th>0</th>\n",
       "      <td>campaign</td>\n",
       "      <td>2025-01-09</td>\n",
       "      <td>1</td>\n",
       "      <td>[balanced, None, None, None, None]</td>\n",
       "      <td>[{'test': 'dummy'}, None, None, None, None]</td>\n",
       "      <td>{'reward': 'test'}</td>\n",
       "    </tr>\n",
       "    <tr>\n",
       "      <th>1</th>\n",
       "      <td>campaign</td>\n",
       "      <td>2025-01-09</td>\n",
       "      <td>2</td>\n",
       "      <td>[biased agi, None, None, None, None]</td>\n",
       "      <td>[{'test': 'dummy'}, None, None, None, None]</td>\n",
       "      <td>{'reward': 'test'}</td>\n",
       "    </tr>\n",
       "    <tr>\n",
       "      <th>2</th>\n",
       "      <td>campaign</td>\n",
       "      <td>2025-01-09</td>\n",
       "      <td>3</td>\n",
       "      <td>[balanced, None, None, None, None]</td>\n",
       "      <td>[{'test': 'dummy'}, None, None, None, None]</td>\n",
       "      <td>{'reward': 'test'}</td>\n",
       "    </tr>\n",
       "    <tr>\n",
       "      <th>3</th>\n",
       "      <td>campaign</td>\n",
       "      <td>2025-01-09</td>\n",
       "      <td>4</td>\n",
       "      <td>[balanced, biased agi, None, None, None]</td>\n",
       "      <td>[{'test': 'dummy'}, {'test': 'dummy'}, None, N...</td>\n",
       "      <td>{'reward': 'test'}</td>\n",
       "    </tr>\n",
       "    <tr>\n",
       "      <th>4</th>\n",
       "      <td>campaign</td>\n",
       "      <td>2025-01-09</td>\n",
       "      <td>5</td>\n",
       "      <td>[balanced, None, None, None, None]</td>\n",
       "      <td>[{'test': 'dummy'}, None, None, None, None]</td>\n",
       "      <td>{'reward': 'test'}</td>\n",
       "    </tr>\n",
       "    <tr>\n",
       "      <th>5</th>\n",
       "      <td>campaign</td>\n",
       "      <td>2025-01-09</td>\n",
       "      <td>6</td>\n",
       "      <td>[biased cmb, balanced, None, None, None]</td>\n",
       "      <td>[{'test': 'dummy'}, {'test': 'dummy'}, None, N...</td>\n",
       "      <td>{'reward': 'test'}</td>\n",
       "    </tr>\n",
       "    <tr>\n",
       "      <th>6</th>\n",
       "      <td>campaign</td>\n",
       "      <td>2025-01-09</td>\n",
       "      <td>7</td>\n",
       "      <td>[biased agi, None, None, None, None]</td>\n",
       "      <td>[{'test': 'dummy'}, None, None, None, None]</td>\n",
       "      <td>{'reward': 'test'}</td>\n",
       "    </tr>\n",
       "    <tr>\n",
       "      <th>7</th>\n",
       "      <td>campaign</td>\n",
       "      <td>2025-01-09</td>\n",
       "      <td>8</td>\n",
       "      <td>[balanced, biased mig, balanced, None, None]</td>\n",
       "      <td>[{'test': 'dummy'}, {'test': 'dummy'}, {'test'...</td>\n",
       "      <td>{'reward': 'test'}</td>\n",
       "    </tr>\n",
       "    <tr>\n",
       "      <th>8</th>\n",
       "      <td>campaign</td>\n",
       "      <td>2025-01-09</td>\n",
       "      <td>9</td>\n",
       "      <td>[balanced, biased agi, None, None, None]</td>\n",
       "      <td>[{'test': 'dummy'}, {'test': 'dummy'}, None, N...</td>\n",
       "      <td>{'reward': 'test'}</td>\n",
       "    </tr>\n",
       "    <tr>\n",
       "      <th>9</th>\n",
       "      <td>campaign</td>\n",
       "      <td>2025-01-09</td>\n",
       "      <td>10</td>\n",
       "      <td>[balanced, balanced, balanced, None, None]</td>\n",
       "      <td>[{'test': 'last'}, {'test': 'last'}, None, Non...</td>\n",
       "      <td>None</td>\n",
       "    </tr>\n",
       "  </tbody>\n",
       "</table>\n",
       "</div>"
      ],
      "text/plain": [
       "      Heist  CreateDate  StageNo  \\\n",
       "0  campaign  2025-01-09        1   \n",
       "1  campaign  2025-01-09        2   \n",
       "2  campaign  2025-01-09        3   \n",
       "3  campaign  2025-01-09        4   \n",
       "4  campaign  2025-01-09        5   \n",
       "5  campaign  2025-01-09        6   \n",
       "6  campaign  2025-01-09        7   \n",
       "7  campaign  2025-01-09        8   \n",
       "8  campaign  2025-01-09        9   \n",
       "9  campaign  2025-01-09       10   \n",
       "\n",
       "                                   LandingTypes  \\\n",
       "0            [balanced, None, None, None, None]   \n",
       "1          [biased agi, None, None, None, None]   \n",
       "2            [balanced, None, None, None, None]   \n",
       "3      [balanced, biased agi, None, None, None]   \n",
       "4            [balanced, None, None, None, None]   \n",
       "5      [biased cmb, balanced, None, None, None]   \n",
       "6          [biased agi, None, None, None, None]   \n",
       "7  [balanced, biased mig, balanced, None, None]   \n",
       "8      [balanced, biased agi, None, None, None]   \n",
       "9    [balanced, balanced, balanced, None, None]   \n",
       "\n",
       "                                      LandingRewards        StageRewards  \n",
       "0        [{'test': 'dummy'}, None, None, None, None]  {'reward': 'test'}  \n",
       "1        [{'test': 'dummy'}, None, None, None, None]  {'reward': 'test'}  \n",
       "2        [{'test': 'dummy'}, None, None, None, None]  {'reward': 'test'}  \n",
       "3  [{'test': 'dummy'}, {'test': 'dummy'}, None, N...  {'reward': 'test'}  \n",
       "4        [{'test': 'dummy'}, None, None, None, None]  {'reward': 'test'}  \n",
       "5  [{'test': 'dummy'}, {'test': 'dummy'}, None, N...  {'reward': 'test'}  \n",
       "6        [{'test': 'dummy'}, None, None, None, None]  {'reward': 'test'}  \n",
       "7  [{'test': 'dummy'}, {'test': 'dummy'}, {'test'...  {'reward': 'test'}  \n",
       "8  [{'test': 'dummy'}, {'test': 'dummy'}, None, N...  {'reward': 'test'}  \n",
       "9  [{'test': 'last'}, {'test': 'last'}, None, Non...                None  "
      ]
     },
     "execution_count": 30,
     "metadata": {},
     "output_type": "execute_result"
    }
   ],
   "source": [
    "# test campaign world advancement\n",
    "\n",
    "stageLs = GM.GuildStage.objects.filter(GuildFK=guildMd, Heist='campaign')\n",
    "\n",
    "for st in stageLs:\n",
    "\n",
    "    actualLandings = [x for x in st.LandingTypes if x]\n",
    "    numLandings = len(actualLandings)\n",
    "    \n",
    "    for ld in range(0, numLandings):\n",
    "        if st.StageNo != len(stageLs) and ld != numLandings:\n",
    "            st.LandingRewards[ld] = {'test': 'dummy'}\n",
    "        if st.StageNo == len(stageLs) and ld < numLandings -1:\n",
    "            st.LandingRewards[ld] = {'test': 'last'}\n",
    "\n",
    "    if st.StageNo != len(stageLs):\n",
    "        st.StageRewards = {'reward': 'test'}\n",
    "\n",
    "    st.save()\n",
    "    \n",
    "stageLs = GM.GuildStage.objects.filter(GuildFK=guildMd, Heist='campaign').values()\n",
    "stageDf = PD.DataFrame(stageLs).drop(['_state', 'id', 'GuildFK_id', 'BackgroundBias', 'Background', 'Level', \n",
    "                                    'BaseRewards', 'Burgles', 'StageQueue', 'Assignments', 'Actions',\n",
    "                                     'ObstaclesL1', 'ObstaclesL2', 'ObstaclesL3', 'ObstaclesL4', 'ObstaclesL5',], \n",
    "                                     axis=1, errors='ignore')\n",
    "stageDf"
   ]
  },
  {
   "cell_type": "code",
   "execution_count": null,
   "metadata": {},
   "outputs": [],
   "source": []
  }
 ],
 "metadata": {
  "kernelspec": {
   "display_name": "Python 3 (ipykernel)",
   "language": "python",
   "name": "python3"
  },
  "language_info": {
   "codemirror_mode": {
    "name": "ipython",
    "version": 3
   },
   "file_extension": ".py",
   "mimetype": "text/x-python",
   "name": "python",
   "nbconvert_exporter": "python",
   "pygments_lexer": "ipython3",
   "version": "3.8.2"
  }
 },
 "nbformat": 4,
 "nbformat_minor": 4
}
