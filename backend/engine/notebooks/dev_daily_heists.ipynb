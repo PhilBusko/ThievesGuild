{
 "cells": [
  {
   "cell_type": "markdown",
   "metadata": {},
   "source": [
    "# Create Daily Heists"
   ]
  },
  {
   "cell_type": "code",
   "execution_count": 1,
   "metadata": {},
   "outputs": [],
   "source": [
    "import os, sys, random, json\n",
    "import pandas as PD"
   ]
  },
  {
   "cell_type": "code",
   "execution_count": 2,
   "metadata": {
    "scrolled": false
   },
   "outputs": [
    {
     "name": "stdout",
     "output_type": "stream",
     "text": [
      "['DataframeToDicts', 'GetRandom', 'NOTEBOOK_ENV']\n"
     ]
    }
   ],
   "source": [
    "BACKEND_PATH = os.path.dirname(os.path.dirname(os.getcwd()))\n",
    "APPPROJ_PATH = os.path.join(BACKEND_PATH, 'app_proj')\n",
    "sys.path.append(APPPROJ_PATH)\n",
    "import notebooks as NT\n",
    "print([x for x in dir(NT) if x[0]!='_' and len(x)>8])"
   ]
  },
  {
   "cell_type": "code",
   "execution_count": 3,
   "metadata": {},
   "outputs": [
    {
     "name": "stdout",
     "output_type": "stream",
     "text": [
      "env: DEV\n"
     ]
    }
   ],
   "source": [
    "import django\n",
    "os.environ['DEPLOYMENT_ENV'] = NT.NOTEBOOK_ENV\n",
    "os.environ['DJANGO_ALLOW_ASYNC_UNSAFE'] = 'True'\n",
    "MODULE_PATH = os.path.dirname(os.getcwd())\n",
    "os.chdir(os.path.dirname(MODULE_PATH))\n",
    "django.setup()"
   ]
  },
  {
   "cell_type": "code",
   "execution_count": 4,
   "metadata": {},
   "outputs": [
    {
     "name": "stdout",
     "output_type": "stream",
     "text": [
      "['BaseManager', 'DeleteTable', 'GetNativeTableCounts', 'GetTableCounts', 'GetTableDictionary', 'InsertBulk', 'InsertSingle']\n"
     ]
    }
   ],
   "source": [
    "import database as DB\n",
    "print([x for x in dir(DB) if x[0]!='_' and len(x)>8])"
   ]
  },
  {
   "cell_type": "code",
   "execution_count": 5,
   "metadata": {},
   "outputs": [],
   "source": [
    "import django.db.models as JM\n",
    "from django.contrib.auth import get_user_model\n",
    "from django.utils import timezone"
   ]
  },
  {
   "cell_type": "code",
   "execution_count": 6,
   "metadata": {},
   "outputs": [
    {
     "name": "stdout",
     "output_type": "stream",
     "text": [
      "['FactoryUpgrades', 'GothicTower', 'KeepUpgrades', 'LeagueTrial', 'SingletonUpgrades', 'StorageUpgrades', 'ThiefLevel', 'UnlockableItem', 'UnlockableThief']\n"
     ]
    }
   ],
   "source": [
    "import emporium.models as EM\n",
    "import emporium.logic.guild as GD\n",
    "import emporium.logic.stage as ST\n",
    "import emporium.logic.simulation as SM\n",
    "print([x for x in dir(EM) if x[0]!='_' and len(x)>8])"
   ]
  },
  {
   "cell_type": "code",
   "execution_count": 7,
   "metadata": {},
   "outputs": [
    {
     "name": "stdout",
     "output_type": "stream",
     "text": [
      "['CommonWares', 'GuildAssets', 'GuildRamp', 'GuildTower', 'ItemInGuild', 'ItemUnlocked', 'MagicMarket', 'ThiefInGuild', 'ThiefUnlocked']\n"
     ]
    }
   ],
   "source": [
    "import engine.models as GM\n",
    "import engine.logic.resource as RS\n",
    "import engine.logic.content as CT\n",
    "import engine.logic.launcher as LH\n",
    "import engine.logic.robot as RB\n",
    "print([x for x in dir(GM) if x[0]!='_' and len(x)>8])"
   ]
  },
  {
   "cell_type": "code",
   "execution_count": 8,
   "metadata": {},
   "outputs": [],
   "source": [
    "%load_ext autoreload\n",
    "%autoreload 2\n",
    "from IPython.core.interactiveshell import InteractiveShell\n",
    "InteractiveShell.ast_node_interactivity = 'all'"
   ]
  },
  {
   "cell_type": "markdown",
   "metadata": {},
   "source": [
    "### Daily Heists"
   ]
  },
  {
   "cell_type": "code",
   "execution_count": 9,
   "metadata": {
    "scrolled": true
   },
   "outputs": [
    {
     "data": {
      "text/plain": [
       "<User: admin@thieves-guild.com>"
      ]
     },
     "execution_count": 9,
     "metadata": {},
     "output_type": "execute_result"
    }
   ],
   "source": [
    "# get user from request\n",
    "\n",
    "userMd = get_user_model().objects.filter(user_name='Admin')[0]\n",
    "userMd"
   ]
  },
  {
   "cell_type": "code",
   "execution_count": 10,
   "metadata": {
    "scrolled": true
   },
   "outputs": [
    {
     "data": {
      "text/plain": [
       "<Guild: Guild object (10)>"
      ]
     },
     "execution_count": 10,
     "metadata": {},
     "output_type": "execute_result"
    }
   ],
   "source": [
    "guildMd = GM.Guild.objects.GetOrNone(UserFK=userMd, Selected=True)\n",
    "\n",
    "if not guildMd:\n",
    "    responseDx = {\n",
    "        'thiefLs': None,\n",
    "        'assetLs': None,\n",
    "        'message': '* A guild must be chosen in the Account page.',\n",
    "    }\n",
    "\n",
    "guildMd"
   ]
  },
  {
   "cell_type": "code",
   "execution_count": 11,
   "metadata": {},
   "outputs": [
    {
     "name": "stdout",
     "output_type": "stream",
     "text": [
      "month: 1 | day: 5 | week day: 4 | full:  2024-01-05\n"
     ]
    }
   ],
   "source": [
    "currDt = timezone.now()\n",
    "currMonth = currDt.month\n",
    "currDay = currDt.day\n",
    "currWeekDay = currDt.weekday()   # 0 monday, 1 tuesday, .. 6 sunday\n",
    "currDate = f\"{currDt.year}-{str(currMonth).zfill(2)}-{str(currDay).zfill(2)}\"\n",
    "\n",
    "print('month:', currMonth, '| day:', currDay, '| week day:', currWeekDay, '| full: ', currDate)"
   ]
  },
  {
   "cell_type": "code",
   "execution_count": 16,
   "metadata": {},
   "outputs": [
    {
     "data": {
      "text/plain": [
       "(24, {'engine.GuildTower': 24})"
      ]
     },
     "execution_count": 16,
     "metadata": {},
     "output_type": "execute_result"
    }
   ],
   "source": [
    "GM.GuildTower.objects.all().delete()"
   ]
  },
  {
   "cell_type": "code",
   "execution_count": 13,
   "metadata": {},
   "outputs": [
    {
     "ename": "SyntaxError",
     "evalue": "invalid syntax (1952610833.py, line 3)",
     "output_type": "error",
     "traceback": [
      "\u001b[1;36m  Cell \u001b[1;32mIn[13], line 3\u001b[1;36m\u001b[0m\n\u001b[1;33m    towerLs = CT.GetOr CreateTower(guildMd, currDate)\u001b[0m\n\u001b[1;37m                       ^\u001b[0m\n\u001b[1;31mSyntaxError\u001b[0m\u001b[1;31m:\u001b[0m invalid syntax\n"
     ]
    }
   ],
   "source": [
    "# guild tower\n",
    "\n",
    "towerLs = CT.GetOr CreateTower(guildMd, currDate)\n",
    "len(towerLs)"
   ]
  },
  {
   "cell_type": "code",
   "execution_count": null,
   "metadata": {},
   "outputs": [],
   "source": [
    "towerLs = GM.GuildTower.objects.filter(GuildFK=guildMd).values()\n",
    "PD.DataFrame(tower).drop(['_state', 'GuildFK_id'], axis=1, errors='ignore')"
   ]
  },
  {
   "cell_type": "code",
   "execution_count": 24,
   "metadata": {},
   "outputs": [
    {
     "data": {
      "text/plain": [
       "24"
      ]
     },
     "execution_count": 24,
     "metadata": {},
     "output_type": "execute_result"
    },
    {
     "data": {
      "text/html": [
       "<div>\n",
       "<style scoped>\n",
       "    .dataframe tbody tr th:only-of-type {\n",
       "        vertical-align: middle;\n",
       "    }\n",
       "\n",
       "    .dataframe tbody tr th {\n",
       "        vertical-align: top;\n",
       "    }\n",
       "\n",
       "    .dataframe thead th {\n",
       "        text-align: right;\n",
       "    }\n",
       "</style>\n",
       "<table border=\"1\" class=\"dataframe\">\n",
       "  <thead>\n",
       "    <tr style=\"text-align: right;\">\n",
       "      <th></th>\n",
       "      <th>id</th>\n",
       "      <th>StageNo</th>\n",
       "      <th>CreateDate</th>\n",
       "      <th>TypeR1</th>\n",
       "      <th>TypeR2</th>\n",
       "      <th>TypeR3</th>\n",
       "      <th>ObstaclesR1</th>\n",
       "      <th>ObstaclesR2</th>\n",
       "      <th>ObstaclesR3</th>\n",
       "      <th>CompleteR1</th>\n",
       "      <th>CompleteR2</th>\n",
       "      <th>CompleteR3</th>\n",
       "    </tr>\n",
       "  </thead>\n",
       "  <tbody>\n",
       "    <tr>\n",
       "      <th>0</th>\n",
       "      <td>301</td>\n",
       "      <td>1</td>\n",
       "      <td>2024-01-05</td>\n",
       "      <td>balanced</td>\n",
       "      <td>None</td>\n",
       "      <td>None</td>\n",
       "      <td>[{\"Level\": 1, \"Name\": \"Warden\", \"Trait\": \"All\"...</td>\n",
       "      <td>None</td>\n",
       "      <td>None</td>\n",
       "      <td>False</td>\n",
       "      <td>False</td>\n",
       "      <td>False</td>\n",
       "    </tr>\n",
       "    <tr>\n",
       "      <th>1</th>\n",
       "      <td>302</td>\n",
       "      <td>2</td>\n",
       "      <td>2024-01-05</td>\n",
       "      <td>biased mig</td>\n",
       "      <td>None</td>\n",
       "      <td>None</td>\n",
       "      <td>[{\"Level\": 1, \"Name\": \"Chandelier\", \"Trait\": \"...</td>\n",
       "      <td>None</td>\n",
       "      <td>None</td>\n",
       "      <td>False</td>\n",
       "      <td>False</td>\n",
       "      <td>False</td>\n",
       "    </tr>\n",
       "    <tr>\n",
       "      <th>2</th>\n",
       "      <td>303</td>\n",
       "      <td>3</td>\n",
       "      <td>2024-01-05</td>\n",
       "      <td>balanced</td>\n",
       "      <td>None</td>\n",
       "      <td>None</td>\n",
       "      <td>[{\"Level\": 1, \"Name\": \"Barrel\", \"Trait\": \"Mig\"...</td>\n",
       "      <td>None</td>\n",
       "      <td>None</td>\n",
       "      <td>False</td>\n",
       "      <td>False</td>\n",
       "      <td>False</td>\n",
       "    </tr>\n",
       "    <tr>\n",
       "      <th>3</th>\n",
       "      <td>304</td>\n",
       "      <td>4</td>\n",
       "      <td>2024-01-05</td>\n",
       "      <td>biased agi</td>\n",
       "      <td>None</td>\n",
       "      <td>None</td>\n",
       "      <td>[{\"Level\": 1, \"Name\": \"Arcane Seal\", \"Trait\": ...</td>\n",
       "      <td>None</td>\n",
       "      <td>None</td>\n",
       "      <td>False</td>\n",
       "      <td>False</td>\n",
       "      <td>False</td>\n",
       "    </tr>\n",
       "    <tr>\n",
       "      <th>4</th>\n",
       "      <td>305</td>\n",
       "      <td>5</td>\n",
       "      <td>2024-01-05</td>\n",
       "      <td>balanced</td>\n",
       "      <td>None</td>\n",
       "      <td>None</td>\n",
       "      <td>[{\"Level\": 1, \"Name\": \"Door\", \"Trait\": \"Agi\", ...</td>\n",
       "      <td>None</td>\n",
       "      <td>None</td>\n",
       "      <td>False</td>\n",
       "      <td>False</td>\n",
       "      <td>False</td>\n",
       "    </tr>\n",
       "    <tr>\n",
       "      <th>8</th>\n",
       "      <td>309</td>\n",
       "      <td>6</td>\n",
       "      <td>2024-01-05</td>\n",
       "      <td>balanced</td>\n",
       "      <td>balanced</td>\n",
       "      <td>None</td>\n",
       "      <td>[{\"Level\": 2, \"Name\": \"Barrel\", \"Trait\": \"Mig\"...</td>\n",
       "      <td>[{\"Level\": 1, \"Name\": \"Arcane Seal\", \"Trait\": ...</td>\n",
       "      <td>None</td>\n",
       "      <td>False</td>\n",
       "      <td>False</td>\n",
       "      <td>False</td>\n",
       "    </tr>\n",
       "    <tr>\n",
       "      <th>9</th>\n",
       "      <td>310</td>\n",
       "      <td>7</td>\n",
       "      <td>2024-01-05</td>\n",
       "      <td>biased cun</td>\n",
       "      <td>balanced</td>\n",
       "      <td>None</td>\n",
       "      <td>[{\"Level\": 1, \"Name\": \"Spike Trap\", \"Trait\": \"...</td>\n",
       "      <td>[{\"Level\": 1, \"Name\": \"Spike Trap\", \"Trait\": \"...</td>\n",
       "      <td>None</td>\n",
       "      <td>False</td>\n",
       "      <td>False</td>\n",
       "      <td>False</td>\n",
       "    </tr>\n",
       "    <tr>\n",
       "      <th>10</th>\n",
       "      <td>311</td>\n",
       "      <td>8</td>\n",
       "      <td>2024-01-05</td>\n",
       "      <td>balanced</td>\n",
       "      <td>balanced</td>\n",
       "      <td>None</td>\n",
       "      <td>[{\"Level\": 1, \"Name\": \"Crossbow Trap\", \"Trait\"...</td>\n",
       "      <td>[{\"Level\": 2, \"Name\": \"Vanguard\", \"Trait\": \"Al...</td>\n",
       "      <td>None</td>\n",
       "      <td>False</td>\n",
       "      <td>False</td>\n",
       "      <td>False</td>\n",
       "    </tr>\n",
       "    <tr>\n",
       "      <th>11</th>\n",
       "      <td>312</td>\n",
       "      <td>9</td>\n",
       "      <td>2024-01-05</td>\n",
       "      <td>biased cmb</td>\n",
       "      <td>balanced</td>\n",
       "      <td>None</td>\n",
       "      <td>[{\"Level\": 2, \"Name\": \"Gargoyle\", \"Trait\": \"Mi...</td>\n",
       "      <td>[{\"Level\": 2, \"Name\": \"Gargoyle\", \"Trait\": \"Mi...</td>\n",
       "      <td>None</td>\n",
       "      <td>False</td>\n",
       "      <td>False</td>\n",
       "      <td>False</td>\n",
       "    </tr>\n",
       "    <tr>\n",
       "      <th>16</th>\n",
       "      <td>317</td>\n",
       "      <td>10</td>\n",
       "      <td>2024-01-05</td>\n",
       "      <td>balanced</td>\n",
       "      <td>balanced</td>\n",
       "      <td>biased agi</td>\n",
       "      <td>[{\"Level\": 1, \"Name\": \"Chandelier\", \"Trait\": \"...</td>\n",
       "      <td>[{\"Level\": 1, \"Name\": \"Chandelier\", \"Trait\": \"...</td>\n",
       "      <td>[{\"Level\": 2, \"Name\": \"Warden\", \"Trait\": \"All\"...</td>\n",
       "      <td>False</td>\n",
       "      <td>False</td>\n",
       "      <td>False</td>\n",
       "    </tr>\n",
       "    <tr>\n",
       "      <th>18</th>\n",
       "      <td>319</td>\n",
       "      <td>11</td>\n",
       "      <td>2024-01-05</td>\n",
       "      <td>balanced</td>\n",
       "      <td>balanced</td>\n",
       "      <td>biased mig</td>\n",
       "      <td>[{\"Level\": 2, \"Name\": \"Sorcerer\", \"Trait\": \"Al...</td>\n",
       "      <td>[{\"Level\": 1, \"Name\": \"Arcane Seal\", \"Trait\": ...</td>\n",
       "      <td>[{\"Level\": 2, \"Name\": \"Vanguard\", \"Trait\": \"Al...</td>\n",
       "      <td>False</td>\n",
       "      <td>False</td>\n",
       "      <td>False</td>\n",
       "    </tr>\n",
       "    <tr>\n",
       "      <th>19</th>\n",
       "      <td>320</td>\n",
       "      <td>12</td>\n",
       "      <td>2024-01-05</td>\n",
       "      <td>balanced</td>\n",
       "      <td>biased agi</td>\n",
       "      <td>balanced</td>\n",
       "      <td>[{\"Level\": 1, \"Name\": \"Gargoyle\", \"Trait\": \"Mi...</td>\n",
       "      <td>[{\"Level\": 2, \"Name\": \"Spike Trap\", \"Trait\": \"...</td>\n",
       "      <td>[{\"Level\": 1, \"Name\": \"Vanguard\", \"Trait\": \"Al...</td>\n",
       "      <td>False</td>\n",
       "      <td>False</td>\n",
       "      <td>False</td>\n",
       "    </tr>\n",
       "  </tbody>\n",
       "</table>\n",
       "</div>"
      ],
      "text/plain": [
       "     id  StageNo  CreateDate      TypeR1      TypeR2      TypeR3  \\\n",
       "0   301        1  2024-01-05    balanced        None        None   \n",
       "1   302        2  2024-01-05  biased mig        None        None   \n",
       "2   303        3  2024-01-05    balanced        None        None   \n",
       "3   304        4  2024-01-05  biased agi        None        None   \n",
       "4   305        5  2024-01-05    balanced        None        None   \n",
       "8   309        6  2024-01-05    balanced    balanced        None   \n",
       "9   310        7  2024-01-05  biased cun    balanced        None   \n",
       "10  311        8  2024-01-05    balanced    balanced        None   \n",
       "11  312        9  2024-01-05  biased cmb    balanced        None   \n",
       "16  317       10  2024-01-05    balanced    balanced  biased agi   \n",
       "18  319       11  2024-01-05    balanced    balanced  biased mig   \n",
       "19  320       12  2024-01-05    balanced  biased agi    balanced   \n",
       "\n",
       "                                          ObstaclesR1  \\\n",
       "0   [{\"Level\": 1, \"Name\": \"Warden\", \"Trait\": \"All\"...   \n",
       "1   [{\"Level\": 1, \"Name\": \"Chandelier\", \"Trait\": \"...   \n",
       "2   [{\"Level\": 1, \"Name\": \"Barrel\", \"Trait\": \"Mig\"...   \n",
       "3   [{\"Level\": 1, \"Name\": \"Arcane Seal\", \"Trait\": ...   \n",
       "4   [{\"Level\": 1, \"Name\": \"Door\", \"Trait\": \"Agi\", ...   \n",
       "8   [{\"Level\": 2, \"Name\": \"Barrel\", \"Trait\": \"Mig\"...   \n",
       "9   [{\"Level\": 1, \"Name\": \"Spike Trap\", \"Trait\": \"...   \n",
       "10  [{\"Level\": 1, \"Name\": \"Crossbow Trap\", \"Trait\"...   \n",
       "11  [{\"Level\": 2, \"Name\": \"Gargoyle\", \"Trait\": \"Mi...   \n",
       "16  [{\"Level\": 1, \"Name\": \"Chandelier\", \"Trait\": \"...   \n",
       "18  [{\"Level\": 2, \"Name\": \"Sorcerer\", \"Trait\": \"Al...   \n",
       "19  [{\"Level\": 1, \"Name\": \"Gargoyle\", \"Trait\": \"Mi...   \n",
       "\n",
       "                                          ObstaclesR2  \\\n",
       "0                                                None   \n",
       "1                                                None   \n",
       "2                                                None   \n",
       "3                                                None   \n",
       "4                                                None   \n",
       "8   [{\"Level\": 1, \"Name\": \"Arcane Seal\", \"Trait\": ...   \n",
       "9   [{\"Level\": 1, \"Name\": \"Spike Trap\", \"Trait\": \"...   \n",
       "10  [{\"Level\": 2, \"Name\": \"Vanguard\", \"Trait\": \"Al...   \n",
       "11  [{\"Level\": 2, \"Name\": \"Gargoyle\", \"Trait\": \"Mi...   \n",
       "16  [{\"Level\": 1, \"Name\": \"Chandelier\", \"Trait\": \"...   \n",
       "18  [{\"Level\": 1, \"Name\": \"Arcane Seal\", \"Trait\": ...   \n",
       "19  [{\"Level\": 2, \"Name\": \"Spike Trap\", \"Trait\": \"...   \n",
       "\n",
       "                                          ObstaclesR3  CompleteR1  CompleteR2  \\\n",
       "0                                                None       False       False   \n",
       "1                                                None       False       False   \n",
       "2                                                None       False       False   \n",
       "3                                                None       False       False   \n",
       "4                                                None       False       False   \n",
       "8                                                None       False       False   \n",
       "9                                                None       False       False   \n",
       "10                                               None       False       False   \n",
       "11                                               None       False       False   \n",
       "16  [{\"Level\": 2, \"Name\": \"Warden\", \"Trait\": \"All\"...       False       False   \n",
       "18  [{\"Level\": 2, \"Name\": \"Vanguard\", \"Trait\": \"Al...       False       False   \n",
       "19  [{\"Level\": 1, \"Name\": \"Vanguard\", \"Trait\": \"Al...       False       False   \n",
       "\n",
       "    CompleteR3  \n",
       "0        False  \n",
       "1        False  \n",
       "2        False  \n",
       "3        False  \n",
       "4        False  \n",
       "8        False  \n",
       "9        False  \n",
       "10       False  \n",
       "11       False  \n",
       "16       False  \n",
       "18       False  \n",
       "19       False  "
      ]
     },
     "execution_count": 24,
     "metadata": {},
     "output_type": "execute_result"
    }
   ],
   "source": [
    "tower = GM.GuildTower.objects.filter(GuildFK=guildMd).values()\n",
    "len(tower)\n",
    "towerDf = PD.DataFrame(tower).drop(['_state', 'GuildFK_id'], axis=1, errors='ignore')\n",
    "towerDf = towerDf.drop_duplicates(subset=['StageNo']).sort_values('StageNo')\n",
    "towerDf"
   ]
  },
  {
   "cell_type": "code",
   "execution_count": null,
   "metadata": {},
   "outputs": [],
   "source": [
    "# league trials\n",
    "\n"
   ]
  },
  {
   "cell_type": "code",
   "execution_count": null,
   "metadata": {},
   "outputs": [],
   "source": []
  },
  {
   "cell_type": "code",
   "execution_count": null,
   "metadata": {},
   "outputs": [],
   "source": []
  },
  {
   "cell_type": "code",
   "execution_count": null,
   "metadata": {},
   "outputs": [],
   "source": []
  }
 ],
 "metadata": {
  "kernelspec": {
   "display_name": "Python 3 (ipykernel)",
   "language": "python",
   "name": "python3"
  },
  "language_info": {
   "codemirror_mode": {
    "name": "ipython",
    "version": 3
   },
   "file_extension": ".py",
   "mimetype": "text/x-python",
   "name": "python",
   "nbconvert_exporter": "python",
   "pygments_lexer": "ipython3",
   "version": "3.8.2"
  }
 },
 "nbformat": 4,
 "nbformat_minor": 4
}
