{
 "cells": [
  {
   "cell_type": "markdown",
   "metadata": {},
   "source": [
    "# Create Daily Heists"
   ]
  },
  {
   "cell_type": "code",
   "execution_count": 1,
   "metadata": {},
   "outputs": [],
   "source": [
    "import os, sys, random, json\n",
    "import pandas as PD"
   ]
  },
  {
   "cell_type": "code",
   "execution_count": 2,
   "metadata": {
    "scrolled": false
   },
   "outputs": [
    {
     "name": "stdout",
     "output_type": "stream",
     "text": [
      "['DataframeToDicts', 'GetRandom', 'NOTEBOOK_ENV']\n"
     ]
    }
   ],
   "source": [
    "BACKEND_PATH = os.path.dirname(os.path.dirname(os.getcwd()))\n",
    "APPPROJ_PATH = os.path.join(BACKEND_PATH, 'app_proj')\n",
    "sys.path.append(APPPROJ_PATH)\n",
    "import notebooks as NT\n",
    "print([x for x in dir(NT) if x[0]!='_' and len(x)>8])"
   ]
  },
  {
   "cell_type": "code",
   "execution_count": 3,
   "metadata": {},
   "outputs": [
    {
     "name": "stdout",
     "output_type": "stream",
     "text": [
      "env: DEV\n"
     ]
    }
   ],
   "source": [
    "import django\n",
    "os.environ['DEPLOYMENT_ENV'] = NT.NOTEBOOK_ENV\n",
    "os.environ['DJANGO_ALLOW_ASYNC_UNSAFE'] = 'True'\n",
    "MODULE_PATH = os.path.dirname(os.getcwd())\n",
    "os.chdir(os.path.dirname(MODULE_PATH))\n",
    "django.setup()"
   ]
  },
  {
   "cell_type": "code",
   "execution_count": 4,
   "metadata": {},
   "outputs": [
    {
     "name": "stdout",
     "output_type": "stream",
     "text": [
      "['BaseManager', 'DeleteTable', 'GetNativeTableCounts', 'GetTableCounts', 'GetTableDictionary', 'InsertBulk', 'InsertSingle']\n"
     ]
    }
   ],
   "source": [
    "import database as DB\n",
    "print([x for x in dir(DB) if x[0]!='_' and len(x)>8])"
   ]
  },
  {
   "cell_type": "code",
   "execution_count": 5,
   "metadata": {},
   "outputs": [],
   "source": [
    "import django.db.models as JM\n",
    "from django.utils import timezone\n",
    "from django.contrib.auth import get_user_model"
   ]
  },
  {
   "cell_type": "code",
   "execution_count": 6,
   "metadata": {},
   "outputs": [
    {
     "name": "stdout",
     "output_type": "stream",
     "text": [
      "['FactoryUpgrades', 'GothicTower', 'KeepUpgrades', 'LeagueTrial', 'SingletonUpgrades', 'StorageUpgrades', 'ThiefLevel', 'UnlockableItem', 'UnlockableThief']\n"
     ]
    }
   ],
   "source": [
    "import emporium.models as EM\n",
    "import emporium.logic.guild as GD\n",
    "import emporium.logic.stage as ST\n",
    "import emporium.logic.simulation as SM\n",
    "print([x for x in dir(EM) if x[0]!='_' and len(x)>8])"
   ]
  },
  {
   "cell_type": "code",
   "execution_count": 7,
   "metadata": {},
   "outputs": [
    {
     "name": "stdout",
     "output_type": "stream",
     "text": [
      "['GuildStage', 'ItemInGuild', 'ItemUnlocked', 'ThiefInGuild', 'ThiefUnlocked']\n"
     ]
    }
   ],
   "source": [
    "import engine.models as GM\n",
    "import engine.logic.content as CT\n",
    "import engine.logic.launcher as LH\n",
    "import engine.logic.resource as RS\n",
    "import engine.logic.robot as RB\n",
    "print([x for x in dir(GM) if x[0]!='_' and len(x)>8])"
   ]
  },
  {
   "cell_type": "code",
   "execution_count": 8,
   "metadata": {},
   "outputs": [],
   "source": [
    "%load_ext autoreload\n",
    "%autoreload 2\n",
    "from IPython.core.interactiveshell import InteractiveShell\n",
    "InteractiveShell.ast_node_interactivity = 'all'"
   ]
  },
  {
   "cell_type": "markdown",
   "metadata": {},
   "source": [
    "### Daily Heists"
   ]
  },
  {
   "cell_type": "code",
   "execution_count": 9,
   "metadata": {
    "scrolled": true
   },
   "outputs": [
    {
     "data": {
      "text/plain": [
       "<User: admin@thieves-guild.com>"
      ]
     },
     "execution_count": 9,
     "metadata": {},
     "output_type": "execute_result"
    }
   ],
   "source": [
    "# get user and guild\n",
    "\n",
    "userMd = get_user_model().objects.filter(user_name='Admin')[0]\n",
    "userMd"
   ]
  },
  {
   "cell_type": "code",
   "execution_count": 10,
   "metadata": {
    "scrolled": true
   },
   "outputs": [
    {
     "data": {
      "text/plain": [
       "<Guild: Guild object (10)>"
      ]
     },
     "execution_count": 10,
     "metadata": {},
     "output_type": "execute_result"
    }
   ],
   "source": [
    "guildMd = GM.Guild.objects.GetOrNone(UserFK=userMd, Selected=True)\n",
    "\n",
    "if not guildMd:\n",
    "    responseDx = {\n",
    "        'thiefLs': None,\n",
    "        'assetLs': None,\n",
    "        'message': '* A guild must be chosen in the Account page.',\n",
    "    }\n",
    "\n",
    "guildMd"
   ]
  },
  {
   "cell_type": "code",
   "execution_count": 11,
   "metadata": {},
   "outputs": [
    {
     "name": "stdout",
     "output_type": "stream",
     "text": [
      "month: 2 | day: 12 | week day: 0 | full:  2024-02-12\n"
     ]
    }
   ],
   "source": [
    "currDt = timezone.now()\n",
    "currMonth = currDt.month\n",
    "currDay = currDt.day\n",
    "currWeekDay = currDt.weekday()   # 0 monday, 1 tuesday, .. 6 sunday\n",
    "currDate = f\"{currDt.year}-{str(currMonth).zfill(2)}-{str(currDay).zfill(2)}\"\n",
    "\n",
    "print('month:', currMonth, '| day:', currDay, '| week day:', currWeekDay, '| full: ', currDate)"
   ]
  },
  {
   "cell_type": "markdown",
   "metadata": {},
   "source": [
    "### Guild Tower"
   ]
  },
  {
   "cell_type": "code",
   "execution_count": 12,
   "metadata": {},
   "outputs": [
    {
     "data": {
      "text/html": [
       "<div>\n",
       "<style scoped>\n",
       "    .dataframe tbody tr th:only-of-type {\n",
       "        vertical-align: middle;\n",
       "    }\n",
       "\n",
       "    .dataframe tbody tr th {\n",
       "        vertical-align: top;\n",
       "    }\n",
       "\n",
       "    .dataframe thead th {\n",
       "        text-align: right;\n",
       "    }\n",
       "</style>\n",
       "<table border=\"1\" class=\"dataframe\">\n",
       "  <thead>\n",
       "    <tr style=\"text-align: right;\">\n",
       "      <th></th>\n",
       "      <th>id</th>\n",
       "      <th>Heist</th>\n",
       "      <th>StageNo</th>\n",
       "      <th>CreateDate</th>\n",
       "      <th>RoomTypes</th>\n",
       "      <th>CompleteRooms</th>\n",
       "      <th>Background</th>\n",
       "      <th>BackgroundRoomBias</th>\n",
       "      <th>ObstaclesR1</th>\n",
       "      <th>ObstaclesR2</th>\n",
       "      <th>ObstaclesR3</th>\n",
       "      <th>ObstaclesR4</th>\n",
       "      <th>ObstaclesR5</th>\n",
       "    </tr>\n",
       "  </thead>\n",
       "  <tbody>\n",
       "    <tr>\n",
       "      <th>0</th>\n",
       "      <td>1441</td>\n",
       "      <td>tower</td>\n",
       "      <td>1</td>\n",
       "      <td>2024-02-12</td>\n",
       "      <td>[balanced, None]</td>\n",
       "      <td>[False, None]</td>\n",
       "      <td>temple</td>\n",
       "      <td>[0, None]</td>\n",
       "      <td>[{\"Level\": 1, \"Name\": \"Sorcerer\", \"Trait\": \"Al...</td>\n",
       "      <td>None</td>\n",
       "      <td>None</td>\n",
       "      <td>None</td>\n",
       "      <td>None</td>\n",
       "    </tr>\n",
       "    <tr>\n",
       "      <th>1</th>\n",
       "      <td>1442</td>\n",
       "      <td>tower</td>\n",
       "      <td>2</td>\n",
       "      <td>2024-02-12</td>\n",
       "      <td>[balanced, None]</td>\n",
       "      <td>[False, None]</td>\n",
       "      <td>warehouse</td>\n",
       "      <td>[0, None]</td>\n",
       "      <td>[{\"Level\": 1, \"Name\": \"Crossbow Trap\", \"Trait\"...</td>\n",
       "      <td>None</td>\n",
       "      <td>None</td>\n",
       "      <td>None</td>\n",
       "      <td>None</td>\n",
       "    </tr>\n",
       "    <tr>\n",
       "      <th>2</th>\n",
       "      <td>1443</td>\n",
       "      <td>tower</td>\n",
       "      <td>3</td>\n",
       "      <td>2024-02-12</td>\n",
       "      <td>[balanced, None]</td>\n",
       "      <td>[False, None]</td>\n",
       "      <td>college</td>\n",
       "      <td>[1, None]</td>\n",
       "      <td>[{\"Level\": 1, \"Name\": \"Warden\", \"Trait\": \"All\"...</td>\n",
       "      <td>None</td>\n",
       "      <td>None</td>\n",
       "      <td>None</td>\n",
       "      <td>None</td>\n",
       "    </tr>\n",
       "  </tbody>\n",
       "</table>\n",
       "</div>"
      ],
      "text/plain": [
       "     id  Heist  StageNo  CreateDate         RoomTypes  CompleteRooms  \\\n",
       "0  1441  tower        1  2024-02-12  [balanced, None]  [False, None]   \n",
       "1  1442  tower        2  2024-02-12  [balanced, None]  [False, None]   \n",
       "2  1443  tower        3  2024-02-12  [balanced, None]  [False, None]   \n",
       "\n",
       "  Background BackgroundRoomBias  \\\n",
       "0     temple          [0, None]   \n",
       "1  warehouse          [0, None]   \n",
       "2    college          [1, None]   \n",
       "\n",
       "                                         ObstaclesR1 ObstaclesR2 ObstaclesR3  \\\n",
       "0  [{\"Level\": 1, \"Name\": \"Sorcerer\", \"Trait\": \"Al...        None        None   \n",
       "1  [{\"Level\": 1, \"Name\": \"Crossbow Trap\", \"Trait\"...        None        None   \n",
       "2  [{\"Level\": 1, \"Name\": \"Warden\", \"Trait\": \"All\"...        None        None   \n",
       "\n",
       "  ObstaclesR4 ObstaclesR5  \n",
       "0        None        None  \n",
       "1        None        None  \n",
       "2        None        None  "
      ]
     },
     "execution_count": 12,
     "metadata": {},
     "output_type": "execute_result"
    }
   ],
   "source": [
    "# check for existing daily stages\n",
    "\n",
    "checkStages = GM.GuildStage.objects.filter(\n",
    "    GuildFK=guildMd, Heist='tower', CreateDate=currDate\n",
    "    ).values()\n",
    "\n",
    "if checkStages:\n",
    "    stageDf = PD.DataFrame(checkStages).drop(['_state', 'GuildFK_id'], axis=1, errors='ignore')\n",
    "    stageDf = stageDf.drop_duplicates(subset=['StageNo']).sort_values('StageNo')\n",
    "    stageLs = NT.DataframeToDicts(stageDf)\n",
    "    PD.DataFrame(stageLs)[:3]\n",
    "\n",
    "else:\n",
    "    print('no stages for', currDate)"
   ]
  },
  {
   "cell_type": "code",
   "execution_count": 13,
   "metadata": {
    "scrolled": false
   },
   "outputs": [
    {
     "data": {
      "text/plain": [
       "(12, {'engine.GuildStage': 12})"
      ]
     },
     "execution_count": 13,
     "metadata": {},
     "output_type": "execute_result"
    }
   ],
   "source": [
    "# create when daily update is needed\n",
    "\n",
    "GM.GuildStage.objects.filter(GuildFK=guildMd, Heist='tower').delete()\n",
    "\n",
    "rawStages = list(EM.GothicTower.objects.filter(Keep=guildMd.KeepLevel).values())\n",
    "lastType = ''\n",
    "lastBackground = ''\n",
    "\n",
    "for st in rawStages:\n",
    "\n",
    "    newStage = GM.GuildStage()\n",
    "    newStage.GuildFK = guildMd\n",
    "    newStage.Heist = 'tower'\n",
    "    newStage.StageNo = st['StageNo']\n",
    "    newStage.CreateDate = currDate\n",
    "    newStage.RoomTypes = []\n",
    "    newStage.CompleteRooms = []\n",
    "    newStage.BackgroundRoomBias = []\n",
    "    background = ST.StageBackground(lastBackground)\n",
    "    newStage.Background = background\n",
    "    lastBackground = background\n",
    "\n",
    "    # room 1\n",
    "\n",
    "    roomType = ST.RandomRoomType(lastType)\n",
    "    lastType = roomType\n",
    "    obstacles = ST.AssembleRoom(roomType, st['LevelR1'], st['ObstaclesR1'])\n",
    "    newStage.RoomTypes.append(roomType)\n",
    "    newStage.CompleteRooms.append(False)\n",
    "    newStage.BackgroundRoomBias.append(random.randint(0,1))\n",
    "    newStage.ObstaclesR1 = obstacles\n",
    "\n",
    "    # room 2\n",
    "\n",
    "    if st['LevelR2']:\n",
    "        roomType = ST.RandomRoomType(lastType)\n",
    "        lastType = roomType\n",
    "        obstacles = ST.AssembleRoom(roomType, st['LevelR2'], st['ObstaclesR2'])\n",
    "        newStage.RoomTypes.append(roomType)\n",
    "        newStage.CompleteRooms.append(False)\n",
    "        newStage.BackgroundRoomBias.append(random.randint(0,1))\n",
    "        newStage.ObstaclesR2 = obstacles\n",
    "    else:\n",
    "        newStage.RoomTypes.append(None)\n",
    "        newStage.CompleteRooms.append(None)\n",
    "        newStage.BackgroundRoomBias.append(None)\n",
    "\n",
    "    newStage.save()"
   ]
  },
  {
   "cell_type": "code",
   "execution_count": 14,
   "metadata": {
    "scrolled": false
   },
   "outputs": [
    {
     "data": {
      "text/html": [
       "<div>\n",
       "<style scoped>\n",
       "    .dataframe tbody tr th:only-of-type {\n",
       "        vertical-align: middle;\n",
       "    }\n",
       "\n",
       "    .dataframe tbody tr th {\n",
       "        vertical-align: top;\n",
       "    }\n",
       "\n",
       "    .dataframe thead th {\n",
       "        text-align: right;\n",
       "    }\n",
       "</style>\n",
       "<table border=\"1\" class=\"dataframe\">\n",
       "  <thead>\n",
       "    <tr style=\"text-align: right;\">\n",
       "      <th></th>\n",
       "      <th>id</th>\n",
       "      <th>Heist</th>\n",
       "      <th>StageNo</th>\n",
       "      <th>CreateDate</th>\n",
       "      <th>RoomTypes</th>\n",
       "      <th>CompleteRooms</th>\n",
       "      <th>Background</th>\n",
       "      <th>BackgroundRoomBias</th>\n",
       "      <th>ObstaclesR1</th>\n",
       "      <th>ObstaclesR2</th>\n",
       "      <th>ObstaclesR3</th>\n",
       "      <th>ObstaclesR4</th>\n",
       "      <th>ObstaclesR5</th>\n",
       "    </tr>\n",
       "  </thead>\n",
       "  <tbody>\n",
       "    <tr>\n",
       "      <th>2</th>\n",
       "      <td>1455</td>\n",
       "      <td>tower</td>\n",
       "      <td>3</td>\n",
       "      <td>2024-02-12</td>\n",
       "      <td>[balanced, None]</td>\n",
       "      <td>[False, None]</td>\n",
       "      <td>college</td>\n",
       "      <td>[1, None]</td>\n",
       "      <td>[{'Level': 1, 'Name': 'Door', 'Trait': 'Agi', ...</td>\n",
       "      <td>None</td>\n",
       "      <td>None</td>\n",
       "      <td>None</td>\n",
       "      <td>None</td>\n",
       "    </tr>\n",
       "    <tr>\n",
       "      <th>3</th>\n",
       "      <td>1456</td>\n",
       "      <td>tower</td>\n",
       "      <td>4</td>\n",
       "      <td>2024-02-12</td>\n",
       "      <td>[balanced, None]</td>\n",
       "      <td>[False, None]</td>\n",
       "      <td>nobleman</td>\n",
       "      <td>[1, None]</td>\n",
       "      <td>[{'Level': 1, 'Name': 'Balcony', 'Trait': 'Agi...</td>\n",
       "      <td>None</td>\n",
       "      <td>None</td>\n",
       "      <td>None</td>\n",
       "      <td>None</td>\n",
       "    </tr>\n",
       "    <tr>\n",
       "      <th>4</th>\n",
       "      <td>1457</td>\n",
       "      <td>tower</td>\n",
       "      <td>5</td>\n",
       "      <td>2024-02-12</td>\n",
       "      <td>[balanced, None]</td>\n",
       "      <td>[False, None]</td>\n",
       "      <td>warehouse</td>\n",
       "      <td>[1, None]</td>\n",
       "      <td>[{'Level': 1, 'Name': 'Door', 'Trait': 'Agi', ...</td>\n",
       "      <td>None</td>\n",
       "      <td>None</td>\n",
       "      <td>None</td>\n",
       "      <td>None</td>\n",
       "    </tr>\n",
       "    <tr>\n",
       "      <th>5</th>\n",
       "      <td>1458</td>\n",
       "      <td>tower</td>\n",
       "      <td>6</td>\n",
       "      <td>2024-02-12</td>\n",
       "      <td>[balanced, biased mig]</td>\n",
       "      <td>[False, False]</td>\n",
       "      <td>temple</td>\n",
       "      <td>[1, 0]</td>\n",
       "      <td>[{'Level': 2, 'Name': 'Sorcerer', 'Trait': 'Al...</td>\n",
       "      <td>[{\"Level\": 1, \"Name\": \"Gargoyle\", \"Trait\": \"Mi...</td>\n",
       "      <td>None</td>\n",
       "      <td>None</td>\n",
       "      <td>None</td>\n",
       "    </tr>\n",
       "    <tr>\n",
       "      <th>6</th>\n",
       "      <td>1459</td>\n",
       "      <td>tower</td>\n",
       "      <td>7</td>\n",
       "      <td>2024-02-12</td>\n",
       "      <td>[balanced, balanced]</td>\n",
       "      <td>[False, False]</td>\n",
       "      <td>nobleman</td>\n",
       "      <td>[0, 0]</td>\n",
       "      <td>[{'Level': 1, 'Name': 'Arcane Seal', 'Trait': ...</td>\n",
       "      <td>[{\"Level\": 1, \"Name\": \"Vanguard\", \"Trait\": \"Al...</td>\n",
       "      <td>None</td>\n",
       "      <td>None</td>\n",
       "      <td>None</td>\n",
       "    </tr>\n",
       "    <tr>\n",
       "      <th>7</th>\n",
       "      <td>1460</td>\n",
       "      <td>tower</td>\n",
       "      <td>8</td>\n",
       "      <td>2024-02-12</td>\n",
       "      <td>[biased cmb, balanced]</td>\n",
       "      <td>[False, False]</td>\n",
       "      <td>college</td>\n",
       "      <td>[1, 0]</td>\n",
       "      <td>[{'Level': 1, 'Name': 'Vanguard', 'Trait': 'Al...</td>\n",
       "      <td>[{\"Level\": 2, \"Name\": \"Sewer Grate\", \"Trait\": ...</td>\n",
       "      <td>None</td>\n",
       "      <td>None</td>\n",
       "      <td>None</td>\n",
       "    </tr>\n",
       "  </tbody>\n",
       "</table>\n",
       "</div>"
      ],
      "text/plain": [
       "     id  Heist  StageNo  CreateDate               RoomTypes   CompleteRooms  \\\n",
       "2  1455  tower        3  2024-02-12        [balanced, None]   [False, None]   \n",
       "3  1456  tower        4  2024-02-12        [balanced, None]   [False, None]   \n",
       "4  1457  tower        5  2024-02-12        [balanced, None]   [False, None]   \n",
       "5  1458  tower        6  2024-02-12  [balanced, biased mig]  [False, False]   \n",
       "6  1459  tower        7  2024-02-12    [balanced, balanced]  [False, False]   \n",
       "7  1460  tower        8  2024-02-12  [biased cmb, balanced]  [False, False]   \n",
       "\n",
       "  Background BackgroundRoomBias  \\\n",
       "2    college          [1, None]   \n",
       "3   nobleman          [1, None]   \n",
       "4  warehouse          [1, None]   \n",
       "5     temple             [1, 0]   \n",
       "6   nobleman             [0, 0]   \n",
       "7    college             [1, 0]   \n",
       "\n",
       "                                         ObstaclesR1  \\\n",
       "2  [{'Level': 1, 'Name': 'Door', 'Trait': 'Agi', ...   \n",
       "3  [{'Level': 1, 'Name': 'Balcony', 'Trait': 'Agi...   \n",
       "4  [{'Level': 1, 'Name': 'Door', 'Trait': 'Agi', ...   \n",
       "5  [{'Level': 2, 'Name': 'Sorcerer', 'Trait': 'Al...   \n",
       "6  [{'Level': 1, 'Name': 'Arcane Seal', 'Trait': ...   \n",
       "7  [{'Level': 1, 'Name': 'Vanguard', 'Trait': 'Al...   \n",
       "\n",
       "                                         ObstaclesR2 ObstaclesR3 ObstaclesR4  \\\n",
       "2                                               None        None        None   \n",
       "3                                               None        None        None   \n",
       "4                                               None        None        None   \n",
       "5  [{\"Level\": 1, \"Name\": \"Gargoyle\", \"Trait\": \"Mi...        None        None   \n",
       "6  [{\"Level\": 1, \"Name\": \"Vanguard\", \"Trait\": \"Al...        None        None   \n",
       "7  [{\"Level\": 2, \"Name\": \"Sewer Grate\", \"Trait\": ...        None        None   \n",
       "\n",
       "  ObstaclesR5  \n",
       "2        None  \n",
       "3        None  \n",
       "4        None  \n",
       "5        None  \n",
       "6        None  \n",
       "7        None  "
      ]
     },
     "execution_count": 14,
     "metadata": {},
     "output_type": "execute_result"
    }
   ],
   "source": [
    "stageLs = GM.GuildStage.objects.filter(GuildFK=guildMd, Heist='tower').values()\n",
    "stageDf = PD.DataFrame(stageLs).drop(['_state', 'GuildFK_id'], axis=1, errors='ignore')\n",
    "stageDf = stageDf.drop_duplicates(subset=['StageNo']).sort_values('StageNo')\n",
    "stageLs = NT.DataframeToDicts(stageDf)\n",
    "PD.DataFrame(stageLs)[2:8]"
   ]
  },
  {
   "cell_type": "code",
   "execution_count": 16,
   "metadata": {},
   "outputs": [
    {
     "data": {
      "text/plain": [
       "(0, {})"
      ]
     },
     "execution_count": 16,
     "metadata": {},
     "output_type": "execute_result"
    }
   ],
   "source": [
    "# clean up\n",
    "\n",
    "GM.GuildStage.objects.filter(GuildFK=guildMd, Heist='tower').delete()"
   ]
  },
  {
   "cell_type": "code",
   "execution_count": null,
   "metadata": {},
   "outputs": [],
   "source": []
  },
  {
   "cell_type": "code",
   "execution_count": null,
   "metadata": {},
   "outputs": [],
   "source": []
  },
  {
   "cell_type": "code",
   "execution_count": null,
   "metadata": {},
   "outputs": [],
   "source": []
  },
  {
   "cell_type": "code",
   "execution_count": null,
   "metadata": {},
   "outputs": [],
   "source": []
  }
 ],
 "metadata": {
  "kernelspec": {
   "display_name": "Python 3 (ipykernel)",
   "language": "python",
   "name": "python3"
  },
  "language_info": {
   "codemirror_mode": {
    "name": "ipython",
    "version": 3
   },
   "file_extension": ".py",
   "mimetype": "text/x-python",
   "name": "python",
   "nbconvert_exporter": "python",
   "pygments_lexer": "ipython3",
   "version": "3.8.2"
  }
 },
 "nbformat": 4,
 "nbformat_minor": 4
}
