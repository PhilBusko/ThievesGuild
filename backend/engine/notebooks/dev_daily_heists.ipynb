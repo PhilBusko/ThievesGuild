{
 "cells": [
  {
   "cell_type": "markdown",
   "metadata": {},
   "source": [
    "# Create Daily Heists"
   ]
  },
  {
   "cell_type": "code",
   "execution_count": 1,
   "metadata": {},
   "outputs": [],
   "source": [
    "import os, sys, random, json\n",
    "import pandas as PD"
   ]
  },
  {
   "cell_type": "code",
   "execution_count": 2,
   "metadata": {
    "scrolled": false
   },
   "outputs": [
    {
     "name": "stdout",
     "output_type": "stream",
     "text": [
      "['DataframeToDicts', 'GetRandom', 'NOTEBOOK_ENV']\n"
     ]
    }
   ],
   "source": [
    "BACKEND_PATH = os.path.dirname(os.path.dirname(os.getcwd()))\n",
    "APPPROJ_PATH = os.path.join(BACKEND_PATH, 'app_proj')\n",
    "sys.path.append(APPPROJ_PATH)\n",
    "import notebooks as NT\n",
    "print([x for x in dir(NT) if x[0]!='_' and len(x)>8])"
   ]
  },
  {
   "cell_type": "code",
   "execution_count": 3,
   "metadata": {},
   "outputs": [
    {
     "name": "stdout",
     "output_type": "stream",
     "text": [
      "env: DEV\n"
     ]
    }
   ],
   "source": [
    "import django\n",
    "os.environ['DEPLOYMENT_ENV'] = NT.NOTEBOOK_ENV\n",
    "os.environ['DJANGO_ALLOW_ASYNC_UNSAFE'] = 'True'\n",
    "MODULE_PATH = os.path.dirname(os.getcwd())\n",
    "os.chdir(os.path.dirname(MODULE_PATH))\n",
    "django.setup()"
   ]
  },
  {
   "cell_type": "code",
   "execution_count": 4,
   "metadata": {},
   "outputs": [
    {
     "name": "stdout",
     "output_type": "stream",
     "text": [
      "['BaseManager', 'DeleteTable', 'GetNativeTableCounts', 'GetTableCounts', 'GetTableDictionary', 'InsertBulk', 'InsertSingle']\n"
     ]
    }
   ],
   "source": [
    "import database as DB\n",
    "print([x for x in dir(DB) if x[0]!='_' and len(x)>8])"
   ]
  },
  {
   "cell_type": "code",
   "execution_count": 5,
   "metadata": {},
   "outputs": [],
   "source": [
    "import django.db.models as JM\n",
    "from django.utils import timezone\n",
    "from django.contrib.auth import get_user_model"
   ]
  },
  {
   "cell_type": "code",
   "execution_count": 6,
   "metadata": {},
   "outputs": [
    {
     "name": "stdout",
     "output_type": "stream",
     "text": [
      "['ExpeditionLevel', 'ExpeditionType', 'FactoryUpgrades', 'GothicTower', 'LeagueTrial', 'SingletonUpgrades', 'StorageUpgrades', 'ThiefLevel', 'ThroneUpgrades', 'UnlockableItem', 'UnlockableThief']\n"
     ]
    }
   ],
   "source": [
    "import emporium.models as EM\n",
    "import emporium.logic.guild as GD\n",
    "import emporium.logic.stage as ST\n",
    "import emporium.logic.simulation as SM\n",
    "print([x for x in dir(EM) if x[0]!='_' and len(x)>8])"
   ]
  },
  {
   "cell_type": "code",
   "execution_count": 7,
   "metadata": {},
   "outputs": [
    {
     "name": "stdout",
     "output_type": "stream",
     "text": [
      "['GuildExpedition', 'GuildStage', 'ItemInGuild', 'ItemUnlocked', 'ThiefInGuild', 'ThiefUnlocked']\n"
     ]
    }
   ],
   "source": [
    "import engine.models as GM\n",
    "import engine.logic.content as CT\n",
    "import engine.logic.launcher as LH\n",
    "import engine.logic.resource as RS\n",
    "import engine.logic.robot as RB\n",
    "print([x for x in dir(GM) if x[0]!='_' and len(x)>8])"
   ]
  },
  {
   "cell_type": "code",
   "execution_count": 8,
   "metadata": {},
   "outputs": [],
   "source": [
    "%load_ext autoreload\n",
    "%autoreload 2\n",
    "from IPython.core.interactiveshell import InteractiveShell\n",
    "InteractiveShell.ast_node_interactivity = 'all'"
   ]
  },
  {
   "cell_type": "markdown",
   "metadata": {},
   "source": [
    "### Daily Heists"
   ]
  },
  {
   "cell_type": "code",
   "execution_count": 9,
   "metadata": {
    "scrolled": true
   },
   "outputs": [
    {
     "data": {
      "text/plain": [
       "<User: admin@thieves-guild.com>"
      ]
     },
     "execution_count": 9,
     "metadata": {},
     "output_type": "execute_result"
    }
   ],
   "source": [
    "# get user and guild\n",
    "\n",
    "userMd = get_user_model().objects.filter(user_name='Admin')[0]\n",
    "userMd"
   ]
  },
  {
   "cell_type": "code",
   "execution_count": 10,
   "metadata": {
    "scrolled": true
   },
   "outputs": [
    {
     "data": {
      "text/plain": [
       "<Guild: Guild object (15)>"
      ]
     },
     "execution_count": 10,
     "metadata": {},
     "output_type": "execute_result"
    }
   ],
   "source": [
    "guildMd = GM.Guild.objects.GetOrNone(UserFK=userMd, Selected=True)\n",
    "\n",
    "if not guildMd:\n",
    "    responseDx = {\n",
    "        'thiefLs': None,\n",
    "        'assetLs': None,\n",
    "        'message': '* A guild must be chosen in the Account page.',\n",
    "    }\n",
    "\n",
    "guildMd"
   ]
  },
  {
   "cell_type": "code",
   "execution_count": 11,
   "metadata": {},
   "outputs": [
    {
     "name": "stdout",
     "output_type": "stream",
     "text": [
      "month: 7 | day: 21 | week day: 6 | full:  2024-07-21\n"
     ]
    }
   ],
   "source": [
    "currDt = timezone.now()\n",
    "currMonth = currDt.month\n",
    "currDay = currDt.day\n",
    "currWeekDay = currDt.weekday()   # 0 monday, 1 tuesday, .. 6 sunday\n",
    "currDate = f\"{currDt.year}-{str(currMonth).zfill(2)}-{str(currDay).zfill(2)}\"\n",
    "\n",
    "print('month:', currMonth, '| day:', currDay, '| week day:', currWeekDay, '| full: ', currDate)"
   ]
  },
  {
   "cell_type": "markdown",
   "metadata": {},
   "source": [
    "### Guild Tower"
   ]
  },
  {
   "cell_type": "code",
   "execution_count": 12,
   "metadata": {},
   "outputs": [
    {
     "data": {
      "text/html": [
       "<div>\n",
       "<style scoped>\n",
       "    .dataframe tbody tr th:only-of-type {\n",
       "        vertical-align: middle;\n",
       "    }\n",
       "\n",
       "    .dataframe tbody tr th {\n",
       "        vertical-align: top;\n",
       "    }\n",
       "\n",
       "    .dataframe thead th {\n",
       "        text-align: right;\n",
       "    }\n",
       "</style>\n",
       "<table border=\"1\" class=\"dataframe\">\n",
       "  <thead>\n",
       "    <tr style=\"text-align: right;\">\n",
       "      <th></th>\n",
       "      <th>id</th>\n",
       "      <th>CreateDate</th>\n",
       "      <th>Heist</th>\n",
       "      <th>ThroneLevel</th>\n",
       "      <th>StageNo</th>\n",
       "      <th>RoomTypes</th>\n",
       "      <th>Background</th>\n",
       "      <th>BackgroundBias</th>\n",
       "      <th>BaseRewards</th>\n",
       "      <th>RoomRewards</th>\n",
       "      <th>Assignments</th>\n",
       "      <th>StageRewards</th>\n",
       "      <th>ObstaclesR1</th>\n",
       "      <th>ObstaclesR2</th>\n",
       "      <th>ObstaclesR3</th>\n",
       "      <th>ObstaclesR4</th>\n",
       "      <th>ObstaclesR5</th>\n",
       "    </tr>\n",
       "  </thead>\n",
       "  <tbody>\n",
       "    <tr>\n",
       "      <th>0</th>\n",
       "      <td>2531</td>\n",
       "      <td>2024-07-21</td>\n",
       "      <td>tower</td>\n",
       "      <td>1</td>\n",
       "      <td>1</td>\n",
       "      <td>[balanced, None, None, None, None]</td>\n",
       "      <td>nobleman</td>\n",
       "      <td>[4, None, None, None, None]</td>\n",
       "      <td>{'Gold': 110, 'Gems': 4, 'Wood': 35, 'Stone': ...</td>\n",
       "      <td>[{'xp': 50}, None, None, None, None]</td>\n",
       "      <td>[{'id': 69, 'Name': 'Yondu', 'Class': 'Burglar...</td>\n",
       "      <td>{'gold': 119, 'gems': 5, 'wood': 31}</td>\n",
       "      <td>[{'World': 1, 'Level': 1, 'Name': 'Sorcerer', ...</td>\n",
       "      <td>None</td>\n",
       "      <td>None</td>\n",
       "      <td>None</td>\n",
       "      <td>None</td>\n",
       "    </tr>\n",
       "    <tr>\n",
       "      <th>1</th>\n",
       "      <td>2532</td>\n",
       "      <td>2024-07-21</td>\n",
       "      <td>tower</td>\n",
       "      <td>1</td>\n",
       "      <td>2</td>\n",
       "      <td>[biased agi, None, None, None, None]</td>\n",
       "      <td>warehouse</td>\n",
       "      <td>[2, None, None, None, None]</td>\n",
       "      <td>{'Gold': 116, 'Gems': 4, 'Wood': 37, 'Stone': ...</td>\n",
       "      <td>[{'xp': 50}, None, None, None, None]</td>\n",
       "      <td>[{'id': 72, 'Name': 'Artax', 'Class': 'Burglar...</td>\n",
       "      <td>{'gold': 108, 'gems': 3, 'wood': 30}</td>\n",
       "      <td>[{'World': 1, 'Level': 1, 'Name': 'Door', 'Tra...</td>\n",
       "      <td>None</td>\n",
       "      <td>None</td>\n",
       "      <td>None</td>\n",
       "      <td>None</td>\n",
       "    </tr>\n",
       "    <tr>\n",
       "      <th>2</th>\n",
       "      <td>2533</td>\n",
       "      <td>2024-07-21</td>\n",
       "      <td>tower</td>\n",
       "      <td>1</td>\n",
       "      <td>3</td>\n",
       "      <td>[balanced, None, None, None, None]</td>\n",
       "      <td>temple</td>\n",
       "      <td>[3, None, None, None, None]</td>\n",
       "      <td>{'Gold': 121, 'Gems': 4, 'Wood': 39, 'Stone': ...</td>\n",
       "      <td>[None, None, None, None, None]</td>\n",
       "      <td>[None, None, None, None, None]</td>\n",
       "      <td>None</td>\n",
       "      <td>[{'World': 1, 'Level': 1, 'Name': 'Sewer Grate...</td>\n",
       "      <td>None</td>\n",
       "      <td>None</td>\n",
       "      <td>None</td>\n",
       "      <td>None</td>\n",
       "    </tr>\n",
       "  </tbody>\n",
       "</table>\n",
       "</div>"
      ],
      "text/plain": [
       "     id  CreateDate  Heist  ThroneLevel  StageNo  \\\n",
       "0  2531  2024-07-21  tower            1        1   \n",
       "1  2532  2024-07-21  tower            1        2   \n",
       "2  2533  2024-07-21  tower            1        3   \n",
       "\n",
       "                              RoomTypes Background  \\\n",
       "0    [balanced, None, None, None, None]   nobleman   \n",
       "1  [biased agi, None, None, None, None]  warehouse   \n",
       "2    [balanced, None, None, None, None]     temple   \n",
       "\n",
       "                BackgroundBias  \\\n",
       "0  [4, None, None, None, None]   \n",
       "1  [2, None, None, None, None]   \n",
       "2  [3, None, None, None, None]   \n",
       "\n",
       "                                         BaseRewards  \\\n",
       "0  {'Gold': 110, 'Gems': 4, 'Wood': 35, 'Stone': ...   \n",
       "1  {'Gold': 116, 'Gems': 4, 'Wood': 37, 'Stone': ...   \n",
       "2  {'Gold': 121, 'Gems': 4, 'Wood': 39, 'Stone': ...   \n",
       "\n",
       "                            RoomRewards  \\\n",
       "0  [{'xp': 50}, None, None, None, None]   \n",
       "1  [{'xp': 50}, None, None, None, None]   \n",
       "2        [None, None, None, None, None]   \n",
       "\n",
       "                                         Assignments  \\\n",
       "0  [{'id': 69, 'Name': 'Yondu', 'Class': 'Burglar...   \n",
       "1  [{'id': 72, 'Name': 'Artax', 'Class': 'Burglar...   \n",
       "2                     [None, None, None, None, None]   \n",
       "\n",
       "                           StageRewards  \\\n",
       "0  {'gold': 119, 'gems': 5, 'wood': 31}   \n",
       "1  {'gold': 108, 'gems': 3, 'wood': 30}   \n",
       "2                                  None   \n",
       "\n",
       "                                         ObstaclesR1 ObstaclesR2 ObstaclesR3  \\\n",
       "0  [{'World': 1, 'Level': 1, 'Name': 'Sorcerer', ...        None        None   \n",
       "1  [{'World': 1, 'Level': 1, 'Name': 'Door', 'Tra...        None        None   \n",
       "2  [{'World': 1, 'Level': 1, 'Name': 'Sewer Grate...        None        None   \n",
       "\n",
       "  ObstaclesR4 ObstaclesR5  \n",
       "0        None        None  \n",
       "1        None        None  \n",
       "2        None        None  "
      ]
     },
     "execution_count": 12,
     "metadata": {},
     "output_type": "execute_result"
    }
   ],
   "source": [
    "# check for existing daily stages\n",
    "\n",
    "checkStages = GM.GuildStage.objects.filter(\n",
    "    GuildFK=guildMd, Heist='tower', CreateDate=currDate\n",
    "    ).values()\n",
    "\n",
    "if checkStages:\n",
    "    stageDf = PD.DataFrame(checkStages).drop(['_state', 'GuildFK_id'], axis=1, errors='ignore')\n",
    "    stageDf = stageDf.drop_duplicates(subset=['StageNo']).sort_values('StageNo')\n",
    "    stageLs = NT.DataframeToDicts(stageDf)\n",
    "    PD.DataFrame(stageLs)[:3]\n",
    "\n",
    "else:\n",
    "    print('no stages for', currDate)"
   ]
  },
  {
   "cell_type": "code",
   "execution_count": 13,
   "metadata": {
    "scrolled": false
   },
   "outputs": [
    {
     "ename": "SyntaxError",
     "evalue": "invalid syntax (3466708227.py, line 3)",
     "output_type": "error",
     "traceback": [
      "\u001b[1;36m  Cell \u001b[1;32mIn[13], line 3\u001b[1;36m\u001b[0m\n\u001b[1;33m    GM.Guild Stage.objects.filter(GuildFK=guildMd, Heist='tower').delete()\u001b[0m\n\u001b[1;37m             ^\u001b[0m\n\u001b[1;31mSyntaxError\u001b[0m\u001b[1;31m:\u001b[0m invalid syntax\n"
     ]
    }
   ],
   "source": [
    "# create when daily update is needed\n",
    "\n",
    "GM.Guild Stage.objects.filter(GuildFK=guildMd, Heist='tower').delete()\n",
    "\n",
    "rawStages = list(EM.GothicTower.objects.filter(Keep=guildMd.KeepLevel).values())\n",
    "lastType = ''\n",
    "lastBackground = ''\n",
    "\n",
    "for st in rawStages:\n",
    "\n",
    "    newStage = GM.GuildStage()\n",
    "    newStage.GuildFK = guildMd\n",
    "    newStage.Heist = 'tower'\n",
    "    newStage.StageNo = st['StageNo']\n",
    "    newStage.CreateDate = currDate\n",
    "    newStage.RoomTypes = []\n",
    "    newStage.CompleteRooms = []\n",
    "    newStage.BackgroundRoomBias = []\n",
    "    background = ST.StageBackground(lastBackground)\n",
    "    newStage.Background = background\n",
    "    lastBackground = background\n",
    "\n",
    "    # room 1\n",
    "\n",
    "    roomType = ST.RandomRoomType(lastType)\n",
    "    lastType = roomType\n",
    "    obstacles = ST.AssembleRoom(roomType, st['LevelR1'], st['ObstaclesR1'])\n",
    "    newStage.RoomTypes.append(roomType)\n",
    "    newStage.CompleteRooms.append(False)\n",
    "    newStage.BackgroundRoomBias.append(random.randint(0,1))\n",
    "    newStage.ObstaclesR1 = obstacles\n",
    "\n",
    "    # room 2\n",
    "\n",
    "    if st['LevelR2']:\n",
    "        roomType = ST.RandomRoomType(lastType)\n",
    "        lastType = roomType\n",
    "        obstacles = ST.AssembleRoom(roomType, st['LevelR2'], st['ObstaclesR2'])\n",
    "        newStage.RoomTypes.append(roomType)\n",
    "        newStage.CompleteRooms.append(False)\n",
    "        newStage.BackgroundRoomBias.append(random.randint(0,1))\n",
    "        newStage.ObstaclesR2 = obstacles\n",
    "    else:\n",
    "        newStage.RoomTypes.append(None)\n",
    "        newStage.CompleteRooms.append(None)\n",
    "        newStage.BackgroundRoomBias.append(None)\n",
    "\n",
    "    newStage.save()"
   ]
  },
  {
   "cell_type": "code",
   "execution_count": null,
   "metadata": {
    "scrolled": false
   },
   "outputs": [],
   "source": [
    "stageLs = GM.GuildStage.objects.filter(GuildFK=guildMd, Heist='tower').values()\n",
    "stageDf = PD.DataFrame(stageLs).drop(['_state', 'GuildFK_id'], axis=1, errors='ignore')\n",
    "stageDf = stageDf.drop_duplicates(subset=['StageNo']).sort_values('StageNo')\n",
    "stageLs = NT.DataframeToDicts(stageDf)\n",
    "PD.DataFrame(stageLs)[2:8]"
   ]
  },
  {
   "cell_type": "markdown",
   "metadata": {},
   "source": [
    "### Development"
   ]
  },
  {
   "cell_type": "code",
   "execution_count": 16,
   "metadata": {},
   "outputs": [
    {
     "data": {
      "text/plain": [
       "(24, {'engine.GuildStage': 24})"
      ]
     },
     "execution_count": 16,
     "metadata": {},
     "output_type": "execute_result"
    }
   ],
   "source": [
    "# reset the data\n",
    "\n",
    "GM.GuildStage.objects.filter(GuildFK=guildMd).delete()\n",
    "\n",
    "guildMd.DungeonCheck = None\n",
    "guildMd.save()"
   ]
  },
  {
   "cell_type": "code",
   "execution_count": 15,
   "metadata": {},
   "outputs": [
    {
     "data": {
      "text/html": [
       "<div>\n",
       "<style scoped>\n",
       "    .dataframe tbody tr th:only-of-type {\n",
       "        vertical-align: middle;\n",
       "    }\n",
       "\n",
       "    .dataframe tbody tr th {\n",
       "        vertical-align: top;\n",
       "    }\n",
       "\n",
       "    .dataframe thead th {\n",
       "        text-align: right;\n",
       "    }\n",
       "</style>\n",
       "<table border=\"1\" class=\"dataframe\">\n",
       "  <thead>\n",
       "    <tr style=\"text-align: right;\">\n",
       "      <th></th>\n",
       "    </tr>\n",
       "  </thead>\n",
       "  <tbody>\n",
       "  </tbody>\n",
       "</table>\n",
       "</div>"
      ],
      "text/plain": [
       "Empty DataFrame\n",
       "Columns: []\n",
       "Index: []"
      ]
     },
     "execution_count": 15,
     "metadata": {},
     "output_type": "execute_result"
    }
   ],
   "source": [
    "stageLs = GM.GuildStage.objects.filter(GuildFK=guildMd).values()\n",
    "stageDf = PD.DataFrame(stageLs).drop(['_state', 'GuildFK_id'], axis=1, errors='ignore')\n",
    "stageDf"
   ]
  },
  {
   "cell_type": "code",
   "execution_count": null,
   "metadata": {},
   "outputs": [],
   "source": []
  },
  {
   "cell_type": "code",
   "execution_count": null,
   "metadata": {},
   "outputs": [],
   "source": [
    "\n",
    "trunkNow = timezone.now().replace(microsecond=0)\n",
    "\n",
    "dayOfWeek = 'monday'\n",
    "if trunkNow.weekday() == 1:   dayOfWeek = 'tuesday'\n",
    "if trunkNow.weekday() == 2:   dayOfWeek = 'wednesday'\n",
    "if trunkNow.weekday() == 3:   dayOfWeek = 'thursday'\n",
    "if trunkNow.weekday() == 4:   dayOfWeek = 'friday'\n",
    "if trunkNow.weekday() == 5:   dayOfWeek = 'saturday'\n",
    "if trunkNow.weekday() == 6:   dayOfWeek = 'sunday'\n",
    "dayOfWeek"
   ]
  },
  {
   "cell_type": "code",
   "execution_count": null,
   "metadata": {},
   "outputs": [],
   "source": [
    "\n",
    "trialDay = EM.TrialDay.objects.GetOrNone(WeekDay=dayOfWeek)\n",
    "trialDay.StageType\n"
   ]
  },
  {
   "cell_type": "code",
   "execution_count": null,
   "metadata": {},
   "outputs": [],
   "source": []
  },
  {
   "cell_type": "code",
   "execution_count": null,
   "metadata": {},
   "outputs": [],
   "source": []
  }
 ],
 "metadata": {
  "kernelspec": {
   "display_name": "Python 3 (ipykernel)",
   "language": "python",
   "name": "python3"
  },
  "language_info": {
   "codemirror_mode": {
    "name": "ipython",
    "version": 3
   },
   "file_extension": ".py",
   "mimetype": "text/x-python",
   "name": "python",
   "nbconvert_exporter": "python",
   "pygments_lexer": "ipython3",
   "version": "3.8.2"
  }
 },
 "nbformat": 4,
 "nbformat_minor": 4
}
