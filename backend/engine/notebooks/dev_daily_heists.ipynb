{
 "cells": [
  {
   "cell_type": "markdown",
   "metadata": {},
   "source": [
    "# Create Daily Heists"
   ]
  },
  {
   "cell_type": "code",
   "execution_count": 1,
   "metadata": {},
   "outputs": [],
   "source": [
    "import os, sys, random, json\n",
    "import pandas as PD"
   ]
  },
  {
   "cell_type": "code",
   "execution_count": 2,
   "metadata": {
    "scrolled": false
   },
   "outputs": [
    {
     "name": "stdout",
     "output_type": "stream",
     "text": [
      "['DataframeToDicts', 'GetRandom', 'NOTEBOOK_ENV']\n"
     ]
    }
   ],
   "source": [
    "BACKEND_PATH = os.path.dirname(os.path.dirname(os.getcwd()))\n",
    "APPPROJ_PATH = os.path.join(BACKEND_PATH, 'app_proj')\n",
    "sys.path.append(APPPROJ_PATH)\n",
    "import notebooks as NT\n",
    "print([x for x in dir(NT) if x[0]!='_' and len(x)>8])"
   ]
  },
  {
   "cell_type": "code",
   "execution_count": 3,
   "metadata": {},
   "outputs": [
    {
     "name": "stdout",
     "output_type": "stream",
     "text": [
      "env: DEV\n"
     ]
    }
   ],
   "source": [
    "import django\n",
    "os.environ['DEPLOYMENT_ENV'] = NT.NOTEBOOK_ENV\n",
    "os.environ['DJANGO_ALLOW_ASYNC_UNSAFE'] = 'True'\n",
    "MODULE_PATH = os.path.dirname(os.getcwd())\n",
    "os.chdir(os.path.dirname(MODULE_PATH))\n",
    "django.setup()"
   ]
  },
  {
   "cell_type": "code",
   "execution_count": 4,
   "metadata": {},
   "outputs": [
    {
     "name": "stdout",
     "output_type": "stream",
     "text": [
      "['BaseManager', 'DeleteTable', 'GetNativeTableCounts', 'GetTableCounts', 'GetTableDictionary', 'InsertBulk', 'InsertSingle']\n"
     ]
    }
   ],
   "source": [
    "import database as DB\n",
    "print([x for x in dir(DB) if x[0]!='_' and len(x)>8])"
   ]
  },
  {
   "cell_type": "code",
   "execution_count": 5,
   "metadata": {},
   "outputs": [],
   "source": [
    "import django.db.models as JM\n",
    "from django.utils import timezone\n",
    "from django.contrib.auth import get_user_model"
   ]
  },
  {
   "cell_type": "code",
   "execution_count": 6,
   "metadata": {},
   "outputs": [
    {
     "name": "stdout",
     "output_type": "stream",
     "text": [
      "['AdvancedRoom', 'BasicRoom', 'CastleRoom', 'ExpeditionLevel', 'ExpeditionType', 'GothicTower', 'LeagueTrial', 'RequiredPower', 'RoomUpgrade', 'ThiefLevel', 'UniqueRoom', 'UnlockableItem', 'UnlockableThief']\n"
     ]
    }
   ],
   "source": [
    "import emporium.models as EM\n",
    "import emporium.logic.guild as GD\n",
    "import emporium.logic.stage as ST\n",
    "import emporium.logic.simulation as SM\n",
    "print([x for x in dir(EM) if x[0]!='_' and len(x)>8])"
   ]
  },
  {
   "cell_type": "code",
   "execution_count": 7,
   "metadata": {},
   "outputs": [
    {
     "name": "stdout",
     "output_type": "stream",
     "text": [
      "['GuildExpedition', 'GuildStage', 'ItemInGuild', 'ItemUnlocked', 'MarketStore', 'RoomInGuild', 'ThiefInGuild', 'ThiefUnlocked']\n"
     ]
    }
   ],
   "source": [
    "import engine.models as GM\n",
    "import engine.logic.content as CT\n",
    "import engine.logic.launcher as LH\n",
    "import engine.logic.resource as RS\n",
    "import engine.logic.robot as RB\n",
    "print([x for x in dir(GM) if x[0]!='_' and len(x)>8])"
   ]
  },
  {
   "cell_type": "code",
   "execution_count": 8,
   "metadata": {},
   "outputs": [],
   "source": [
    "%load_ext autoreload\n",
    "%autoreload 2\n",
    "from IPython.core.interactiveshell import InteractiveShell\n",
    "InteractiveShell.ast_node_interactivity = 'all'"
   ]
  },
  {
   "cell_type": "markdown",
   "metadata": {},
   "source": [
    "### Development"
   ]
  },
  {
   "cell_type": "code",
   "execution_count": 9,
   "metadata": {
    "scrolled": true
   },
   "outputs": [
    {
     "data": {
      "text/plain": [
       "<User: admin@thieves-guild.com>"
      ]
     },
     "execution_count": 9,
     "metadata": {},
     "output_type": "execute_result"
    }
   ],
   "source": [
    "# get user\n",
    "\n",
    "userMd = get_user_model().objects.filter(user_name='Admin')[0]\n",
    "userMd"
   ]
  },
  {
   "cell_type": "code",
   "execution_count": 10,
   "metadata": {
    "scrolled": true
   },
   "outputs": [
    {
     "name": "stdout",
     "output_type": "stream",
     "text": [
      "24\n"
     ]
    },
    {
     "data": {
      "text/html": [
       "<div>\n",
       "<style scoped>\n",
       "    .dataframe tbody tr th:only-of-type {\n",
       "        vertical-align: middle;\n",
       "    }\n",
       "\n",
       "    .dataframe tbody tr th {\n",
       "        vertical-align: top;\n",
       "    }\n",
       "\n",
       "    .dataframe thead th {\n",
       "        text-align: right;\n",
       "    }\n",
       "</style>\n",
       "<table border=\"1\" class=\"dataframe\">\n",
       "  <thead>\n",
       "    <tr style=\"text-align: right;\">\n",
       "      <th></th>\n",
       "      <th>GuildFK_id</th>\n",
       "      <th>Heist</th>\n",
       "      <th>StageNo count</th>\n",
       "    </tr>\n",
       "  </thead>\n",
       "  <tbody>\n",
       "    <tr>\n",
       "      <th>0</th>\n",
       "      <td>39</td>\n",
       "      <td>campaign</td>\n",
       "      <td>10</td>\n",
       "    </tr>\n",
       "    <tr>\n",
       "      <th>1</th>\n",
       "      <td>39</td>\n",
       "      <td>tower</td>\n",
       "      <td>12</td>\n",
       "    </tr>\n",
       "    <tr>\n",
       "      <th>2</th>\n",
       "      <td>39</td>\n",
       "      <td>trial</td>\n",
       "      <td>2</td>\n",
       "    </tr>\n",
       "  </tbody>\n",
       "</table>\n",
       "</div>"
      ],
      "text/plain": [
       "   GuildFK_id     Heist   StageNo count\n",
       "0           39  campaign             10\n",
       "1           39     tower             12\n",
       "2           39     trial              2"
      ]
     },
     "execution_count": 10,
     "metadata": {},
     "output_type": "execute_result"
    }
   ],
   "source": [
    "# view stages for all guilds\n",
    "\n",
    "stageLs = GM.GuildStage.objects.filter().values()\n",
    "stageDf = PD.DataFrame(stageLs).drop(['_state', 'id', 'BackgroundBias', \n",
    "                                     'ObstaclesL2', 'ObstaclesL3', 'ObstaclesL4', 'ObstaclesL5',], axis=1, errors='ignore')\n",
    "print( len(stageLs) )\n",
    "\n",
    "groupDf = stageDf[['GuildFK_id', 'Heist', 'StageNo']]\n",
    "groupDf = groupDf.groupby(['GuildFK_id', 'Heist']).agg(['count']).reset_index()\n",
    "groupDf.columns = [' '.join(str(c) for c in col) for col in groupDf.columns]\n",
    "groupDf"
   ]
  },
  {
   "cell_type": "code",
   "execution_count": 11,
   "metadata": {},
   "outputs": [
    {
     "data": {
      "text/html": [
       "<div>\n",
       "<style scoped>\n",
       "    .dataframe tbody tr th:only-of-type {\n",
       "        vertical-align: middle;\n",
       "    }\n",
       "\n",
       "    .dataframe tbody tr th {\n",
       "        vertical-align: top;\n",
       "    }\n",
       "\n",
       "    .dataframe thead th {\n",
       "        text-align: right;\n",
       "    }\n",
       "</style>\n",
       "<table border=\"1\" class=\"dataframe\">\n",
       "  <thead>\n",
       "    <tr style=\"text-align: right;\">\n",
       "      <th></th>\n",
       "      <th>id</th>\n",
       "      <th>Name</th>\n",
       "      <th>LastPlayed</th>\n",
       "      <th>CreateDate</th>\n",
       "      <th>Selected</th>\n",
       "      <th>VaultGold</th>\n",
       "      <th>VaultStone</th>\n",
       "      <th>VaultGems</th>\n",
       "      <th>LastHeist</th>\n",
       "      <th>CampaignWorld</th>\n",
       "      <th>DungeonCheck</th>\n",
       "    </tr>\n",
       "  </thead>\n",
       "  <tbody>\n",
       "    <tr>\n",
       "      <th>0</th>\n",
       "      <td>39</td>\n",
       "      <td>444</td>\n",
       "      <td>2025-01-18</td>\n",
       "      <td>2025-01-18</td>\n",
       "      <td>True</td>\n",
       "      <td>228</td>\n",
       "      <td>82</td>\n",
       "      <td>21</td>\n",
       "      <td>trial</td>\n",
       "      <td>1</td>\n",
       "      <td>2025-01-18</td>\n",
       "    </tr>\n",
       "  </tbody>\n",
       "</table>\n",
       "</div>"
      ],
      "text/plain": [
       "   id Name  LastPlayed  CreateDate  Selected  VaultGold  VaultStone  \\\n",
       "0  39  444  2025-01-18  2025-01-18      True        228          82   \n",
       "\n",
       "   VaultGems LastHeist  CampaignWorld DungeonCheck  \n",
       "0         21     trial              1   2025-01-18  "
      ]
     },
     "execution_count": 11,
     "metadata": {},
     "output_type": "execute_result"
    }
   ],
   "source": [
    "# get selected guild\n",
    "\n",
    "guildMd = GM.Guild.objects.GetOrNone(UserFK=userMd, Selected=True)\n",
    "PD.DataFrame([guildMd.__dict__]).drop(['_state', 'UserFK_id'], axis=1, errors='ignore')"
   ]
  },
  {
   "cell_type": "code",
   "execution_count": 12,
   "metadata": {},
   "outputs": [
    {
     "ename": "SyntaxError",
     "evalue": "invalid syntax (851688652.py, line 3)",
     "output_type": "error",
     "traceback": [
      "\u001b[1;36m  Cell \u001b[1;32mIn[12], line 3\u001b[1;36m\u001b[0m\n\u001b[1;33m    GM.Guild Stage.objects.filter(GuildFK=guildMd).delete()\u001b[0m\n\u001b[1;37m             ^\u001b[0m\n\u001b[1;31mSyntaxError\u001b[0m\u001b[1;31m:\u001b[0m invalid syntax\n"
     ]
    }
   ],
   "source": [
    "# reset stages\n",
    "\n",
    "GM.Guild Stage.objects.filter(GuildFK=guildMd).delete()\n",
    "guildMd.DungeonCheck = None\n",
    "guildMd.save()\n",
    "\n",
    "stageLs = GM.GuildStage.objects.filter(GuildFK=guildMd).values()\n",
    "stageDf = PD.DataFrame(stageLs).drop(['_state', 'GuildFK_id'], axis=1, errors='ignore')\n",
    "stageDf"
   ]
  },
  {
   "cell_type": "code",
   "execution_count": null,
   "metadata": {},
   "outputs": [],
   "source": [
    "# reset thieves\n",
    "\n",
    "thiefLs = GM.ThiefInGuild.objects.filter(GuildFK=guildMd)\n",
    "for th in thiefLs:\n",
    "    th.Status = 'Ready'\n",
    "    th.save()\n",
    "print('thieves reset')"
   ]
  },
  {
   "cell_type": "code",
   "execution_count": 14,
   "metadata": {
    "scrolled": false
   },
   "outputs": [
    {
     "data": {
      "text/plain": [
       "24"
      ]
     },
     "execution_count": 14,
     "metadata": {},
     "output_type": "execute_result"
    },
    {
     "data": {
      "text/html": [
       "<div>\n",
       "<style scoped>\n",
       "    .dataframe tbody tr th:only-of-type {\n",
       "        vertical-align: middle;\n",
       "    }\n",
       "\n",
       "    .dataframe tbody tr th {\n",
       "        vertical-align: top;\n",
       "    }\n",
       "\n",
       "    .dataframe thead th {\n",
       "        text-align: right;\n",
       "    }\n",
       "</style>\n",
       "<table border=\"1\" class=\"dataframe\">\n",
       "  <thead>\n",
       "    <tr style=\"text-align: right;\">\n",
       "      <th></th>\n",
       "      <th>Heist</th>\n",
       "      <th>CreateDate</th>\n",
       "      <th>World</th>\n",
       "      <th>StageNo</th>\n",
       "      <th>LandingTypes</th>\n",
       "      <th>Background</th>\n",
       "      <th>BaseRewards</th>\n",
       "      <th>ObstaclesL1</th>\n",
       "      <th>LandingRewards</th>\n",
       "      <th>StageRewards</th>\n",
       "      <th>Burgles</th>\n",
       "      <th>StageQueue</th>\n",
       "      <th>Assignments</th>\n",
       "      <th>Actions</th>\n",
       "    </tr>\n",
       "  </thead>\n",
       "  <tbody>\n",
       "    <tr>\n",
       "      <th>12</th>\n",
       "      <td>trial</td>\n",
       "      <td>2025-01-18</td>\n",
       "      <td>1</td>\n",
       "      <td>1</td>\n",
       "      <td>[biased mig, None, None, None, None]</td>\n",
       "      <td>college</td>\n",
       "      <td>{'gold': 100, 'stone': 40, 'gems': 5}</td>\n",
       "      <td>[{'World': 1, 'Level': 1, 'Name': 'Door', 'Tra...</td>\n",
       "      <td>[{'gems': 1, 'xp': 52, 'gold': 6}, None, None,...</td>\n",
       "      <td>[{'type': 'gold', 'fullAmount': 99, 'textOne':...</td>\n",
       "      <td>[1, 0, 0, 0, 0]</td>\n",
       "      <td>False</td>\n",
       "      <td>[106, None, None, None, None]</td>\n",
       "      <td>[[{'obstacle': 'Door', 'posCurr': 0, 'posNext'...</td>\n",
       "    </tr>\n",
       "    <tr>\n",
       "      <th>13</th>\n",
       "      <td>trial</td>\n",
       "      <td>2025-01-18</td>\n",
       "      <td>1</td>\n",
       "      <td>2</td>\n",
       "      <td>[biased mig, None, None, None, None]</td>\n",
       "      <td>nobleman</td>\n",
       "      <td>{'gold': 110, 'stone': 44, 'gems': 6}</td>\n",
       "      <td>[{'World': 1, 'Level': 1, 'Name': 'Gargoyle', ...</td>\n",
       "      <td>[{'xp': 88, 'gold': 11}, None, None, None, None]</td>\n",
       "      <td>[{'type': 'gold', 'fullAmount': 129, 'textOne'...</td>\n",
       "      <td>[1, 0, 0, 0, 0]</td>\n",
       "      <td>False</td>\n",
       "      <td>[109, None, None, None, None]</td>\n",
       "      <td>[[{'obstacle': 'Gargoyle', 'posCurr': 0, 'posN...</td>\n",
       "    </tr>\n",
       "    <tr>\n",
       "      <th>14</th>\n",
       "      <td>campaign</td>\n",
       "      <td>2025-01-18</td>\n",
       "      <td>1</td>\n",
       "      <td>1</td>\n",
       "      <td>[balanced, None, None, None, None]</td>\n",
       "      <td>warehouse</td>\n",
       "      <td>{'gold': 200, 'stone': 80, 'gems': 5}</td>\n",
       "      <td>[{'World': 1, 'Level': 1, 'Name': 'Gargoyle', ...</td>\n",
       "      <td>[None, None, None, None, None]</td>\n",
       "      <td>None</td>\n",
       "      <td>[0, 0, 0, 0, 0]</td>\n",
       "      <td>False</td>\n",
       "      <td>[None, None, None, None, None]</td>\n",
       "      <td>[None, None, None, None, None]</td>\n",
       "    </tr>\n",
       "  </tbody>\n",
       "</table>\n",
       "</div>"
      ],
      "text/plain": [
       "       Heist  CreateDate  World  StageNo  \\\n",
       "12     trial  2025-01-18      1        1   \n",
       "13     trial  2025-01-18      1        2   \n",
       "14  campaign  2025-01-18      1        1   \n",
       "\n",
       "                            LandingTypes Background  \\\n",
       "12  [biased mig, None, None, None, None]    college   \n",
       "13  [biased mig, None, None, None, None]   nobleman   \n",
       "14    [balanced, None, None, None, None]  warehouse   \n",
       "\n",
       "                              BaseRewards  \\\n",
       "12  {'gold': 100, 'stone': 40, 'gems': 5}   \n",
       "13  {'gold': 110, 'stone': 44, 'gems': 6}   \n",
       "14  {'gold': 200, 'stone': 80, 'gems': 5}   \n",
       "\n",
       "                                          ObstaclesL1  \\\n",
       "12  [{'World': 1, 'Level': 1, 'Name': 'Door', 'Tra...   \n",
       "13  [{'World': 1, 'Level': 1, 'Name': 'Gargoyle', ...   \n",
       "14  [{'World': 1, 'Level': 1, 'Name': 'Gargoyle', ...   \n",
       "\n",
       "                                       LandingRewards  \\\n",
       "12  [{'gems': 1, 'xp': 52, 'gold': 6}, None, None,...   \n",
       "13   [{'xp': 88, 'gold': 11}, None, None, None, None]   \n",
       "14                     [None, None, None, None, None]   \n",
       "\n",
       "                                         StageRewards          Burgles  \\\n",
       "12  [{'type': 'gold', 'fullAmount': 99, 'textOne':...  [1, 0, 0, 0, 0]   \n",
       "13  [{'type': 'gold', 'fullAmount': 129, 'textOne'...  [1, 0, 0, 0, 0]   \n",
       "14                                               None  [0, 0, 0, 0, 0]   \n",
       "\n",
       "    StageQueue                     Assignments  \\\n",
       "12       False   [106, None, None, None, None]   \n",
       "13       False   [109, None, None, None, None]   \n",
       "14       False  [None, None, None, None, None]   \n",
       "\n",
       "                                              Actions  \n",
       "12  [[{'obstacle': 'Door', 'posCurr': 0, 'posNext'...  \n",
       "13  [[{'obstacle': 'Gargoyle', 'posCurr': 0, 'posN...  \n",
       "14                     [None, None, None, None, None]  "
      ]
     },
     "execution_count": 14,
     "metadata": {},
     "output_type": "execute_result"
    }
   ],
   "source": [
    "stageLs = GM.GuildStage.objects.filter(GuildFK=guildMd).values()\n",
    "stageDf = PD.DataFrame(stageLs).drop(['_state', 'id', 'GuildFK_id', 'BackgroundBias', \n",
    "                                     'ObstaclesL2', 'ObstaclesL3', 'ObstaclesL4', 'ObstaclesL5',], axis=1, errors='ignore')\n",
    "len(stageLs)\n",
    "stageDf[12:15]"
   ]
  },
  {
   "cell_type": "code",
   "execution_count": null,
   "metadata": {},
   "outputs": [],
   "source": [
    "# test campaign world advancement\n",
    "\n",
    "stageLs = GM.Guild Stage.objects.filter(GuildFK=guildMd, Heist='campaign')\n",
    "\n",
    "for st in stageLs:\n",
    "\n",
    "    actualLandings = [x for x in st.LandingTypes if x]\n",
    "    numLandings = len(actualLandings)\n",
    "    \n",
    "    for ld in range(0, numLandings):\n",
    "        if st.StageNo != len(stageLs) and ld != numLandings:\n",
    "            st.LandingRewards[ld] = {'test': 'dummy'}\n",
    "        if st.StageNo == len(stageLs) and ld < numLandings -1:\n",
    "            st.LandingRewards[ld] = {'test': 'last'}\n",
    "\n",
    "    if st.StageNo != len(stageLs):\n",
    "        st.StageRewards = {'reward': 'test'}\n",
    "\n",
    "    st.save()\n",
    "    \n",
    "stageLs = GM.GuildStage.objects.filter(GuildFK=guildMd, Heist='campaign').values()\n",
    "stageDf = PD.DataFrame(stageLs).drop(['_state', 'id', 'GuildFK_id', 'BackgroundBias', 'Background', 'Level', \n",
    "                                    'BaseRewards', 'Burgles', 'StageQueue', 'Assignments', 'Actions',\n",
    "                                     'ObstaclesL1', 'ObstaclesL2', 'ObstaclesL3', 'ObstaclesL4', 'ObstaclesL5',], \n",
    "                                     axis=1, errors='ignore')\n",
    "stageDf"
   ]
  },
  {
   "cell_type": "code",
   "execution_count": null,
   "metadata": {},
   "outputs": [],
   "source": []
  }
 ],
 "metadata": {
  "kernelspec": {
   "display_name": "Python 3 (ipykernel)",
   "language": "python",
   "name": "python3"
  },
  "language_info": {
   "codemirror_mode": {
    "name": "ipython",
    "version": 3
   },
   "file_extension": ".py",
   "mimetype": "text/x-python",
   "name": "python",
   "nbconvert_exporter": "python",
   "pygments_lexer": "ipython3",
   "version": "3.8.2"
  }
 },
 "nbformat": 4,
 "nbformat_minor": 4
}
