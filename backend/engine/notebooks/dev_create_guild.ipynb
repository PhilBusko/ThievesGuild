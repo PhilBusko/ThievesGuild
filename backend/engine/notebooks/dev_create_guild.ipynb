{
 "cells": [
  {
   "cell_type": "markdown",
   "metadata": {},
   "source": [
    "# Create Guild"
   ]
  },
  {
   "cell_type": "code",
   "execution_count": 1,
   "metadata": {},
   "outputs": [],
   "source": [
    "import os, sys\n",
    "import pandas as PD"
   ]
  },
  {
   "cell_type": "code",
   "execution_count": 2,
   "metadata": {
    "scrolled": false
   },
   "outputs": [
    {
     "name": "stdout",
     "output_type": "stream",
     "text": [
      "['DataframeToDicts', 'GetRandom', 'NOTEBOOK_ENV']\n"
     ]
    }
   ],
   "source": [
    "BACKEND_PATH = os.path.dirname(os.path.dirname(os.getcwd()))\n",
    "APPPROJ_PATH = os.path.join(BACKEND_PATH, 'app_proj')\n",
    "sys.path.append(APPPROJ_PATH)\n",
    "import notebooks as NT\n",
    "print([x for x in dir(NT) if x[0]!='_' and len(x)>8])"
   ]
  },
  {
   "cell_type": "code",
   "execution_count": 3,
   "metadata": {},
   "outputs": [
    {
     "name": "stdout",
     "output_type": "stream",
     "text": [
      "env: DEV\n"
     ]
    }
   ],
   "source": [
    "import django\n",
    "os.environ['DEPLOYMENT_ENV'] = NT.NOTEBOOK_ENV\n",
    "os.environ['DJANGO_ALLOW_ASYNC_UNSAFE'] = 'True'\n",
    "MODULE_PATH = os.path.dirname(os.getcwd())\n",
    "os.chdir(os.path.dirname(MODULE_PATH))\n",
    "django.setup()"
   ]
  },
  {
   "cell_type": "code",
   "execution_count": 4,
   "metadata": {},
   "outputs": [
    {
     "name": "stdout",
     "output_type": "stream",
     "text": [
      "['BaseManager', 'DeleteTable', 'GetNativeTableCounts', 'GetTableCounts', 'GetTableDictionary', 'InsertBulk', 'InsertSingle']\n"
     ]
    }
   ],
   "source": [
    "import database as DB\n",
    "print([x for x in dir(DB) if x[0]!='_' and len(x)>8])"
   ]
  },
  {
   "cell_type": "code",
   "execution_count": 5,
   "metadata": {},
   "outputs": [],
   "source": [
    "import django.db.models as JM\n",
    "from django.contrib.auth import get_user_model"
   ]
  },
  {
   "cell_type": "code",
   "execution_count": 6,
   "metadata": {},
   "outputs": [],
   "source": [
    "import emporium.models as EM"
   ]
  },
  {
   "cell_type": "code",
   "execution_count": 7,
   "metadata": {},
   "outputs": [],
   "source": [
    "import engine.models as GM\n",
    "import engine.logic.resource as RS"
   ]
  },
  {
   "cell_type": "code",
   "execution_count": 8,
   "metadata": {},
   "outputs": [],
   "source": [
    "%load_ext autoreload\n",
    "%autoreload 2\n",
    "from IPython.core.interactiveshell import InteractiveShell\n",
    "InteractiveShell.ast_node_interactivity = 'all'"
   ]
  },
  {
   "cell_type": "markdown",
   "metadata": {},
   "source": [
    "### Starting Guild"
   ]
  },
  {
   "cell_type": "code",
   "execution_count": 9,
   "metadata": {
    "scrolled": true
   },
   "outputs": [
    {
     "data": {
      "text/html": [
       "<div>\n",
       "<style scoped>\n",
       "    .dataframe tbody tr th:only-of-type {\n",
       "        vertical-align: middle;\n",
       "    }\n",
       "\n",
       "    .dataframe tbody tr th {\n",
       "        vertical-align: top;\n",
       "    }\n",
       "\n",
       "    .dataframe thead th {\n",
       "        text-align: right;\n",
       "    }\n",
       "</style>\n",
       "<table border=\"1\" class=\"dataframe\">\n",
       "  <thead>\n",
       "    <tr style=\"text-align: right;\">\n",
       "      <th></th>\n",
       "      <th>id</th>\n",
       "      <th>last_login</th>\n",
       "      <th>is_superuser</th>\n",
       "      <th>unique_id</th>\n",
       "      <th>email</th>\n",
       "      <th>user_name</th>\n",
       "      <th>verified</th>\n",
       "      <th>active</th>\n",
       "      <th>date_joined</th>\n",
       "    </tr>\n",
       "  </thead>\n",
       "  <tbody>\n",
       "    <tr>\n",
       "      <th>0</th>\n",
       "      <td>1</td>\n",
       "      <td>None</td>\n",
       "      <td>True</td>\n",
       "      <td>E80-F16-216</td>\n",
       "      <td>admin@thieves-guild.com</td>\n",
       "      <td>Admin</td>\n",
       "      <td>True</td>\n",
       "      <td>True</td>\n",
       "      <td>2023-08-07 00:54:17.471207+00:00</td>\n",
       "    </tr>\n",
       "    <tr>\n",
       "      <th>1</th>\n",
       "      <td>2</td>\n",
       "      <td>None</td>\n",
       "      <td>False</td>\n",
       "      <td>8B5-076-999</td>\n",
       "      <td>testor1@thieves-guild.com</td>\n",
       "      <td>Testor1</td>\n",
       "      <td>True</td>\n",
       "      <td>True</td>\n",
       "      <td>2023-08-07 00:54:17.809681+00:00</td>\n",
       "    </tr>\n",
       "  </tbody>\n",
       "</table>\n",
       "</div>"
      ],
      "text/plain": [
       "   id last_login  is_superuser    unique_id                      email  \\\n",
       "0   1       None          True  E80-F16-216    admin@thieves-guild.com   \n",
       "1   2       None         False  8B5-076-999  testor1@thieves-guild.com   \n",
       "\n",
       "  user_name  verified  active                      date_joined  \n",
       "0     Admin      True    True 2023-08-07 00:54:17.471207+00:00  \n",
       "1   Testor1      True    True 2023-08-07 00:54:17.809681+00:00  "
      ]
     },
     "execution_count": 9,
     "metadata": {},
     "output_type": "execute_result"
    }
   ],
   "source": [
    "users = DB.GetTableDictionary('members', 'User')\n",
    "PD.DataFrame(users).drop(['password'], axis=1, errors='ignore')"
   ]
  },
  {
   "cell_type": "code",
   "execution_count": 10,
   "metadata": {
    "scrolled": true
   },
   "outputs": [
    {
     "data": {
      "text/plain": [
       "<User: admin@thieves-guild.com>"
      ]
     },
     "execution_count": 10,
     "metadata": {},
     "output_type": "execute_result"
    }
   ],
   "source": [
    "userMd = get_user_model().objects.filter(user_name='Admin')[0]\n",
    "userMd"
   ]
  },
  {
   "cell_type": "code",
   "execution_count": 11,
   "metadata": {
    "scrolled": true
   },
   "outputs": [
    {
     "name": "stdout",
     "output_type": "stream",
     "text": [
      "table deleted\n"
     ]
    }
   ],
   "source": [
    "DB.DeleteTable('engine', 'Guild')"
   ]
  },
  {
   "cell_type": "code",
   "execution_count": 12,
   "metadata": {
    "scrolled": false
   },
   "outputs": [
    {
     "data": {
      "text/html": [
       "<div>\n",
       "<style scoped>\n",
       "    .dataframe tbody tr th:only-of-type {\n",
       "        vertical-align: middle;\n",
       "    }\n",
       "\n",
       "    .dataframe tbody tr th {\n",
       "        vertical-align: top;\n",
       "    }\n",
       "\n",
       "    .dataframe thead th {\n",
       "        text-align: right;\n",
       "    }\n",
       "</style>\n",
       "<table border=\"1\" class=\"dataframe\">\n",
       "  <thead>\n",
       "    <tr style=\"text-align: right;\">\n",
       "      <th></th>\n",
       "      <th>UserFK_id</th>\n",
       "      <th>Name</th>\n",
       "      <th>KeepLevel</th>\n",
       "      <th>TotalPower</th>\n",
       "      <th>VaultGold</th>\n",
       "      <th>VaultGems</th>\n",
       "      <th>Selected</th>\n",
       "      <th>LastPlayed</th>\n",
       "      <th>CreateDate</th>\n",
       "    </tr>\n",
       "  </thead>\n",
       "  <tbody>\n",
       "    <tr>\n",
       "      <th>0</th>\n",
       "      <td>1</td>\n",
       "      <td>123</td>\n",
       "      <td>1</td>\n",
       "      <td>0</td>\n",
       "      <td>0</td>\n",
       "      <td>0</td>\n",
       "      <td>True</td>\n",
       "      <td>2023-08-12 21:47:45.639127+00:00</td>\n",
       "      <td>2023-08-12 21:47:45.639127+00:00</td>\n",
       "    </tr>\n",
       "  </tbody>\n",
       "</table>\n",
       "</div>"
      ],
      "text/plain": [
       "   UserFK_id Name  KeepLevel  TotalPower  VaultGold  VaultGems  Selected  \\\n",
       "0          1  123          1           0          0          0      True   \n",
       "\n",
       "                        LastPlayed                       CreateDate  \n",
       "0 2023-08-12 21:47:45.639127+00:00 2023-08-12 21:47:45.639127+00:00  "
      ]
     },
     "execution_count": 12,
     "metadata": {},
     "output_type": "execute_result"
    }
   ],
   "source": [
    "newGuild = RS.CreateStartingGuild(userMd, '123')\n",
    "\n",
    "PD.DataFrame([newGuild.__dict__]).drop(['id', '_state'], axis=1, errors='ignore')"
   ]
  },
  {
   "cell_type": "code",
   "execution_count": 13,
   "metadata": {},
   "outputs": [],
   "source": [
    "newThief = RS.AppendStartingThief(newGuild, 'Burglar', 1)\n",
    "RS.AttachStartingWargear(newThief)\n",
    "# newThief = RS.AppendStartingThief(newGuild, 'Scoundrel', 1)\n",
    "# RS.AttachStartingWargear(newThief)\n",
    "# newThief = RS.AppendStartingThief(newGuild, 'Ruffian', 1)\n",
    "# RS.AttachStartingWargear(newThief)\n",
    "\n",
    "thiefOb = GM.ThiefInGuild.objects.filter(GuildFK=newGuild)\n",
    "for th in thiefOb:\n",
    "    RS.SetThiefTotals(th)"
   ]
  },
  {
   "cell_type": "code",
   "execution_count": 14,
   "metadata": {},
   "outputs": [
    {
     "data": {
      "text/html": [
       "<div>\n",
       "<style scoped>\n",
       "    .dataframe tbody tr th:only-of-type {\n",
       "        vertical-align: middle;\n",
       "    }\n",
       "\n",
       "    .dataframe tbody tr th {\n",
       "        vertical-align: top;\n",
       "    }\n",
       "\n",
       "    .dataframe thead th {\n",
       "        text-align: right;\n",
       "    }\n",
       "</style>\n",
       "<table border=\"1\" class=\"dataframe\">\n",
       "  <thead>\n",
       "    <tr style=\"text-align: right;\">\n",
       "      <th></th>\n",
       "      <th>GuildFK_id</th>\n",
       "      <th>Class</th>\n",
       "      <th>Stars</th>\n",
       "      <th>BasePower</th>\n",
       "      <th>Level</th>\n",
       "      <th>Power</th>\n",
       "      <th>Agility</th>\n",
       "      <th>Cunning</th>\n",
       "      <th>Might</th>\n",
       "      <th>Endurance</th>\n",
       "      <th>Health</th>\n",
       "      <th>Attack</th>\n",
       "      <th>Damage</th>\n",
       "      <th>Defense</th>\n",
       "      <th>Wounds</th>\n",
       "      <th>Cooldown</th>\n",
       "    </tr>\n",
       "  </thead>\n",
       "  <tbody>\n",
       "    <tr>\n",
       "      <th>0</th>\n",
       "      <td>20</td>\n",
       "      <td>Burglar</td>\n",
       "      <td>1</td>\n",
       "      <td>30</td>\n",
       "      <td>1</td>\n",
       "      <td>60</td>\n",
       "      <td>5</td>\n",
       "      <td>0</td>\n",
       "      <td>0</td>\n",
       "      <td>0</td>\n",
       "      <td>70</td>\n",
       "      <td>5</td>\n",
       "      <td>11</td>\n",
       "      <td>13</td>\n",
       "      <td>None</td>\n",
       "      <td>None</td>\n",
       "    </tr>\n",
       "    <tr>\n",
       "      <th>1</th>\n",
       "      <td>20</td>\n",
       "      <td>Scoundrel</td>\n",
       "      <td>1</td>\n",
       "      <td>30</td>\n",
       "      <td>1</td>\n",
       "      <td>60</td>\n",
       "      <td>0</td>\n",
       "      <td>5</td>\n",
       "      <td>0</td>\n",
       "      <td>0</td>\n",
       "      <td>70</td>\n",
       "      <td>2</td>\n",
       "      <td>15</td>\n",
       "      <td>12</td>\n",
       "      <td>None</td>\n",
       "      <td>None</td>\n",
       "    </tr>\n",
       "    <tr>\n",
       "      <th>2</th>\n",
       "      <td>20</td>\n",
       "      <td>Ruffian</td>\n",
       "      <td>1</td>\n",
       "      <td>30</td>\n",
       "      <td>1</td>\n",
       "      <td>60</td>\n",
       "      <td>0</td>\n",
       "      <td>0</td>\n",
       "      <td>5</td>\n",
       "      <td>0</td>\n",
       "      <td>70</td>\n",
       "      <td>3</td>\n",
       "      <td>10</td>\n",
       "      <td>16</td>\n",
       "      <td>None</td>\n",
       "      <td>None</td>\n",
       "    </tr>\n",
       "    <tr>\n",
       "      <th>3</th>\n",
       "      <td>20</td>\n",
       "      <td>Burglar</td>\n",
       "      <td>1</td>\n",
       "      <td>30</td>\n",
       "      <td>1</td>\n",
       "      <td>60</td>\n",
       "      <td>5</td>\n",
       "      <td>0</td>\n",
       "      <td>0</td>\n",
       "      <td>0</td>\n",
       "      <td>70</td>\n",
       "      <td>5</td>\n",
       "      <td>11</td>\n",
       "      <td>13</td>\n",
       "      <td>None</td>\n",
       "      <td>None</td>\n",
       "    </tr>\n",
       "  </tbody>\n",
       "</table>\n",
       "</div>"
      ],
      "text/plain": [
       "   GuildFK_id      Class Stars  BasePower  Level  Power  Agility  Cunning  \\\n",
       "0          20    Burglar     1         30      1     60        5        0   \n",
       "1          20  Scoundrel     1         30      1     60        0        5   \n",
       "2          20    Ruffian     1         30      1     60        0        0   \n",
       "3          20    Burglar     1         30      1     60        5        0   \n",
       "\n",
       "   Might  Endurance  Health  Attack  Damage  Defense Wounds Cooldown  \n",
       "0      0          0      70       5      11       13   None     None  \n",
       "1      0          0      70       2      15       12   None     None  \n",
       "2      5          0      70       3      10       16   None     None  \n",
       "3      0          0      70       5      11       13   None     None  "
      ]
     },
     "execution_count": 14,
     "metadata": {},
     "output_type": "execute_result"
    }
   ],
   "source": [
    "thieves = GM.ThiefInGuild.objects.filter(GuildFK=newGuild).values()\n",
    "PD.DataFrame(thieves).drop(['id', \n",
    "        'Name', 'Experience', 'Position',\n",
    "        'BaseAgi', 'BaseCun', 'BaseMig', 'BaseEnd', \n",
    "        'TrainedAgi', 'TrainedCun', 'TrainedMig', 'TrainedEnd', \n",
    "#         'Attack', 'Damage', 'Defense',\n",
    "        'Traverse', 'Sabotage', 'Perceive', \n",
    "        ], axis=1, errors='ignore')"
   ]
  },
  {
   "cell_type": "code",
   "execution_count": 15,
   "metadata": {},
   "outputs": [
    {
     "data": {
      "text/html": [
       "<div>\n",
       "<style scoped>\n",
       "    .dataframe tbody tr th:only-of-type {\n",
       "        vertical-align: middle;\n",
       "    }\n",
       "\n",
       "    .dataframe tbody tr th {\n",
       "        vertical-align: top;\n",
       "    }\n",
       "\n",
       "    .dataframe thead th {\n",
       "        text-align: right;\n",
       "    }\n",
       "</style>\n",
       "<table border=\"1\" class=\"dataframe\">\n",
       "  <thead>\n",
       "    <tr style=\"text-align: right;\">\n",
       "      <th></th>\n",
       "      <th>GuildFK_id</th>\n",
       "      <th>ThiefFK_id</th>\n",
       "      <th>Name</th>\n",
       "      <th>Level</th>\n",
       "      <th>Slot</th>\n",
       "      <th>Power</th>\n",
       "      <th>Requirement</th>\n",
       "      <th>Trait</th>\n",
       "      <th>Attack</th>\n",
       "      <th>Damage</th>\n",
       "      <th>Defense</th>\n",
       "      <th>Skill</th>\n",
       "      <th>Magic</th>\n",
       "    </tr>\n",
       "  </thead>\n",
       "  <tbody>\n",
       "    <tr>\n",
       "      <th>0</th>\n",
       "      <td>20</td>\n",
       "      <td>65.0</td>\n",
       "      <td>Blackthorn</td>\n",
       "      <td>1</td>\n",
       "      <td>weapon</td>\n",
       "      <td>15</td>\n",
       "      <td>Burglar</td>\n",
       "      <td>agi 1</td>\n",
       "      <td>NaN</td>\n",
       "      <td>11.0</td>\n",
       "      <td>NaN</td>\n",
       "      <td>None</td>\n",
       "      <td>None</td>\n",
       "    </tr>\n",
       "    <tr>\n",
       "      <th>1</th>\n",
       "      <td>20</td>\n",
       "      <td>65.0</td>\n",
       "      <td>Brigandine</td>\n",
       "      <td>1</td>\n",
       "      <td>armor</td>\n",
       "      <td>15</td>\n",
       "      <td>Burglar</td>\n",
       "      <td>agi 1</td>\n",
       "      <td>NaN</td>\n",
       "      <td>NaN</td>\n",
       "      <td>3.0</td>\n",
       "      <td>None</td>\n",
       "      <td>None</td>\n",
       "    </tr>\n",
       "    <tr>\n",
       "      <th>2</th>\n",
       "      <td>20</td>\n",
       "      <td>66.0</td>\n",
       "      <td>Twin Daggers</td>\n",
       "      <td>1</td>\n",
       "      <td>weapon</td>\n",
       "      <td>15</td>\n",
       "      <td>Scoundrel</td>\n",
       "      <td>cun 1</td>\n",
       "      <td>2.0</td>\n",
       "      <td>10.0</td>\n",
       "      <td>NaN</td>\n",
       "      <td>None</td>\n",
       "      <td>None</td>\n",
       "    </tr>\n",
       "    <tr>\n",
       "      <th>3</th>\n",
       "      <td>20</td>\n",
       "      <td>66.0</td>\n",
       "      <td>Vestment</td>\n",
       "      <td>1</td>\n",
       "      <td>armor</td>\n",
       "      <td>15</td>\n",
       "      <td>Scoundrel</td>\n",
       "      <td>cun 1</td>\n",
       "      <td>NaN</td>\n",
       "      <td>NaN</td>\n",
       "      <td>2.0</td>\n",
       "      <td>None</td>\n",
       "      <td>None</td>\n",
       "    </tr>\n",
       "    <tr>\n",
       "      <th>4</th>\n",
       "      <td>20</td>\n",
       "      <td>67.0</td>\n",
       "      <td>Sword &amp; Shield</td>\n",
       "      <td>1</td>\n",
       "      <td>weapon</td>\n",
       "      <td>15</td>\n",
       "      <td>Ruffian</td>\n",
       "      <td>mig 1</td>\n",
       "      <td>3.0</td>\n",
       "      <td>10.0</td>\n",
       "      <td>NaN</td>\n",
       "      <td>None</td>\n",
       "      <td>None</td>\n",
       "    </tr>\n",
       "    <tr>\n",
       "      <th>5</th>\n",
       "      <td>20</td>\n",
       "      <td>67.0</td>\n",
       "      <td>Chain Maille</td>\n",
       "      <td>1</td>\n",
       "      <td>armor</td>\n",
       "      <td>15</td>\n",
       "      <td>Ruffian</td>\n",
       "      <td>mig 1</td>\n",
       "      <td>NaN</td>\n",
       "      <td>NaN</td>\n",
       "      <td>1.0</td>\n",
       "      <td>None</td>\n",
       "      <td>None</td>\n",
       "    </tr>\n",
       "    <tr>\n",
       "      <th>6</th>\n",
       "      <td>20</td>\n",
       "      <td>NaN</td>\n",
       "      <td>Helmet</td>\n",
       "      <td>1</td>\n",
       "      <td>head</td>\n",
       "      <td>10</td>\n",
       "      <td>None</td>\n",
       "      <td>None</td>\n",
       "      <td>NaN</td>\n",
       "      <td>NaN</td>\n",
       "      <td>NaN</td>\n",
       "      <td>per 5</td>\n",
       "      <td>None</td>\n",
       "    </tr>\n",
       "    <tr>\n",
       "      <th>7</th>\n",
       "      <td>20</td>\n",
       "      <td>NaN</td>\n",
       "      <td>Gloves</td>\n",
       "      <td>1</td>\n",
       "      <td>hands</td>\n",
       "      <td>10</td>\n",
       "      <td>None</td>\n",
       "      <td>None</td>\n",
       "      <td>NaN</td>\n",
       "      <td>NaN</td>\n",
       "      <td>NaN</td>\n",
       "      <td>sab 5</td>\n",
       "      <td>None</td>\n",
       "    </tr>\n",
       "    <tr>\n",
       "      <th>8</th>\n",
       "      <td>20</td>\n",
       "      <td>NaN</td>\n",
       "      <td>Boots</td>\n",
       "      <td>1</td>\n",
       "      <td>feet</td>\n",
       "      <td>10</td>\n",
       "      <td>None</td>\n",
       "      <td>None</td>\n",
       "      <td>NaN</td>\n",
       "      <td>NaN</td>\n",
       "      <td>NaN</td>\n",
       "      <td>tra 5</td>\n",
       "      <td>None</td>\n",
       "    </tr>\n",
       "    <tr>\n",
       "      <th>9</th>\n",
       "      <td>20</td>\n",
       "      <td>68.0</td>\n",
       "      <td>Blackthorn</td>\n",
       "      <td>1</td>\n",
       "      <td>weapon</td>\n",
       "      <td>15</td>\n",
       "      <td>Burglar</td>\n",
       "      <td>agi 1</td>\n",
       "      <td>NaN</td>\n",
       "      <td>11.0</td>\n",
       "      <td>NaN</td>\n",
       "      <td>None</td>\n",
       "      <td>None</td>\n",
       "    </tr>\n",
       "    <tr>\n",
       "      <th>10</th>\n",
       "      <td>20</td>\n",
       "      <td>68.0</td>\n",
       "      <td>Brigandine</td>\n",
       "      <td>1</td>\n",
       "      <td>armor</td>\n",
       "      <td>15</td>\n",
       "      <td>Burglar</td>\n",
       "      <td>agi 1</td>\n",
       "      <td>NaN</td>\n",
       "      <td>NaN</td>\n",
       "      <td>3.0</td>\n",
       "      <td>None</td>\n",
       "      <td>None</td>\n",
       "    </tr>\n",
       "  </tbody>\n",
       "</table>\n",
       "</div>"
      ],
      "text/plain": [
       "    GuildFK_id  ThiefFK_id            Name  Level    Slot  Power Requirement  \\\n",
       "0           20        65.0      Blackthorn      1  weapon     15     Burglar   \n",
       "1           20        65.0      Brigandine      1   armor     15     Burglar   \n",
       "2           20        66.0    Twin Daggers      1  weapon     15   Scoundrel   \n",
       "3           20        66.0        Vestment      1   armor     15   Scoundrel   \n",
       "4           20        67.0  Sword & Shield      1  weapon     15     Ruffian   \n",
       "5           20        67.0    Chain Maille      1   armor     15     Ruffian   \n",
       "6           20         NaN          Helmet      1    head     10        None   \n",
       "7           20         NaN          Gloves      1   hands     10        None   \n",
       "8           20         NaN           Boots      1    feet     10        None   \n",
       "9           20        68.0      Blackthorn      1  weapon     15     Burglar   \n",
       "10          20        68.0      Brigandine      1   armor     15     Burglar   \n",
       "\n",
       "    Trait  Attack  Damage  Defense  Skill Magic  \n",
       "0   agi 1     NaN    11.0      NaN   None  None  \n",
       "1   agi 1     NaN     NaN      3.0   None  None  \n",
       "2   cun 1     2.0    10.0      NaN   None  None  \n",
       "3   cun 1     NaN     NaN      2.0   None  None  \n",
       "4   mig 1     3.0    10.0      NaN   None  None  \n",
       "5   mig 1     NaN     NaN      1.0   None  None  \n",
       "6    None     NaN     NaN      NaN  per 5  None  \n",
       "7    None     NaN     NaN      NaN  sab 5  None  \n",
       "8    None     NaN     NaN      NaN  tra 5  None  \n",
       "9   agi 1     NaN    11.0      NaN   None  None  \n",
       "10  agi 1     NaN     NaN      3.0   None  None  "
      ]
     },
     "execution_count": 15,
     "metadata": {},
     "output_type": "execute_result"
    }
   ],
   "source": [
    "guildItems = GM.ItemInGuild.objects.filter(GuildFK=newGuild).values()\n",
    "PD.DataFrame(guildItems).drop(['id'], axis=1, errors='ignore')"
   ]
  },
  {
   "cell_type": "code",
   "execution_count": null,
   "metadata": {},
   "outputs": [],
   "source": []
  }
 ],
 "metadata": {
  "kernelspec": {
   "display_name": "Python 3 (ipykernel)",
   "language": "python",
   "name": "python3"
  },
  "language_info": {
   "codemirror_mode": {
    "name": "ipython",
    "version": 3
   },
   "file_extension": ".py",
   "mimetype": "text/x-python",
   "name": "python",
   "nbconvert_exporter": "python",
   "pygments_lexer": "ipython3",
   "version": "3.8.2"
  }
 },
 "nbformat": 4,
 "nbformat_minor": 4
}
