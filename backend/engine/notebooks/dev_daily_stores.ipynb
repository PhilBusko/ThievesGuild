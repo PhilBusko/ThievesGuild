{
 "cells": [
  {
   "cell_type": "markdown",
   "metadata": {},
   "source": [
    "# Create Stores Content"
   ]
  },
  {
   "cell_type": "code",
   "execution_count": 1,
   "metadata": {},
   "outputs": [],
   "source": [
    "import os, sys, random\n",
    "import pandas as PD"
   ]
  },
  {
   "cell_type": "code",
   "execution_count": 2,
   "metadata": {
    "scrolled": false
   },
   "outputs": [
    {
     "name": "stdout",
     "output_type": "stream",
     "text": [
      "['DataframeToDicts', 'GetRandom', 'NOTEBOOK_ENV']\n"
     ]
    }
   ],
   "source": [
    "BACKEND_PATH = os.path.dirname(os.path.dirname(os.getcwd()))\n",
    "APPPROJ_PATH = os.path.join(BACKEND_PATH, 'app_proj')\n",
    "sys.path.append(APPPROJ_PATH)\n",
    "import notebooks as NT\n",
    "print([x for x in dir(NT) if x[0]!='_' and len(x)>8])"
   ]
  },
  {
   "cell_type": "code",
   "execution_count": 3,
   "metadata": {},
   "outputs": [
    {
     "name": "stdout",
     "output_type": "stream",
     "text": [
      "env: DEV\n"
     ]
    }
   ],
   "source": [
    "import django\n",
    "os.environ['DEPLOYMENT_ENV'] = NT.NOTEBOOK_ENV\n",
    "os.environ['DJANGO_ALLOW_ASYNC_UNSAFE'] = 'True'\n",
    "MODULE_PATH = os.path.dirname(os.getcwd())\n",
    "os.chdir(os.path.dirname(MODULE_PATH))\n",
    "django.setup()"
   ]
  },
  {
   "cell_type": "code",
   "execution_count": 4,
   "metadata": {},
   "outputs": [
    {
     "name": "stdout",
     "output_type": "stream",
     "text": [
      "['BaseManager', 'DeleteTable', 'GetNativeTableCounts', 'GetTableCounts', 'GetTableDictionary', 'InsertBulk', 'InsertSingle']\n"
     ]
    }
   ],
   "source": [
    "import database as DB\n",
    "print([x for x in dir(DB) if x[0]!='_' and len(x)>8])"
   ]
  },
  {
   "cell_type": "code",
   "execution_count": 5,
   "metadata": {},
   "outputs": [],
   "source": [
    "import django.db.models as JM\n",
    "from django.contrib.auth import get_user_model"
   ]
  },
  {
   "cell_type": "code",
   "execution_count": 6,
   "metadata": {},
   "outputs": [],
   "source": [
    "import emporium.models as EM\n",
    "import engine.models as GM\n",
    "\n",
    "import engine.logic.content as CT"
   ]
  },
  {
   "cell_type": "code",
   "execution_count": 7,
   "metadata": {},
   "outputs": [],
   "source": [
    "%load_ext autoreload\n",
    "%autoreload 2\n",
    "from IPython.core.interactiveshell import InteractiveShell\n",
    "InteractiveShell.ast_node_interactivity = 'all'"
   ]
  },
  {
   "cell_type": "markdown",
   "metadata": {},
   "source": [
    "### Get Guild"
   ]
  },
  {
   "cell_type": "code",
   "execution_count": 24,
   "metadata": {
    "scrolled": true
   },
   "outputs": [
    {
     "data": {
      "text/html": [
       "<div>\n",
       "<style scoped>\n",
       "    .dataframe tbody tr th:only-of-type {\n",
       "        vertical-align: middle;\n",
       "    }\n",
       "\n",
       "    .dataframe tbody tr th {\n",
       "        vertical-align: top;\n",
       "    }\n",
       "\n",
       "    .dataframe thead th {\n",
       "        text-align: right;\n",
       "    }\n",
       "</style>\n",
       "<table border=\"1\" class=\"dataframe\">\n",
       "  <thead>\n",
       "    <tr style=\"text-align: right;\">\n",
       "      <th></th>\n",
       "      <th>UserFK_id</th>\n",
       "      <th>Name</th>\n",
       "      <th>LastPlayed</th>\n",
       "      <th>CreateDate</th>\n",
       "      <th>Selected</th>\n",
       "      <th>ThroneLevel</th>\n",
       "      <th>CampaignWorld</th>\n",
       "      <th>VaultGold</th>\n",
       "      <th>VaultStone</th>\n",
       "      <th>VaultGems</th>\n",
       "      <th>DungeonCheck</th>\n",
       "    </tr>\n",
       "  </thead>\n",
       "  <tbody>\n",
       "    <tr>\n",
       "      <th>0</th>\n",
       "      <td>1</td>\n",
       "      <td>123</td>\n",
       "      <td>2024-09-05</td>\n",
       "      <td>2024-07-30</td>\n",
       "      <td>True</td>\n",
       "      <td>1</td>\n",
       "      <td>1</td>\n",
       "      <td>577</td>\n",
       "      <td>0</td>\n",
       "      <td>23</td>\n",
       "      <td>2024-09-05</td>\n",
       "    </tr>\n",
       "  </tbody>\n",
       "</table>\n",
       "</div>"
      ],
      "text/plain": [
       "   UserFK_id Name  LastPlayed  CreateDate  Selected  ThroneLevel  \\\n",
       "0          1  123  2024-09-05  2024-07-30      True            1   \n",
       "\n",
       "   CampaignWorld  VaultGold  VaultStone  VaultGems DungeonCheck  \n",
       "0              1        577           0         23   2024-09-05  "
      ]
     },
     "execution_count": 24,
     "metadata": {},
     "output_type": "execute_result"
    }
   ],
   "source": [
    "userMd = get_user_model().objects.filter(user_name='Admin')[0]\n",
    "guildMd = GM.Guild.objects.GetOrNone(UserFK=userMd, Selected=True)\n",
    "PD.DataFrame([guildMd.__dict__]).drop(['id', '_state'], axis=1, errors='ignore')"
   ]
  },
  {
   "cell_type": "code",
   "execution_count": 11,
   "metadata": {},
   "outputs": [
    {
     "data": {
      "text/html": [
       "<div>\n",
       "<style scoped>\n",
       "    .dataframe tbody tr th:only-of-type {\n",
       "        vertical-align: middle;\n",
       "    }\n",
       "\n",
       "    .dataframe tbody tr th {\n",
       "        vertical-align: top;\n",
       "    }\n",
       "\n",
       "    .dataframe thead th {\n",
       "        text-align: right;\n",
       "    }\n",
       "</style>\n",
       "<table border=\"1\" class=\"dataframe\">\n",
       "  <thead>\n",
       "    <tr style=\"text-align: right;\">\n",
       "      <th></th>\n",
       "      <th>GuildFK_id</th>\n",
       "      <th>CreateDate</th>\n",
       "      <th>ThroneLevel</th>\n",
       "      <th>ResourceId</th>\n",
       "      <th>StoreType</th>\n",
       "      <th>RareProperties</th>\n",
       "      <th>Bought</th>\n",
       "    </tr>\n",
       "  </thead>\n",
       "  <tbody>\n",
       "    <tr>\n",
       "      <th>0</th>\n",
       "      <td>21</td>\n",
       "      <td>2024-09-05</td>\n",
       "      <td>1</td>\n",
       "      <td>thief-agi-s1</td>\n",
       "      <td>common</td>\n",
       "      <td>{'name': 'Heramis', 'agi': 3, 'cun': 0, 'mig':...</td>\n",
       "      <td>False</td>\n",
       "    </tr>\n",
       "    <tr>\n",
       "      <th>1</th>\n",
       "      <td>21</td>\n",
       "      <td>2024-09-05</td>\n",
       "      <td>1</td>\n",
       "      <td>thief-cun-s1</td>\n",
       "      <td>common</td>\n",
       "      <td>{'name': 'Phenax', 'agi': 0, 'cun': 3, 'mig': ...</td>\n",
       "      <td>False</td>\n",
       "    </tr>\n",
       "    <tr>\n",
       "      <th>2</th>\n",
       "      <td>21</td>\n",
       "      <td>2024-09-05</td>\n",
       "      <td>1</td>\n",
       "      <td>thief-mig-s1</td>\n",
       "      <td>common</td>\n",
       "      <td>{'name': 'Heptanus', 'agi': 0, 'cun': 0, 'mig'...</td>\n",
       "      <td>False</td>\n",
       "    </tr>\n",
       "    <tr>\n",
       "      <th>3</th>\n",
       "      <td>21</td>\n",
       "      <td>2024-09-05</td>\n",
       "      <td>1</td>\n",
       "      <td>feet-skl-l1-m0</td>\n",
       "      <td>rare</td>\n",
       "      <td>None</td>\n",
       "      <td>False</td>\n",
       "    </tr>\n",
       "    <tr>\n",
       "      <th>4</th>\n",
       "      <td>21</td>\n",
       "      <td>2024-09-05</td>\n",
       "      <td>1</td>\n",
       "      <td>hands-skl-l1-m0</td>\n",
       "      <td>rare</td>\n",
       "      <td>None</td>\n",
       "      <td>False</td>\n",
       "    </tr>\n",
       "    <tr>\n",
       "      <th>5</th>\n",
       "      <td>21</td>\n",
       "      <td>2024-09-05</td>\n",
       "      <td>1</td>\n",
       "      <td>feet-cmb-l1-m0</td>\n",
       "      <td>rare</td>\n",
       "      <td>None</td>\n",
       "      <td>False</td>\n",
       "    </tr>\n",
       "    <tr>\n",
       "      <th>6</th>\n",
       "      <td>21</td>\n",
       "      <td>2024-09-05</td>\n",
       "      <td>1</td>\n",
       "      <td>head-skl-l1-m0</td>\n",
       "      <td>rare</td>\n",
       "      <td>None</td>\n",
       "      <td>False</td>\n",
       "    </tr>\n",
       "  </tbody>\n",
       "</table>\n",
       "</div>"
      ],
      "text/plain": [
       "   GuildFK_id  CreateDate  ThroneLevel       ResourceId StoreType  \\\n",
       "0          21  2024-09-05            1     thief-agi-s1    common   \n",
       "1          21  2024-09-05            1     thief-cun-s1    common   \n",
       "2          21  2024-09-05            1     thief-mig-s1    common   \n",
       "3          21  2024-09-05            1   feet-skl-l1-m0      rare   \n",
       "4          21  2024-09-05            1  hands-skl-l1-m0      rare   \n",
       "5          21  2024-09-05            1   feet-cmb-l1-m0      rare   \n",
       "6          21  2024-09-05            1   head-skl-l1-m0      rare   \n",
       "\n",
       "                                      RareProperties  Bought  \n",
       "0  {'name': 'Heramis', 'agi': 3, 'cun': 0, 'mig':...   False  \n",
       "1  {'name': 'Phenax', 'agi': 0, 'cun': 3, 'mig': ...   False  \n",
       "2  {'name': 'Heptanus', 'agi': 0, 'cun': 0, 'mig'...   False  \n",
       "3                                               None   False  \n",
       "4                                               None   False  \n",
       "5                                               None   False  \n",
       "6                                               None   False  "
      ]
     },
     "execution_count": 11,
     "metadata": {},
     "output_type": "execute_result"
    }
   ],
   "source": [
    "# delete magic store for dev\n",
    "\n",
    "storeLs = GM.MarketStore.objects.filter(GuildFK=guildMd).values()\n",
    "PD.DataFrame(storeLs).drop(['id', '_state'], axis=1, errors='ignore')"
   ]
  },
  {
   "cell_type": "code",
   "execution_count": 18,
   "metadata": {},
   "outputs": [
    {
     "data": {
      "text/plain": [
       "(7, {'engine.MarketStore': 7})"
      ]
     },
     "execution_count": 18,
     "metadata": {},
     "output_type": "execute_result"
    }
   ],
   "source": [
    "GM.MarketStore.objects.all().delete()"
   ]
  },
  {
   "cell_type": "code",
   "execution_count": 25,
   "metadata": {},
   "outputs": [
    {
     "data": {
      "text/html": [
       "<div>\n",
       "<style scoped>\n",
       "    .dataframe tbody tr th:only-of-type {\n",
       "        vertical-align: middle;\n",
       "    }\n",
       "\n",
       "    .dataframe tbody tr th {\n",
       "        vertical-align: top;\n",
       "    }\n",
       "\n",
       "    .dataframe thead th {\n",
       "        text-align: right;\n",
       "    }\n",
       "</style>\n",
       "<table border=\"1\" class=\"dataframe\">\n",
       "  <thead>\n",
       "    <tr style=\"text-align: right;\">\n",
       "      <th></th>\n",
       "    </tr>\n",
       "  </thead>\n",
       "  <tbody>\n",
       "  </tbody>\n",
       "</table>\n",
       "</div>"
      ],
      "text/plain": [
       "Empty DataFrame\n",
       "Columns: []\n",
       "Index: []"
      ]
     },
     "execution_count": 25,
     "metadata": {},
     "output_type": "execute_result"
    }
   ],
   "source": [
    "storeLs = GM.ThiefUnlocked.objects.filter(GuildFK=guildMd).values()\n",
    "PD.DataFrame(storeLs).drop(['id', '_state'], axis=1, errors='ignore')"
   ]
  },
  {
   "cell_type": "code",
   "execution_count": 20,
   "metadata": {},
   "outputs": [
    {
     "data": {
      "text/html": [
       "<div>\n",
       "<style scoped>\n",
       "    .dataframe tbody tr th:only-of-type {\n",
       "        vertical-align: middle;\n",
       "    }\n",
       "\n",
       "    .dataframe tbody tr th {\n",
       "        vertical-align: top;\n",
       "    }\n",
       "\n",
       "    .dataframe thead th {\n",
       "        text-align: right;\n",
       "    }\n",
       "</style>\n",
       "<table border=\"1\" class=\"dataframe\">\n",
       "  <thead>\n",
       "    <tr style=\"text-align: right;\">\n",
       "      <th></th>\n",
       "      <th>id</th>\n",
       "      <th>ResourceId</th>\n",
       "      <th>Class</th>\n",
       "      <th>Stars</th>\n",
       "      <th>UnlockThrone</th>\n",
       "      <th>StoreCost</th>\n",
       "      <th>StartTrait</th>\n",
       "      <th>RandomTraits</th>\n",
       "    </tr>\n",
       "  </thead>\n",
       "  <tbody>\n",
       "    <tr>\n",
       "      <th>0</th>\n",
       "      <td>220</td>\n",
       "      <td>thief-agi-s2</td>\n",
       "      <td>Burglar</td>\n",
       "      <td>2</td>\n",
       "      <td>4</td>\n",
       "      <td>6700</td>\n",
       "      <td>agi 4</td>\n",
       "      <td>2</td>\n",
       "    </tr>\n",
       "    <tr>\n",
       "      <th>1</th>\n",
       "      <td>221</td>\n",
       "      <td>thief-cun-s2</td>\n",
       "      <td>Scoundrel</td>\n",
       "      <td>2</td>\n",
       "      <td>4</td>\n",
       "      <td>6700</td>\n",
       "      <td>cun 4</td>\n",
       "      <td>2</td>\n",
       "    </tr>\n",
       "    <tr>\n",
       "      <th>2</th>\n",
       "      <td>222</td>\n",
       "      <td>thief-mig-s2</td>\n",
       "      <td>Ruffian</td>\n",
       "      <td>2</td>\n",
       "      <td>4</td>\n",
       "      <td>6700</td>\n",
       "      <td>mig 4</td>\n",
       "      <td>2</td>\n",
       "    </tr>\n",
       "    <tr>\n",
       "      <th>3</th>\n",
       "      <td>223</td>\n",
       "      <td>thief-agi-s3</td>\n",
       "      <td>Burglar</td>\n",
       "      <td>3</td>\n",
       "      <td>7</td>\n",
       "      <td>11400</td>\n",
       "      <td>agi 5</td>\n",
       "      <td>4</td>\n",
       "    </tr>\n",
       "    <tr>\n",
       "      <th>4</th>\n",
       "      <td>224</td>\n",
       "      <td>thief-cun-s3</td>\n",
       "      <td>Scoundrel</td>\n",
       "      <td>3</td>\n",
       "      <td>7</td>\n",
       "      <td>11400</td>\n",
       "      <td>cun 5</td>\n",
       "      <td>4</td>\n",
       "    </tr>\n",
       "    <tr>\n",
       "      <th>5</th>\n",
       "      <td>225</td>\n",
       "      <td>thief-mig-s3</td>\n",
       "      <td>Ruffian</td>\n",
       "      <td>3</td>\n",
       "      <td>7</td>\n",
       "      <td>11400</td>\n",
       "      <td>mig 5</td>\n",
       "      <td>4</td>\n",
       "    </tr>\n",
       "    <tr>\n",
       "      <th>6</th>\n",
       "      <td>226</td>\n",
       "      <td>thief-agi-s4</td>\n",
       "      <td>Burglar</td>\n",
       "      <td>4</td>\n",
       "      <td>9</td>\n",
       "      <td>17100</td>\n",
       "      <td>agi 6</td>\n",
       "      <td>6</td>\n",
       "    </tr>\n",
       "    <tr>\n",
       "      <th>7</th>\n",
       "      <td>227</td>\n",
       "      <td>thief-cun-s4</td>\n",
       "      <td>Scoundrel</td>\n",
       "      <td>4</td>\n",
       "      <td>9</td>\n",
       "      <td>17100</td>\n",
       "      <td>cun 6</td>\n",
       "      <td>6</td>\n",
       "    </tr>\n",
       "    <tr>\n",
       "      <th>8</th>\n",
       "      <td>228</td>\n",
       "      <td>thief-mig-s4</td>\n",
       "      <td>Ruffian</td>\n",
       "      <td>4</td>\n",
       "      <td>9</td>\n",
       "      <td>17100</td>\n",
       "      <td>mig 6</td>\n",
       "      <td>6</td>\n",
       "    </tr>\n",
       "  </tbody>\n",
       "</table>\n",
       "</div>"
      ],
      "text/plain": [
       "    id    ResourceId      Class  Stars  UnlockThrone  StoreCost StartTrait  \\\n",
       "0  220  thief-agi-s2    Burglar      2             4       6700      agi 4   \n",
       "1  221  thief-cun-s2  Scoundrel      2             4       6700      cun 4   \n",
       "2  222  thief-mig-s2    Ruffian      2             4       6700      mig 4   \n",
       "3  223  thief-agi-s3    Burglar      3             7      11400      agi 5   \n",
       "4  224  thief-cun-s3  Scoundrel      3             7      11400      cun 5   \n",
       "5  225  thief-mig-s3    Ruffian      3             7      11400      mig 5   \n",
       "6  226  thief-agi-s4    Burglar      4             9      17100      agi 6   \n",
       "7  227  thief-cun-s4  Scoundrel      4             9      17100      cun 6   \n",
       "8  228  thief-mig-s4    Ruffian      4             9      17100      mig 6   \n",
       "\n",
       "   RandomTraits  \n",
       "0             2  \n",
       "1             2  \n",
       "2             2  \n",
       "3             4  \n",
       "4             4  \n",
       "5             4  \n",
       "6             6  \n",
       "7             6  \n",
       "8             6  "
      ]
     },
     "execution_count": 20,
     "metadata": {},
     "output_type": "execute_result"
    }
   ],
   "source": [
    "# unlocked blueprints report\n",
    "\n",
    "unlockThief = EM.UnlockableThief.objects.filter(Stars__gt=1).values()\n",
    "\n",
    "PD.DataFrame(unlockThief)#.drop(['id', '_state'], axis=1, errors='ignore')"
   ]
  },
  {
   "cell_type": "code",
   "execution_count": null,
   "metadata": {},
   "outputs": [],
   "source": [
    "for th in unlockThief:\n",
    "    th['IconCode'] = f\"class-{th['Class'].lower()}-s{th['Stars']}\"\n",
    "    checkUnlock = GM.ThiefUnlocked.objects.GetOrNone(GuildFK=guildMd, ThiefFK__ResourceId=th['ResourceId'])\n",
    "    th['Unlocked'] = True if checkUnlock else False\n",
    "    \n",
    "PD.DataFrame(unlockThief)"
   ]
  },
  {
   "cell_type": "code",
   "execution_count": null,
   "metadata": {},
   "outputs": [],
   "source": []
  },
  {
   "cell_type": "code",
   "execution_count": null,
   "metadata": {},
   "outputs": [],
   "source": []
  },
  {
   "cell_type": "code",
   "execution_count": null,
   "metadata": {},
   "outputs": [],
   "source": []
  }
 ],
 "metadata": {
  "kernelspec": {
   "display_name": "Python 3 (ipykernel)",
   "language": "python",
   "name": "python3"
  },
  "language_info": {
   "codemirror_mode": {
    "name": "ipython",
    "version": 3
   },
   "file_extension": ".py",
   "mimetype": "text/x-python",
   "name": "python",
   "nbconvert_exporter": "python",
   "pygments_lexer": "ipython3",
   "version": "3.8.2"
  }
 },
 "nbformat": 4,
 "nbformat_minor": 4
}
